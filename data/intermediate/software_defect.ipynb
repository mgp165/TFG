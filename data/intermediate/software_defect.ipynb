{
 "cells": [
  {
   "cell_type": "markdown",
   "id": "cc75a3f2",
   "metadata": {},
   "source": [
    "# Software defects data preparation"
   ]
  },
  {
   "cell_type": "code",
   "execution_count": 1,
   "id": "12b40e29",
   "metadata": {},
   "outputs": [],
   "source": [
    "import pandas as pd"
   ]
  },
  {
   "cell_type": "code",
   "execution_count": 8,
   "id": "c92f513b",
   "metadata": {},
   "outputs": [],
   "source": [
    "data = pd.read_csv('../raw/software_defect.csv')"
   ]
  },
  {
   "cell_type": "code",
   "execution_count": 9,
   "id": "51662a1b",
   "metadata": {},
   "outputs": [],
   "source": [
    "data = data.drop('id', axis=1)"
   ]
  },
  {
   "cell_type": "code",
   "execution_count": 15,
   "id": "7c20d69a",
   "metadata": {},
   "outputs": [
    {
     "name": "stdout",
     "output_type": "stream",
     "text": [
      "Train shape: (71234, 22)\n",
      "Validation shape: (15264, 22)\n",
      "Test shape: (15265, 22)\n"
     ]
    }
   ],
   "source": [
    "from sklearn.model_selection import train_test_split\n",
    "\n",
    "train, test = train_test_split(data, shuffle=True, test_size=0.3)\n",
    "validation, test = train_test_split(test, shuffle=True, test_size=0.5)\n",
    "print('Train shape:', train.shape)\n",
    "print('Validation shape:', validation.shape)\n",
    "print('Test shape:', test.shape)"
   ]
  },
  {
   "cell_type": "code",
   "execution_count": 16,
   "id": "88d8f128",
   "metadata": {},
   "outputs": [],
   "source": [
    "train.to_parquet('F:/Users/Manuel García Plaza/Desktop/TFG/data/model_input/train_sets/software_defect.parquet')\n",
    "validation.to_parquet('F:/Users/Manuel García Plaza/Desktop/TFG/data/model_input/validation_sets/software_defect.parquet')\n",
    "test.to_parquet('F:/Users/Manuel García Plaza/Desktop/TFG/data/model_input/test_sets/software_defect.parquet')"
   ]
  },
  {
   "cell_type": "code",
   "execution_count": null,
   "id": "81e9c7bd",
   "metadata": {},
   "outputs": [],
   "source": []
  }
 ],
 "metadata": {
  "kernelspec": {
   "display_name": "Python 3 (ipykernel)",
   "language": "python",
   "name": "python3"
  },
  "language_info": {
   "codemirror_mode": {
    "name": "ipython",
    "version": 3
   },
   "file_extension": ".py",
   "mimetype": "text/x-python",
   "name": "python",
   "nbconvert_exporter": "python",
   "pygments_lexer": "ipython3",
   "version": "3.9.7"
  }
 },
 "nbformat": 4,
 "nbformat_minor": 5
}
