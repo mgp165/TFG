{
 "cells": [
  {
   "cell_type": "markdown",
   "id": "27055454",
   "metadata": {},
   "source": [
    "# Car insurances data preparation"
   ]
  },
  {
   "cell_type": "code",
   "execution_count": 1,
   "id": "3819d8d8",
   "metadata": {},
   "outputs": [],
   "source": [
    "import pandas as pd"
   ]
  },
  {
   "cell_type": "code",
   "execution_count": 2,
   "id": "4b809b13",
   "metadata": {},
   "outputs": [],
   "source": [
    "data = pd.read_csv('../raw/car_insurance.csv')"
   ]
  },
  {
   "cell_type": "markdown",
   "id": "b1d07c86",
   "metadata": {},
   "source": [
    "As we said in the EDA:"
   ]
  },
  {
   "cell_type": "code",
   "execution_count": 3,
   "id": "804b6eae",
   "metadata": {},
   "outputs": [],
   "source": [
    "data = data.drop('ID', axis=1)"
   ]
  },
  {
   "cell_type": "code",
   "execution_count": 4,
   "id": "c2beb3e3",
   "metadata": {},
   "outputs": [],
   "source": [
    "data.CREDIT_SCORE = data.CREDIT_SCORE.fillna(data.CREDIT_SCORE.mean())\n",
    "data.ANNUAL_MILEAGE = data.ANNUAL_MILEAGE.fillna(data.ANNUAL_MILEAGE.mean())"
   ]
  },
  {
   "cell_type": "code",
   "execution_count": 5,
   "id": "fb80222b",
   "metadata": {},
   "outputs": [
    {
     "name": "stdout",
     "output_type": "stream",
     "text": [
      "Train shape: (7000, 18)\n",
      "Validation shape: (1500, 18)\n",
      "Test shape: (1500, 18)\n"
     ]
    }
   ],
   "source": [
    "from sklearn.model_selection import train_test_split\n",
    "\n",
    "train, test = train_test_split(data, shuffle=True, test_size=0.3)\n",
    "validation, test = train_test_split(test, shuffle=True, test_size=0.5)\n",
    "print('Train shape:', train.shape)\n",
    "print('Validation shape:', validation.shape)\n",
    "print('Test shape:', test.shape)"
   ]
  },
  {
   "cell_type": "code",
   "execution_count": 6,
   "id": "c7e5508f",
   "metadata": {},
   "outputs": [],
   "source": [
    "train.to_parquet('F:/Users/Manuel García Plaza/Desktop/TFG/data/model_input/train_sets/car_insurance.parquet')\n",
    "validation.to_parquet('F:/Users/Manuel García Plaza/Desktop/TFG/data/model_input/validation_sets/car_insurance.parquet')\n",
    "test.to_parquet('F:/Users/Manuel García Plaza/Desktop/TFG/data/model_input/test_sets/car_insurance.parquet')"
   ]
  },
  {
   "cell_type": "code",
   "execution_count": null,
   "id": "6da55e7b",
   "metadata": {},
   "outputs": [],
   "source": []
  }
 ],
 "metadata": {
  "kernelspec": {
   "display_name": "Python 3 (ipykernel)",
   "language": "python",
   "name": "python3"
  },
  "language_info": {
   "codemirror_mode": {
    "name": "ipython",
    "version": 3
   },
   "file_extension": ".py",
   "mimetype": "text/x-python",
   "name": "python",
   "nbconvert_exporter": "python",
   "pygments_lexer": "ipython3",
   "version": "3.9.7"
  }
 },
 "nbformat": 4,
 "nbformat_minor": 5
}
