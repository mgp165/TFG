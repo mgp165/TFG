{
 "cells": [
  {
   "cell_type": "markdown",
   "id": "3ccc80f9",
   "metadata": {},
   "source": [
    "# Superconductivity data preparation"
   ]
  },
  {
   "cell_type": "code",
   "execution_count": 1,
   "id": "77cff798",
   "metadata": {},
   "outputs": [],
   "source": [
    "import pandas as pd"
   ]
  },
  {
   "cell_type": "code",
   "execution_count": 2,
   "id": "4cfd9e53",
   "metadata": {},
   "outputs": [],
   "source": [
    "data1 = pd.read_csv('../raw/superconductivity.csv')\n",
    "data2 = pd.read_csv('../raw/superconductivity_extra.csv')"
   ]
  },
  {
   "cell_type": "code",
   "execution_count": 8,
   "id": "f7a2508e",
   "metadata": {},
   "outputs": [],
   "source": [
    "data2 = data2.drop(['critical_temp', 'material'], axis=1)"
   ]
  },
  {
   "cell_type": "code",
   "execution_count": 10,
   "id": "6e4bc9c3",
   "metadata": {},
   "outputs": [],
   "source": [
    "data = pd.concat([data1, data2], axis=1)"
   ]
  },
  {
   "cell_type": "code",
   "execution_count": 13,
   "id": "ae5f7265",
   "metadata": {},
   "outputs": [
    {
     "name": "stdout",
     "output_type": "stream",
     "text": [
      "Train shape: (14884, 168)\n",
      "Validation shape: (3189, 168)\n",
      "Test shape: (3190, 168)\n"
     ]
    }
   ],
   "source": [
    "from sklearn.model_selection import train_test_split\n",
    "\n",
    "train, test = train_test_split(data, shuffle=True, test_size=0.3)\n",
    "validation, test = train_test_split(test, shuffle=True, test_size=0.5)\n",
    "print('Train shape:', train.shape)\n",
    "print('Validation shape:', validation.shape)\n",
    "print('Test shape:', test.shape)"
   ]
  },
  {
   "cell_type": "code",
   "execution_count": 14,
   "id": "baa01645",
   "metadata": {},
   "outputs": [],
   "source": [
    "train.to_parquet('F:/Users/Manuel García Plaza/Desktop/TFG/data/model_input/train_sets/superconductivity.parquet')\n",
    "validation.to_parquet('F:/Users/Manuel García Plaza/Desktop/TFG/data/model_input/validation_sets/superconductivity.parquet')\n",
    "test.to_parquet('F:/Users/Manuel García Plaza/Desktop/TFG/data/model_input/test_sets/superconductivity.parquet')"
   ]
  },
  {
   "cell_type": "code",
   "execution_count": null,
   "id": "82127c38",
   "metadata": {},
   "outputs": [],
   "source": []
  }
 ],
 "metadata": {
  "kernelspec": {
   "display_name": "Python 3 (ipykernel)",
   "language": "python",
   "name": "python3"
  },
  "language_info": {
   "codemirror_mode": {
    "name": "ipython",
    "version": 3
   },
   "file_extension": ".py",
   "mimetype": "text/x-python",
   "name": "python",
   "nbconvert_exporter": "python",
   "pygments_lexer": "ipython3",
   "version": "3.9.7"
  }
 },
 "nbformat": 4,
 "nbformat_minor": 5
}
