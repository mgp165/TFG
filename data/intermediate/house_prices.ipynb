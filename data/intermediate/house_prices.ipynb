{
 "cells": [
  {
   "cell_type": "markdown",
   "id": "a84a3271",
   "metadata": {},
   "source": [
    "# House prices data preparation"
   ]
  },
  {
   "cell_type": "code",
   "execution_count": 2,
   "id": "9e197450",
   "metadata": {},
   "outputs": [],
   "source": [
    "import pandas as pd"
   ]
  },
  {
   "cell_type": "code",
   "execution_count": 3,
   "id": "b2bc9159",
   "metadata": {},
   "outputs": [],
   "source": [
    "data = pd.read_csv('../raw/house_prices.csv')"
   ]
  },
  {
   "cell_type": "code",
   "execution_count": 5,
   "id": "45b6a943",
   "metadata": {},
   "outputs": [],
   "source": [
    "data = data.drop('Id', axis=1)"
   ]
  },
  {
   "cell_type": "markdown",
   "id": "9f8fa01e",
   "metadata": {},
   "source": [
    "As we discussed in the EDA:"
   ]
  },
  {
   "cell_type": "code",
   "execution_count": 7,
   "id": "19234351",
   "metadata": {},
   "outputs": [],
   "source": [
    "cols_to_fill_na = ['Alley', 'MasVnrType', 'BsmtQual', 'BsmtCond', 'BsmtExposure', 'BsmtFinType1', 'BsmtFinType2', 'FireplaceQu', 'GarageType', 'GarageFinish',\n",
    "                  'GarageQual', 'GarageCond', 'PoolQC', 'Fence', 'MiscFeature']\n",
    "cols_to_fill_zero = ['LotFrontage', 'MasVnrArea', 'GarageYrBlt']"
   ]
  },
  {
   "cell_type": "code",
   "execution_count": 8,
   "id": "a60e42da",
   "metadata": {},
   "outputs": [],
   "source": [
    "for col in cols_to_fill_na:\n",
    "    data[col] = data[col].fillna('NA')"
   ]
  },
  {
   "cell_type": "code",
   "execution_count": 9,
   "id": "a0ad2aab",
   "metadata": {},
   "outputs": [],
   "source": [
    "for col in cols_to_fill_zero:\n",
    "    data[col] = data[col].fillna(0)"
   ]
  },
  {
   "cell_type": "code",
   "execution_count": 10,
   "id": "a4002432",
   "metadata": {},
   "outputs": [],
   "source": [
    "data = data.dropna(subset=['Electrical'])"
   ]
  },
  {
   "cell_type": "markdown",
   "id": "a1e9ebd0",
   "metadata": {},
   "source": [
    "And we are going to apply One Hot Encoding to our categorical features"
   ]
  },
  {
   "cell_type": "code",
   "execution_count": 16,
   "id": "6fb9a01d",
   "metadata": {},
   "outputs": [],
   "source": [
    "cat_features = data.select_dtypes(include=['object']).columns"
   ]
  },
  {
   "cell_type": "code",
   "execution_count": 17,
   "id": "594a926c",
   "metadata": {},
   "outputs": [],
   "source": [
    "data2 = pd.get_dummies(data,columns=cat_features)"
   ]
  },
  {
   "cell_type": "code",
   "execution_count": 23,
   "id": "d5a1f376",
   "metadata": {},
   "outputs": [
    {
     "name": "stdout",
     "output_type": "stream",
     "text": [
      "Train shape: (1021, 304)\n",
      "Validation shape: (219, 304)\n",
      "Test shape: (219, 304)\n"
     ]
    }
   ],
   "source": [
    "from sklearn.model_selection import train_test_split\n",
    "\n",
    "train, test = train_test_split(data2, shuffle=True, test_size=0.3)\n",
    "validation, test = train_test_split(test, shuffle=True, test_size=0.5)\n",
    "print('Train shape:', train.shape)\n",
    "print('Validation shape:', validation.shape)\n",
    "print('Test shape:', test.shape)"
   ]
  },
  {
   "cell_type": "code",
   "execution_count": 24,
   "id": "0cacfffd",
   "metadata": {},
   "outputs": [],
   "source": [
    "train.to_parquet('F:/Users/Manuel García Plaza/Desktop/TFG/data/model_input/train_sets/house_prices.parquet')\n",
    "validation.to_parquet('F:/Users/Manuel García Plaza/Desktop/TFG/data/model_input/validation_sets/house_prices.parquet')\n",
    "test.to_parquet('F:/Users/Manuel García Plaza/Desktop/TFG/data/model_input/test_sets/house_prices.parquet')"
   ]
  },
  {
   "cell_type": "code",
   "execution_count": null,
   "id": "fb195b6e",
   "metadata": {},
   "outputs": [],
   "source": []
  }
 ],
 "metadata": {
  "kernelspec": {
   "display_name": "Python 3 (ipykernel)",
   "language": "python",
   "name": "python3"
  },
  "language_info": {
   "codemirror_mode": {
    "name": "ipython",
    "version": 3
   },
   "file_extension": ".py",
   "mimetype": "text/x-python",
   "name": "python",
   "nbconvert_exporter": "python",
   "pygments_lexer": "ipython3",
   "version": "3.9.7"
  }
 },
 "nbformat": 4,
 "nbformat_minor": 5
}
