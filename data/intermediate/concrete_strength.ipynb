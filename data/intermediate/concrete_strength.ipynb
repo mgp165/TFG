{
 "cells": [
  {
   "cell_type": "markdown",
   "id": "9ae5275a",
   "metadata": {},
   "source": [
    "# Concrete strength data preparation"
   ]
  },
  {
   "cell_type": "code",
   "execution_count": 1,
   "id": "300fac3c",
   "metadata": {},
   "outputs": [],
   "source": [
    "import pandas as pd"
   ]
  },
  {
   "cell_type": "code",
   "execution_count": 2,
   "id": "4c1a3111",
   "metadata": {},
   "outputs": [],
   "source": [
    "data = pd.read_csv('../raw/concrete_strength.csv')"
   ]
  },
  {
   "cell_type": "markdown",
   "id": "2fbfdb9a",
   "metadata": {},
   "source": [
    "We will split the dataset into 3 subsets: train, validation and test (70/15/15):"
   ]
  },
  {
   "cell_type": "code",
   "execution_count": 6,
   "id": "c8baf843",
   "metadata": {},
   "outputs": [
    {
     "name": "stdout",
     "output_type": "stream",
     "text": [
      "Train shape: (721, 9)\n",
      "Validation shape: (154, 9)\n",
      "Test shape: (155, 9)\n"
     ]
    }
   ],
   "source": [
    "from sklearn.model_selection import train_test_split\n",
    "\n",
    "train, test = train_test_split(data, shuffle=True, test_size=0.3)\n",
    "validation, test = train_test_split(test, shuffle=True, test_size=0.5)\n",
    "print('Train shape:', train.shape)\n",
    "print('Validation shape:', validation.shape)\n",
    "print('Test shape:', test.shape)"
   ]
  },
  {
   "cell_type": "code",
   "execution_count": 7,
   "id": "ed4eada6",
   "metadata": {},
   "outputs": [],
   "source": [
    "train.to_parquet('F:/Users/Manuel García Plaza/Desktop/TFG/data/model_input/train_sets/concrete_strength.parquet')\n",
    "validation.to_parquet('F:/Users/Manuel García Plaza/Desktop/TFG/data/model_input/validation_sets/concrete_strength.parquet')\n",
    "test.to_parquet('F:/Users/Manuel García Plaza/Desktop/TFG/data/model_input/test_sets/concrete_strength.parquet')"
   ]
  },
  {
   "cell_type": "code",
   "execution_count": null,
   "id": "2e83e79f",
   "metadata": {},
   "outputs": [],
   "source": []
  }
 ],
 "metadata": {
  "kernelspec": {
   "display_name": "Python 3 (ipykernel)",
   "language": "python",
   "name": "python3"
  },
  "language_info": {
   "codemirror_mode": {
    "name": "ipython",
    "version": 3
   },
   "file_extension": ".py",
   "mimetype": "text/x-python",
   "name": "python",
   "nbconvert_exporter": "python",
   "pygments_lexer": "ipython3",
   "version": "3.9.7"
  }
 },
 "nbformat": 4,
 "nbformat_minor": 5
}
