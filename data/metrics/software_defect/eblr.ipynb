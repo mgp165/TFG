{
 "cells": [
  {
   "cell_type": "markdown",
   "id": "6d6eb219",
   "metadata": {},
   "source": [
    "# EBLR"
   ]
  },
  {
   "cell_type": "code",
   "execution_count": 1,
   "id": "6d3cf19c",
   "metadata": {},
   "outputs": [],
   "source": [
    "from lineartree import LinearBoostClassifier\n",
    "from sklearn.linear_model import LogisticRegression\n",
    "import pandas as pd\n",
    "from joblib import dump\n",
    "from sklearn.metrics import roc_auc_score\n",
    "from sklearn.preprocessing import StandardScaler\n",
    "import numpy as np\n",
    "import matplotlib.pyplot as plt\n",
    "from sklearn.tree import plot_tree"
   ]
  },
  {
   "cell_type": "code",
   "execution_count": 2,
   "id": "44f9b111",
   "metadata": {},
   "outputs": [],
   "source": [
    "import sys\n",
    "sys.path.append('F:\\\\Users\\\\Manuel García Plaza\\\\Desktop\\\\TFG\\\\')"
   ]
  },
  {
   "cell_type": "code",
   "execution_count": 3,
   "id": "8a3b4d5e",
   "metadata": {},
   "outputs": [],
   "source": [
    "from notebooks.utils.classification_metrics import classification"
   ]
  },
  {
   "cell_type": "code",
   "execution_count": 4,
   "id": "243d4448",
   "metadata": {},
   "outputs": [],
   "source": [
    "train =  pd.read_parquet('../../../data/model_input/train_sets/software_defect.parquet')\n",
    "validation =  pd.read_parquet('../../../data/model_input/validation_sets/software_defect.parquet')\n",
    "\n",
    "y_train = train.defects\n",
    "X_train = train.drop(columns=['defects'])\n",
    "\n",
    "y_validation = validation.defects\n",
    "X_validation = validation.drop(columns=['defects'])"
   ]
  },
  {
   "cell_type": "code",
   "execution_count": 5,
   "id": "59efd45d",
   "metadata": {},
   "outputs": [],
   "source": [
    "scaler = StandardScaler().fit(X_train)\n",
    "\n",
    "X_train_scaled = scaler.transform(X_train)\n",
    "X_validation_scaled = scaler.transform(X_validation)"
   ]
  },
  {
   "cell_type": "code",
   "execution_count": 6,
   "id": "4d85594c",
   "metadata": {},
   "outputs": [],
   "source": [
    "max_depth = [1, 2, 3]\n",
    "n_est = [1, 2, 3, 4, 5, 6, 7, 8, 9, 10]\n",
    "base_est =  [LogisticRegression(penalty=None), LogisticRegression(), LogisticRegression(penalty='l1', solver='liblinear')]"
   ]
  },
  {
   "cell_type": "code",
   "execution_count": 7,
   "id": "6ccbc15d",
   "metadata": {},
   "outputs": [],
   "source": [
    "names_list = []\n",
    "for n in n_est:\n",
    "    for depth in max_depth:\n",
    "        for est in base_est:\n",
    "            if est.penalty == None:\n",
    "                name = f'EBLR_{depth}_{n}'\n",
    "            elif est.penalty == 'l2':\n",
    "                name = f'EBLR_{depth}_{n}_l2'\n",
    "            elif est.penalty == 'l1':\n",
    "                name = f'EBLR_{depth}_{n}_l1'\n",
    "            elif est.penalty == 'elasticnet':\n",
    "                name = f'EBLR_{depth}_{n}_en_{est.l1_ratio}'\n",
    "            else:\n",
    "                raise ValueError('Unknown base estimator type')\n",
    "\n",
    "            names_list.append(name)"
   ]
  },
  {
   "cell_type": "code",
   "execution_count": 8,
   "id": "d777b3b0",
   "metadata": {},
   "outputs": [],
   "source": [
    "models_list = []\n",
    "for n in n_est:\n",
    "    for i in max_depth:\n",
    "        for est in base_est:\n",
    "            models_list.append(LinearBoostClassifier(base_estimator=est, n_estimators=n, max_depth=i))"
   ]
  },
  {
   "cell_type": "code",
   "execution_count": 9,
   "id": "95e45b82",
   "metadata": {},
   "outputs": [
    {
     "data": {
      "text/html": [
       "<div>\n",
       "<style scoped>\n",
       "    .dataframe tbody tr th:only-of-type {\n",
       "        vertical-align: middle;\n",
       "    }\n",
       "\n",
       "    .dataframe tbody tr th {\n",
       "        vertical-align: top;\n",
       "    }\n",
       "\n",
       "    .dataframe thead th {\n",
       "        text-align: right;\n",
       "    }\n",
       "</style>\n",
       "<table border=\"1\" class=\"dataframe\">\n",
       "  <thead>\n",
       "    <tr style=\"text-align: right;\">\n",
       "      <th></th>\n",
       "      <th>Run_Time</th>\n",
       "      <th>Train_AUC</th>\n",
       "      <th>Validation_AUC</th>\n",
       "      <th>delta%</th>\n",
       "    </tr>\n",
       "  </thead>\n",
       "  <tbody>\n",
       "    <tr>\n",
       "      <th>EBLR_1_1</th>\n",
       "      <td>0.753139</td>\n",
       "      <td>0.779970</td>\n",
       "      <td>0.780168</td>\n",
       "      <td>0.025369</td>\n",
       "    </tr>\n",
       "    <tr>\n",
       "      <th>EBLR_1_1_l2</th>\n",
       "      <td>0.729077</td>\n",
       "      <td>0.779971</td>\n",
       "      <td>0.780169</td>\n",
       "      <td>0.025440</td>\n",
       "    </tr>\n",
       "    <tr>\n",
       "      <th>EBLR_1_1_l1</th>\n",
       "      <td>2.828788</td>\n",
       "      <td>0.779961</td>\n",
       "      <td>0.780159</td>\n",
       "      <td>0.025343</td>\n",
       "    </tr>\n",
       "    <tr>\n",
       "      <th>EBLR_2_1</th>\n",
       "      <td>0.803822</td>\n",
       "      <td>0.780094</td>\n",
       "      <td>0.780128</td>\n",
       "      <td>0.004317</td>\n",
       "    </tr>\n",
       "    <tr>\n",
       "      <th>EBLR_2_1_l2</th>\n",
       "      <td>0.773941</td>\n",
       "      <td>0.780098</td>\n",
       "      <td>0.780135</td>\n",
       "      <td>0.004760</td>\n",
       "    </tr>\n",
       "    <tr>\n",
       "      <th>...</th>\n",
       "      <td>...</td>\n",
       "      <td>...</td>\n",
       "      <td>...</td>\n",
       "      <td>...</td>\n",
       "    </tr>\n",
       "    <tr>\n",
       "      <th>EBLR_2_10_l2</th>\n",
       "      <td>5.243751</td>\n",
       "      <td>0.779488</td>\n",
       "      <td>0.779352</td>\n",
       "      <td>-0.017482</td>\n",
       "    </tr>\n",
       "    <tr>\n",
       "      <th>EBLR_2_10_l1</th>\n",
       "      <td>48.587924</td>\n",
       "      <td>0.779483</td>\n",
       "      <td>0.779365</td>\n",
       "      <td>-0.015173</td>\n",
       "    </tr>\n",
       "    <tr>\n",
       "      <th>EBLR_3_10</th>\n",
       "      <td>5.439739</td>\n",
       "      <td>0.779277</td>\n",
       "      <td>0.779034</td>\n",
       "      <td>-0.031178</td>\n",
       "    </tr>\n",
       "    <tr>\n",
       "      <th>EBLR_3_10_l2</th>\n",
       "      <td>5.346857</td>\n",
       "      <td>0.779275</td>\n",
       "      <td>0.779030</td>\n",
       "      <td>-0.031472</td>\n",
       "    </tr>\n",
       "    <tr>\n",
       "      <th>EBLR_3_10_l1</th>\n",
       "      <td>30.878862</td>\n",
       "      <td>0.779265</td>\n",
       "      <td>0.779042</td>\n",
       "      <td>-0.028584</td>\n",
       "    </tr>\n",
       "  </tbody>\n",
       "</table>\n",
       "<p>90 rows × 4 columns</p>\n",
       "</div>"
      ],
      "text/plain": [
       "               Run_Time  Train_AUC  Validation_AUC    delta%\n",
       "EBLR_1_1       0.753139   0.779970        0.780168  0.025369\n",
       "EBLR_1_1_l2    0.729077   0.779971        0.780169  0.025440\n",
       "EBLR_1_1_l1    2.828788   0.779961        0.780159  0.025343\n",
       "EBLR_2_1       0.803822   0.780094        0.780128  0.004317\n",
       "EBLR_2_1_l2    0.773941   0.780098        0.780135  0.004760\n",
       "...                 ...        ...             ...       ...\n",
       "EBLR_2_10_l2   5.243751   0.779488        0.779352 -0.017482\n",
       "EBLR_2_10_l1  48.587924   0.779483        0.779365 -0.015173\n",
       "EBLR_3_10      5.439739   0.779277        0.779034 -0.031178\n",
       "EBLR_3_10_l2   5.346857   0.779275        0.779030 -0.031472\n",
       "EBLR_3_10_l1  30.878862   0.779265        0.779042 -0.028584\n",
       "\n",
       "[90 rows x 4 columns]"
      ]
     },
     "execution_count": 9,
     "metadata": {},
     "output_type": "execute_result"
    }
   ],
   "source": [
    "metrics = classification(models_list, names_list, '../../../data/metrics/software_defect/eblr.csv', X_train_scaled, y_train, X_validation_scaled, y_validation, metrics={})\n",
    "metrics"
   ]
  },
  {
   "cell_type": "code",
   "execution_count": 11,
   "id": "32d38e21",
   "metadata": {},
   "outputs": [
    {
     "data": {
      "text/html": [
       "<div>\n",
       "<style scoped>\n",
       "    .dataframe tbody tr th:only-of-type {\n",
       "        vertical-align: middle;\n",
       "    }\n",
       "\n",
       "    .dataframe tbody tr th {\n",
       "        vertical-align: top;\n",
       "    }\n",
       "\n",
       "    .dataframe thead th {\n",
       "        text-align: right;\n",
       "    }\n",
       "</style>\n",
       "<table border=\"1\" class=\"dataframe\">\n",
       "  <thead>\n",
       "    <tr style=\"text-align: right;\">\n",
       "      <th></th>\n",
       "      <th>Run_Time</th>\n",
       "      <th>Train_AUC</th>\n",
       "      <th>Validation_AUC</th>\n",
       "      <th>delta%</th>\n",
       "    </tr>\n",
       "  </thead>\n",
       "  <tbody>\n",
       "    <tr>\n",
       "      <th>EBLR_1_2</th>\n",
       "      <td>1.091483</td>\n",
       "      <td>0.780044</td>\n",
       "      <td>0.780413</td>\n",
       "      <td>0.047348</td>\n",
       "    </tr>\n",
       "    <tr>\n",
       "      <th>EBLR_1_4</th>\n",
       "      <td>2.198428</td>\n",
       "      <td>0.780049</td>\n",
       "      <td>0.780411</td>\n",
       "      <td>0.046435</td>\n",
       "    </tr>\n",
       "    <tr>\n",
       "      <th>EBLR_1_2_l2</th>\n",
       "      <td>1.156334</td>\n",
       "      <td>0.780042</td>\n",
       "      <td>0.780409</td>\n",
       "      <td>0.047117</td>\n",
       "    </tr>\n",
       "    <tr>\n",
       "      <th>EBLR_1_9_l2</th>\n",
       "      <td>3.964710</td>\n",
       "      <td>0.780045</td>\n",
       "      <td>0.780402</td>\n",
       "      <td>0.045790</td>\n",
       "    </tr>\n",
       "    <tr>\n",
       "      <th>EBLR_1_8_l1</th>\n",
       "      <td>50.977870</td>\n",
       "      <td>0.780042</td>\n",
       "      <td>0.780402</td>\n",
       "      <td>0.046148</td>\n",
       "    </tr>\n",
       "    <tr>\n",
       "      <th>EBLR_1_7_l1</th>\n",
       "      <td>44.114661</td>\n",
       "      <td>0.780041</td>\n",
       "      <td>0.780402</td>\n",
       "      <td>0.046213</td>\n",
       "    </tr>\n",
       "    <tr>\n",
       "      <th>EBLR_1_6_l1</th>\n",
       "      <td>39.709700</td>\n",
       "      <td>0.780041</td>\n",
       "      <td>0.780401</td>\n",
       "      <td>0.046138</td>\n",
       "    </tr>\n",
       "    <tr>\n",
       "      <th>EBLR_1_9_l1</th>\n",
       "      <td>39.995935</td>\n",
       "      <td>0.780041</td>\n",
       "      <td>0.780401</td>\n",
       "      <td>0.046183</td>\n",
       "    </tr>\n",
       "    <tr>\n",
       "      <th>EBLR_1_10_l1</th>\n",
       "      <td>69.960958</td>\n",
       "      <td>0.780042</td>\n",
       "      <td>0.780401</td>\n",
       "      <td>0.046057</td>\n",
       "    </tr>\n",
       "    <tr>\n",
       "      <th>EBLR_1_9</th>\n",
       "      <td>3.898711</td>\n",
       "      <td>0.780044</td>\n",
       "      <td>0.780401</td>\n",
       "      <td>0.045841</td>\n",
       "    </tr>\n",
       "    <tr>\n",
       "      <th>EBLR_1_5_l1</th>\n",
       "      <td>24.368151</td>\n",
       "      <td>0.780041</td>\n",
       "      <td>0.780401</td>\n",
       "      <td>0.046126</td>\n",
       "    </tr>\n",
       "    <tr>\n",
       "      <th>EBLR_1_4_l1</th>\n",
       "      <td>11.742275</td>\n",
       "      <td>0.780042</td>\n",
       "      <td>0.780401</td>\n",
       "      <td>0.046060</td>\n",
       "    </tr>\n",
       "    <tr>\n",
       "      <th>EBLR_1_3_l1</th>\n",
       "      <td>6.579717</td>\n",
       "      <td>0.780042</td>\n",
       "      <td>0.780401</td>\n",
       "      <td>0.046066</td>\n",
       "    </tr>\n",
       "    <tr>\n",
       "      <th>EBLR_1_2_l1</th>\n",
       "      <td>5.340962</td>\n",
       "      <td>0.780040</td>\n",
       "      <td>0.780399</td>\n",
       "      <td>0.045972</td>\n",
       "    </tr>\n",
       "    <tr>\n",
       "      <th>EBLR_1_4_l2</th>\n",
       "      <td>2.133180</td>\n",
       "      <td>0.780029</td>\n",
       "      <td>0.780386</td>\n",
       "      <td>0.045862</td>\n",
       "    </tr>\n",
       "  </tbody>\n",
       "</table>\n",
       "</div>"
      ],
      "text/plain": [
       "               Run_Time  Train_AUC  Validation_AUC    delta%\n",
       "EBLR_1_2       1.091483   0.780044        0.780413  0.047348\n",
       "EBLR_1_4       2.198428   0.780049        0.780411  0.046435\n",
       "EBLR_1_2_l2    1.156334   0.780042        0.780409  0.047117\n",
       "EBLR_1_9_l2    3.964710   0.780045        0.780402  0.045790\n",
       "EBLR_1_8_l1   50.977870   0.780042        0.780402  0.046148\n",
       "EBLR_1_7_l1   44.114661   0.780041        0.780402  0.046213\n",
       "EBLR_1_6_l1   39.709700   0.780041        0.780401  0.046138\n",
       "EBLR_1_9_l1   39.995935   0.780041        0.780401  0.046183\n",
       "EBLR_1_10_l1  69.960958   0.780042        0.780401  0.046057\n",
       "EBLR_1_9       3.898711   0.780044        0.780401  0.045841\n",
       "EBLR_1_5_l1   24.368151   0.780041        0.780401  0.046126\n",
       "EBLR_1_4_l1   11.742275   0.780042        0.780401  0.046060\n",
       "EBLR_1_3_l1    6.579717   0.780042        0.780401  0.046066\n",
       "EBLR_1_2_l1    5.340962   0.780040        0.780399  0.045972\n",
       "EBLR_1_4_l2    2.133180   0.780029        0.780386  0.045862"
      ]
     },
     "execution_count": 11,
     "metadata": {},
     "output_type": "execute_result"
    }
   ],
   "source": [
    "metrics.sort_values(by='Validation_AUC', ascending=False).head(15)"
   ]
  },
  {
   "cell_type": "markdown",
   "id": "df9c6492",
   "metadata": {},
   "source": [
    "We choose **EBLR_1_2** because is the simplest model and achieves the best AUC"
   ]
  },
  {
   "cell_type": "code",
   "execution_count": 12,
   "id": "c3edc006",
   "metadata": {},
   "outputs": [],
   "source": [
    "test =  pd.read_parquet('../../../data/model_input/test_sets/software_defect.parquet')\n",
    "\n",
    "y_test = test.defects\n",
    "X_test = test.drop(columns=['defects'])"
   ]
  },
  {
   "cell_type": "code",
   "execution_count": 13,
   "id": "f8c8415d",
   "metadata": {},
   "outputs": [],
   "source": [
    "retrain = pd.concat([train, validation])\n",
    "\n",
    "y_retrain = retrain.defects\n",
    "X_retrain = retrain.drop(columns=['defects'])"
   ]
  },
  {
   "cell_type": "code",
   "execution_count": 14,
   "id": "358ca3a1",
   "metadata": {},
   "outputs": [],
   "source": [
    "scaler_retrain = StandardScaler().fit(X_retrain)\n",
    "\n",
    "X_retrain_scaled = scaler_retrain.transform(X_retrain)\n",
    "X_test_scaled = scaler_retrain.transform(X_test)"
   ]
  },
  {
   "cell_type": "code",
   "execution_count": 25,
   "id": "bab10768",
   "metadata": {},
   "outputs": [],
   "source": [
    "model = LinearBoostClassifier(base_estimator=LogisticRegression(penalty=None), n_estimators=2, max_depth=1).fit(X_retrain_scaled, y_retrain)"
   ]
  },
  {
   "cell_type": "code",
   "execution_count": 26,
   "id": "9b330421",
   "metadata": {},
   "outputs": [
    {
     "name": "stdout",
     "output_type": "stream",
     "text": [
      "Test AUC: 0.7849\n"
     ]
    }
   ],
   "source": [
    "test_pred = model.predict_proba(X_test_scaled)[:, 1]\n",
    "auc = roc_auc_score(y_test, test_pred)\n",
    "print('Test AUC:', round(auc, 4))"
   ]
  },
  {
   "cell_type": "code",
   "execution_count": 27,
   "id": "39a94b7b",
   "metadata": {},
   "outputs": [
    {
     "data": {
      "text/plain": [
       "['best_eblr.joblib']"
      ]
     },
     "execution_count": 27,
     "metadata": {},
     "output_type": "execute_result"
    }
   ],
   "source": [
    "dump(model, 'best_eblr.joblib')"
   ]
  },
  {
   "cell_type": "code",
   "execution_count": 28,
   "id": "9497256f",
   "metadata": {},
   "outputs": [],
   "source": [
    "with open('../../../data/metrics/software_defect/final_AUC.txt', 'a') as f:\n",
    "    f.write('\\nEBLR, '+ str(auc))"
   ]
  },
  {
   "cell_type": "code",
   "execution_count": 29,
   "id": "92cc6f74",
   "metadata": {},
   "outputs": [
    {
     "name": "stdout",
     "output_type": "stream",
     "text": [
      "Initial number of features: 21\n",
      "Final number of features: 23\n"
     ]
    }
   ],
   "source": [
    "print(f'Initial number of features: {X_retrain.shape[1]}\\nFinal number of features: {model.transform(X_retrain_scaled).shape[1]}')"
   ]
  },
  {
   "cell_type": "code",
   "execution_count": 30,
   "id": "d8b4aa1b",
   "metadata": {},
   "outputs": [],
   "source": [
    "error_trees = model._trees"
   ]
  },
  {
   "cell_type": "markdown",
   "id": "9a9e0257",
   "metadata": {},
   "source": [
    "#### New Feature 1"
   ]
  },
  {
   "cell_type": "code",
   "execution_count": 31,
   "id": "03337da0",
   "metadata": {},
   "outputs": [
    {
     "data": {
      "image/png": "[encoded data removed]",
      "text/plain": [
       "<Figure size 432x288 with 1 Axes>"
      ]
     },
     "metadata": {
      "needs_background": "light"
     },
     "output_type": "display_data"
    }
   ],
   "source": [
    "plot_tree(error_trees[0], node_ids=True, feature_names=X_retrain.columns);"
   ]
  },
  {
   "cell_type": "code",
   "execution_count": 32,
   "id": "6ca78262",
   "metadata": {},
   "outputs": [
    {
     "data": {
      "text/plain": [
       "['loc <= -0.03147734422236681', 'leaf value: 0.3601318697785936']"
      ]
     },
     "execution_count": 32,
     "metadata": {},
     "output_type": "execute_result"
    }
   ],
   "source": [
    "pred = np.abs(error_trees[0].predict(X_retrain_scaled))\n",
    "worst_leaf = np.argmax(pred)\n",
    "error_path = error_trees[0].decision_path(X_retrain_scaled[[worst_leaf]]).toarray()\n",
    "indexes = np.where(error_path == 1)[1]\n",
    "\n",
    "path1 = []\n",
    "for i in indexes[:-1]:\n",
    "    path1.append(str(X_retrain.columns[error_trees[0].tree_.feature[i]])+' <= '+str(error_trees[0].tree_.threshold[i]))\n",
    "path1.append('leaf value: '+str(model._leaves[0]))\n",
    "\n",
    "path1"
   ]
  },
  {
   "cell_type": "markdown",
   "id": "803fead7",
   "metadata": {},
   "source": [
    "If $loc > -0.03147734422236681$, then this feature generates a 1"
   ]
  },
  {
   "cell_type": "code",
   "execution_count": 33,
   "id": "2e17567c",
   "metadata": {},
   "outputs": [],
   "source": [
    "pred_tree = np.abs(error_trees[0].predict(X_retrain_scaled.astype(np.float32), check_input=False))\n",
    "pred_tree = (pred_tree == model._leaves[0]).astype(np.float32)\n",
    "pred_tree = pred_tree.reshape(-1, 1)\n",
    "X_trans = np.concatenate([X_retrain_scaled, pred_tree], axis=1)"
   ]
  },
  {
   "cell_type": "markdown",
   "id": "c0312c08",
   "metadata": {},
   "source": [
    "#### New Feature 2"
   ]
  },
  {
   "cell_type": "code",
   "execution_count": 34,
   "id": "185c06df",
   "metadata": {},
   "outputs": [
    {
     "data": {
      "image/png": "[encoded data removed]",
      "text/plain": [
       "<Figure size 432x288 with 1 Axes>"
      ]
     },
     "metadata": {
      "needs_background": "light"
     },
     "output_type": "display_data"
    }
   ],
   "source": [
    "plot_tree(error_trees[1], node_ids=True, feature_names=list(X_retrain.columns)+['New_Feature_1']);"
   ]
  },
  {
   "cell_type": "code",
   "execution_count": 35,
   "id": "932f781f",
   "metadata": {},
   "outputs": [
    {
     "data": {
      "text/plain": [
       "['loc <= -0.03147734422236681', 'leaf value: 0.3555988461394373']"
      ]
     },
     "execution_count": 35,
     "metadata": {},
     "output_type": "execute_result"
    }
   ],
   "source": [
    "pred = np.abs(error_trees[1].predict(X_trans))\n",
    "worst_leaf = np.argmax(pred)\n",
    "error_path = error_trees[1].decision_path(X_trans[[worst_leaf]]).toarray()\n",
    "indexes = np.where(error_path == 1)[1]\n",
    "\n",
    "path2 = []\n",
    "for i in indexes[:-1]:\n",
    "    path2.append(str(list(list(X_retrain.columns)+['New_Feature_1'])[error_trees[1].tree_.feature[i]])+' <= '+str(error_trees[1].tree_.threshold[i]))\n",
    "path2.append('leaf value: '+str(model._leaves[1]))\n",
    "\n",
    "path2"
   ]
  },
  {
   "cell_type": "markdown",
   "id": "7d3c83d2",
   "metadata": {},
   "source": [
    "It is the same as before"
   ]
  },
  {
   "cell_type": "code",
   "execution_count": 36,
   "id": "72996667",
   "metadata": {},
   "outputs": [],
   "source": [
    "top_threshold = 0\n",
    "top_coefficients = [coef for coef in model.base_estimator_.coef_.ravel() if abs(coef) > top_threshold]\n",
    "top_features = [name for name, coef in zip(X_retrain.columns, model.base_estimator_.coef_.ravel()) if abs(coef) > top_threshold]\n",
    "labels = [' ' if feature not in top_features else feature for feature in X_retrain.columns]+['New_Feature_1']+['New_Feature_2']"
   ]
  },
  {
   "cell_type": "code",
   "execution_count": 38,
   "id": "ad836dbd",
   "metadata": {},
   "outputs": [
    {
     "name": "stderr",
     "output_type": "stream",
     "text": [
      "C:\\Users\\MANUEL~2\\AppData\\Local\\Temp/ipykernel_9844/893457555.py:6: UserWarning: FixedFormatter should only be used together with FixedLocator\n",
      "  ax.set_xticklabels(labels, rotation=50, ha='right')\n"
     ]
    },
    {
     "data": {
      "image/png": "[encoded data removed]",
      "text/plain": [
       "<Figure size 1296x576 with 1 Axes>"
      ]
     },
     "metadata": {
      "needs_background": "light"
     },
     "output_type": "display_data"
    }
   ],
   "source": [
    "fig, ax = plt.subplots(figsize=(18, 8))\n",
    "ax.stem(list(list(X_retrain.columns)+['New_Feature_1']+['New_Feature_2']), model.base_estimator_.coef_.ravel(), markerfmt=' ', basefmt='k-')\n",
    "ax.set_xlabel('Features')\n",
    "ax.set_ylabel('Coefficients magnitude')\n",
    "ax.set_title('Final model scaled coefficients')\n",
    "ax.set_xticklabels(labels, rotation=50, ha='right')\n",
    "plt.tight_layout()\n",
    "plt.show()"
   ]
  },
  {
   "cell_type": "code",
   "execution_count": null,
   "id": "d2d743e8",
   "metadata": {},
   "outputs": [],
   "source": []
  }
 ],
 "metadata": {
  "kernelspec": {
   "display_name": "Python 3 (ipykernel)",
   "language": "python",
   "name": "python3"
  },
  "language_info": {
   "codemirror_mode": {
    "name": "ipython",
    "version": 3
   },
   "file_extension": ".py",
   "mimetype": "text/x-python",
   "name": "python",
   "nbconvert_exporter": "python",
   "pygments_lexer": "ipython3",
   "version": "3.9.7"
  }
 },
 "nbformat": 4,
 "nbformat_minor": 5
}
