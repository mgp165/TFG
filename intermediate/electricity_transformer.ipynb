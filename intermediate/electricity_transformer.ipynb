{
 "cells": [
  {
   "cell_type": "markdown",
   "id": "f9a8f136",
   "metadata": {},
   "source": [
    "# Electricity transformer data preparation"
   ]
  },
  {
   "cell_type": "code",
   "execution_count": 1,
   "id": "4fa26d6b",
   "metadata": {},
   "outputs": [],
   "source": [
    "import pandas as pd"
   ]
  },
  {
   "cell_type": "code",
   "execution_count": 2,
   "id": "8a28f986",
   "metadata": {},
   "outputs": [],
   "source": [
    "data = pd.read_csv('../data/raw/electricity_transformer.csv')"
   ]
  },
  {
   "cell_type": "code",
   "execution_count": 3,
   "id": "d18507ff",
   "metadata": {},
   "outputs": [],
   "source": [
    "DATA = data"
   ]
  },
  {
   "cell_type": "markdown",
   "id": "ef0f5e28",
   "metadata": {},
   "source": [
    "A feature that can be relevant is the current hour: "
   ]
  },
  {
   "cell_type": "code",
   "execution_count": 4,
   "id": "41418dc0",
   "metadata": {},
   "outputs": [],
   "source": [
    "#what hour is it\n",
    "DATA['hour'] = pd.to_datetime(DATA.date).dt.hour"
   ]
  },
  {
   "cell_type": "markdown",
   "id": "bcae67cb",
   "metadata": {},
   "source": [
    "We are going to add some additional features related to the target on past times:"
   ]
  },
  {
   "cell_type": "code",
   "execution_count": 5,
   "id": "9244b768",
   "metadata": {},
   "outputs": [],
   "source": [
    "#last 24 hours\n",
    "\n",
    "for i in range(1, 4*24+1):\n",
    "    DATA['OT_'+str(i)] = DATA['OT'].shift(i)"
   ]
  },
  {
   "cell_type": "code",
   "execution_count": 6,
   "id": "33cab4cb",
   "metadata": {},
   "outputs": [],
   "source": [
    "#mean last hour\n",
    "mean_last_hour = []\n",
    "\n",
    "for i in range(len(DATA)):\n",
    "    value = DATA.loc[i, ['OT_1', 'OT_2', 'OT_3', 'OT_4']].mean()\n",
    "    mean_last_hour += [value]\n",
    "\n",
    "    \n",
    "DATA['OT_mean_last_hour'] = mean_last_hour"
   ]
  },
  {
   "cell_type": "code",
   "execution_count": 7,
   "id": "f1117771",
   "metadata": {},
   "outputs": [],
   "source": [
    "#mean last 24 hours\n",
    "\n",
    "mean_last_day = []\n",
    "\n",
    "for i in range(len(DATA)):\n",
    "    value = DATA.loc[i,['OT_'+str(i) for i in range(1, 4*24)]].mean()\n",
    "    mean_last_day += [value]\n",
    "\n",
    "    \n",
    "DATA['OT_mean_last_day'] = mean_last_day"
   ]
  },
  {
   "cell_type": "code",
   "execution_count": 8,
   "id": "071ddd30",
   "metadata": {},
   "outputs": [],
   "source": [
    "#ratio last checkpoint (if ratio>1, increasing trend)\n",
    "\n",
    "DATA['OT_ratio_1'] = DATA.OT / DATA.OT_1"
   ]
  },
  {
   "cell_type": "code",
   "execution_count": 9,
   "id": "45b86745",
   "metadata": {},
   "outputs": [],
   "source": [
    "#ratio last hour\n",
    "\n",
    "DATA['OT_ratio_hour'] = DATA.OT / DATA.OT_4"
   ]
  },
  {
   "cell_type": "code",
   "execution_count": 10,
   "id": "e08d8623",
   "metadata": {},
   "outputs": [],
   "source": [
    "#ratio last day\n",
    "\n",
    "DATA['OT_ratio_day'] = DATA.OT / DATA.OT_96"
   ]
  },
  {
   "cell_type": "markdown",
   "id": "09192886",
   "metadata": {},
   "source": [
    "Of course, we add the column that we are going to predict that is the Oil Temperature lagged once in the future:"
   ]
  },
  {
   "cell_type": "code",
   "execution_count": 11,
   "id": "fa0a34e9",
   "metadata": {},
   "outputs": [],
   "source": [
    "DATA['OT_next'] = DATA['OT'].shift(-1)"
   ]
  },
  {
   "cell_type": "code",
   "execution_count": 12,
   "id": "2fd85b23",
   "metadata": {},
   "outputs": [
    {
     "data": {
      "text/html": [
       "<div>\n",
       "<style scoped>\n",
       "    .dataframe tbody tr th:only-of-type {\n",
       "        vertical-align: middle;\n",
       "    }\n",
       "\n",
       "    .dataframe tbody tr th {\n",
       "        vertical-align: top;\n",
       "    }\n",
       "\n",
       "    .dataframe thead th {\n",
       "        text-align: right;\n",
       "    }\n",
       "</style>\n",
       "<table border=\"1\" class=\"dataframe\">\n",
       "  <thead>\n",
       "    <tr style=\"text-align: right;\">\n",
       "      <th></th>\n",
       "      <th>date</th>\n",
       "      <th>HUFL</th>\n",
       "      <th>HULL</th>\n",
       "      <th>MUFL</th>\n",
       "      <th>MULL</th>\n",
       "      <th>LUFL</th>\n",
       "      <th>LULL</th>\n",
       "      <th>OT</th>\n",
       "      <th>hour</th>\n",
       "      <th>OT_1</th>\n",
       "      <th>...</th>\n",
       "      <th>OT_93</th>\n",
       "      <th>OT_94</th>\n",
       "      <th>OT_95</th>\n",
       "      <th>OT_96</th>\n",
       "      <th>OT_mean_last_hour</th>\n",
       "      <th>OT_mean_last_day</th>\n",
       "      <th>OT_ratio_1</th>\n",
       "      <th>OT_ratio_hour</th>\n",
       "      <th>OT_ratio_day</th>\n",
       "      <th>OT_next</th>\n",
       "    </tr>\n",
       "  </thead>\n",
       "  <tbody>\n",
       "    <tr>\n",
       "      <th>0</th>\n",
       "      <td>2016-07-01 00:00:00</td>\n",
       "      <td>5.827</td>\n",
       "      <td>2.009</td>\n",
       "      <td>1.599</td>\n",
       "      <td>0.462</td>\n",
       "      <td>4.203</td>\n",
       "      <td>1.340</td>\n",
       "      <td>30.531000</td>\n",
       "      <td>0</td>\n",
       "      <td>NaN</td>\n",
       "      <td>...</td>\n",
       "      <td>NaN</td>\n",
       "      <td>NaN</td>\n",
       "      <td>NaN</td>\n",
       "      <td>NaN</td>\n",
       "      <td>NaN</td>\n",
       "      <td>NaN</td>\n",
       "      <td>NaN</td>\n",
       "      <td>NaN</td>\n",
       "      <td>NaN</td>\n",
       "      <td>30.459999</td>\n",
       "    </tr>\n",
       "    <tr>\n",
       "      <th>1</th>\n",
       "      <td>2016-07-01 00:15:00</td>\n",
       "      <td>5.760</td>\n",
       "      <td>2.076</td>\n",
       "      <td>1.492</td>\n",
       "      <td>0.426</td>\n",
       "      <td>4.264</td>\n",
       "      <td>1.401</td>\n",
       "      <td>30.459999</td>\n",
       "      <td>0</td>\n",
       "      <td>30.531000</td>\n",
       "      <td>...</td>\n",
       "      <td>NaN</td>\n",
       "      <td>NaN</td>\n",
       "      <td>NaN</td>\n",
       "      <td>NaN</td>\n",
       "      <td>30.5310</td>\n",
       "      <td>30.5310</td>\n",
       "      <td>0.997674</td>\n",
       "      <td>NaN</td>\n",
       "      <td>NaN</td>\n",
       "      <td>30.038000</td>\n",
       "    </tr>\n",
       "    <tr>\n",
       "      <th>2</th>\n",
       "      <td>2016-07-01 00:30:00</td>\n",
       "      <td>5.760</td>\n",
       "      <td>1.942</td>\n",
       "      <td>1.492</td>\n",
       "      <td>0.391</td>\n",
       "      <td>4.234</td>\n",
       "      <td>1.310</td>\n",
       "      <td>30.038000</td>\n",
       "      <td>0</td>\n",
       "      <td>30.459999</td>\n",
       "      <td>...</td>\n",
       "      <td>NaN</td>\n",
       "      <td>NaN</td>\n",
       "      <td>NaN</td>\n",
       "      <td>NaN</td>\n",
       "      <td>30.4955</td>\n",
       "      <td>30.4955</td>\n",
       "      <td>0.986146</td>\n",
       "      <td>NaN</td>\n",
       "      <td>NaN</td>\n",
       "      <td>27.013000</td>\n",
       "    </tr>\n",
       "    <tr>\n",
       "      <th>3</th>\n",
       "      <td>2016-07-01 00:45:00</td>\n",
       "      <td>5.760</td>\n",
       "      <td>1.942</td>\n",
       "      <td>1.492</td>\n",
       "      <td>0.426</td>\n",
       "      <td>4.234</td>\n",
       "      <td>1.310</td>\n",
       "      <td>27.013000</td>\n",
       "      <td>0</td>\n",
       "      <td>30.038000</td>\n",
       "      <td>...</td>\n",
       "      <td>NaN</td>\n",
       "      <td>NaN</td>\n",
       "      <td>NaN</td>\n",
       "      <td>NaN</td>\n",
       "      <td>30.3430</td>\n",
       "      <td>30.3430</td>\n",
       "      <td>0.899294</td>\n",
       "      <td>NaN</td>\n",
       "      <td>NaN</td>\n",
       "      <td>27.787001</td>\n",
       "    </tr>\n",
       "    <tr>\n",
       "      <th>4</th>\n",
       "      <td>2016-07-01 01:00:00</td>\n",
       "      <td>5.693</td>\n",
       "      <td>2.076</td>\n",
       "      <td>1.492</td>\n",
       "      <td>0.426</td>\n",
       "      <td>4.142</td>\n",
       "      <td>1.371</td>\n",
       "      <td>27.787001</td>\n",
       "      <td>1</td>\n",
       "      <td>27.013000</td>\n",
       "      <td>...</td>\n",
       "      <td>NaN</td>\n",
       "      <td>NaN</td>\n",
       "      <td>NaN</td>\n",
       "      <td>NaN</td>\n",
       "      <td>29.5105</td>\n",
       "      <td>29.5105</td>\n",
       "      <td>1.028653</td>\n",
       "      <td>0.910124</td>\n",
       "      <td>NaN</td>\n",
       "      <td>27.716999</td>\n",
       "    </tr>\n",
       "  </tbody>\n",
       "</table>\n",
       "<p>5 rows × 111 columns</p>\n",
       "</div>"
      ],
      "text/plain": [
       "                  date   HUFL   HULL   MUFL   MULL   LUFL   LULL         OT  \\\n",
       "0  2016-07-01 00:00:00  5.827  2.009  1.599  0.462  4.203  1.340  30.531000   \n",
       "1  2016-07-01 00:15:00  5.760  2.076  1.492  0.426  4.264  1.401  30.459999   \n",
       "2  2016-07-01 00:30:00  5.760  1.942  1.492  0.391  4.234  1.310  30.038000   \n",
       "3  2016-07-01 00:45:00  5.760  1.942  1.492  0.426  4.234  1.310  27.013000   \n",
       "4  2016-07-01 01:00:00  5.693  2.076  1.492  0.426  4.142  1.371  27.787001   \n",
       "\n",
       "   hour       OT_1  ...  OT_93  OT_94  OT_95  OT_96  OT_mean_last_hour  \\\n",
       "0     0        NaN  ...    NaN    NaN    NaN    NaN                NaN   \n",
       "1     0  30.531000  ...    NaN    NaN    NaN    NaN            30.5310   \n",
       "2     0  30.459999  ...    NaN    NaN    NaN    NaN            30.4955   \n",
       "3     0  30.038000  ...    NaN    NaN    NaN    NaN            30.3430   \n",
       "4     1  27.013000  ...    NaN    NaN    NaN    NaN            29.5105   \n",
       "\n",
       "   OT_mean_last_day  OT_ratio_1  OT_ratio_hour  OT_ratio_day    OT_next  \n",
       "0               NaN         NaN            NaN           NaN  30.459999  \n",
       "1           30.5310    0.997674            NaN           NaN  30.038000  \n",
       "2           30.4955    0.986146            NaN           NaN  27.013000  \n",
       "3           30.3430    0.899294            NaN           NaN  27.787001  \n",
       "4           29.5105    1.028653       0.910124           NaN  27.716999  \n",
       "\n",
       "[5 rows x 111 columns]"
      ]
     },
     "execution_count": 12,
     "metadata": {},
     "output_type": "execute_result"
    }
   ],
   "source": [
    "DATA.head()"
   ]
  },
  {
   "cell_type": "code",
   "execution_count": 13,
   "id": "1671ae5f",
   "metadata": {},
   "outputs": [
    {
     "data": {
      "text/html": [
       "<div>\n",
       "<style scoped>\n",
       "    .dataframe tbody tr th:only-of-type {\n",
       "        vertical-align: middle;\n",
       "    }\n",
       "\n",
       "    .dataframe tbody tr th {\n",
       "        vertical-align: top;\n",
       "    }\n",
       "\n",
       "    .dataframe thead th {\n",
       "        text-align: right;\n",
       "    }\n",
       "</style>\n",
       "<table border=\"1\" class=\"dataframe\">\n",
       "  <thead>\n",
       "    <tr style=\"text-align: right;\">\n",
       "      <th></th>\n",
       "      <th>date</th>\n",
       "      <th>HUFL</th>\n",
       "      <th>HULL</th>\n",
       "      <th>MUFL</th>\n",
       "      <th>MULL</th>\n",
       "      <th>LUFL</th>\n",
       "      <th>LULL</th>\n",
       "      <th>OT</th>\n",
       "      <th>hour</th>\n",
       "      <th>OT_1</th>\n",
       "      <th>...</th>\n",
       "      <th>OT_93</th>\n",
       "      <th>OT_94</th>\n",
       "      <th>OT_95</th>\n",
       "      <th>OT_96</th>\n",
       "      <th>OT_mean_last_hour</th>\n",
       "      <th>OT_mean_last_day</th>\n",
       "      <th>OT_ratio_1</th>\n",
       "      <th>OT_ratio_hour</th>\n",
       "      <th>OT_ratio_day</th>\n",
       "      <th>OT_next</th>\n",
       "    </tr>\n",
       "  </thead>\n",
       "  <tbody>\n",
       "    <tr>\n",
       "      <th>69675</th>\n",
       "      <td>2018-06-26 18:45:00</td>\n",
       "      <td>9.310</td>\n",
       "      <td>3.550</td>\n",
       "      <td>5.437</td>\n",
       "      <td>1.670</td>\n",
       "      <td>3.868</td>\n",
       "      <td>1.462</td>\n",
       "      <td>9.567</td>\n",
       "      <td>18</td>\n",
       "      <td>9.778</td>\n",
       "      <td>...</td>\n",
       "      <td>10.200</td>\n",
       "      <td>10.271</td>\n",
       "      <td>10.552</td>\n",
       "      <td>10.622</td>\n",
       "      <td>9.83100</td>\n",
       "      <td>9.711516</td>\n",
       "      <td>0.978421</td>\n",
       "      <td>0.971368</td>\n",
       "      <td>0.900678</td>\n",
       "      <td>9.567</td>\n",
       "    </tr>\n",
       "    <tr>\n",
       "      <th>69676</th>\n",
       "      <td>2018-06-26 19:00:00</td>\n",
       "      <td>10.114</td>\n",
       "      <td>3.550</td>\n",
       "      <td>6.183</td>\n",
       "      <td>1.564</td>\n",
       "      <td>3.716</td>\n",
       "      <td>1.462</td>\n",
       "      <td>9.567</td>\n",
       "      <td>19</td>\n",
       "      <td>9.567</td>\n",
       "      <td>...</td>\n",
       "      <td>10.060</td>\n",
       "      <td>10.200</td>\n",
       "      <td>10.271</td>\n",
       "      <td>10.552</td>\n",
       "      <td>9.76050</td>\n",
       "      <td>9.701147</td>\n",
       "      <td>1.000000</td>\n",
       "      <td>0.978421</td>\n",
       "      <td>0.906653</td>\n",
       "      <td>9.426</td>\n",
       "    </tr>\n",
       "    <tr>\n",
       "      <th>69677</th>\n",
       "      <td>2018-06-26 19:15:00</td>\n",
       "      <td>10.784</td>\n",
       "      <td>3.349</td>\n",
       "      <td>7.000</td>\n",
       "      <td>1.635</td>\n",
       "      <td>3.746</td>\n",
       "      <td>1.432</td>\n",
       "      <td>9.426</td>\n",
       "      <td>19</td>\n",
       "      <td>9.567</td>\n",
       "      <td>...</td>\n",
       "      <td>9.989</td>\n",
       "      <td>10.060</td>\n",
       "      <td>10.200</td>\n",
       "      <td>10.271</td>\n",
       "      <td>9.70775</td>\n",
       "      <td>9.693737</td>\n",
       "      <td>0.985262</td>\n",
       "      <td>0.950297</td>\n",
       "      <td>0.917730</td>\n",
       "      <td>9.426</td>\n",
       "    </tr>\n",
       "    <tr>\n",
       "      <th>69678</th>\n",
       "      <td>2018-06-26 19:30:00</td>\n",
       "      <td>11.655</td>\n",
       "      <td>3.617</td>\n",
       "      <td>7.533</td>\n",
       "      <td>1.706</td>\n",
       "      <td>4.173</td>\n",
       "      <td>1.523</td>\n",
       "      <td>9.426</td>\n",
       "      <td>19</td>\n",
       "      <td>9.426</td>\n",
       "      <td>...</td>\n",
       "      <td>9.989</td>\n",
       "      <td>9.989</td>\n",
       "      <td>10.060</td>\n",
       "      <td>10.200</td>\n",
       "      <td>9.58450</td>\n",
       "      <td>9.685589</td>\n",
       "      <td>1.000000</td>\n",
       "      <td>0.964001</td>\n",
       "      <td>0.924118</td>\n",
       "      <td>9.778</td>\n",
       "    </tr>\n",
       "    <tr>\n",
       "      <th>69679</th>\n",
       "      <td>2018-06-26 19:45:00</td>\n",
       "      <td>12.994</td>\n",
       "      <td>3.818</td>\n",
       "      <td>8.244</td>\n",
       "      <td>1.777</td>\n",
       "      <td>4.721</td>\n",
       "      <td>1.523</td>\n",
       "      <td>9.778</td>\n",
       "      <td>19</td>\n",
       "      <td>9.426</td>\n",
       "      <td>...</td>\n",
       "      <td>9.849</td>\n",
       "      <td>9.989</td>\n",
       "      <td>9.989</td>\n",
       "      <td>10.060</td>\n",
       "      <td>9.49650</td>\n",
       "      <td>9.678916</td>\n",
       "      <td>1.037344</td>\n",
       "      <td>1.022055</td>\n",
       "      <td>0.971968</td>\n",
       "      <td>NaN</td>\n",
       "    </tr>\n",
       "  </tbody>\n",
       "</table>\n",
       "<p>5 rows × 111 columns</p>\n",
       "</div>"
      ],
      "text/plain": [
       "                      date    HUFL   HULL   MUFL   MULL   LUFL   LULL     OT  \\\n",
       "69675  2018-06-26 18:45:00   9.310  3.550  5.437  1.670  3.868  1.462  9.567   \n",
       "69676  2018-06-26 19:00:00  10.114  3.550  6.183  1.564  3.716  1.462  9.567   \n",
       "69677  2018-06-26 19:15:00  10.784  3.349  7.000  1.635  3.746  1.432  9.426   \n",
       "69678  2018-06-26 19:30:00  11.655  3.617  7.533  1.706  4.173  1.523  9.426   \n",
       "69679  2018-06-26 19:45:00  12.994  3.818  8.244  1.777  4.721  1.523  9.778   \n",
       "\n",
       "       hour   OT_1  ...   OT_93   OT_94   OT_95   OT_96  OT_mean_last_hour  \\\n",
       "69675    18  9.778  ...  10.200  10.271  10.552  10.622            9.83100   \n",
       "69676    19  9.567  ...  10.060  10.200  10.271  10.552            9.76050   \n",
       "69677    19  9.567  ...   9.989  10.060  10.200  10.271            9.70775   \n",
       "69678    19  9.426  ...   9.989   9.989  10.060  10.200            9.58450   \n",
       "69679    19  9.426  ...   9.849   9.989   9.989  10.060            9.49650   \n",
       "\n",
       "       OT_mean_last_day  OT_ratio_1  OT_ratio_hour  OT_ratio_day  OT_next  \n",
       "69675          9.711516    0.978421       0.971368      0.900678    9.567  \n",
       "69676          9.701147    1.000000       0.978421      0.906653    9.426  \n",
       "69677          9.693737    0.985262       0.950297      0.917730    9.426  \n",
       "69678          9.685589    1.000000       0.964001      0.924118    9.778  \n",
       "69679          9.678916    1.037344       1.022055      0.971968      NaN  \n",
       "\n",
       "[5 rows x 111 columns]"
      ]
     },
     "execution_count": 13,
     "metadata": {},
     "output_type": "execute_result"
    }
   ],
   "source": [
    "DATA.tail()"
   ]
  },
  {
   "cell_type": "markdown",
   "id": "97c17620",
   "metadata": {},
   "source": [
    "Lastly, for avoiding NaN, we are going to delete the first few rows and the last one:\n"
   ]
  },
  {
   "cell_type": "code",
   "execution_count": 14,
   "id": "806d99e2",
   "metadata": {},
   "outputs": [],
   "source": [
    "df = DATA.drop(DATA.index[:96])"
   ]
  },
  {
   "cell_type": "code",
   "execution_count": 15,
   "id": "e3015597",
   "metadata": {},
   "outputs": [],
   "source": [
    "df = df.drop(df.index[-1])"
   ]
  },
  {
   "cell_type": "code",
   "execution_count": 16,
   "id": "3232b30a",
   "metadata": {},
   "outputs": [
    {
     "data": {
      "text/plain": [
       "617"
      ]
     },
     "execution_count": 16,
     "metadata": {},
     "output_type": "execute_result"
    }
   ],
   "source": [
    "df.isna().sum().sum()"
   ]
  },
  {
   "cell_type": "code",
   "execution_count": 17,
   "id": "e9d66d27",
   "metadata": {},
   "outputs": [
    {
     "data": {
      "text/plain": [
       "date                  0\n",
       "HUFL                  0\n",
       "HULL                  0\n",
       "MUFL                  0\n",
       "MULL                  0\n",
       "                   ... \n",
       "OT_mean_last_day      0\n",
       "OT_ratio_1          315\n",
       "OT_ratio_hour       252\n",
       "OT_ratio_day         50\n",
       "OT_next               0\n",
       "Length: 111, dtype: int64"
      ]
     },
     "execution_count": 17,
     "metadata": {},
     "output_type": "execute_result"
    }
   ],
   "source": [
    "df.isna().sum()"
   ]
  },
  {
   "cell_type": "markdown",
   "id": "832ba1b4",
   "metadata": {},
   "source": [
    "We still having some issues because Oil Temperature is eventually zero and we have calculated ratios"
   ]
  },
  {
   "cell_type": "code",
   "execution_count": 18,
   "id": "2f4e487a",
   "metadata": {},
   "outputs": [],
   "source": [
    "df = df.fillna(-1)"
   ]
  },
  {
   "cell_type": "code",
   "execution_count": 19,
   "id": "17049c37",
   "metadata": {},
   "outputs": [
    {
     "data": {
      "text/plain": [
       "0"
      ]
     },
     "execution_count": 19,
     "metadata": {},
     "output_type": "execute_result"
    }
   ],
   "source": [
    "df.isna().sum().sum()"
   ]
  },
  {
   "cell_type": "markdown",
   "id": "571769d8",
   "metadata": {},
   "source": [
    "And now we separate in train/validation/test (70/15/15 in proportion, respectively):"
   ]
  },
  {
   "cell_type": "code",
   "execution_count": 21,
   "id": "1e3f6c4d",
   "metadata": {},
   "outputs": [],
   "source": [
    "train_date = df.loc[int(round(len(df)*0.7 + 96))].date"
   ]
  },
  {
   "cell_type": "code",
   "execution_count": 23,
   "id": "8ccb2a45",
   "metadata": {},
   "outputs": [],
   "source": [
    "validation_date = df.loc[int(round(len(df)*0.85 + 96))].date"
   ]
  },
  {
   "cell_type": "code",
   "execution_count": 27,
   "id": "c2ca74f9",
   "metadata": {},
   "outputs": [
    {
     "data": {
      "text/plain": [
       "(48708, 111)"
      ]
     },
     "execution_count": 27,
     "metadata": {},
     "output_type": "execute_result"
    }
   ],
   "source": [
    "train = df[df.date<train_date]\n",
    "train.shape"
   ]
  },
  {
   "cell_type": "code",
   "execution_count": 35,
   "id": "069b0e97",
   "metadata": {},
   "outputs": [
    {
     "data": {
      "text/plain": [
       "(10438, 111)"
      ]
     },
     "execution_count": 35,
     "metadata": {},
     "output_type": "execute_result"
    }
   ],
   "source": [
    "validation = df[train_date<=df.date]\n",
    "validation = validation[validation.date<validation_date]\n",
    "validation.shape"
   ]
  },
  {
   "cell_type": "code",
   "execution_count": 29,
   "id": "660f50eb",
   "metadata": {},
   "outputs": [
    {
     "data": {
      "text/plain": [
       "(10437, 111)"
      ]
     },
     "execution_count": 29,
     "metadata": {},
     "output_type": "execute_result"
    }
   ],
   "source": [
    "test = df[df.date>=validation_date]\n",
    "test.shape"
   ]
  },
  {
   "cell_type": "code",
   "execution_count": 43,
   "id": "a88f2371",
   "metadata": {},
   "outputs": [],
   "source": [
    "train.to_parquet('F:/Users/Manuel García Plaza/Desktop/TFG/data/model_input/train_sets/electricity_transformer.parquet')\n",
    "validation.to_parquet('F:/Users/Manuel García Plaza/Desktop/TFG/data/model_input/validation_sets/electricity_transformer.parquet')\n",
    "test.to_parquet('F:/Users/Manuel García Plaza/Desktop/TFG/data/model_input/test_sets/electricity_transformer.parquet')"
   ]
  },
  {
   "cell_type": "code",
   "execution_count": null,
   "id": "edc7d73d",
   "metadata": {},
   "outputs": [],
   "source": []
  }
 ],
 "metadata": {
  "kernelspec": {
   "display_name": "Python 3 (ipykernel)",
   "language": "python",
   "name": "python3"
  },
  "language_info": {
   "codemirror_mode": {
    "name": "ipython",
    "version": 3
   },
   "file_extension": ".py",
   "mimetype": "text/x-python",
   "name": "python",
   "nbconvert_exporter": "python",
   "pygments_lexer": "ipython3",
   "version": "3.9.7"
  }
 },
 "nbformat": 4,
 "nbformat_minor": 5
}
