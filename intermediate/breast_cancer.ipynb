{
 "cells": [
  {
   "cell_type": "markdown",
   "id": "26c54387",
   "metadata": {},
   "source": [
    "# Breast cancer data preparation"
   ]
  },
  {
   "cell_type": "code",
   "execution_count": 1,
   "id": "1f3e1484",
   "metadata": {},
   "outputs": [],
   "source": [
    "import pandas as pd"
   ]
  },
  {
   "cell_type": "code",
   "execution_count": 2,
   "id": "38d53c85",
   "metadata": {},
   "outputs": [],
   "source": [
    "data = pd.read_csv('../data/raw/breast_cancer.csv')"
   ]
  },
  {
   "cell_type": "markdown",
   "id": "ebaa42b3",
   "metadata": {},
   "source": [
    "First of all, we are eliminating useless features."
   ]
  },
  {
   "cell_type": "code",
   "execution_count": 3,
   "id": "c613cd32",
   "metadata": {},
   "outputs": [],
   "source": [
    "useless_cols = ['id', 'Unnamed: 32']\n",
    "\n",
    "data = data.drop(useless_cols, axis=1)"
   ]
  },
  {
   "cell_type": "markdown",
   "id": "4a26b793",
   "metadata": {},
   "source": [
    "The aim of the predictions must be the malignant ones so we are encoding M as 1 and B as 0."
   ]
  },
  {
   "cell_type": "code",
   "execution_count": 4,
   "id": "268ae1e2",
   "metadata": {},
   "outputs": [],
   "source": [
    "data.diagnosis = data.diagnosis.replace({'B': 0, 'M': 1})"
   ]
  },
  {
   "cell_type": "markdown",
   "id": "b0f8a17f",
   "metadata": {},
   "source": [
    "We will split the dataset into 3 subsets: train, validation and test:"
   ]
  },
  {
   "cell_type": "code",
   "execution_count": 10,
   "id": "5ddc3514",
   "metadata": {},
   "outputs": [
    {
     "name": "stdout",
     "output_type": "stream",
     "text": [
      "Train shape: (398, 31)\n",
      "Validation shape: (85, 31)\n",
      "Test shape: (86, 31)\n"
     ]
    }
   ],
   "source": [
    "from sklearn.model_selection import train_test_split\n",
    "\n",
    "train, test = train_test_split(data, shuffle=True, test_size=0.3)\n",
    "validation, test = train_test_split(test, shuffle=True, test_size=0.5)\n",
    "print('Train shape:', train.shape)\n",
    "print('Validation shape:', validation.shape)\n",
    "print('Test shape:', test.shape)"
   ]
  },
  {
   "cell_type": "code",
   "execution_count": 14,
   "id": "c7c72c02",
   "metadata": {},
   "outputs": [],
   "source": [
    "train.to_parquet('F:/Users/Manuel García Plaza/Desktop/TFG/data/model_input/train_sets/breast_cancer.parquet')\n",
    "validation.to_parquet('F:/Users/Manuel García Plaza/Desktop/TFG/data/model_input/validation_sets/breast_cancer.parquet')\n",
    "test.to_parquet('F:/Users/Manuel García Plaza/Desktop/TFG/data/model_input/test_sets/breast_cancer.parquet')"
   ]
  },
  {
   "cell_type": "code",
   "execution_count": null,
   "id": "fa22b4ac",
   "metadata": {},
   "outputs": [],
   "source": []
  }
 ],
 "metadata": {
  "kernelspec": {
   "display_name": "Python 3 (ipykernel)",
   "language": "python",
   "name": "python3"
  },
  "language_info": {
   "codemirror_mode": {
    "name": "ipython",
    "version": 3
   },
   "file_extension": ".py",
   "mimetype": "text/x-python",
   "name": "python",
   "nbconvert_exporter": "python",
   "pygments_lexer": "ipython3",
   "version": "3.9.7"
  }
 },
 "nbformat": 4,
 "nbformat_minor": 5
}
