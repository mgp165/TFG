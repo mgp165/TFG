{
 "cells": [
  {
   "cell_type": "markdown",
   "id": "62a08c2d",
   "metadata": {},
   "source": [
    "We are creating a function for calculating the metrics of the models and saving them."
   ]
  },
  {
   "cell_type": "code",
   "execution_count": 1,
   "id": "0e8f2f23",
   "metadata": {},
   "outputs": [],
   "source": [
    "import pandas as pd\n",
    "import time\n",
    "from sklearn.metrics import mean_squared_error"
   ]
  },
  {
   "cell_type": "code",
   "execution_count": 2,
   "id": "2b9ec2e5",
   "metadata": {},
   "outputs": [],
   "source": [
    "def regression(list_models, list_names, path, X_train, y_train, X_test, y_test, metrics={}):\n",
    "    \n",
    "    for i in range(len(list_models)):\n",
    "        model = list_models[i]\n",
    "        name = list_names[i]\n",
    "        start_time = time.time()\n",
    "        model.fit(X_train, y_train)\n",
    "\n",
    "        train_pred = model.predict(X_train)\n",
    "        test_pred = model.predict(X_test)\n",
    "\n",
    "        metrics[name] = {\n",
    "            'Train_MSE': mean_squared_error(y_train, train_pred),\n",
    "            'Validation_MSE': mean_squared_error(y_test, test_pred),\n",
    "            'Run_Time': time.time() - start_time\n",
    "        }\n",
    "        \n",
    "    metrics = pd.DataFrame.from_dict(metrics, orient='index',columns=['Run_Time', 'Train_MSE', 'Validation_MSE'])\n",
    "    metrics['delta%'] = 100*(metrics.Validation_MSE - metrics.Train_MSE) / metrics.Train_MSE\n",
    "    \n",
    "    metrics.to_parquet(path)\n",
    "    \n",
    "    return metrics"
   ]
  },
  {
   "cell_type": "code",
   "execution_count": null,
   "id": "c992060d",
   "metadata": {},
   "outputs": [],
   "source": []
  }
 ],
 "metadata": {
  "kernelspec": {
   "display_name": "Python 3 (ipykernel)",
   "language": "python",
   "name": "python3"
  },
  "language_info": {
   "codemirror_mode": {
    "name": "ipython",
    "version": 3
   },
   "file_extension": ".py",
   "mimetype": "text/x-python",
   "name": "python",
   "nbconvert_exporter": "python",
   "pygments_lexer": "ipython3",
   "version": "3.9.7"
  }
 },
 "nbformat": 4,
 "nbformat_minor": 5
}
