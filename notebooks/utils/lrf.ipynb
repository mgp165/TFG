{
 "cells": [
  {
   "cell_type": "code",
   "execution_count": 2,
   "id": "10ad9724",
   "metadata": {},
   "outputs": [],
   "source": [
    "from sklearn.ensemble import BaggingClassifier, BaggingRegressor\n",
    "from lineartree import LinearTreeClassifier, LinearTreeRegressor\n",
    "from sklearn.linear_model import LinearRegression, Ridge, Lasso, ElasticNet, LogisticRegression\n",
    "import numpy as np"
   ]
  },
  {
   "cell_type": "code",
   "execution_count": 3,
   "id": "dc00c8c9",
   "metadata": {},
   "outputs": [],
   "source": [
    "def LinearRandomForestClassifier(n_features, est=LinearTreeClassifier(base_estimator=LogisticRegression(), max_depth=3), n_est=5):\n",
    "    \n",
    "    '''\n",
    "        A Classifier Random Forest made up of Linear Trees instead of  Decision Trees.\n",
    "        \n",
    "        Parameters\n",
    "        ----------\n",
    "        n_features : int\n",
    "            The number of features in the train dataset.\n",
    "            This is for selecting sqrt(n_features) for each estimator, like Random Forest does.\n",
    "            \n",
    "        est : object, default=LinearTreeClassifier(base_estimator=LogisticRegression(), max_depth=3)\n",
    "            The base estimator to fit on random subsets of the dataset.\n",
    "            The base estimator should be a Linear Tree with specified base_estimator and max_depth for itself.\n",
    "        \n",
    "        n_est : int, default=5\n",
    "            The number of base estimators in the ensemble.\n",
    "    '''\n",
    "\n",
    "    lrf = BaggingClassifier(estimator=est, n_estimators=n_est, max_features=int(np.floor(np.sqrt(n_features))))\n",
    "    \n",
    "    return lrf"
   ]
  },
  {
   "cell_type": "code",
   "execution_count": 5,
   "id": "bb831664",
   "metadata": {},
   "outputs": [],
   "source": [
    "def LinearRandomForestRegressor(n_features, est=LinearTreeRegressor(base_estimator=LinearRegression(), max_depth=3), n_est=5):\n",
    "    \n",
    "    '''\n",
    "        A Regressor Random Forest made up of Linear Trees instead of  Decision Trees.\n",
    "        \n",
    "        Parameters\n",
    "        ----------\n",
    "        n_features : int\n",
    "            The number of features in the train dataset.\n",
    "            This is for selecting sqrt(n_features) for each estimator, like Random Forest does.\n",
    "            \n",
    "        est : object, default=LinearTreeRegressor(base_estimator=LinearRegression(), max_depth=3)\n",
    "            The base estimator to fit on random subsets of the dataset.\n",
    "            The base estimator should be a Linear Tree with specified base_estimator and max_depth for itself.\n",
    "        \n",
    "        n_est : int, default=5\n",
    "            The number of base estimators in the ensemble.\n",
    "    '''\n",
    "    \n",
    "    lrf = BaggingRegressor(estimator=est, n_estimators=n_est, max_features=int(np.floor(np.sqrt(n_features))))\n",
    "    \n",
    "    return lrf"
   ]
  },
  {
   "cell_type": "code",
   "execution_count": null,
   "id": "ec340cdf",
   "metadata": {},
   "outputs": [],
   "source": []
  }
 ],
 "metadata": {
  "kernelspec": {
   "display_name": "Python 3 (ipykernel)",
   "language": "python",
   "name": "python3"
  },
  "language_info": {
   "codemirror_mode": {
    "name": "ipython",
    "version": 3
   },
   "file_extension": ".py",
   "mimetype": "text/x-python",
   "name": "python",
   "nbconvert_exporter": "python",
   "pygments_lexer": "ipython3",
   "version": "3.9.7"
  }
 },
 "nbformat": 4,
 "nbformat_minor": 5
}
