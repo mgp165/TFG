{
 "cells": [
  {
   "cell_type": "markdown",
   "id": "8797dcfb",
   "metadata": {},
   "source": [
    "# Linear Random Forest"
   ]
  },
  {
   "cell_type": "code",
   "execution_count": 1,
   "id": "488b8368",
   "metadata": {},
   "outputs": [],
   "source": [
    "from sklearn.linear_model import LogisticRegression\n",
    "from lineartree import LinearTreeClassifier\n",
    "from sklearn.metrics import roc_auc_score\n",
    "import pandas as pd\n",
    "from joblib import dump\n",
    "import matplotlib.pyplot as plt\n",
    "import numpy as np\n",
    "from sklearn.preprocessing import StandardScaler\n",
    "import time"
   ]
  },
  {
   "cell_type": "code",
   "execution_count": 2,
   "id": "19f5a48f",
   "metadata": {},
   "outputs": [],
   "source": [
    "import sys\n",
    "sys.path.append('F:\\\\Users\\\\Manuel García Plaza\\\\Desktop\\\\TFG\\\\')"
   ]
  },
  {
   "cell_type": "code",
   "execution_count": 3,
   "id": "b63539d7",
   "metadata": {},
   "outputs": [],
   "source": [
    "from notebooks.utils.classification_metrics import classification\n",
    "from notebooks.utils.lrf import LinearRandomForestClassifier"
   ]
  },
  {
   "cell_type": "code",
   "execution_count": 4,
   "id": "c2861192",
   "metadata": {},
   "outputs": [],
   "source": [
    "train =  pd.read_parquet('../../../data/model_input/train_sets/car_insurance.parquet')\n",
    "validation =  pd.read_parquet('../../../data/model_input/validation_sets/car_insurance.parquet')"
   ]
  },
  {
   "cell_type": "code",
   "execution_count": 5,
   "id": "b5e73e55",
   "metadata": {},
   "outputs": [],
   "source": [
    "y_train = train.OUTCOME\n",
    "X_train = train.drop(columns=['OUTCOME'])"
   ]
  },
  {
   "cell_type": "code",
   "execution_count": 6,
   "id": "77109dd1",
   "metadata": {},
   "outputs": [],
   "source": [
    "y_validation = validation.OUTCOME\n",
    "X_validation = validation.drop(columns=['OUTCOME'])"
   ]
  },
  {
   "cell_type": "code",
   "execution_count": 7,
   "id": "f8d37c82",
   "metadata": {},
   "outputs": [],
   "source": [
    "scaler = StandardScaler().fit(X_train)"
   ]
  },
  {
   "cell_type": "code",
   "execution_count": 8,
   "id": "b962d115",
   "metadata": {},
   "outputs": [],
   "source": [
    "X_train_scaled = scaler.transform(X_train)\n",
    "X_validation_scaled = scaler.transform(X_validation)"
   ]
  },
  {
   "cell_type": "code",
   "execution_count": 16,
   "id": "6042e002",
   "metadata": {},
   "outputs": [],
   "source": [
    "n_estimators = [2, 5, 7, 10, 15, 20, 40, 60, 80, 100]"
   ]
  },
  {
   "cell_type": "code",
   "execution_count": 17,
   "id": "02278d1a",
   "metadata": {},
   "outputs": [],
   "source": [
    "max_depth = [1, 2, 3, 4, 5, 7, 10, 15]\n",
    "base_mod = [LogisticRegression(penalty=None), LogisticRegression()]"
   ]
  },
  {
   "cell_type": "code",
   "execution_count": 18,
   "id": "386f29a6",
   "metadata": {},
   "outputs": [],
   "source": [
    "base_est = []\n",
    "for i in max_depth:\n",
    "    for mod in base_mod:\n",
    "        base_est.append(LinearTreeClassifier(base_estimator=mod, max_depth=i))"
   ]
  },
  {
   "cell_type": "code",
   "execution_count": 19,
   "id": "0cf9062f",
   "metadata": {},
   "outputs": [],
   "source": [
    "models_list = []\n",
    "names_list = []\n",
    "for n in n_estimators:\n",
    "    for estim in base_est:\n",
    "        models_list.append(LinearRandomForestClassifier(n_features=X_train.shape[1], est=estim, n_est=n))\n",
    "        if estim.base_estimator.penalty == None:\n",
    "            names_list.append(f'LRF_{n}_{estim.max_depth}')\n",
    "        else:\n",
    "            names_list.append(f'LRF_{n}_{estim.max_depth}_{estim.base_estimator.penalty}')"
   ]
  },
  {
   "cell_type": "code",
   "execution_count": 20,
   "id": "a16bf9c9",
   "metadata": {},
   "outputs": [
    {
     "data": {
      "text/html": [
       "<div>\n",
       "<style scoped>\n",
       "    .dataframe tbody tr th:only-of-type {\n",
       "        vertical-align: middle;\n",
       "    }\n",
       "\n",
       "    .dataframe tbody tr th {\n",
       "        vertical-align: top;\n",
       "    }\n",
       "\n",
       "    .dataframe thead th {\n",
       "        text-align: right;\n",
       "    }\n",
       "</style>\n",
       "<table border=\"1\" class=\"dataframe\">\n",
       "  <thead>\n",
       "    <tr style=\"text-align: right;\">\n",
       "      <th></th>\n",
       "      <th>Run_Time</th>\n",
       "      <th>Train_AUC</th>\n",
       "      <th>Validation_AUC</th>\n",
       "      <th>delta%</th>\n",
       "    </tr>\n",
       "  </thead>\n",
       "  <tbody>\n",
       "    <tr>\n",
       "      <th>LRF_2_1</th>\n",
       "      <td>0.141620</td>\n",
       "      <td>0.808532</td>\n",
       "      <td>0.815945</td>\n",
       "      <td>0.916775</td>\n",
       "    </tr>\n",
       "    <tr>\n",
       "      <th>LRF_2_1_l2</th>\n",
       "      <td>0.248335</td>\n",
       "      <td>0.852443</td>\n",
       "      <td>0.840746</td>\n",
       "      <td>-1.372228</td>\n",
       "    </tr>\n",
       "    <tr>\n",
       "      <th>LRF_2_2</th>\n",
       "      <td>0.845739</td>\n",
       "      <td>0.831918</td>\n",
       "      <td>0.826797</td>\n",
       "      <td>-0.615512</td>\n",
       "    </tr>\n",
       "    <tr>\n",
       "      <th>LRF_2_2_l2</th>\n",
       "      <td>0.447451</td>\n",
       "      <td>0.837718</td>\n",
       "      <td>0.815045</td>\n",
       "      <td>-2.706501</td>\n",
       "    </tr>\n",
       "    <tr>\n",
       "      <th>LRF_2_3</th>\n",
       "      <td>0.340658</td>\n",
       "      <td>0.842968</td>\n",
       "      <td>0.832223</td>\n",
       "      <td>-1.274580</td>\n",
       "    </tr>\n",
       "    <tr>\n",
       "      <th>...</th>\n",
       "      <td>...</td>\n",
       "      <td>...</td>\n",
       "      <td>...</td>\n",
       "      <td>...</td>\n",
       "    </tr>\n",
       "    <tr>\n",
       "      <th>LRF_100_7_l2</th>\n",
       "      <td>29.730645</td>\n",
       "      <td>0.880918</td>\n",
       "      <td>0.876254</td>\n",
       "      <td>-0.529385</td>\n",
       "    </tr>\n",
       "    <tr>\n",
       "      <th>LRF_100_10</th>\n",
       "      <td>25.462929</td>\n",
       "      <td>0.882427</td>\n",
       "      <td>0.877737</td>\n",
       "      <td>-0.531516</td>\n",
       "    </tr>\n",
       "    <tr>\n",
       "      <th>LRF_100_10_l2</th>\n",
       "      <td>29.163578</td>\n",
       "      <td>0.877122</td>\n",
       "      <td>0.871989</td>\n",
       "      <td>-0.585178</td>\n",
       "    </tr>\n",
       "    <tr>\n",
       "      <th>LRF_100_15</th>\n",
       "      <td>32.268150</td>\n",
       "      <td>0.881342</td>\n",
       "      <td>0.877502</td>\n",
       "      <td>-0.435714</td>\n",
       "    </tr>\n",
       "    <tr>\n",
       "      <th>LRF_100_15_l2</th>\n",
       "      <td>27.504267</td>\n",
       "      <td>0.881715</td>\n",
       "      <td>0.880212</td>\n",
       "      <td>-0.170458</td>\n",
       "    </tr>\n",
       "  </tbody>\n",
       "</table>\n",
       "<p>160 rows × 4 columns</p>\n",
       "</div>"
      ],
      "text/plain": [
       "                Run_Time  Train_AUC  Validation_AUC    delta%\n",
       "LRF_2_1         0.141620   0.808532        0.815945  0.916775\n",
       "LRF_2_1_l2      0.248335   0.852443        0.840746 -1.372228\n",
       "LRF_2_2         0.845739   0.831918        0.826797 -0.615512\n",
       "LRF_2_2_l2      0.447451   0.837718        0.815045 -2.706501\n",
       "LRF_2_3         0.340658   0.842968        0.832223 -1.274580\n",
       "...                  ...        ...             ...       ...\n",
       "LRF_100_7_l2   29.730645   0.880918        0.876254 -0.529385\n",
       "LRF_100_10     25.462929   0.882427        0.877737 -0.531516\n",
       "LRF_100_10_l2  29.163578   0.877122        0.871989 -0.585178\n",
       "LRF_100_15     32.268150   0.881342        0.877502 -0.435714\n",
       "LRF_100_15_l2  27.504267   0.881715        0.880212 -0.170458\n",
       "\n",
       "[160 rows x 4 columns]"
      ]
     },
     "execution_count": 20,
     "metadata": {},
     "output_type": "execute_result"
    }
   ],
   "source": [
    "metrics = classification(models_list, names_list, '../../../data/model_output/metrics/car_insurance/lrf.csv', X_train_scaled, y_train, X_validation_scaled, y_validation, metrics={})\n",
    "metrics"
   ]
  },
  {
   "cell_type": "code",
   "execution_count": 21,
   "id": "9b5c5a1c",
   "metadata": {},
   "outputs": [
    {
     "data": {
      "text/html": [
       "<div>\n",
       "<style scoped>\n",
       "    .dataframe tbody tr th:only-of-type {\n",
       "        vertical-align: middle;\n",
       "    }\n",
       "\n",
       "    .dataframe tbody tr th {\n",
       "        vertical-align: top;\n",
       "    }\n",
       "\n",
       "    .dataframe thead th {\n",
       "        text-align: right;\n",
       "    }\n",
       "</style>\n",
       "<table border=\"1\" class=\"dataframe\">\n",
       "  <thead>\n",
       "    <tr style=\"text-align: right;\">\n",
       "      <th></th>\n",
       "      <th>Run_Time</th>\n",
       "      <th>Train_AUC</th>\n",
       "      <th>Validation_AUC</th>\n",
       "      <th>delta%</th>\n",
       "    </tr>\n",
       "  </thead>\n",
       "  <tbody>\n",
       "    <tr>\n",
       "      <th>LRF_20_10_l2</th>\n",
       "      <td>6.295800</td>\n",
       "      <td>0.889585</td>\n",
       "      <td>0.887939</td>\n",
       "      <td>-0.185038</td>\n",
       "    </tr>\n",
       "    <tr>\n",
       "      <th>LRF_60_7</th>\n",
       "      <td>16.903778</td>\n",
       "      <td>0.887183</td>\n",
       "      <td>0.886565</td>\n",
       "      <td>-0.069705</td>\n",
       "    </tr>\n",
       "    <tr>\n",
       "      <th>LRF_60_10_l2</th>\n",
       "      <td>16.962084</td>\n",
       "      <td>0.889584</td>\n",
       "      <td>0.886319</td>\n",
       "      <td>-0.366962</td>\n",
       "    </tr>\n",
       "    <tr>\n",
       "      <th>LRF_40_2_l2</th>\n",
       "      <td>10.052341</td>\n",
       "      <td>0.887636</td>\n",
       "      <td>0.886044</td>\n",
       "      <td>-0.179347</td>\n",
       "    </tr>\n",
       "    <tr>\n",
       "      <th>LRF_40_15</th>\n",
       "      <td>11.151815</td>\n",
       "      <td>0.888797</td>\n",
       "      <td>0.885468</td>\n",
       "      <td>-0.374542</td>\n",
       "    </tr>\n",
       "    <tr>\n",
       "      <th>...</th>\n",
       "      <td>...</td>\n",
       "      <td>...</td>\n",
       "      <td>...</td>\n",
       "      <td>...</td>\n",
       "    </tr>\n",
       "    <tr>\n",
       "      <th>LRF_2_15</th>\n",
       "      <td>0.431627</td>\n",
       "      <td>0.827671</td>\n",
       "      <td>0.815375</td>\n",
       "      <td>-1.485685</td>\n",
       "    </tr>\n",
       "    <tr>\n",
       "      <th>LRF_2_2_l2</th>\n",
       "      <td>0.447451</td>\n",
       "      <td>0.837718</td>\n",
       "      <td>0.815045</td>\n",
       "      <td>-2.706501</td>\n",
       "    </tr>\n",
       "    <tr>\n",
       "      <th>LRF_2_3_l2</th>\n",
       "      <td>1.287235</td>\n",
       "      <td>0.812230</td>\n",
       "      <td>0.809873</td>\n",
       "      <td>-0.290137</td>\n",
       "    </tr>\n",
       "    <tr>\n",
       "      <th>LRF_2_4_l2</th>\n",
       "      <td>0.466720</td>\n",
       "      <td>0.823363</td>\n",
       "      <td>0.809834</td>\n",
       "      <td>-1.643211</td>\n",
       "    </tr>\n",
       "    <tr>\n",
       "      <th>LRF_2_10</th>\n",
       "      <td>0.129700</td>\n",
       "      <td>0.800668</td>\n",
       "      <td>0.807212</td>\n",
       "      <td>0.817345</td>\n",
       "    </tr>\n",
       "  </tbody>\n",
       "</table>\n",
       "<p>160 rows × 4 columns</p>\n",
       "</div>"
      ],
      "text/plain": [
       "               Run_Time  Train_AUC  Validation_AUC    delta%\n",
       "LRF_20_10_l2   6.295800   0.889585        0.887939 -0.185038\n",
       "LRF_60_7      16.903778   0.887183        0.886565 -0.069705\n",
       "LRF_60_10_l2  16.962084   0.889584        0.886319 -0.366962\n",
       "LRF_40_2_l2   10.052341   0.887636        0.886044 -0.179347\n",
       "LRF_40_15     11.151815   0.888797        0.885468 -0.374542\n",
       "...                 ...        ...             ...       ...\n",
       "LRF_2_15       0.431627   0.827671        0.815375 -1.485685\n",
       "LRF_2_2_l2     0.447451   0.837718        0.815045 -2.706501\n",
       "LRF_2_3_l2     1.287235   0.812230        0.809873 -0.290137\n",
       "LRF_2_4_l2     0.466720   0.823363        0.809834 -1.643211\n",
       "LRF_2_10       0.129700   0.800668        0.807212  0.817345\n",
       "\n",
       "[160 rows x 4 columns]"
      ]
     },
     "execution_count": 21,
     "metadata": {},
     "output_type": "execute_result"
    }
   ],
   "source": [
    "metrics.sort_values(by='Validation_AUC', ascending=False)"
   ]
  },
  {
   "cell_type": "markdown",
   "id": "03418f68",
   "metadata": {},
   "source": [
    "Let's retrain the best model: **LRF_20_10_l2**."
   ]
  },
  {
   "cell_type": "code",
   "execution_count": 22,
   "id": "d407d3ad",
   "metadata": {},
   "outputs": [],
   "source": [
    "test =  pd.read_parquet('../../../data/model_input/test_sets/car_insurance.parquet')"
   ]
  },
  {
   "cell_type": "code",
   "execution_count": 23,
   "id": "62920aa6",
   "metadata": {},
   "outputs": [],
   "source": [
    "y_test = test.OUTCOME\n",
    "X_test = test.drop(columns=['OUTCOME'])"
   ]
  },
  {
   "cell_type": "code",
   "execution_count": 24,
   "id": "f019e233",
   "metadata": {},
   "outputs": [],
   "source": [
    "retrain = pd.concat([train, validation])"
   ]
  },
  {
   "cell_type": "code",
   "execution_count": 25,
   "id": "fe74ad19",
   "metadata": {},
   "outputs": [],
   "source": [
    "y_retrain = retrain.OUTCOME\n",
    "X_retrain = retrain.drop(columns=['OUTCOME'])"
   ]
  },
  {
   "cell_type": "code",
   "execution_count": 26,
   "id": "dba74733",
   "metadata": {},
   "outputs": [],
   "source": [
    "scaler_retrain = StandardScaler().fit(X_retrain, y_retrain)"
   ]
  },
  {
   "cell_type": "code",
   "execution_count": 27,
   "id": "a38f61b7",
   "metadata": {},
   "outputs": [],
   "source": [
    "X_retrain_scaled = scaler_retrain.transform(X_retrain)\n",
    "X_test_scaled = scaler_retrain.transform(X_test)"
   ]
  },
  {
   "cell_type": "code",
   "execution_count": 28,
   "id": "841f81c7",
   "metadata": {},
   "outputs": [],
   "source": [
    "time1 = time.time()\n",
    "model = LinearRandomForestClassifier(n_features=X_retrain.shape[1], est=LinearTreeClassifier(base_estimator=LogisticRegression(), max_depth=10), n_est=20).fit(X_retrain_scaled, y_retrain)\n",
    "time2 = time.time() - time1"
   ]
  },
  {
   "cell_type": "code",
   "execution_count": 29,
   "id": "71418583",
   "metadata": {},
   "outputs": [
    {
     "name": "stdout",
     "output_type": "stream",
     "text": [
      "Test AUC: 0.8807\n"
     ]
    }
   ],
   "source": [
    "test_pred = model.predict_proba(X_test_scaled)[:, 1]\n",
    "auc = roc_auc_score(y_test, test_pred)\n",
    "print('Test AUC:', round(auc, 4))"
   ]
  },
  {
   "cell_type": "code",
   "execution_count": 30,
   "id": "8be12733",
   "metadata": {},
   "outputs": [],
   "source": [
    "train_pred = model.predict_proba(X_retrain_scaled)[:, 1]\n",
    "auc_train = roc_auc_score(y_retrain, train_pred)"
   ]
  },
  {
   "cell_type": "code",
   "execution_count": 31,
   "id": "f698f739",
   "metadata": {},
   "outputs": [],
   "source": [
    "with open('../../../data/model_output/metrics/car_insurance/final_metrics.txt', 'a') as f:\n",
    "     f.write(f'\\nLRF; {time2}; {auc_train}; {auc}')"
   ]
  },
  {
   "cell_type": "code",
   "execution_count": 32,
   "id": "8cfb8de0",
   "metadata": {},
   "outputs": [
    {
     "data": {
      "text/plain": [
       "['../../../data/model_output/models/car_insurance/best_lrf.joblib']"
      ]
     },
     "execution_count": 32,
     "metadata": {},
     "output_type": "execute_result"
    }
   ],
   "source": [
    "dump(model, '../../../data/model_output/models/car_insurance/best_lrf.joblib')"
   ]
  },
  {
   "cell_type": "code",
   "execution_count": null,
   "id": "cddde93a",
   "metadata": {},
   "outputs": [],
   "source": []
  }
 ],
 "metadata": {
  "kernelspec": {
   "display_name": "Python 3 (ipykernel)",
   "language": "python",
   "name": "python3"
  },
  "language_info": {
   "codemirror_mode": {
    "name": "ipython",
    "version": 3
   },
   "file_extension": ".py",
   "mimetype": "text/x-python",
   "name": "python",
   "nbconvert_exporter": "python",
   "pygments_lexer": "ipython3",
   "version": "3.9.7"
  }
 },
 "nbformat": 4,
 "nbformat_minor": 5
}
