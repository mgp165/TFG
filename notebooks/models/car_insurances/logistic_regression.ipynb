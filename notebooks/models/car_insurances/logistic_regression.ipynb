{
 "cells": [
  {
   "cell_type": "markdown",
   "id": "cd917f05",
   "metadata": {},
   "source": [
    "# Logistic Regression"
   ]
  },
  {
   "cell_type": "code",
   "execution_count": 1,
   "id": "a66e0f47",
   "metadata": {},
   "outputs": [],
   "source": [
    "from sklearn.linear_model import LogisticRegression\n",
    "import pandas as pd\n",
    "from joblib import dump"
   ]
  },
  {
   "cell_type": "code",
   "execution_count": 2,
   "id": "38085683",
   "metadata": {},
   "outputs": [],
   "source": [
    "import sys\n",
    "sys.path.append('F:\\\\Users\\\\Manuel García Plaza\\\\Desktop\\\\TFG\\\\')"
   ]
  },
  {
   "cell_type": "code",
   "execution_count": 3,
   "id": "22fca9c7",
   "metadata": {},
   "outputs": [],
   "source": [
    "from notebooks.utils.classification_metrics import classification"
   ]
  },
  {
   "cell_type": "markdown",
   "id": "b4ea6497",
   "metadata": {},
   "source": [
    "We are going to proceed as we did in the breast cancer notebook"
   ]
  },
  {
   "cell_type": "code",
   "execution_count": 4,
   "id": "f755ab83",
   "metadata": {},
   "outputs": [],
   "source": [
    "train =  pd.read_parquet('../../../data/model_input/train_sets/car_insurance.parquet')\n",
    "test =  pd.read_parquet('../../../data/model_input/validation_sets/car_insurance.parquet')"
   ]
  },
  {
   "cell_type": "code",
   "execution_count": 5,
   "id": "15e7656b",
   "metadata": {},
   "outputs": [],
   "source": [
    "y_train = train.OUTCOME\n",
    "X_train = train.drop(columns=['OUTCOME'])"
   ]
  },
  {
   "cell_type": "code",
   "execution_count": 6,
   "id": "cac8fc14",
   "metadata": {},
   "outputs": [],
   "source": [
    "y_test = test.OUTCOME\n",
    "X_test = test.drop(columns=['OUTCOME'])"
   ]
  },
  {
   "cell_type": "code",
   "execution_count": 30,
   "id": "1a1aac37",
   "metadata": {},
   "outputs": [],
   "source": [
    "lr = LogisticRegression(penalty=None, max_iter=10000)\n",
    "lr_l2 = LogisticRegression(max_iter=10000)\n",
    "lr_l1 = LogisticRegression(penalty='l1', solver='liblinear')\n",
    "lr_en1 = LogisticRegression(penalty='elasticnet', solver='saga',l1_ratio=0.25, max_iter=10000)\n",
    "lr_en2 = LogisticRegression(penalty='elasticnet', solver='saga',l1_ratio=0.5, max_iter=10000)\n",
    "lr_en3 = LogisticRegression(penalty='elasticnet', solver='saga',l1_ratio=0.75, max_iter=10000)"
   ]
  },
  {
   "cell_type": "code",
   "execution_count": 31,
   "id": "e20efcad",
   "metadata": {},
   "outputs": [],
   "source": [
    "models_list = [lr, lr_l2, lr_l1, lr_en1, lr_en2 , lr_en3]\n",
    "names_list = ['LR', 'LR_l2', 'LR_l1', 'LR_en_0.25', 'LR_en_0.5', 'LR_en_0.75']"
   ]
  },
  {
   "cell_type": "code",
   "execution_count": 32,
   "id": "5455ae93",
   "metadata": {},
   "outputs": [
    {
     "data": {
      "text/html": [
       "<div>\n",
       "<style scoped>\n",
       "    .dataframe tbody tr th:only-of-type {\n",
       "        vertical-align: middle;\n",
       "    }\n",
       "\n",
       "    .dataframe tbody tr th {\n",
       "        vertical-align: top;\n",
       "    }\n",
       "\n",
       "    .dataframe thead th {\n",
       "        text-align: right;\n",
       "    }\n",
       "</style>\n",
       "<table border=\"1\" class=\"dataframe\">\n",
       "  <thead>\n",
       "    <tr style=\"text-align: right;\">\n",
       "      <th></th>\n",
       "      <th>Run_Time</th>\n",
       "      <th>Train_AUC</th>\n",
       "      <th>Test_AUC</th>\n",
       "      <th>delta%</th>\n",
       "    </tr>\n",
       "  </thead>\n",
       "  <tbody>\n",
       "    <tr>\n",
       "      <th>LR</th>\n",
       "      <td>3.997383</td>\n",
       "      <td>0.905278</td>\n",
       "      <td>0.901046</td>\n",
       "      <td>-0.467504</td>\n",
       "    </tr>\n",
       "    <tr>\n",
       "      <th>LR_l2</th>\n",
       "      <td>3.084335</td>\n",
       "      <td>0.905192</td>\n",
       "      <td>0.900837</td>\n",
       "      <td>-0.481100</td>\n",
       "    </tr>\n",
       "    <tr>\n",
       "      <th>LR_l1</th>\n",
       "      <td>0.149407</td>\n",
       "      <td>0.905209</td>\n",
       "      <td>0.900868</td>\n",
       "      <td>-0.479591</td>\n",
       "    </tr>\n",
       "    <tr>\n",
       "      <th>LR_en_0.25</th>\n",
       "      <td>55.381611</td>\n",
       "      <td>0.446150</td>\n",
       "      <td>0.448562</td>\n",
       "      <td>0.540668</td>\n",
       "    </tr>\n",
       "    <tr>\n",
       "      <th>LR_en_0.5</th>\n",
       "      <td>53.524428</td>\n",
       "      <td>0.446144</td>\n",
       "      <td>0.448556</td>\n",
       "      <td>0.540554</td>\n",
       "    </tr>\n",
       "    <tr>\n",
       "      <th>LR_en_0.75</th>\n",
       "      <td>60.829567</td>\n",
       "      <td>0.446137</td>\n",
       "      <td>0.448550</td>\n",
       "      <td>0.540740</td>\n",
       "    </tr>\n",
       "  </tbody>\n",
       "</table>\n",
       "</div>"
      ],
      "text/plain": [
       "             Run_Time  Train_AUC  Test_AUC    delta%\n",
       "LR           3.997383   0.905278  0.901046 -0.467504\n",
       "LR_l2        3.084335   0.905192  0.900837 -0.481100\n",
       "LR_l1        0.149407   0.905209  0.900868 -0.479591\n",
       "LR_en_0.25  55.381611   0.446150  0.448562  0.540668\n",
       "LR_en_0.5   53.524428   0.446144  0.448556  0.540554\n",
       "LR_en_0.75  60.829567   0.446137  0.448550  0.540740"
      ]
     },
     "execution_count": 32,
     "metadata": {},
     "output_type": "execute_result"
    }
   ],
   "source": [
    "metrics = classification(models_list, names_list, '../../../data/metrics/car_insurance/logistic_regression.parquet', X_train, y_train, X_test, y_test)\n",
    "metrics"
   ]
  },
  {
   "cell_type": "markdown",
   "id": "4e8dd6cc",
   "metadata": {},
   "source": [
    "We got terrible results in the ElasticNet models, first of all in the time of computing, probably due to that every column is not scaled (as specified in the documentation https://scikit-learn.org/stable/modules/generated/sklearn.linear_model.LogisticRegression.html) and that affects the solver, but we are not scaling data yet. In fact, the rest of the models are not bad at all. We are going to choose as the best model is the basic one: **LR**."
   ]
  },
  {
   "cell_type": "code",
   "execution_count": 33,
   "id": "fd192cf5",
   "metadata": {},
   "outputs": [
    {
     "data": {
      "text/plain": [
       "['logistic_regression_best.joblib']"
      ]
     },
     "execution_count": 33,
     "metadata": {},
     "output_type": "execute_result"
    }
   ],
   "source": [
    "dump(lr, 'logistic_regression_best.joblib')"
   ]
  }
 ],
 "metadata": {
  "kernelspec": {
   "display_name": "Python 3 (ipykernel)",
   "language": "python",
   "name": "python3"
  },
  "language_info": {
   "codemirror_mode": {
    "name": "ipython",
    "version": 3
   },
   "file_extension": ".py",
   "mimetype": "text/x-python",
   "name": "python",
   "nbconvert_exporter": "python",
   "pygments_lexer": "ipython3",
   "version": "3.9.7"
  }
 },
 "nbformat": 4,
 "nbformat_minor": 5
}
