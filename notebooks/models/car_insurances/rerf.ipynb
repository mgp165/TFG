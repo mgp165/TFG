{
 "cells": [
  {
   "cell_type": "markdown",
   "id": "5ad7a4f4",
   "metadata": {},
   "source": [
    "# RERF"
   ]
  },
  {
   "cell_type": "code",
   "execution_count": 1,
   "id": "44a748aa",
   "metadata": {},
   "outputs": [],
   "source": [
    "import matplotlib.pyplot as plt\n",
    "import pandas as pd\n",
    "from sklearn.linear_model import LogisticRegression\n",
    "from sklearn.ensemble import RandomForestRegressor\n",
    "from sklearn.metrics import roc_auc_score\n",
    "from sklearn.preprocessing import StandardScaler\n",
    "from joblib import dump\n",
    "import numpy as np\n",
    "import time"
   ]
  },
  {
   "cell_type": "code",
   "execution_count": 2,
   "id": "3242b3da",
   "metadata": {},
   "outputs": [],
   "source": [
    "train =  pd.read_parquet('../../../data/model_input/train_sets/car_insurance.parquet')\n",
    "validation =  pd.read_parquet('../../../data/model_input/validation_sets/car_insurance.parquet')"
   ]
  },
  {
   "cell_type": "code",
   "execution_count": 3,
   "id": "50d4a4c5",
   "metadata": {},
   "outputs": [],
   "source": [
    "y_train = train.OUTCOME\n",
    "X_train = train.drop(columns=['OUTCOME'])"
   ]
  },
  {
   "cell_type": "code",
   "execution_count": 4,
   "id": "d6e88ff1",
   "metadata": {},
   "outputs": [],
   "source": [
    "y_validation = validation.OUTCOME\n",
    "X_validation = validation.drop(columns=['OUTCOME'])"
   ]
  },
  {
   "cell_type": "code",
   "execution_count": 5,
   "id": "8490c906",
   "metadata": {},
   "outputs": [],
   "source": [
    "scaler = StandardScaler().fit(X_train)"
   ]
  },
  {
   "cell_type": "code",
   "execution_count": 6,
   "id": "80beff76",
   "metadata": {},
   "outputs": [],
   "source": [
    "X_train_scaled = scaler.transform(X_train)\n",
    "X_validation_scaled = scaler.transform(X_validation)"
   ]
  },
  {
   "cell_type": "code",
   "execution_count": 13,
   "id": "a0f7e05d",
   "metadata": {},
   "outputs": [],
   "source": [
    "max_depth = [1, 2, 3, 4, 5, 7, 10, 15, 20]\n",
    "n_est = [i for i in range(5, 40, 5)]\n",
    "lr = [LogisticRegression(penalty=None), LogisticRegression(), LogisticRegression(penalty='l1', solver='liblinear'),\n",
    "     LogisticRegression(penalty='elasticnet', solver='saga', l1_ratio=0.25),\n",
    "     LogisticRegression(penalty='elasticnet', solver='saga', l1_ratio=0.5),\n",
    "     LogisticRegression(penalty='elasticnet', solver='saga', l1_ratio=0.75)]"
   ]
  },
  {
   "cell_type": "code",
   "execution_count": 14,
   "id": "bef84f8a",
   "metadata": {},
   "outputs": [],
   "source": [
    "names_list = []\n",
    "\n",
    "for n in n_est:\n",
    "    for depth in max_depth:\n",
    "        for est in lr:\n",
    "            if est.penalty == None:\n",
    "                name = f'RERF_{depth}_{n}'\n",
    "            elif est.penalty == 'elasticnet':\n",
    "                name = f'RERF_{depth}_{n}_en_{est.l1_ratio}'\n",
    "            else:\n",
    "                name = f'RERF_{depth}_{n}_{est.penalty}'\n",
    "            \n",
    "            names_list.append(name)"
   ]
  },
  {
   "cell_type": "code",
   "execution_count": 15,
   "id": "8fde1909",
   "metadata": {},
   "outputs": [],
   "source": [
    "metrics = {}"
   ]
  },
  {
   "cell_type": "code",
   "execution_count": 16,
   "id": "fe4cbcb8",
   "metadata": {},
   "outputs": [],
   "source": [
    "it = 0\n",
    "\n",
    "for n in n_est:\n",
    "    for i in max_depth:\n",
    "        for reg in lr:\n",
    "            name = names_list[it]\n",
    "            start_time = time.time()\n",
    "            \n",
    "            reg.fit(X_train_scaled, y_train)\n",
    "            reg_pred_train = reg.predict_proba(X_train_scaled)[:, 1]\n",
    "            reg_pred_val = reg.predict_proba(X_validation_scaled)[:, 1]\n",
    "            res_train = y_train - reg_pred_train\n",
    "            res_valid = y_validation - reg_pred_val\n",
    "            \n",
    "            rf = RandomForestRegressor(n_estimators=n, max_depth=i)\n",
    "            rf.fit(X_train_scaled, res_train)\n",
    "            rf_pred_train = rf.predict(X_train_scaled)\n",
    "            rf_pred_val = rf.predict(X_validation_scaled)\n",
    "            \n",
    "            train_pred = reg_pred_train + rf_pred_train\n",
    "            val_pred = reg_pred_val + rf_pred_val\n",
    "\n",
    "            metrics[name] = {\n",
    "                'Train_AUC': roc_auc_score(y_train, train_pred),\n",
    "                'Validation_AUC': roc_auc_score(y_validation, val_pred),\n",
    "                'Run_Time': time.time() - start_time\n",
    "            }\n",
    "            \n",
    "            it += 1"
   ]
  },
  {
   "cell_type": "code",
   "execution_count": 17,
   "id": "d8e85a01",
   "metadata": {},
   "outputs": [],
   "source": [
    "metrics = pd.DataFrame.from_dict(metrics, orient='index',columns=['Run_Time', 'Train_AUC', 'Validation_AUC'])\n",
    "metrics['delta%'] = 100*(metrics.Validation_AUC - metrics.Train_AUC) / metrics.Train_AUC"
   ]
  },
  {
   "cell_type": "code",
   "execution_count": 18,
   "id": "a77ac974",
   "metadata": {},
   "outputs": [
    {
     "data": {
      "text/html": [
       "<div>\n",
       "<style scoped>\n",
       "    .dataframe tbody tr th:only-of-type {\n",
       "        vertical-align: middle;\n",
       "    }\n",
       "\n",
       "    .dataframe tbody tr th {\n",
       "        vertical-align: top;\n",
       "    }\n",
       "\n",
       "    .dataframe thead th {\n",
       "        text-align: right;\n",
       "    }\n",
       "</style>\n",
       "<table border=\"1\" class=\"dataframe\">\n",
       "  <thead>\n",
       "    <tr style=\"text-align: right;\">\n",
       "      <th></th>\n",
       "      <th>Run_Time</th>\n",
       "      <th>Train_AUC</th>\n",
       "      <th>Validation_AUC</th>\n",
       "      <th>delta%</th>\n",
       "    </tr>\n",
       "  </thead>\n",
       "  <tbody>\n",
       "    <tr>\n",
       "      <th>RERF_1_5</th>\n",
       "      <td>0.069807</td>\n",
       "      <td>0.910654</td>\n",
       "      <td>0.907896</td>\n",
       "      <td>-0.302792</td>\n",
       "    </tr>\n",
       "    <tr>\n",
       "      <th>RERF_1_5_l2</th>\n",
       "      <td>0.047872</td>\n",
       "      <td>0.910546</td>\n",
       "      <td>0.907766</td>\n",
       "      <td>-0.305381</td>\n",
       "    </tr>\n",
       "    <tr>\n",
       "      <th>RERF_1_5_l1</th>\n",
       "      <td>0.194480</td>\n",
       "      <td>0.910659</td>\n",
       "      <td>0.907851</td>\n",
       "      <td>-0.308307</td>\n",
       "    </tr>\n",
       "    <tr>\n",
       "      <th>RERF_1_5_en_0.25</th>\n",
       "      <td>0.577984</td>\n",
       "      <td>0.910672</td>\n",
       "      <td>0.907898</td>\n",
       "      <td>-0.304580</td>\n",
       "    </tr>\n",
       "    <tr>\n",
       "      <th>RERF_1_5_en_0.5</th>\n",
       "      <td>0.206449</td>\n",
       "      <td>0.910547</td>\n",
       "      <td>0.907761</td>\n",
       "      <td>-0.305923</td>\n",
       "    </tr>\n",
       "    <tr>\n",
       "      <th>...</th>\n",
       "      <td>...</td>\n",
       "      <td>...</td>\n",
       "      <td>...</td>\n",
       "      <td>...</td>\n",
       "    </tr>\n",
       "    <tr>\n",
       "      <th>RERF_20_35_l2</th>\n",
       "      <td>1.650471</td>\n",
       "      <td>0.999786</td>\n",
       "      <td>0.911963</td>\n",
       "      <td>-8.784190</td>\n",
       "    </tr>\n",
       "    <tr>\n",
       "      <th>RERF_20_35_l1</th>\n",
       "      <td>1.859064</td>\n",
       "      <td>0.999749</td>\n",
       "      <td>0.910411</td>\n",
       "      <td>-8.936086</td>\n",
       "    </tr>\n",
       "    <tr>\n",
       "      <th>RERF_20_35_en_0.25</th>\n",
       "      <td>2.016250</td>\n",
       "      <td>0.999679</td>\n",
       "      <td>0.915029</td>\n",
       "      <td>-8.467761</td>\n",
       "    </tr>\n",
       "    <tr>\n",
       "      <th>RERF_20_35_en_0.5</th>\n",
       "      <td>1.799567</td>\n",
       "      <td>0.999541</td>\n",
       "      <td>0.914685</td>\n",
       "      <td>-8.489464</td>\n",
       "    </tr>\n",
       "    <tr>\n",
       "      <th>RERF_20_35_en_0.75</th>\n",
       "      <td>1.769124</td>\n",
       "      <td>0.999585</td>\n",
       "      <td>0.907714</td>\n",
       "      <td>-9.190913</td>\n",
       "    </tr>\n",
       "  </tbody>\n",
       "</table>\n",
       "<p>378 rows × 4 columns</p>\n",
       "</div>"
      ],
      "text/plain": [
       "                    Run_Time  Train_AUC  Validation_AUC    delta%\n",
       "RERF_1_5            0.069807   0.910654        0.907896 -0.302792\n",
       "RERF_1_5_l2         0.047872   0.910546        0.907766 -0.305381\n",
       "RERF_1_5_l1         0.194480   0.910659        0.907851 -0.308307\n",
       "RERF_1_5_en_0.25    0.577984   0.910672        0.907898 -0.304580\n",
       "RERF_1_5_en_0.5     0.206449   0.910547        0.907761 -0.305923\n",
       "...                      ...        ...             ...       ...\n",
       "RERF_20_35_l2       1.650471   0.999786        0.911963 -8.784190\n",
       "RERF_20_35_l1       1.859064   0.999749        0.910411 -8.936086\n",
       "RERF_20_35_en_0.25  2.016250   0.999679        0.915029 -8.467761\n",
       "RERF_20_35_en_0.5   1.799567   0.999541        0.914685 -8.489464\n",
       "RERF_20_35_en_0.75  1.769124   0.999585        0.907714 -9.190913\n",
       "\n",
       "[378 rows x 4 columns]"
      ]
     },
     "execution_count": 18,
     "metadata": {},
     "output_type": "execute_result"
    }
   ],
   "source": [
    "metrics"
   ]
  },
  {
   "cell_type": "code",
   "execution_count": 19,
   "id": "d3141338",
   "metadata": {},
   "outputs": [
    {
     "data": {
      "text/html": [
       "<div>\n",
       "<style scoped>\n",
       "    .dataframe tbody tr th:only-of-type {\n",
       "        vertical-align: middle;\n",
       "    }\n",
       "\n",
       "    .dataframe tbody tr th {\n",
       "        vertical-align: top;\n",
       "    }\n",
       "\n",
       "    .dataframe thead th {\n",
       "        text-align: right;\n",
       "    }\n",
       "</style>\n",
       "<table border=\"1\" class=\"dataframe\">\n",
       "  <thead>\n",
       "    <tr style=\"text-align: right;\">\n",
       "      <th></th>\n",
       "      <th>Run_Time</th>\n",
       "      <th>Train_AUC</th>\n",
       "      <th>Validation_AUC</th>\n",
       "      <th>delta%</th>\n",
       "    </tr>\n",
       "  </thead>\n",
       "  <tbody>\n",
       "    <tr>\n",
       "      <th>RERF_7_20_l2</th>\n",
       "      <td>0.336101</td>\n",
       "      <td>0.937293</td>\n",
       "      <td>0.922312</td>\n",
       "      <td>-1.598279</td>\n",
       "    </tr>\n",
       "    <tr>\n",
       "      <th>RERF_7_20</th>\n",
       "      <td>0.335037</td>\n",
       "      <td>0.936160</td>\n",
       "      <td>0.921875</td>\n",
       "      <td>-1.525923</td>\n",
       "    </tr>\n",
       "    <tr>\n",
       "      <th>RERF_7_30_en_0.75</th>\n",
       "      <td>0.646069</td>\n",
       "      <td>0.936975</td>\n",
       "      <td>0.921693</td>\n",
       "      <td>-1.630968</td>\n",
       "    </tr>\n",
       "    <tr>\n",
       "      <th>RERF_4_10_l1</th>\n",
       "      <td>0.253018</td>\n",
       "      <td>0.926377</td>\n",
       "      <td>0.921603</td>\n",
       "      <td>-0.515354</td>\n",
       "    </tr>\n",
       "    <tr>\n",
       "      <th>RERF_5_25_en_0.25</th>\n",
       "      <td>0.650511</td>\n",
       "      <td>0.928317</td>\n",
       "      <td>0.921544</td>\n",
       "      <td>-0.729594</td>\n",
       "    </tr>\n",
       "    <tr>\n",
       "      <th>...</th>\n",
       "      <td>...</td>\n",
       "      <td>...</td>\n",
       "      <td>...</td>\n",
       "      <td>...</td>\n",
       "    </tr>\n",
       "    <tr>\n",
       "      <th>RERF_20_10</th>\n",
       "      <td>0.583439</td>\n",
       "      <td>0.998234</td>\n",
       "      <td>0.891336</td>\n",
       "      <td>-10.708726</td>\n",
       "    </tr>\n",
       "    <tr>\n",
       "      <th>RERF_20_5</th>\n",
       "      <td>0.252704</td>\n",
       "      <td>0.993853</td>\n",
       "      <td>0.890067</td>\n",
       "      <td>-10.442746</td>\n",
       "    </tr>\n",
       "    <tr>\n",
       "      <th>RERF_20_5_en_0.25</th>\n",
       "      <td>0.672400</td>\n",
       "      <td>0.994094</td>\n",
       "      <td>0.888987</td>\n",
       "      <td>-10.573197</td>\n",
       "    </tr>\n",
       "    <tr>\n",
       "      <th>RERF_20_5_l1</th>\n",
       "      <td>0.514060</td>\n",
       "      <td>0.993840</td>\n",
       "      <td>0.884514</td>\n",
       "      <td>-11.000361</td>\n",
       "    </tr>\n",
       "    <tr>\n",
       "      <th>RERF_20_5_en_0.5</th>\n",
       "      <td>0.508638</td>\n",
       "      <td>0.994247</td>\n",
       "      <td>0.882549</td>\n",
       "      <td>-11.234461</td>\n",
       "    </tr>\n",
       "  </tbody>\n",
       "</table>\n",
       "<p>378 rows × 4 columns</p>\n",
       "</div>"
      ],
      "text/plain": [
       "                   Run_Time  Train_AUC  Validation_AUC     delta%\n",
       "RERF_7_20_l2       0.336101   0.937293        0.922312  -1.598279\n",
       "RERF_7_20          0.335037   0.936160        0.921875  -1.525923\n",
       "RERF_7_30_en_0.75  0.646069   0.936975        0.921693  -1.630968\n",
       "RERF_4_10_l1       0.253018   0.926377        0.921603  -0.515354\n",
       "RERF_5_25_en_0.25  0.650511   0.928317        0.921544  -0.729594\n",
       "...                     ...        ...             ...        ...\n",
       "RERF_20_10         0.583439   0.998234        0.891336 -10.708726\n",
       "RERF_20_5          0.252704   0.993853        0.890067 -10.442746\n",
       "RERF_20_5_en_0.25  0.672400   0.994094        0.888987 -10.573197\n",
       "RERF_20_5_l1       0.514060   0.993840        0.884514 -11.000361\n",
       "RERF_20_5_en_0.5   0.508638   0.994247        0.882549 -11.234461\n",
       "\n",
       "[378 rows x 4 columns]"
      ]
     },
     "execution_count": 19,
     "metadata": {},
     "output_type": "execute_result"
    }
   ],
   "source": [
    "metrics.sort_values(by='Validation_AUC', ascending=False)"
   ]
  },
  {
   "cell_type": "markdown",
   "id": "88d5d70b",
   "metadata": {},
   "source": [
    "Let's choose **RERF_7_20_l2**"
   ]
  },
  {
   "cell_type": "code",
   "execution_count": 30,
   "id": "bbe10c1f",
   "metadata": {},
   "outputs": [],
   "source": [
    "metrics.to_csv('../../../data/model_output/metrics/car_insurance/rerf.csv')"
   ]
  },
  {
   "cell_type": "code",
   "execution_count": 6,
   "id": "4abf9fcf",
   "metadata": {},
   "outputs": [],
   "source": [
    "test = pd.read_parquet('../../../data/model_input/test_sets/car_insurance.parquet')"
   ]
  },
  {
   "cell_type": "code",
   "execution_count": 7,
   "id": "c596e4fd",
   "metadata": {},
   "outputs": [],
   "source": [
    "y_test = test.OUTCOME\n",
    "X_test = test.drop(columns=['OUTCOME'])"
   ]
  },
  {
   "cell_type": "code",
   "execution_count": 8,
   "id": "7c2c7f76",
   "metadata": {},
   "outputs": [],
   "source": [
    "retrain = pd.concat([train, validation])"
   ]
  },
  {
   "cell_type": "code",
   "execution_count": 9,
   "id": "0599e9ce",
   "metadata": {},
   "outputs": [],
   "source": [
    "y_retrain = retrain.OUTCOME\n",
    "X_retrain = retrain.drop(columns=['OUTCOME'])"
   ]
  },
  {
   "cell_type": "code",
   "execution_count": 10,
   "id": "a486ba72",
   "metadata": {},
   "outputs": [],
   "source": [
    "scaler_retrain = StandardScaler().fit(X_retrain)"
   ]
  },
  {
   "cell_type": "code",
   "execution_count": 11,
   "id": "a1434c73",
   "metadata": {},
   "outputs": [],
   "source": [
    "X_retrain_scaled = scaler_retrain.transform(X_retrain)\n",
    "X_test_scaled = scaler_retrain.transform(X_test)"
   ]
  },
  {
   "cell_type": "code",
   "execution_count": 26,
   "id": "681e5135",
   "metadata": {},
   "outputs": [],
   "source": [
    "# cell for the final best model\n",
    "\n",
    "lr = LogisticRegression().fit(X_retrain_scaled, y_retrain)\n",
    "reg_pred_retrain = lr.predict_proba(X_retrain_scaled)[:, 1]\n",
    "res_retrain = y_retrain - reg_pred_retrain\n",
    "            \n",
    "rf = RandomForestRegressor(n_estimators=20, max_depth=7).fit(X_retrain_scaled, res_retrain)\n",
    "\n",
    "reg_pred_test = lr.predict_proba(X_test_scaled)[:, 1]\n",
    "res_test = y_test - reg_pred_test\n",
    "rf_pred_test = rf.predict(X_test_scaled)\n",
    "            \n",
    "test_pred = reg_pred_test + rf_pred_test"
   ]
  },
  {
   "cell_type": "code",
   "execution_count": 27,
   "id": "a25a35f0",
   "metadata": {},
   "outputs": [
    {
     "name": "stdout",
     "output_type": "stream",
     "text": [
      "Test AUC: 0.9269\n"
     ]
    }
   ],
   "source": [
    "auc = roc_auc_score(y_test, test_pred)\n",
    "print('Test AUC:', round(auc, 4))"
   ]
  },
  {
   "cell_type": "code",
   "execution_count": 28,
   "id": "6a6d4dc3",
   "metadata": {},
   "outputs": [
    {
     "data": {
      "text/plain": [
       "['best_rerf_rf.joblib']"
      ]
     },
     "execution_count": 28,
     "metadata": {},
     "output_type": "execute_result"
    }
   ],
   "source": [
    "dump(lr, '../../../data/model_output/models/car_insurance/best_rerf_lr.joblib')\n",
    "dump(rf, '../../../data/model_output/models/car_insurance/best_rerf_rf.joblib')"
   ]
  },
  {
   "cell_type": "code",
   "execution_count": 29,
   "id": "f883dc58",
   "metadata": {},
   "outputs": [],
   "source": [
    "with open('../../../data/model_output/metrics/car_insurance/final_AUC.txt', 'a') as f:\n",
    "    f.write('\\nRERF, '+ str(auc))"
   ]
  },
  {
   "cell_type": "code",
   "execution_count": 12,
   "id": "3da63030",
   "metadata": {},
   "outputs": [],
   "source": [
    "from joblib import load\n",
    "load_mod1 = load('../../../data/model_output/models/car_insurance/best_rerf_lr.joblib')\n",
    "load_mod2 = load('../../../data/model_output/models/car_insurance/best_rerf_rf.joblib')"
   ]
  },
  {
   "cell_type": "code",
   "execution_count": 13,
   "id": "70c4c749",
   "metadata": {},
   "outputs": [],
   "source": [
    "train_pred = load_mod1.predict_proba(X_retrain_scaled)[:, 1] + load_mod2.predict(X_retrain_scaled)\n",
    "auc_train = roc_auc_score(y_retrain, train_pred)\n",
    "\n",
    "test_pred = load_mod1.predict_proba(X_test_scaled)[:, 1] + load_mod2.predict(X_test_scaled)\n",
    "auc_test = roc_auc_score(y_test, test_pred)"
   ]
  },
  {
   "cell_type": "code",
   "execution_count": 14,
   "id": "f43b78cc",
   "metadata": {},
   "outputs": [],
   "source": [
    "import time \n",
    "time1 = time.time()\n",
    "lr = LogisticRegression().fit(X_retrain_scaled, y_retrain)\n",
    "reg_pred_retrain = lr.predict_proba(X_retrain_scaled)[:, 1]\n",
    "res_retrain = y_retrain - reg_pred_retrain\n",
    "rf = RandomForestRegressor(n_estimators=20, max_depth=7).fit(X_retrain_scaled, res_retrain)\n",
    "time2 = time.time() - time1 "
   ]
  },
  {
   "cell_type": "code",
   "execution_count": 15,
   "id": "6637df08",
   "metadata": {},
   "outputs": [],
   "source": [
    "with open('../../../data/model_output/metrics/car_insurance/final_metrics.txt', 'a') as f:\n",
    "     f.write(f'\\nRERF; {time2}; {auc_train}; {auc_test}')"
   ]
  },
  {
   "cell_type": "code",
   "execution_count": null,
   "id": "ba2f2416",
   "metadata": {},
   "outputs": [],
   "source": []
  }
 ],
 "metadata": {
  "kernelspec": {
   "display_name": "Python 3 (ipykernel)",
   "language": "python",
   "name": "python3"
  },
  "language_info": {
   "codemirror_mode": {
    "name": "ipython",
    "version": 3
   },
   "file_extension": ".py",
   "mimetype": "text/x-python",
   "name": "python",
   "nbconvert_exporter": "python",
   "pygments_lexer": "ipython3",
   "version": "3.9.7"
  }
 },
 "nbformat": 4,
 "nbformat_minor": 5
}
