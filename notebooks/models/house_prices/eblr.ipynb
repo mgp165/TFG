{
 "cells": [
  {
   "cell_type": "markdown",
   "id": "7f6f57c8",
   "metadata": {},
   "source": [
    "# EBLR"
   ]
  },
  {
   "cell_type": "code",
   "execution_count": 1,
   "id": "91c911a1",
   "metadata": {},
   "outputs": [],
   "source": [
    "from lineartree import LinearBoostRegressor\n",
    "from sklearn.linear_model import LinearRegression, Ridge, Lasso, ElasticNet\n",
    "import pandas as pd\n",
    "from joblib import dump\n",
    "from sklearn.metrics import root_mean_squared_error\n",
    "from sklearn.preprocessing import StandardScaler\n",
    "import numpy as np\n",
    "import matplotlib.pyplot as plt\n",
    "from sklearn.tree import plot_tree"
   ]
  },
  {
   "cell_type": "code",
   "execution_count": 2,
   "id": "aa679a5e",
   "metadata": {},
   "outputs": [],
   "source": [
    "import sys\n",
    "sys.path.append('F:\\\\Users\\\\Manuel García Plaza\\\\Desktop\\\\TFG\\\\')"
   ]
  },
  {
   "cell_type": "code",
   "execution_count": 3,
   "id": "127c98ca",
   "metadata": {},
   "outputs": [],
   "source": [
    "from notebooks.utils.regression_metrics import regression"
   ]
  },
  {
   "cell_type": "code",
   "execution_count": 4,
   "id": "d10fd2cd",
   "metadata": {},
   "outputs": [],
   "source": [
    "train =  pd.read_parquet('../../../data/model_input/train_sets/house_prices.parquet')\n",
    "validation =  pd.read_parquet('../../../data/model_input/validation_sets/house_prices.parquet')"
   ]
  },
  {
   "cell_type": "code",
   "execution_count": 5,
   "id": "cf730a7b",
   "metadata": {},
   "outputs": [],
   "source": [
    "y_train = train.SalePrice\n",
    "X_train = train.drop(columns=['SalePrice'])"
   ]
  },
  {
   "cell_type": "code",
   "execution_count": 6,
   "id": "dd4e408d",
   "metadata": {},
   "outputs": [],
   "source": [
    "y_validation = validation.SalePrice\n",
    "X_validation = validation.drop(columns=['SalePrice'])"
   ]
  },
  {
   "cell_type": "code",
   "execution_count": 7,
   "id": "5f4cdca1",
   "metadata": {},
   "outputs": [],
   "source": [
    "scaler = StandardScaler().fit(X_train)"
   ]
  },
  {
   "cell_type": "code",
   "execution_count": 8,
   "id": "55626958",
   "metadata": {},
   "outputs": [],
   "source": [
    "X_train_scaled = scaler.transform(X_train)\n",
    "X_validation_scaled = scaler.transform(X_validation)"
   ]
  },
  {
   "cell_type": "code",
   "execution_count": 9,
   "id": "ba79c6ca",
   "metadata": {},
   "outputs": [],
   "source": [
    "y_train_scaled = y_train/1000\n",
    "y_validation_scaled = y_validation/1000"
   ]
  },
  {
   "cell_type": "code",
   "execution_count": 10,
   "id": "7c645558",
   "metadata": {},
   "outputs": [],
   "source": [
    "max_depth = [1, 2, 3]\n",
    "n_est = [3, 5, 7, 9, 11, 13, 15]\n",
    "base_est =  [LinearRegression(), Ridge(), Lasso(), ElasticNet(l1_ratio=0.25), ElasticNet(l1_ratio=0.5), ElasticNet(l1_ratio=0.75)]\n",
    "loss = ['linear', 'square']"
   ]
  },
  {
   "cell_type": "code",
   "execution_count": 11,
   "id": "7af1a150",
   "metadata": {},
   "outputs": [],
   "source": [
    "models_list = []\n",
    "for n in n_est:\n",
    "    for i in max_depth:\n",
    "        for est in base_est:\n",
    "            for l in loss:\n",
    "                models_list.append(LinearBoostRegressor(base_estimator=est, n_estimators=n, max_depth=i, loss=l))"
   ]
  },
  {
   "cell_type": "code",
   "execution_count": 12,
   "id": "2fe68dde",
   "metadata": {},
   "outputs": [],
   "source": [
    "names_list = []\n",
    "for n in n_est:\n",
    "    for depth in max_depth:\n",
    "        for est in base_est:\n",
    "            for l in loss:\n",
    "                if isinstance(est, LinearRegression):\n",
    "                    name = f'EBLR_{depth}_{n}_{l}'\n",
    "                elif isinstance(est, Ridge):\n",
    "                    name = f'EBLR_{depth}_{n}_{l}_l2'\n",
    "                elif isinstance(est, Lasso):\n",
    "                    name = f'EBLR_{depth}_{n}_{l}_l1'\n",
    "                elif isinstance(est, ElasticNet):\n",
    "                    name = f'EBLR_{depth}_{n}_{l}_en_{est.l1_ratio}'\n",
    "                else:\n",
    "                    raise ValueError('Unknown base estimator type')\n",
    "\n",
    "                names_list.append(name)"
   ]
  },
  {
   "cell_type": "code",
   "execution_count": 13,
   "id": "46712008",
   "metadata": {},
   "outputs": [
    {
     "data": {
      "text/html": [
       "<div>\n",
       "<style scoped>\n",
       "    .dataframe tbody tr th:only-of-type {\n",
       "        vertical-align: middle;\n",
       "    }\n",
       "\n",
       "    .dataframe tbody tr th {\n",
       "        vertical-align: top;\n",
       "    }\n",
       "\n",
       "    .dataframe thead th {\n",
       "        text-align: right;\n",
       "    }\n",
       "</style>\n",
       "<table border=\"1\" class=\"dataframe\">\n",
       "  <thead>\n",
       "    <tr style=\"text-align: right;\">\n",
       "      <th></th>\n",
       "      <th>Run_Time</th>\n",
       "      <th>Train_RMSE</th>\n",
       "      <th>Validation_RMSE</th>\n",
       "      <th>delta%</th>\n",
       "    </tr>\n",
       "  </thead>\n",
       "  <tbody>\n",
       "    <tr>\n",
       "      <th>EBLR_1_3_linear</th>\n",
       "      <td>0.340923</td>\n",
       "      <td>16.555650</td>\n",
       "      <td>6955.746807</td>\n",
       "      <td>41914.338464</td>\n",
       "    </tr>\n",
       "    <tr>\n",
       "      <th>EBLR_1_3_square</th>\n",
       "      <td>0.324649</td>\n",
       "      <td>19.066982</td>\n",
       "      <td>51.002664</td>\n",
       "      <td>167.492068</td>\n",
       "    </tr>\n",
       "    <tr>\n",
       "      <th>EBLR_1_3_linear_l2</th>\n",
       "      <td>0.045042</td>\n",
       "      <td>17.256765</td>\n",
       "      <td>37.728859</td>\n",
       "      <td>118.632276</td>\n",
       "    </tr>\n",
       "    <tr>\n",
       "      <th>EBLR_1_3_square_l2</th>\n",
       "      <td>0.042885</td>\n",
       "      <td>19.086004</td>\n",
       "      <td>36.582092</td>\n",
       "      <td>91.669729</td>\n",
       "    </tr>\n",
       "    <tr>\n",
       "      <th>EBLR_1_3_linear_l1</th>\n",
       "      <td>0.058845</td>\n",
       "      <td>21.594142</td>\n",
       "      <td>36.050274</td>\n",
       "      <td>66.944691</td>\n",
       "    </tr>\n",
       "    <tr>\n",
       "      <th>...</th>\n",
       "      <td>...</td>\n",
       "      <td>...</td>\n",
       "      <td>...</td>\n",
       "      <td>...</td>\n",
       "    </tr>\n",
       "    <tr>\n",
       "      <th>EBLR_3_15_square_en_0.25</th>\n",
       "      <td>0.347801</td>\n",
       "      <td>24.457736</td>\n",
       "      <td>35.989725</td>\n",
       "      <td>47.150677</td>\n",
       "    </tr>\n",
       "    <tr>\n",
       "      <th>EBLR_3_15_linear_en_0.5</th>\n",
       "      <td>0.340246</td>\n",
       "      <td>23.571806</td>\n",
       "      <td>35.725291</td>\n",
       "      <td>51.559417</td>\n",
       "    </tr>\n",
       "    <tr>\n",
       "      <th>EBLR_3_15_square_en_0.5</th>\n",
       "      <td>0.343057</td>\n",
       "      <td>23.571806</td>\n",
       "      <td>35.725291</td>\n",
       "      <td>51.559417</td>\n",
       "    </tr>\n",
       "    <tr>\n",
       "      <th>EBLR_3_15_linear_en_0.75</th>\n",
       "      <td>0.337088</td>\n",
       "      <td>22.560388</td>\n",
       "      <td>35.706110</td>\n",
       "      <td>58.269043</td>\n",
       "    </tr>\n",
       "    <tr>\n",
       "      <th>EBLR_3_15_square_en_0.75</th>\n",
       "      <td>0.458877</td>\n",
       "      <td>22.560388</td>\n",
       "      <td>35.706110</td>\n",
       "      <td>58.269043</td>\n",
       "    </tr>\n",
       "  </tbody>\n",
       "</table>\n",
       "<p>252 rows × 4 columns</p>\n",
       "</div>"
      ],
      "text/plain": [
       "                          Run_Time  Train_RMSE  Validation_RMSE        delta%\n",
       "EBLR_1_3_linear           0.340923   16.555650      6955.746807  41914.338464\n",
       "EBLR_1_3_square           0.324649   19.066982        51.002664    167.492068\n",
       "EBLR_1_3_linear_l2        0.045042   17.256765        37.728859    118.632276\n",
       "EBLR_1_3_square_l2        0.042885   19.086004        36.582092     91.669729\n",
       "EBLR_1_3_linear_l1        0.058845   21.594142        36.050274     66.944691\n",
       "...                            ...         ...              ...           ...\n",
       "EBLR_3_15_square_en_0.25  0.347801   24.457736        35.989725     47.150677\n",
       "EBLR_3_15_linear_en_0.5   0.340246   23.571806        35.725291     51.559417\n",
       "EBLR_3_15_square_en_0.5   0.343057   23.571806        35.725291     51.559417\n",
       "EBLR_3_15_linear_en_0.75  0.337088   22.560388        35.706110     58.269043\n",
       "EBLR_3_15_square_en_0.75  0.458877   22.560388        35.706110     58.269043\n",
       "\n",
       "[252 rows x 4 columns]"
      ]
     },
     "execution_count": 13,
     "metadata": {},
     "output_type": "execute_result"
    }
   ],
   "source": [
    "metrics = regression(models_list, names_list, '../../../data/metrics/house_prices/eblr.csv', X_train_scaled, y_train_scaled, X_validation_scaled, y_validation_scaled, metrics={})\n",
    "metrics"
   ]
  },
  {
   "cell_type": "code",
   "execution_count": 14,
   "id": "daf2bcac",
   "metadata": {},
   "outputs": [
    {
     "data": {
      "text/html": [
       "<div>\n",
       "<style scoped>\n",
       "    .dataframe tbody tr th:only-of-type {\n",
       "        vertical-align: middle;\n",
       "    }\n",
       "\n",
       "    .dataframe tbody tr th {\n",
       "        vertical-align: top;\n",
       "    }\n",
       "\n",
       "    .dataframe thead th {\n",
       "        text-align: right;\n",
       "    }\n",
       "</style>\n",
       "<table border=\"1\" class=\"dataframe\">\n",
       "  <thead>\n",
       "    <tr style=\"text-align: right;\">\n",
       "      <th></th>\n",
       "      <th>Run_Time</th>\n",
       "      <th>Train_RMSE</th>\n",
       "      <th>Validation_RMSE</th>\n",
       "      <th>delta%</th>\n",
       "    </tr>\n",
       "  </thead>\n",
       "  <tbody>\n",
       "    <tr>\n",
       "      <th>EBLR_1_7_linear_l2</th>\n",
       "      <td>0.096741</td>\n",
       "      <td>16.037226</td>\n",
       "      <td>33.741618</td>\n",
       "      <td>110.395605</td>\n",
       "    </tr>\n",
       "    <tr>\n",
       "      <th>EBLR_2_15_linear_l2</th>\n",
       "      <td>0.235371</td>\n",
       "      <td>14.943561</td>\n",
       "      <td>33.786872</td>\n",
       "      <td>126.096517</td>\n",
       "    </tr>\n",
       "    <tr>\n",
       "      <th>EBLR_2_13_linear_l2</th>\n",
       "      <td>0.202966</td>\n",
       "      <td>15.008150</td>\n",
       "      <td>33.829218</td>\n",
       "      <td>125.405650</td>\n",
       "    </tr>\n",
       "    <tr>\n",
       "      <th>EBLR_2_13_square_l2</th>\n",
       "      <td>0.270277</td>\n",
       "      <td>15.323478</td>\n",
       "      <td>34.475137</td>\n",
       "      <td>124.982454</td>\n",
       "    </tr>\n",
       "    <tr>\n",
       "      <th>EBLR_2_15_square_l2</th>\n",
       "      <td>0.228990</td>\n",
       "      <td>14.955428</td>\n",
       "      <td>34.630548</td>\n",
       "      <td>131.558384</td>\n",
       "    </tr>\n",
       "    <tr>\n",
       "      <th>EBLR_2_11_square_l2</th>\n",
       "      <td>0.182713</td>\n",
       "      <td>15.639036</td>\n",
       "      <td>34.840732</td>\n",
       "      <td>122.780567</td>\n",
       "    </tr>\n",
       "    <tr>\n",
       "      <th>EBLR_3_7_square_l2</th>\n",
       "      <td>0.139820</td>\n",
       "      <td>16.029572</td>\n",
       "      <td>35.115632</td>\n",
       "      <td>119.067802</td>\n",
       "    </tr>\n",
       "    <tr>\n",
       "      <th>EBLR_2_7_linear_l2</th>\n",
       "      <td>0.106816</td>\n",
       "      <td>16.804837</td>\n",
       "      <td>35.332254</td>\n",
       "      <td>110.250506</td>\n",
       "    </tr>\n",
       "    <tr>\n",
       "      <th>EBLR_2_9_linear_l2</th>\n",
       "      <td>0.136624</td>\n",
       "      <td>15.659617</td>\n",
       "      <td>35.504093</td>\n",
       "      <td>126.723894</td>\n",
       "    </tr>\n",
       "    <tr>\n",
       "      <th>EBLR_3_15_linear_l2</th>\n",
       "      <td>0.274583</td>\n",
       "      <td>15.301767</td>\n",
       "      <td>35.591150</td>\n",
       "      <td>132.595033</td>\n",
       "    </tr>\n",
       "    <tr>\n",
       "      <th>EBLR_3_9_linear_l2</th>\n",
       "      <td>0.188147</td>\n",
       "      <td>15.511301</td>\n",
       "      <td>35.652444</td>\n",
       "      <td>129.848187</td>\n",
       "    </tr>\n",
       "    <tr>\n",
       "      <th>EBLR_1_7_square_en_0.75</th>\n",
       "      <td>0.127106</td>\n",
       "      <td>22.560388</td>\n",
       "      <td>35.706110</td>\n",
       "      <td>58.269043</td>\n",
       "    </tr>\n",
       "    <tr>\n",
       "      <th>EBLR_1_7_linear_en_0.75</th>\n",
       "      <td>0.125822</td>\n",
       "      <td>22.560388</td>\n",
       "      <td>35.706110</td>\n",
       "      <td>58.269043</td>\n",
       "    </tr>\n",
       "    <tr>\n",
       "      <th>EBLR_1_11_linear_en_0.75</th>\n",
       "      <td>0.187039</td>\n",
       "      <td>22.560388</td>\n",
       "      <td>35.706110</td>\n",
       "      <td>58.269043</td>\n",
       "    </tr>\n",
       "    <tr>\n",
       "      <th>EBLR_3_15_square_en_0.75</th>\n",
       "      <td>0.458877</td>\n",
       "      <td>22.560388</td>\n",
       "      <td>35.706110</td>\n",
       "      <td>58.269043</td>\n",
       "    </tr>\n",
       "  </tbody>\n",
       "</table>\n",
       "</div>"
      ],
      "text/plain": [
       "                          Run_Time  Train_RMSE  Validation_RMSE      delta%\n",
       "EBLR_1_7_linear_l2        0.096741   16.037226        33.741618  110.395605\n",
       "EBLR_2_15_linear_l2       0.235371   14.943561        33.786872  126.096517\n",
       "EBLR_2_13_linear_l2       0.202966   15.008150        33.829218  125.405650\n",
       "EBLR_2_13_square_l2       0.270277   15.323478        34.475137  124.982454\n",
       "EBLR_2_15_square_l2       0.228990   14.955428        34.630548  131.558384\n",
       "EBLR_2_11_square_l2       0.182713   15.639036        34.840732  122.780567\n",
       "EBLR_3_7_square_l2        0.139820   16.029572        35.115632  119.067802\n",
       "EBLR_2_7_linear_l2        0.106816   16.804837        35.332254  110.250506\n",
       "EBLR_2_9_linear_l2        0.136624   15.659617        35.504093  126.723894\n",
       "EBLR_3_15_linear_l2       0.274583   15.301767        35.591150  132.595033\n",
       "EBLR_3_9_linear_l2        0.188147   15.511301        35.652444  129.848187\n",
       "EBLR_1_7_square_en_0.75   0.127106   22.560388        35.706110   58.269043\n",
       "EBLR_1_7_linear_en_0.75   0.125822   22.560388        35.706110   58.269043\n",
       "EBLR_1_11_linear_en_0.75  0.187039   22.560388        35.706110   58.269043\n",
       "EBLR_3_15_square_en_0.75  0.458877   22.560388        35.706110   58.269043"
      ]
     },
     "execution_count": 14,
     "metadata": {},
     "output_type": "execute_result"
    }
   ],
   "source": [
    "metrics.sort_values(by='Validation_RMSE').head(15)"
   ]
  },
  {
   "cell_type": "markdown",
   "id": "08a892cb",
   "metadata": {},
   "source": [
    "We are going to choose **EBLR_1_7_linear_l2**, that is the model that fits 7 trees of maximum depth 1 on errors (includes 7 new features) with linear loss"
   ]
  },
  {
   "cell_type": "code",
   "execution_count": 23,
   "id": "e5beffa5",
   "metadata": {},
   "outputs": [],
   "source": [
    "test =  pd.read_parquet('../../../data/model_input/test_sets/house_prices.parquet')"
   ]
  },
  {
   "cell_type": "code",
   "execution_count": 24,
   "id": "fa1911f1",
   "metadata": {},
   "outputs": [],
   "source": [
    "y_test = test.SalePrice\n",
    "X_test = test.drop(columns=['SalePrice'])"
   ]
  },
  {
   "cell_type": "code",
   "execution_count": 25,
   "id": "31cd7ea6",
   "metadata": {},
   "outputs": [],
   "source": [
    "retrain = pd.concat([train, validation])"
   ]
  },
  {
   "cell_type": "code",
   "execution_count": 26,
   "id": "e0e23ee7",
   "metadata": {},
   "outputs": [],
   "source": [
    "y_retrain = retrain.SalePrice\n",
    "X_retrain = retrain.drop(columns=['SalePrice'])"
   ]
  },
  {
   "cell_type": "code",
   "execution_count": 27,
   "id": "c8579077",
   "metadata": {},
   "outputs": [],
   "source": [
    "y_retrain_scaled = y_retrain/1000\n",
    "y_test_scaled = y_test/1000"
   ]
  },
  {
   "cell_type": "code",
   "execution_count": 28,
   "id": "f64e0a1f",
   "metadata": {},
   "outputs": [],
   "source": [
    "scaler_retrain = StandardScaler().fit(X_retrain)"
   ]
  },
  {
   "cell_type": "code",
   "execution_count": 29,
   "id": "f08a767d",
   "metadata": {},
   "outputs": [],
   "source": [
    "X_retrain_scaled = scaler_retrain.transform(X_retrain)\n",
    "X_test_scaled = scaler_retrain.transform(X_test)"
   ]
  },
  {
   "cell_type": "code",
   "execution_count": 42,
   "id": "e51fe4c1",
   "metadata": {},
   "outputs": [],
   "source": [
    "model = LinearBoostRegressor(base_estimator=Ridge(), max_depth=1, n_estimators=7).fit(X_retrain_scaled, y_retrain_scaled)"
   ]
  },
  {
   "cell_type": "code",
   "execution_count": 43,
   "id": "7caa20fb",
   "metadata": {},
   "outputs": [
    {
     "name": "stdout",
     "output_type": "stream",
     "text": [
      "Test RMSE: 21.2598\n"
     ]
    }
   ],
   "source": [
    "test_pred = model.predict(X_test_scaled)\n",
    "rmse = root_mean_squared_error(y_test_scaled, test_pred)\n",
    "print('Test RMSE:', round(rmse, 4))"
   ]
  },
  {
   "cell_type": "code",
   "execution_count": 44,
   "id": "682198f3",
   "metadata": {},
   "outputs": [
    {
     "data": {
      "text/plain": [
       "['best_eblr.joblib']"
      ]
     },
     "execution_count": 44,
     "metadata": {},
     "output_type": "execute_result"
    }
   ],
   "source": [
    "dump(model, 'best_eblr.joblib')"
   ]
  },
  {
   "cell_type": "code",
   "execution_count": 45,
   "id": "6f82ae35",
   "metadata": {},
   "outputs": [],
   "source": [
    "with open('../../../data/metrics/house_prices/final_RMSE.txt', 'a') as f:\n",
    "    f.write('\\nEBLR, '+ str(rmse))"
   ]
  },
  {
   "cell_type": "markdown",
   "id": "d5e97fc8",
   "metadata": {},
   "source": [
    "Let's take a look to the final model:"
   ]
  },
  {
   "cell_type": "code",
   "execution_count": 51,
   "id": "4e3b9727",
   "metadata": {},
   "outputs": [
    {
     "name": "stdout",
     "output_type": "stream",
     "text": [
      "Initial number of features: 303\n",
      "Final number of features: 310\n"
     ]
    }
   ],
   "source": [
    "print(f'Initial number of features: {X_retrain.shape[1]}\\nFinal number of features: {model.transform(X_retrain_scaled).shape[1]}')"
   ]
  },
  {
   "cell_type": "markdown",
   "id": "ee46e37f",
   "metadata": {},
   "source": [
    "So we have 7 new features:"
   ]
  },
  {
   "cell_type": "code",
   "execution_count": 54,
   "id": "759d5b01",
   "metadata": {},
   "outputs": [],
   "source": [
    "error_trees = model._trees"
   ]
  },
  {
   "cell_type": "markdown",
   "id": "15344055",
   "metadata": {},
   "source": [
    "#### New Feature 1"
   ]
  },
  {
   "cell_type": "code",
   "execution_count": 64,
   "id": "0cc0663e",
   "metadata": {},
   "outputs": [
    {
     "data": {
      "image/png": "[encoded data removed]",
      "text/plain": [
       "<Figure size 432x288 with 1 Axes>"
      ]
     },
     "metadata": {
      "needs_background": "light"
     },
     "output_type": "display_data"
    }
   ],
   "source": [
    "plot_tree(error_trees[0], node_ids=True, feature_names=X_retrain.columns);"
   ]
  },
  {
   "cell_type": "code",
   "execution_count": 55,
   "id": "2405fefa",
   "metadata": {},
   "outputs": [],
   "source": [
    "pred = np.abs(error_trees[0].predict(X_retrain_scaled))\n",
    "worst_leaf = np.argmax(pred)\n",
    "error_path = error_trees[0].decision_path(X_retrain_scaled[[worst_leaf]]).toarray()\n",
    "indexes = np.where(error_path == 1)[1]"
   ]
  },
  {
   "cell_type": "code",
   "execution_count": 123,
   "id": "ca5f966e",
   "metadata": {},
   "outputs": [],
   "source": [
    "path1 = []\n",
    "for i in indexes[:-1]:\n",
    "    path1.append(str(X_retrain.columns[error_trees[0].tree_.feature[i]])+' <= '+str(error_trees[0].tree_.threshold[i]))\n",
    "path1.append('leaf value: '+str(model._leaves[0]))"
   ]
  },
  {
   "cell_type": "code",
   "execution_count": 124,
   "id": "129227be",
   "metadata": {},
   "outputs": [
    {
     "data": {
      "text/plain": [
       "['2ndFlrSF <= 3.0953058004379272', 'leaf value: 82.53662109375']"
      ]
     },
     "execution_count": 124,
     "metadata": {},
     "output_type": "execute_result"
    }
   ],
   "source": [
    "path1"
   ]
  },
  {
   "cell_type": "markdown",
   "id": "c8295ef1",
   "metadata": {},
   "source": [
    "Thus, in the second iteration of the loop, the algorithm fits a linear regression with ElasticNet penalty for X_retrain_scaled with a new column given by the new feature that assigns $0$ to samples that verify $2ndFlrSF\\leq 3.0953058004379272$ and $1$ to those that do not."
   ]
  },
  {
   "cell_type": "code",
   "execution_count": 116,
   "id": "8544f67a",
   "metadata": {},
   "outputs": [],
   "source": [
    "pred_tree = np.abs(error_trees[0].predict(X_retrain_scaled.astype(np.float32), check_input=False))\n",
    "pred_tree = (pred_tree == model._leaves[0]).astype(np.float32)\n",
    "pred_tree = pred_tree.reshape(-1, 1)\n",
    "X_trans = np.concatenate([X_retrain_scaled, pred_tree], axis=1)"
   ]
  },
  {
   "cell_type": "markdown",
   "id": "e99ddc87",
   "metadata": {},
   "source": [
    "#### New Feature 2"
   ]
  },
  {
   "cell_type": "code",
   "execution_count": 118,
   "id": "30a615be",
   "metadata": {},
   "outputs": [
    {
     "data": {
      "image/png": "[encoded data removed]",
      "text/plain": [
       "<Figure size 432x288 with 1 Axes>"
      ]
     },
     "metadata": {
      "needs_background": "light"
     },
     "output_type": "display_data"
    }
   ],
   "source": [
    "plot_tree(error_trees[1], node_ids=True, feature_names=list(X_retrain.columns)+['New_Feature_1']);"
   ]
  },
  {
   "cell_type": "code",
   "execution_count": 119,
   "id": "cc62e4bf",
   "metadata": {},
   "outputs": [],
   "source": [
    "pred = np.abs(error_trees[1].predict(X_trans))\n",
    "worst_leaf = np.argmax(pred)\n",
    "error_path = error_trees[1].decision_path(X_trans[[worst_leaf]]).toarray()\n",
    "indexes = np.where(error_path == 1)[1]"
   ]
  },
  {
   "cell_type": "code",
   "execution_count": 129,
   "id": "75acb62d",
   "metadata": {},
   "outputs": [],
   "source": [
    "path2 = []\n",
    "for i in indexes[:-1]:\n",
    "    path2.append(str(list(list(X_retrain.columns)+['New_Feature_1'])[error_trees[1].tree_.feature[i]])+' <= '+str(error_trees[1].tree_.threshold[i]))\n",
    "path2.append('leaf value: '+str(model._leaves[1]))"
   ]
  },
  {
   "cell_type": "code",
   "execution_count": 130,
   "id": "e01707ff",
   "metadata": {},
   "outputs": [
    {
     "data": {
      "text/plain": [
       "['BsmtFinSF1 <= 1.930666446685791', 'leaf value: 17.589646231911402']"
      ]
     },
     "execution_count": 130,
     "metadata": {},
     "output_type": "execute_result"
    }
   ],
   "source": [
    "path2"
   ]
  },
  {
   "cell_type": "markdown",
   "id": "917c2e9d",
   "metadata": {},
   "source": [
    "Reasoning like before, we add a new binary column given by the rule $BsmtFinSF1 \\leq 1.930666446685791$; 0 if true, 1 if false"
   ]
  },
  {
   "cell_type": "code",
   "execution_count": 131,
   "id": "fa060a69",
   "metadata": {},
   "outputs": [],
   "source": [
    "pred_tree = np.abs(error_trees[1].predict(X_trans.astype(np.float32), check_input=False))\n",
    "pred_tree = (pred_tree == model._leaves[1]).astype(np.float32)\n",
    "pred_tree = pred_tree.reshape(-1, 1)\n",
    "X_trans = np.concatenate([X_trans, pred_tree], axis=1)"
   ]
  },
  {
   "cell_type": "markdown",
   "id": "78103c2a",
   "metadata": {},
   "source": [
    "#### New Feature 3"
   ]
  },
  {
   "cell_type": "code",
   "execution_count": 134,
   "id": "fc449307",
   "metadata": {},
   "outputs": [
    {
     "data": {
      "image/png": "[encoded data removed]",
      "text/plain": [
       "<Figure size 432x288 with 1 Axes>"
      ]
     },
     "metadata": {
      "needs_background": "light"
     },
     "output_type": "display_data"
    }
   ],
   "source": [
    "plot_tree(error_trees[2], node_ids=True, feature_names=list(X_retrain.columns)+['New_Feature_1, New_Feature_2']);"
   ]
  },
  {
   "cell_type": "code",
   "execution_count": 135,
   "id": "b96e7eaf",
   "metadata": {},
   "outputs": [],
   "source": [
    "pred = np.abs(error_trees[2].predict(X_trans))\n",
    "worst_leaf = np.argmax(pred)\n",
    "error_path = error_trees[2].decision_path(X_trans[[worst_leaf]]).toarray()\n",
    "indexes = np.where(error_path == 1)[1]"
   ]
  },
  {
   "cell_type": "code",
   "execution_count": 136,
   "id": "9a1c8317",
   "metadata": {},
   "outputs": [],
   "source": [
    "path3 = []\n",
    "for i in indexes[:-1]:\n",
    "    path3.append(str(list(list(X_retrain.columns)+['New_Feature_1, New_Feature_2'])[error_trees[2].tree_.feature[i]])+' <= '+str(error_trees[2].tree_.threshold[i]))\n",
    "path3.append('leaf value: '+str(model._leaves[2]))"
   ]
  },
  {
   "cell_type": "code",
   "execution_count": 137,
   "id": "74a6c27f",
   "metadata": {},
   "outputs": [
    {
     "data": {
      "text/plain": [
       "['BsmtFinSF1 <= 3.85219943523407', 'leaf value: 80.02922821044922']"
      ]
     },
     "execution_count": 137,
     "metadata": {},
     "output_type": "execute_result"
    }
   ],
   "source": [
    "path3"
   ]
  },
  {
   "cell_type": "markdown",
   "id": "d5792d15",
   "metadata": {},
   "source": [
    "Again we make a new column with 1 if the condition is false"
   ]
  },
  {
   "cell_type": "code",
   "execution_count": 138,
   "id": "b11429be",
   "metadata": {},
   "outputs": [],
   "source": [
    "pred_tree = np.abs(error_trees[2].predict(X_trans.astype(np.float32), check_input=False))\n",
    "pred_tree = (pred_tree == model._leaves[2]).astype(np.float32)\n",
    "pred_tree = pred_tree.reshape(-1, 1)\n",
    "X_trans = np.concatenate([X_trans, pred_tree], axis=1)"
   ]
  },
  {
   "cell_type": "markdown",
   "id": "2745f9af",
   "metadata": {},
   "source": [
    "#### New Feature 4"
   ]
  },
  {
   "cell_type": "code",
   "execution_count": 139,
   "id": "8e563613",
   "metadata": {},
   "outputs": [
    {
     "data": {
      "image/png": "[encoded data removed]",
      "text/plain": [
       "<Figure size 432x288 with 1 Axes>"
      ]
     },
     "metadata": {
      "needs_background": "light"
     },
     "output_type": "display_data"
    }
   ],
   "source": [
    "plot_tree(error_trees[3], node_ids=True, feature_names=list(X_retrain.columns)+['New_Feature_1, New_Feature_2, New_Feature_3']);"
   ]
  },
  {
   "cell_type": "code",
   "execution_count": 140,
   "id": "676223d1",
   "metadata": {},
   "outputs": [],
   "source": [
    "pred = np.abs(error_trees[3].predict(X_trans))\n",
    "worst_leaf = np.argmax(pred)\n",
    "error_path = error_trees[3].decision_path(X_trans[[worst_leaf]]).toarray()\n",
    "indexes = np.where(error_path == 1)[1]"
   ]
  },
  {
   "cell_type": "code",
   "execution_count": 141,
   "id": "c546514a",
   "metadata": {},
   "outputs": [
    {
     "data": {
      "text/plain": [
       "['BsmtFinSF1 <= 3.85219943523407', 'leaf value: 56.360267639160156']"
      ]
     },
     "execution_count": 141,
     "metadata": {},
     "output_type": "execute_result"
    }
   ],
   "source": [
    "path4 = []\n",
    "for i in indexes[:-1]:\n",
    "    path4.append(str(list(list(X_retrain.columns)+['New_Feature_1, New_Feature_2, New_Feature_3'])[error_trees[3].tree_.feature[i]])+' <= '+str(error_trees[3].tree_.threshold[i]))\n",
    "path4.append('leaf value: '+str(model._leaves[3]))\n",
    "\n",
    "path4"
   ]
  },
  {
   "cell_type": "markdown",
   "id": "601167c1",
   "metadata": {},
   "source": [
    "Again we make a new column with 1 if the condition is false"
   ]
  },
  {
   "cell_type": "code",
   "execution_count": 142,
   "id": "e929fe57",
   "metadata": {},
   "outputs": [],
   "source": [
    "pred_tree = np.abs(error_trees[3].predict(X_trans.astype(np.float32), check_input=False))\n",
    "pred_tree = (pred_tree == model._leaves[3]).astype(np.float32)\n",
    "pred_tree = pred_tree.reshape(-1, 1)\n",
    "X_trans = np.concatenate([X_trans, pred_tree], axis=1)"
   ]
  },
  {
   "cell_type": "markdown",
   "id": "aae39864",
   "metadata": {},
   "source": [
    "#### New Feature 5"
   ]
  },
  {
   "cell_type": "code",
   "execution_count": 144,
   "id": "611be154",
   "metadata": {},
   "outputs": [
    {
     "data": {
      "image/png": "[encoded data removed]",
      "text/plain": [
       "<Figure size 432x288 with 1 Axes>"
      ]
     },
     "metadata": {
      "needs_background": "light"
     },
     "output_type": "display_data"
    }
   ],
   "source": [
    "plot_tree(error_trees[4], node_ids=True, feature_names=list(X_retrain.columns)+['New_Feature_1, New_Feature_2, New_Feature_3, New_Feature_4']);"
   ]
  },
  {
   "cell_type": "code",
   "execution_count": 145,
   "id": "885c79fe",
   "metadata": {},
   "outputs": [
    {
     "data": {
      "text/plain": [
       "['GrLivArea <= 2.4226396083831787', 'leaf value: 16.259963470458985']"
      ]
     },
     "execution_count": 145,
     "metadata": {},
     "output_type": "execute_result"
    }
   ],
   "source": [
    "pred = np.abs(error_trees[4].predict(X_trans))\n",
    "worst_leaf = np.argmax(pred)\n",
    "error_path = error_trees[4].decision_path(X_trans[[worst_leaf]]).toarray()\n",
    "indexes = np.where(error_path == 1)[1]\n",
    "\n",
    "path5 = []\n",
    "for i in indexes[:-1]:\n",
    "    path5.append(str(list(list(X_retrain.columns)+['New_Feature_1, New_Feature_2, New_Feature_3, New_Feature_4'])[error_trees[4].tree_.feature[i]])+' <= '+str(error_trees[4].tree_.threshold[i]))\n",
    "path5.append('leaf value: '+str(model._leaves[4]))\n",
    "\n",
    "path5"
   ]
  },
  {
   "cell_type": "markdown",
   "id": "798eab1a",
   "metadata": {},
   "source": [
    "Again we make a new column with 1 if the condition is false"
   ]
  },
  {
   "cell_type": "code",
   "execution_count": 146,
   "id": "c0c35126",
   "metadata": {},
   "outputs": [],
   "source": [
    "pred_tree = np.abs(error_trees[4].predict(X_trans.astype(np.float32), check_input=False))\n",
    "pred_tree = (pred_tree == model._leaves[4]).astype(np.float32)\n",
    "pred_tree = pred_tree.reshape(-1, 1)\n",
    "X_trans = np.concatenate([X_trans, pred_tree], axis=1)"
   ]
  },
  {
   "cell_type": "markdown",
   "id": "f8f40416",
   "metadata": {},
   "source": [
    "#### New Feature 6"
   ]
  },
  {
   "cell_type": "code",
   "execution_count": 147,
   "id": "bad46f91",
   "metadata": {},
   "outputs": [
    {
     "data": {
      "image/png": "[encoded data removed]",
      "text/plain": [
       "<Figure size 432x288 with 1 Axes>"
      ]
     },
     "metadata": {
      "needs_background": "light"
     },
     "output_type": "display_data"
    }
   ],
   "source": [
    "plot_tree(error_trees[5], node_ids=True, feature_names=list(X_retrain.columns)+['New_Feature_1, New_Feature_2, New_Feature_3, New_Feature_4, New_Feature_5']);"
   ]
  },
  {
   "cell_type": "code",
   "execution_count": 148,
   "id": "ecbba8fd",
   "metadata": {},
   "outputs": [
    {
     "data": {
      "text/plain": [
       "['GarageArea <= 4.170212984085083', 'leaf value: 55.02831994628906']"
      ]
     },
     "execution_count": 148,
     "metadata": {},
     "output_type": "execute_result"
    }
   ],
   "source": [
    "pred = np.abs(error_trees[5].predict(X_trans))\n",
    "worst_leaf = np.argmax(pred)\n",
    "error_path = error_trees[5].decision_path(X_trans[[worst_leaf]]).toarray()\n",
    "indexes = np.where(error_path == 1)[1]\n",
    "\n",
    "path6 = []\n",
    "for i in indexes[:-1]:\n",
    "    path6.append(str(list(list(X_retrain.columns)+['New_Feature_1, New_Feature_2, New_Feature_3, New_Feature_4, New_Feature_5'])[error_trees[5].tree_.feature[i]])+' <= '+str(error_trees[5].tree_.threshold[i]))\n",
    "path6.append('leaf value: '+str(model._leaves[5]))\n",
    "\n",
    "path6"
   ]
  },
  {
   "cell_type": "markdown",
   "id": "e38bb63f",
   "metadata": {},
   "source": [
    "Again we make a new column with 1 if the condition is false"
   ]
  },
  {
   "cell_type": "code",
   "execution_count": 149,
   "id": "1dd5ee5c",
   "metadata": {},
   "outputs": [],
   "source": [
    "pred_tree = np.abs(error_trees[5].predict(X_trans.astype(np.float32), check_input=False))\n",
    "pred_tree = (pred_tree == model._leaves[5]).astype(np.float32)\n",
    "pred_tree = pred_tree.reshape(-1, 1)\n",
    "X_trans = np.concatenate([X_trans, pred_tree], axis=1)"
   ]
  },
  {
   "cell_type": "markdown",
   "id": "c0897304",
   "metadata": {},
   "source": [
    "#### New Feature 7"
   ]
  },
  {
   "cell_type": "code",
   "execution_count": 150,
   "id": "91f15334",
   "metadata": {},
   "outputs": [
    {
     "data": {
      "image/png": "[encoded data removed]",
      "text/plain": [
       "<Figure size 432x288 with 1 Axes>"
      ]
     },
     "metadata": {
      "needs_background": "light"
     },
     "output_type": "display_data"
    }
   ],
   "source": [
    "plot_tree(error_trees[6], node_ids=True, feature_names=list(X_retrain.columns)+['New_Feature_1, New_Feature_2, New_Feature_3, New_Feature_4, New_Feature_5, New_Feature_6']);"
   ]
  },
  {
   "cell_type": "code",
   "execution_count": 151,
   "id": "b2fa8965",
   "metadata": {},
   "outputs": [
    {
     "data": {
      "text/plain": [
       "['TotalBsmtSF <= 1.967915654182434', 'leaf value: 13.290722401012076']"
      ]
     },
     "execution_count": 151,
     "metadata": {},
     "output_type": "execute_result"
    }
   ],
   "source": [
    "pred = np.abs(error_trees[6].predict(X_trans))\n",
    "worst_leaf = np.argmax(pred)\n",
    "error_path = error_trees[6].decision_path(X_trans[[worst_leaf]]).toarray()\n",
    "indexes = np.where(error_path == 1)[1]\n",
    "\n",
    "path7 = []\n",
    "for i in indexes[:-1]:\n",
    "    path7.append(str(list(list(X_retrain.columns)+['New_Feature_1, New_Feature_2, New_Feature_3, New_Feature_4, New_Feature_5, New_Feature_6'])[error_trees[6].tree_.feature[i]])+' <= '+str(error_trees[6].tree_.threshold[i]))\n",
    "path7.append('leaf value: '+str(model._leaves[6]))\n",
    "\n",
    "path7"
   ]
  },
  {
   "cell_type": "markdown",
   "id": "f76247f6",
   "metadata": {},
   "source": [
    "Again we make a new column with 1 if the condition is false. Finally, we fit the linear model:"
   ]
  },
  {
   "cell_type": "code",
   "execution_count": 182,
   "id": "23117328",
   "metadata": {},
   "outputs": [],
   "source": [
    "top_threshold = 5\n",
    "top_coefficients = [coef for coef in model.base_estimator_.coef_.ravel() if abs(coef) > top_threshold]\n",
    "top_features = [name for name, coef in zip(X_retrain.columns, model.base_estimator_.coef_.ravel()) if abs(coef) > top_threshold]"
   ]
  },
  {
   "cell_type": "code",
   "execution_count": 183,
   "id": "bfff425b",
   "metadata": {},
   "outputs": [],
   "source": [
    "labels = [' ' if feature not in top_features else feature for feature in X_retrain.columns]+['New_Feature_1']+['New_Feature_2']+['New_Feature_3']+['New_Feature_4']+['New_Feature_5']+['New_Feature_6']+['New_Feature_7']"
   ]
  },
  {
   "cell_type": "code",
   "execution_count": 184,
   "id": "974bf73b",
   "metadata": {},
   "outputs": [
    {
     "name": "stderr",
     "output_type": "stream",
     "text": [
      "C:\\Users\\MANUEL~2\\AppData\\Local\\Temp/ipykernel_1664/676169912.py:6: UserWarning: FixedFormatter should only be used together with FixedLocator\n",
      "  ax.set_xticklabels(labels, rotation=90, ha='right')\n"
     ]
    },
    {
     "data": {
      "image/png": "[encoded data removed]",
      "text/plain": [
       "<Figure size 1296x576 with 1 Axes>"
      ]
     },
     "metadata": {
      "needs_background": "light"
     },
     "output_type": "display_data"
    }
   ],
   "source": [
    "fig, ax = plt.subplots(figsize=(18, 8))\n",
    "ax.stem(list(list(X_retrain.columns)+['New_Feature_1']+['New_Feature_2']+['New_Feature_3']+['New_Feature_4']+['New_Feature_5']+['New_Feature_6']+['New_Feature_7']), model.base_estimator_.coef_.ravel(), markerfmt=' ', basefmt='k-')\n",
    "ax.set_xlabel('Features')\n",
    "ax.set_ylabel('Coefficients magnitude')\n",
    "ax.set_title('Final model scaled coefficients')\n",
    "ax.set_xticklabels(labels, rotation=90, ha='right')\n",
    "plt.tight_layout()\n",
    "plt.show()"
   ]
  },
  {
   "cell_type": "code",
   "execution_count": 185,
   "id": "d3825373",
   "metadata": {},
   "outputs": [
    {
     "name": "stderr",
     "output_type": "stream",
     "text": [
      "C:\\Users\\MANUEL~2\\AppData\\Local\\Temp/ipykernel_1664/3753368203.py:7: UserWarning: color is redundantly defined by the 'color' keyword argument and the fmt string \"k--\" (-> color='k'). The keyword argument will take precedence.\n",
      "  plt.plot([y_retrain_scaled.min(), y_retrain_scaled.max()], [y_retrain_scaled.min(), y_retrain_scaled.max()],\n"
     ]
    },
    {
     "data": {
      "image/png": "[encoded data removed]",
      "text/plain": [
       "<Figure size 576x432 with 1 Axes>"
      ]
     },
     "metadata": {
      "needs_background": "light"
     },
     "output_type": "display_data"
    }
   ],
   "source": [
    "prediction_retrain = model.predict(X_retrain_scaled)\n",
    "error_retrain   = prediction_retrain - y_retrain_scaled\n",
    "\n",
    "plt.figure(figsize=(8, 6))\n",
    "\n",
    "plt.scatter(y_retrain_scaled, prediction_retrain, edgecolors=(0, 0, 0), alpha = 0.4)\n",
    "plt.plot([y_retrain_scaled.min(), y_retrain_scaled.max()], [y_retrain_scaled.min(), y_retrain_scaled.max()],\n",
    "                'k--', color = 'black', lw=2)\n",
    "plt.title('Predicted value vs real (scaled) value', fontsize = 10, fontweight = \"bold\")\n",
    "plt.xlabel('Real (scaled)')\n",
    "plt.ylabel('Prediction')\n",
    "plt.tick_params(labelsize = 7)"
   ]
  },
  {
   "cell_type": "code",
   "execution_count": null,
   "id": "7c23a369",
   "metadata": {},
   "outputs": [],
   "source": []
  }
 ],
 "metadata": {
  "kernelspec": {
   "display_name": "Python 3 (ipykernel)",
   "language": "python",
   "name": "python3"
  },
  "language_info": {
   "codemirror_mode": {
    "name": "ipython",
    "version": 3
   },
   "file_extension": ".py",
   "mimetype": "text/x-python",
   "name": "python",
   "nbconvert_exporter": "python",
   "pygments_lexer": "ipython3",
   "version": "3.9.7"
  }
 },
 "nbformat": 4,
 "nbformat_minor": 5
}
