{
 "cells": [
  {
   "cell_type": "markdown",
   "id": "243e0885",
   "metadata": {},
   "source": [
    "# Linear Regression"
   ]
  },
  {
   "cell_type": "code",
   "execution_count": 1,
   "id": "e9b34401",
   "metadata": {},
   "outputs": [],
   "source": [
    "from sklearn.linear_model import LinearRegression, Ridge, Lasso, ElasticNet\n",
    "import pandas as pd\n",
    "from joblib import dump"
   ]
  },
  {
   "cell_type": "code",
   "execution_count": 2,
   "id": "136445a3",
   "metadata": {},
   "outputs": [],
   "source": [
    "import sys\n",
    "sys.path.append('F:\\\\Users\\\\Manuel García Plaza\\\\Desktop\\\\TFG\\\\')"
   ]
  },
  {
   "cell_type": "code",
   "execution_count": 3,
   "id": "58170819",
   "metadata": {},
   "outputs": [],
   "source": [
    "from notebooks.utils.regression_metrics import regression"
   ]
  },
  {
   "cell_type": "markdown",
   "id": "24aec646",
   "metadata": {},
   "source": [
    "Now, we proceed as we did in the Superconductivity notebook:"
   ]
  },
  {
   "cell_type": "code",
   "execution_count": 4,
   "id": "9bef2d2e",
   "metadata": {},
   "outputs": [],
   "source": [
    "train =  pd.read_parquet('../../../data/model_input/train_sets/house_prices.parquet')\n",
    "test =  pd.read_parquet('../../../data/model_input/validation_sets/house_prices.parquet')"
   ]
  },
  {
   "cell_type": "code",
   "execution_count": 7,
   "id": "eca00859",
   "metadata": {},
   "outputs": [],
   "source": [
    "y_train = train.SalePrice\n",
    "X_train = train.drop(columns=['SalePrice'])"
   ]
  },
  {
   "cell_type": "code",
   "execution_count": 8,
   "id": "327ed800",
   "metadata": {},
   "outputs": [],
   "source": [
    "y_test = test.SalePrice\n",
    "X_test = test.drop(columns=['SalePrice'])"
   ]
  },
  {
   "cell_type": "code",
   "execution_count": 9,
   "id": "803967bf",
   "metadata": {},
   "outputs": [],
   "source": [
    "lr = LinearRegression()"
   ]
  },
  {
   "cell_type": "code",
   "execution_count": 12,
   "id": "eb77bcdc",
   "metadata": {},
   "outputs": [],
   "source": [
    "lr_l2 = Ridge()"
   ]
  },
  {
   "cell_type": "code",
   "execution_count": 23,
   "id": "17a0ebac",
   "metadata": {},
   "outputs": [],
   "source": [
    "lr_l1 = Lasso()"
   ]
  },
  {
   "cell_type": "code",
   "execution_count": 27,
   "id": "fc9606b0",
   "metadata": {},
   "outputs": [],
   "source": [
    "lr_en1 = ElasticNet(l1_ratio=0.25)\n",
    "lr_en2 = ElasticNet()\n",
    "lr_en3 = ElasticNet(l1_ratio=0.75)"
   ]
  },
  {
   "cell_type": "markdown",
   "id": "23019d40",
   "metadata": {},
   "source": [
    "Some excepcions are going to raise, but nothing to worry about because this step is only for selecting one model. Anyways, they don't significantly change the results."
   ]
  },
  {
   "cell_type": "code",
   "execution_count": 28,
   "id": "7517df1e",
   "metadata": {},
   "outputs": [],
   "source": [
    "models_list = [lr, lr_l2, lr_l1, lr_en1, lr_en2 , lr_en3]\n",
    "names_list = ['LR', 'LR_l2', 'LR_l1', 'LR_en_0.25', 'LR_en_0.5', 'LR_en_0.75']"
   ]
  },
  {
   "cell_type": "code",
   "execution_count": 29,
   "id": "6813c9d4",
   "metadata": {},
   "outputs": [
    {
     "name": "stderr",
     "output_type": "stream",
     "text": [
      "C:\\Users\\Manuel García Plaza\\AppData\\Roaming\\Python\\Python39\\site-packages\\sklearn\\linear_model\\_coordinate_descent.py:678: ConvergenceWarning: Objective did not converge. You might want to increase the number of iterations, check the scale of the features or consider increasing regularisation. Duality gap: 1.893e+11, tolerance: 6.368e+08\n",
      "  model = cd_fast.enet_coordinate_descent(\n",
      "C:\\Users\\Manuel García Plaza\\AppData\\Roaming\\Python\\Python39\\site-packages\\sklearn\\linear_model\\_coordinate_descent.py:678: ConvergenceWarning: Objective did not converge. You might want to increase the number of iterations, check the scale of the features or consider increasing regularisation. Duality gap: 6.997e+11, tolerance: 6.368e+08\n",
      "  model = cd_fast.enet_coordinate_descent(\n",
      "C:\\Users\\Manuel García Plaza\\AppData\\Roaming\\Python\\Python39\\site-packages\\sklearn\\linear_model\\_coordinate_descent.py:678: ConvergenceWarning: Objective did not converge. You might want to increase the number of iterations, check the scale of the features or consider increasing regularisation. Duality gap: 6.520e+11, tolerance: 6.368e+08\n",
      "  model = cd_fast.enet_coordinate_descent(\n",
      "C:\\Users\\Manuel García Plaza\\AppData\\Roaming\\Python\\Python39\\site-packages\\sklearn\\linear_model\\_coordinate_descent.py:678: ConvergenceWarning: Objective did not converge. You might want to increase the number of iterations, check the scale of the features or consider increasing regularisation. Duality gap: 5.552e+11, tolerance: 6.368e+08\n",
      "  model = cd_fast.enet_coordinate_descent(\n"
     ]
    },
    {
     "data": {
      "text/html": [
       "<div>\n",
       "<style scoped>\n",
       "    .dataframe tbody tr th:only-of-type {\n",
       "        vertical-align: middle;\n",
       "    }\n",
       "\n",
       "    .dataframe tbody tr th {\n",
       "        vertical-align: top;\n",
       "    }\n",
       "\n",
       "    .dataframe thead th {\n",
       "        text-align: right;\n",
       "    }\n",
       "</style>\n",
       "<table border=\"1\" class=\"dataframe\">\n",
       "  <thead>\n",
       "    <tr style=\"text-align: right;\">\n",
       "      <th></th>\n",
       "      <th>Run_Time</th>\n",
       "      <th>Train_MSE</th>\n",
       "      <th>Test_MSE</th>\n",
       "      <th>delta%</th>\n",
       "    </tr>\n",
       "  </thead>\n",
       "  <tbody>\n",
       "    <tr>\n",
       "      <th>LR</th>\n",
       "      <td>0.131217</td>\n",
       "      <td>3.635499e+08</td>\n",
       "      <td>1.374165e+09</td>\n",
       "      <td>277.985293</td>\n",
       "    </tr>\n",
       "    <tr>\n",
       "      <th>LR_l2</th>\n",
       "      <td>0.021941</td>\n",
       "      <td>4.506301e+08</td>\n",
       "      <td>1.112290e+09</td>\n",
       "      <td>146.830007</td>\n",
       "    </tr>\n",
       "    <tr>\n",
       "      <th>LR_l1</th>\n",
       "      <td>0.286270</td>\n",
       "      <td>3.644740e+08</td>\n",
       "      <td>1.339454e+09</td>\n",
       "      <td>267.503367</td>\n",
       "    </tr>\n",
       "    <tr>\n",
       "      <th>LR_en_0.25</th>\n",
       "      <td>0.318150</td>\n",
       "      <td>1.221870e+09</td>\n",
       "      <td>1.124555e+09</td>\n",
       "      <td>-7.964461</td>\n",
       "    </tr>\n",
       "    <tr>\n",
       "      <th>LR_en_0.5</th>\n",
       "      <td>0.376343</td>\n",
       "      <td>1.148137e+09</td>\n",
       "      <td>1.086545e+09</td>\n",
       "      <td>-5.364524</td>\n",
       "    </tr>\n",
       "    <tr>\n",
       "      <th>LR_en_0.75</th>\n",
       "      <td>0.320714</td>\n",
       "      <td>1.030489e+09</td>\n",
       "      <td>1.038662e+09</td>\n",
       "      <td>0.793134</td>\n",
       "    </tr>\n",
       "  </tbody>\n",
       "</table>\n",
       "</div>"
      ],
      "text/plain": [
       "            Run_Time     Train_MSE      Test_MSE      delta%\n",
       "LR          0.131217  3.635499e+08  1.374165e+09  277.985293\n",
       "LR_l2       0.021941  4.506301e+08  1.112290e+09  146.830007\n",
       "LR_l1       0.286270  3.644740e+08  1.339454e+09  267.503367\n",
       "LR_en_0.25  0.318150  1.221870e+09  1.124555e+09   -7.964461\n",
       "LR_en_0.5   0.376343  1.148137e+09  1.086545e+09   -5.364524\n",
       "LR_en_0.75  0.320714  1.030489e+09  1.038662e+09    0.793134"
      ]
     },
     "execution_count": 29,
     "metadata": {},
     "output_type": "execute_result"
    }
   ],
   "source": [
    "metrics = regression(models_list, names_list, '../../../data/metrics/house_prices/linear_regression.parquet', X_train, y_train, X_test, y_test)\n",
    "metrics"
   ]
  },
  {
   "cell_type": "markdown",
   "id": "dfe3e2d6",
   "metadata": {},
   "source": [
    "We are left with the **ElasticNet** with l1 ratio = 0.75 as the best model."
   ]
  },
  {
   "cell_type": "code",
   "execution_count": 31,
   "id": "ffbb46bd",
   "metadata": {},
   "outputs": [
    {
     "data": {
      "text/plain": [
       "['linear_regression_best.joblib']"
      ]
     },
     "execution_count": 31,
     "metadata": {},
     "output_type": "execute_result"
    }
   ],
   "source": [
    "dump(lr_en3, 'linear_regression_best.joblib')"
   ]
  },
  {
   "cell_type": "code",
   "execution_count": null,
   "id": "6c39dc9b",
   "metadata": {},
   "outputs": [],
   "source": []
  }
 ],
 "metadata": {
  "kernelspec": {
   "display_name": "Python 3 (ipykernel)",
   "language": "python",
   "name": "python3"
  },
  "language_info": {
   "codemirror_mode": {
    "name": "ipython",
    "version": 3
   },
   "file_extension": ".py",
   "mimetype": "text/x-python",
   "name": "python",
   "nbconvert_exporter": "python",
   "pygments_lexer": "ipython3",
   "version": "3.9.7"
  }
 },
 "nbformat": 4,
 "nbformat_minor": 5
}
