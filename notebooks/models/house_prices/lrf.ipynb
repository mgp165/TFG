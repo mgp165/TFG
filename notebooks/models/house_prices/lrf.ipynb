{
 "cells": [
  {
   "cell_type": "markdown",
   "id": "a70ceae4",
   "metadata": {},
   "source": [
    "# Linear Random Forest"
   ]
  },
  {
   "cell_type": "code",
   "execution_count": 1,
   "id": "f7b50640",
   "metadata": {},
   "outputs": [],
   "source": [
    "from sklearn.linear_model import LinearRegression, Ridge, Lasso, ElasticNet\n",
    "from lineartree import LinearTreeRegressor\n",
    "from sklearn.metrics import root_mean_squared_error\n",
    "import pandas as pd\n",
    "from joblib import dump\n",
    "import matplotlib.pyplot as plt\n",
    "import numpy as np\n",
    "from sklearn.preprocessing import StandardScaler\n",
    "import time"
   ]
  },
  {
   "cell_type": "code",
   "execution_count": 2,
   "id": "17f0ebf7",
   "metadata": {},
   "outputs": [],
   "source": [
    "import sys\n",
    "sys.path.append('F:\\\\Users\\\\Manuel García Plaza\\\\Desktop\\\\TFG\\\\')"
   ]
  },
  {
   "cell_type": "code",
   "execution_count": 3,
   "id": "19c534c2",
   "metadata": {},
   "outputs": [],
   "source": [
    "from notebooks.utils.regression_metrics import regression\n",
    "from notebooks.utils.lrf import LinearRandomForestRegressor"
   ]
  },
  {
   "cell_type": "code",
   "execution_count": 4,
   "id": "26040198",
   "metadata": {},
   "outputs": [],
   "source": [
    "train =  pd.read_parquet('../../../data/model_input/train_sets/house_prices.parquet')\n",
    "validation =  pd.read_parquet('../../../data/model_input/validation_sets/house_prices.parquet')"
   ]
  },
  {
   "cell_type": "code",
   "execution_count": 5,
   "id": "71e22f2b",
   "metadata": {},
   "outputs": [],
   "source": [
    "y_train = train.SalePrice\n",
    "X_train = train.drop(columns=['SalePrice'])"
   ]
  },
  {
   "cell_type": "code",
   "execution_count": 6,
   "id": "6340da61",
   "metadata": {},
   "outputs": [],
   "source": [
    "y_validation = validation.SalePrice\n",
    "X_validation = validation.drop(columns=['SalePrice'])"
   ]
  },
  {
   "cell_type": "code",
   "execution_count": 7,
   "id": "f165ac95",
   "metadata": {},
   "outputs": [],
   "source": [
    "scaler = StandardScaler().fit(X_train)"
   ]
  },
  {
   "cell_type": "code",
   "execution_count": 8,
   "id": "3024e957",
   "metadata": {},
   "outputs": [],
   "source": [
    "X_train_scaled = scaler.transform(X_train)\n",
    "X_validation_scaled = scaler.transform(X_validation)"
   ]
  },
  {
   "cell_type": "code",
   "execution_count": 9,
   "id": "8c22b072",
   "metadata": {},
   "outputs": [],
   "source": [
    "y_train_scaled = y_train/1000\n",
    "y_validation_scaled = y_validation/1000"
   ]
  },
  {
   "cell_type": "code",
   "execution_count": 10,
   "id": "3405e007",
   "metadata": {},
   "outputs": [],
   "source": [
    "n_estimators = [2, 5, 8, 11, 15, 20, 25, 30]"
   ]
  },
  {
   "cell_type": "code",
   "execution_count": 20,
   "id": "5cdd2ba5",
   "metadata": {},
   "outputs": [],
   "source": [
    "max_depth = [1, 2, 3, 4, 5, 7, 10]\n",
    "base_mod = [LinearRegression(), Ridge()]"
   ]
  },
  {
   "cell_type": "code",
   "execution_count": 21,
   "id": "0f9242ab",
   "metadata": {},
   "outputs": [],
   "source": [
    "base_est = []\n",
    "for i in max_depth:\n",
    "    for mod in base_mod:\n",
    "        base_est.append(LinearTreeRegressor(base_estimator=mod, max_depth=i))"
   ]
  },
  {
   "cell_type": "code",
   "execution_count": 22,
   "id": "01271a32",
   "metadata": {},
   "outputs": [],
   "source": [
    "models_list = []\n",
    "names_list = []\n",
    "for n in n_estimators:\n",
    "    for estim in base_est:\n",
    "        models_list.append(LinearRandomForestRegressor(n_features=X_train.shape[1], est=estim, n_est=n))\n",
    "        if isinstance(estim.base_estimator, LinearRegression):\n",
    "            names_list.append(f'LRF_{n}_{estim.max_depth}')\n",
    "        elif isinstance(estim.base_estimator, Ridge):\n",
    "            names_list.append(f'LRF_{n}_{estim.max_depth}_l2')"
   ]
  },
  {
   "cell_type": "code",
   "execution_count": 23,
   "id": "d846c49d",
   "metadata": {},
   "outputs": [
    {
     "data": {
      "text/html": [
       "<div>\n",
       "<style scoped>\n",
       "    .dataframe tbody tr th:only-of-type {\n",
       "        vertical-align: middle;\n",
       "    }\n",
       "\n",
       "    .dataframe tbody tr th {\n",
       "        vertical-align: top;\n",
       "    }\n",
       "\n",
       "    .dataframe thead th {\n",
       "        text-align: right;\n",
       "    }\n",
       "</style>\n",
       "<table border=\"1\" class=\"dataframe\">\n",
       "  <thead>\n",
       "    <tr style=\"text-align: right;\">\n",
       "      <th></th>\n",
       "      <th>Run_Time</th>\n",
       "      <th>Train_RMSE</th>\n",
       "      <th>Validation_RMSE</th>\n",
       "      <th>delta%</th>\n",
       "    </tr>\n",
       "  </thead>\n",
       "  <tbody>\n",
       "    <tr>\n",
       "      <th>LRF_2_4_l2</th>\n",
       "      <td>0.497447</td>\n",
       "      <td>36.189230</td>\n",
       "      <td>36.984222</td>\n",
       "      <td>2.196761</td>\n",
       "    </tr>\n",
       "    <tr>\n",
       "      <th>LRF_5_3_l2</th>\n",
       "      <td>0.986966</td>\n",
       "      <td>38.118948</td>\n",
       "      <td>43.086564</td>\n",
       "      <td>13.031883</td>\n",
       "    </tr>\n",
       "    <tr>\n",
       "      <th>LRF_5_7_l1</th>\n",
       "      <td>1.473976</td>\n",
       "      <td>36.978305</td>\n",
       "      <td>43.291587</td>\n",
       "      <td>17.072933</td>\n",
       "    </tr>\n",
       "    <tr>\n",
       "      <th>LRF_2_10_en_0.25</th>\n",
       "      <td>0.142543</td>\n",
       "      <td>41.194048</td>\n",
       "      <td>44.408085</td>\n",
       "      <td>7.802189</td>\n",
       "    </tr>\n",
       "    <tr>\n",
       "      <th>LRF_2_10_l2</th>\n",
       "      <td>0.556314</td>\n",
       "      <td>41.204551</td>\n",
       "      <td>44.643316</td>\n",
       "      <td>8.345595</td>\n",
       "    </tr>\n",
       "    <tr>\n",
       "      <th>...</th>\n",
       "      <td>...</td>\n",
       "      <td>...</td>\n",
       "      <td>...</td>\n",
       "      <td>...</td>\n",
       "    </tr>\n",
       "    <tr>\n",
       "      <th>LRF_11_5</th>\n",
       "      <td>2.398038</td>\n",
       "      <td>70628.343509</td>\n",
       "      <td>166927.188635</td>\n",
       "      <td>136.345892</td>\n",
       "    </tr>\n",
       "    <tr>\n",
       "      <th>LRF_11_2</th>\n",
       "      <td>1.529358</td>\n",
       "      <td>92412.713414</td>\n",
       "      <td>233488.883421</td>\n",
       "      <td>152.658833</td>\n",
       "    </tr>\n",
       "    <tr>\n",
       "      <th>LRF_30_5</th>\n",
       "      <td>4.918420</td>\n",
       "      <td>96322.889903</td>\n",
       "      <td>366735.548192</td>\n",
       "      <td>280.735616</td>\n",
       "    </tr>\n",
       "    <tr>\n",
       "      <th>LRF_20_2</th>\n",
       "      <td>3.267013</td>\n",
       "      <td>139098.562567</td>\n",
       "      <td>428919.463191</td>\n",
       "      <td>208.356503</td>\n",
       "    </tr>\n",
       "    <tr>\n",
       "      <th>LRF_20_10</th>\n",
       "      <td>4.077895</td>\n",
       "      <td>48517.507844</td>\n",
       "      <td>661856.875098</td>\n",
       "      <td>1264.160907</td>\n",
       "    </tr>\n",
       "  </tbody>\n",
       "</table>\n",
       "<p>223 rows × 4 columns</p>\n",
       "</div>"
      ],
      "text/plain": [
       "                  Run_Time     Train_RMSE  Validation_RMSE       delta%\n",
       "LRF_2_4_l2        0.497447      36.189230        36.984222     2.196761\n",
       "LRF_5_3_l2        0.986966      38.118948        43.086564    13.031883\n",
       "LRF_5_7_l1        1.473976      36.978305        43.291587    17.072933\n",
       "LRF_2_10_en_0.25  0.142543      41.194048        44.408085     7.802189\n",
       "LRF_2_10_l2       0.556314      41.204551        44.643316     8.345595\n",
       "...                    ...            ...              ...          ...\n",
       "LRF_11_5          2.398038   70628.343509    166927.188635   136.345892\n",
       "LRF_11_2          1.529358   92412.713414    233488.883421   152.658833\n",
       "LRF_30_5          4.918420   96322.889903    366735.548192   280.735616\n",
       "LRF_20_2          3.267013  139098.562567    428919.463191   208.356503\n",
       "LRF_20_10         4.077895   48517.507844    661856.875098  1264.160907\n",
       "\n",
       "[223 rows x 4 columns]"
      ]
     },
     "execution_count": 23,
     "metadata": {},
     "output_type": "execute_result"
    }
   ],
   "source": [
    "metrics = regression(models_list, names_list, '../../../data/model_output/metrics/house_prices/lrf.csv', X_train_scaled, y_train_scaled, X_validation_scaled, y_validation_scaled)\n",
    "metrics.sort_values(by='Validation_RMSE')"
   ]
  },
  {
   "cell_type": "markdown",
   "id": "628e11db",
   "metadata": {},
   "source": [
    "We choose **LRF_2_4_l2** as the best one."
   ]
  },
  {
   "cell_type": "code",
   "execution_count": 24,
   "id": "bca8f40b",
   "metadata": {},
   "outputs": [],
   "source": [
    "test =  pd.read_parquet('../../../data/model_input/test_sets/house_prices.parquet')"
   ]
  },
  {
   "cell_type": "code",
   "execution_count": 25,
   "id": "4d20200e",
   "metadata": {},
   "outputs": [],
   "source": [
    "y_test = test.SalePrice\n",
    "X_test = test.drop(columns=['SalePrice'])"
   ]
  },
  {
   "cell_type": "code",
   "execution_count": 26,
   "id": "eadbd834",
   "metadata": {},
   "outputs": [],
   "source": [
    "retrain = pd.concat([train, validation])"
   ]
  },
  {
   "cell_type": "code",
   "execution_count": 27,
   "id": "3e102455",
   "metadata": {},
   "outputs": [],
   "source": [
    "y_retrain = retrain.SalePrice\n",
    "X_retrain = retrain.drop(columns=['SalePrice'])"
   ]
  },
  {
   "cell_type": "code",
   "execution_count": 28,
   "id": "570f3155",
   "metadata": {},
   "outputs": [],
   "source": [
    "scaler_retrain = StandardScaler().fit(X_retrain)"
   ]
  },
  {
   "cell_type": "code",
   "execution_count": 29,
   "id": "1e2b0b12",
   "metadata": {},
   "outputs": [],
   "source": [
    "X_retrain_scaled = scaler_retrain.transform(X_retrain)\n",
    "X_test_scaled = scaler_retrain.transform(X_test)"
   ]
  },
  {
   "cell_type": "code",
   "execution_count": 30,
   "id": "420e4a53",
   "metadata": {},
   "outputs": [],
   "source": [
    "y_retrain_scaled = y_retrain/1000\n",
    "y_test_scaled = y_test/1000"
   ]
  },
  {
   "cell_type": "code",
   "execution_count": 57,
   "id": "0d8600b1",
   "metadata": {},
   "outputs": [],
   "source": [
    "time1 = time.time()\n",
    "model = LinearRandomForestRegressor(n_features=X_retrain.shape[1], est=LinearTreeRegressor(base_estimator=Ridge(), max_depth=4), n_est=2).fit(X_retrain_scaled, y_retrain_scaled)\n",
    "time2 = time.time() - time1"
   ]
  },
  {
   "cell_type": "code",
   "execution_count": 58,
   "id": "496057c7",
   "metadata": {},
   "outputs": [
    {
     "name": "stdout",
     "output_type": "stream",
     "text": [
      "Test RMSE: 28.8036\n"
     ]
    }
   ],
   "source": [
    "test_pred = model.predict(X_test_scaled)\n",
    "rmse = root_mean_squared_error(y_test_scaled, test_pred)\n",
    "print('Test RMSE:', round(rmse, 4))"
   ]
  },
  {
   "cell_type": "code",
   "execution_count": 59,
   "id": "af15941e",
   "metadata": {},
   "outputs": [],
   "source": [
    "train_pred = model.predict(X_retrain_scaled)\n",
    "rmse_train = root_mean_squared_error(y_retrain_scaled, train_pred)"
   ]
  },
  {
   "cell_type": "code",
   "execution_count": 60,
   "id": "b2087029",
   "metadata": {},
   "outputs": [],
   "source": [
    "with open('../../../data/model_output/metrics/house_prices/final_metrics.txt', 'a') as f:\n",
    "     f.write(f'\\nLRF; {time2}; {rmse_train}; {rmse}')"
   ]
  },
  {
   "cell_type": "code",
   "execution_count": 61,
   "id": "7490480b",
   "metadata": {},
   "outputs": [
    {
     "data": {
      "text/plain": [
       "['../../../data/model_output/models/house_prices/best_lrf.joblib']"
      ]
     },
     "execution_count": 61,
     "metadata": {},
     "output_type": "execute_result"
    }
   ],
   "source": [
    "dump(model, '../../../data/model_output/models/house_prices/best_lrf.joblib')"
   ]
  },
  {
   "cell_type": "code",
   "execution_count": 63,
   "id": "0a8c852f",
   "metadata": {},
   "outputs": [
    {
     "name": "stderr",
     "output_type": "stream",
     "text": [
      "C:\\Users\\MANUEL~2\\AppData\\Local\\Temp/ipykernel_8096/3753368203.py:7: UserWarning: color is redundantly defined by the 'color' keyword argument and the fmt string \"k--\" (-> color='k'). The keyword argument will take precedence.\n",
      "  plt.plot([y_retrain_scaled.min(), y_retrain_scaled.max()], [y_retrain_scaled.min(), y_retrain_scaled.max()],\n"
     ]
    },
    {
     "data": {
      "image/png": "[encoded data removed]",
      "text/plain": [
       "<Figure size 576x432 with 1 Axes>"
      ]
     },
     "metadata": {
      "needs_background": "light"
     },
     "output_type": "display_data"
    }
   ],
   "source": [
    "prediction_retrain = model.predict(X_retrain_scaled)\n",
    "error_retrain   = prediction_retrain - y_retrain_scaled\n",
    "\n",
    "plt.figure(figsize=(8, 6))\n",
    "\n",
    "plt.scatter(y_retrain_scaled, prediction_retrain, edgecolors=(0, 0, 0), alpha = 0.4)\n",
    "plt.plot([y_retrain_scaled.min(), y_retrain_scaled.max()], [y_retrain_scaled.min(), y_retrain_scaled.max()],\n",
    "                'k--', color = 'black', lw=2)\n",
    "plt.title('Predicted value vs real (scaled) value', fontsize = 10, fontweight = \"bold\")\n",
    "plt.xlabel('Real (scaled)')\n",
    "plt.ylabel('Prediction')\n",
    "plt.tick_params(labelsize = 7)"
   ]
  },
  {
   "cell_type": "code",
   "execution_count": null,
   "id": "7ebfa6f3",
   "metadata": {},
   "outputs": [],
   "source": []
  }
 ],
 "metadata": {
  "kernelspec": {
   "display_name": "Python 3 (ipykernel)",
   "language": "python",
   "name": "python3"
  },
  "language_info": {
   "codemirror_mode": {
    "name": "ipython",
    "version": 3
   },
   "file_extension": ".py",
   "mimetype": "text/x-python",
   "name": "python",
   "nbconvert_exporter": "python",
   "pygments_lexer": "ipython3",
   "version": "3.9.7"
  }
 },
 "nbformat": 4,
 "nbformat_minor": 5
}
