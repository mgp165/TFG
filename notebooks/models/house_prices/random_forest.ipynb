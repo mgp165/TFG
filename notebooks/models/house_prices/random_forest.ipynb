{
 "cells": [
  {
   "cell_type": "markdown",
   "id": "164db2de",
   "metadata": {},
   "source": [
    "# Random Forest"
   ]
  },
  {
   "cell_type": "code",
   "execution_count": 1,
   "id": "5ada0a71",
   "metadata": {},
   "outputs": [],
   "source": [
    "from sklearn.ensemble import RandomForestRegressor\n",
    "from sklearn.metrics import root_mean_squared_error\n",
    "import pandas as pd\n",
    "from joblib import dump\n",
    "import matplotlib.pyplot as plt\n",
    "import numpy as np"
   ]
  },
  {
   "cell_type": "code",
   "execution_count": 2,
   "id": "354eb571",
   "metadata": {},
   "outputs": [],
   "source": [
    "import sys\n",
    "sys.path.append('F:\\\\Users\\\\Manuel García Plaza\\\\Desktop\\\\TFG\\\\')"
   ]
  },
  {
   "cell_type": "code",
   "execution_count": 3,
   "id": "a4e2ef40",
   "metadata": {},
   "outputs": [],
   "source": [
    "from notebooks.utils.regression_metrics import regression"
   ]
  },
  {
   "cell_type": "code",
   "execution_count": 2,
   "id": "a8ee9b02",
   "metadata": {},
   "outputs": [],
   "source": [
    "train =  pd.read_parquet('../../../data/model_input/train_sets/house_prices.parquet')\n",
    "validation =  pd.read_parquet('../../../data/model_input/validation_sets/house_prices.parquet')"
   ]
  },
  {
   "cell_type": "code",
   "execution_count": 3,
   "id": "eabf0a68",
   "metadata": {},
   "outputs": [],
   "source": [
    "y_train = train.SalePrice\n",
    "X_train = train.drop(columns=['SalePrice'])"
   ]
  },
  {
   "cell_type": "code",
   "execution_count": 4,
   "id": "f09060dc",
   "metadata": {},
   "outputs": [],
   "source": [
    "y_validation = validation.SalePrice\n",
    "X_validation = validation.drop(columns=['SalePrice'])"
   ]
  },
  {
   "cell_type": "code",
   "execution_count": 5,
   "id": "eb711ccd",
   "metadata": {},
   "outputs": [],
   "source": [
    "y_train_scaled = y_train/1000\n",
    "y_validation_scaled = y_validation/1000"
   ]
  },
  {
   "cell_type": "code",
   "execution_count": 7,
   "id": "278d3d02",
   "metadata": {},
   "outputs": [],
   "source": [
    "exploratory_depths = [1, 10, 20, 30, 40]\n",
    "exploratory_estimators = [5, 10, 20, 30, 50, 60]"
   ]
  },
  {
   "cell_type": "code",
   "execution_count": 13,
   "id": "2ce85fc3",
   "metadata": {},
   "outputs": [
    {
     "data": {
      "image/png": "[encoded data removed]",
      "text/plain": [
       "<Figure size 576x432 with 1 Axes>"
      ]
     },
     "metadata": {
      "needs_background": "light"
     },
     "output_type": "display_data"
    }
   ],
   "source": [
    "plt.figure(figsize=(8, 6))\n",
    "\n",
    "for n in exploratory_estimators:\n",
    "    plt.plot(exploratory_depths, [RandomForestRegressor(n_estimators=n, max_depth=i).fit(X_train, y_train_scaled).score(X_train, y_train_scaled) for i in exploratory_depths], \n",
    "             marker= 'o', label='RF_'+str(n))\n",
    "    \n",
    "plt.xlabel('Maximum Depths')\n",
    "plt.ylabel('Score')\n",
    "plt.legend()\n",
    "plt.show()"
   ]
  },
  {
   "cell_type": "code",
   "execution_count": 31,
   "id": "4643a6cf",
   "metadata": {},
   "outputs": [],
   "source": [
    "max_depth = [1, 3, 5, 7, 10, 12, 15, 17, 20, 22, 25]\n",
    "n_estimators = [1, 5, 10, 15, 20, 25, 30]"
   ]
  },
  {
   "cell_type": "code",
   "execution_count": 32,
   "id": "49067a8c",
   "metadata": {},
   "outputs": [],
   "source": [
    "models_list = []\n",
    "names_list = []\n",
    "for n in n_estimators:\n",
    "    for i in max_depth:\n",
    "        models_list.append(RandomForestRegressor(n_estimators=n, max_depth=i))\n",
    "        names_list.append('RF_'+str(n)+'_'+str(i))"
   ]
  },
  {
   "cell_type": "code",
   "execution_count": 33,
   "id": "ab41a605",
   "metadata": {},
   "outputs": [
    {
     "data": {
      "text/html": [
       "<div>\n",
       "<style scoped>\n",
       "    .dataframe tbody tr th:only-of-type {\n",
       "        vertical-align: middle;\n",
       "    }\n",
       "\n",
       "    .dataframe tbody tr th {\n",
       "        vertical-align: top;\n",
       "    }\n",
       "\n",
       "    .dataframe thead th {\n",
       "        text-align: right;\n",
       "    }\n",
       "</style>\n",
       "<table border=\"1\" class=\"dataframe\">\n",
       "  <thead>\n",
       "    <tr style=\"text-align: right;\">\n",
       "      <th></th>\n",
       "      <th>Run_Time</th>\n",
       "      <th>Train_RMSE</th>\n",
       "      <th>Validation_RMSE</th>\n",
       "      <th>delta%</th>\n",
       "    </tr>\n",
       "  </thead>\n",
       "  <tbody>\n",
       "    <tr>\n",
       "      <th>RF_1_1</th>\n",
       "      <td>0.026954</td>\n",
       "      <td>60.164347</td>\n",
       "      <td>61.555656</td>\n",
       "      <td>2.312514</td>\n",
       "    </tr>\n",
       "    <tr>\n",
       "      <th>RF_1_3</th>\n",
       "      <td>0.024929</td>\n",
       "      <td>43.718720</td>\n",
       "      <td>47.550681</td>\n",
       "      <td>8.765036</td>\n",
       "    </tr>\n",
       "    <tr>\n",
       "      <th>RF_1_5</th>\n",
       "      <td>0.028933</td>\n",
       "      <td>33.075820</td>\n",
       "      <td>44.926575</td>\n",
       "      <td>35.829061</td>\n",
       "    </tr>\n",
       "    <tr>\n",
       "      <th>RF_1_7</th>\n",
       "      <td>0.035903</td>\n",
       "      <td>28.479468</td>\n",
       "      <td>42.185200</td>\n",
       "      <td>48.124958</td>\n",
       "    </tr>\n",
       "    <tr>\n",
       "      <th>RF_1_10</th>\n",
       "      <td>0.041399</td>\n",
       "      <td>27.860456</td>\n",
       "      <td>53.017619</td>\n",
       "      <td>90.297025</td>\n",
       "    </tr>\n",
       "    <tr>\n",
       "      <th>...</th>\n",
       "      <td>...</td>\n",
       "      <td>...</td>\n",
       "      <td>...</td>\n",
       "      <td>...</td>\n",
       "    </tr>\n",
       "    <tr>\n",
       "      <th>RF_30_15</th>\n",
       "      <td>0.989206</td>\n",
       "      <td>12.568469</td>\n",
       "      <td>31.113739</td>\n",
       "      <td>147.553926</td>\n",
       "    </tr>\n",
       "    <tr>\n",
       "      <th>RF_30_17</th>\n",
       "      <td>0.982400</td>\n",
       "      <td>12.457179</td>\n",
       "      <td>29.487307</td>\n",
       "      <td>136.709339</td>\n",
       "    </tr>\n",
       "    <tr>\n",
       "      <th>RF_30_20</th>\n",
       "      <td>0.981764</td>\n",
       "      <td>13.249489</td>\n",
       "      <td>29.814191</td>\n",
       "      <td>125.021439</td>\n",
       "    </tr>\n",
       "    <tr>\n",
       "      <th>RF_30_22</th>\n",
       "      <td>1.034036</td>\n",
       "      <td>11.105563</td>\n",
       "      <td>29.387379</td>\n",
       "      <td>164.618552</td>\n",
       "    </tr>\n",
       "    <tr>\n",
       "      <th>RF_30_25</th>\n",
       "      <td>0.986423</td>\n",
       "      <td>11.681481</td>\n",
       "      <td>30.759087</td>\n",
       "      <td>163.314951</td>\n",
       "    </tr>\n",
       "  </tbody>\n",
       "</table>\n",
       "<p>77 rows × 4 columns</p>\n",
       "</div>"
      ],
      "text/plain": [
       "          Run_Time  Train_RMSE  Validation_RMSE      delta%\n",
       "RF_1_1    0.026954   60.164347        61.555656    2.312514\n",
       "RF_1_3    0.024929   43.718720        47.550681    8.765036\n",
       "RF_1_5    0.028933   33.075820        44.926575   35.829061\n",
       "RF_1_7    0.035903   28.479468        42.185200   48.124958\n",
       "RF_1_10   0.041399   27.860456        53.017619   90.297025\n",
       "...            ...         ...              ...         ...\n",
       "RF_30_15  0.989206   12.568469        31.113739  147.553926\n",
       "RF_30_17  0.982400   12.457179        29.487307  136.709339\n",
       "RF_30_20  0.981764   13.249489        29.814191  125.021439\n",
       "RF_30_22  1.034036   11.105563        29.387379  164.618552\n",
       "RF_30_25  0.986423   11.681481        30.759087  163.314951\n",
       "\n",
       "[77 rows x 4 columns]"
      ]
     },
     "execution_count": 33,
     "metadata": {},
     "output_type": "execute_result"
    }
   ],
   "source": [
    "metrics = regression(models_list, names_list, '../../../data/model_output/metrics/house_prices/random_forest.csv', X_train, y_train_scaled, X_validation, y_validation_scaled, metrics={})\n",
    "metrics"
   ]
  },
  {
   "cell_type": "code",
   "execution_count": 34,
   "id": "5b5b9ca9",
   "metadata": {},
   "outputs": [
    {
     "data": {
      "text/html": [
       "<div>\n",
       "<style scoped>\n",
       "    .dataframe tbody tr th:only-of-type {\n",
       "        vertical-align: middle;\n",
       "    }\n",
       "\n",
       "    .dataframe tbody tr th {\n",
       "        vertical-align: top;\n",
       "    }\n",
       "\n",
       "    .dataframe thead th {\n",
       "        text-align: right;\n",
       "    }\n",
       "</style>\n",
       "<table border=\"1\" class=\"dataframe\">\n",
       "  <thead>\n",
       "    <tr style=\"text-align: right;\">\n",
       "      <th></th>\n",
       "      <th>Run_Time</th>\n",
       "      <th>Train_RMSE</th>\n",
       "      <th>Validation_RMSE</th>\n",
       "      <th>delta%</th>\n",
       "    </tr>\n",
       "  </thead>\n",
       "  <tbody>\n",
       "    <tr>\n",
       "      <th>RF_10_3</th>\n",
       "      <td>0.088063</td>\n",
       "      <td>35.581693</td>\n",
       "      <td>37.397931</td>\n",
       "      <td>5.104419</td>\n",
       "    </tr>\n",
       "    <tr>\n",
       "      <th>RF_15_3</th>\n",
       "      <td>0.133643</td>\n",
       "      <td>35.352964</td>\n",
       "      <td>39.009744</td>\n",
       "      <td>10.343628</td>\n",
       "    </tr>\n",
       "    <tr>\n",
       "      <th>RF_25_3</th>\n",
       "      <td>0.234370</td>\n",
       "      <td>34.890646</td>\n",
       "      <td>39.382291</td>\n",
       "      <td>12.873494</td>\n",
       "    </tr>\n",
       "    <tr>\n",
       "      <th>RF_30_3</th>\n",
       "      <td>0.228924</td>\n",
       "      <td>35.546969</td>\n",
       "      <td>39.546837</td>\n",
       "      <td>11.252345</td>\n",
       "    </tr>\n",
       "    <tr>\n",
       "      <th>RF_5_3</th>\n",
       "      <td>0.050864</td>\n",
       "      <td>36.131738</td>\n",
       "      <td>39.891316</td>\n",
       "      <td>10.405194</td>\n",
       "    </tr>\n",
       "    <tr>\n",
       "      <th>RF_20_3</th>\n",
       "      <td>0.156758</td>\n",
       "      <td>34.536992</td>\n",
       "      <td>39.923361</td>\n",
       "      <td>15.595941</td>\n",
       "    </tr>\n",
       "    <tr>\n",
       "      <th>RF_1_3</th>\n",
       "      <td>0.024929</td>\n",
       "      <td>43.718720</td>\n",
       "      <td>47.550681</td>\n",
       "      <td>8.765036</td>\n",
       "    </tr>\n",
       "    <tr>\n",
       "      <th>RF_5_1</th>\n",
       "      <td>0.029920</td>\n",
       "      <td>54.405731</td>\n",
       "      <td>56.109751</td>\n",
       "      <td>3.132059</td>\n",
       "    </tr>\n",
       "    <tr>\n",
       "      <th>RF_20_1</th>\n",
       "      <td>0.076489</td>\n",
       "      <td>55.303253</td>\n",
       "      <td>57.276426</td>\n",
       "      <td>3.567914</td>\n",
       "    </tr>\n",
       "    <tr>\n",
       "      <th>RF_15_1</th>\n",
       "      <td>0.067845</td>\n",
       "      <td>55.545400</td>\n",
       "      <td>57.580817</td>\n",
       "      <td>3.664420</td>\n",
       "    </tr>\n",
       "    <tr>\n",
       "      <th>RF_30_1</th>\n",
       "      <td>0.108708</td>\n",
       "      <td>55.925450</td>\n",
       "      <td>57.991592</td>\n",
       "      <td>3.694458</td>\n",
       "    </tr>\n",
       "    <tr>\n",
       "      <th>RF_25_1</th>\n",
       "      <td>0.113699</td>\n",
       "      <td>56.473837</td>\n",
       "      <td>58.643882</td>\n",
       "      <td>3.842567</td>\n",
       "    </tr>\n",
       "    <tr>\n",
       "      <th>RF_10_1</th>\n",
       "      <td>0.050863</td>\n",
       "      <td>58.591587</td>\n",
       "      <td>60.997915</td>\n",
       "      <td>4.106950</td>\n",
       "    </tr>\n",
       "    <tr>\n",
       "      <th>RF_1_1</th>\n",
       "      <td>0.026954</td>\n",
       "      <td>60.164347</td>\n",
       "      <td>61.555656</td>\n",
       "      <td>2.312514</td>\n",
       "    </tr>\n",
       "  </tbody>\n",
       "</table>\n",
       "</div>"
      ],
      "text/plain": [
       "         Run_Time  Train_RMSE  Validation_RMSE     delta%\n",
       "RF_10_3  0.088063   35.581693        37.397931   5.104419\n",
       "RF_15_3  0.133643   35.352964        39.009744  10.343628\n",
       "RF_25_3  0.234370   34.890646        39.382291  12.873494\n",
       "RF_30_3  0.228924   35.546969        39.546837  11.252345\n",
       "RF_5_3   0.050864   36.131738        39.891316  10.405194\n",
       "RF_20_3  0.156758   34.536992        39.923361  15.595941\n",
       "RF_1_3   0.024929   43.718720        47.550681   8.765036\n",
       "RF_5_1   0.029920   54.405731        56.109751   3.132059\n",
       "RF_20_1  0.076489   55.303253        57.276426   3.567914\n",
       "RF_15_1  0.067845   55.545400        57.580817   3.664420\n",
       "RF_30_1  0.108708   55.925450        57.991592   3.694458\n",
       "RF_25_1  0.113699   56.473837        58.643882   3.842567\n",
       "RF_10_1  0.050863   58.591587        60.997915   4.106950\n",
       "RF_1_1   0.026954   60.164347        61.555656   2.312514"
      ]
     },
     "execution_count": 34,
     "metadata": {},
     "output_type": "execute_result"
    }
   ],
   "source": [
    "metrics[metrics['delta%']<20].sort_values(by='Validation_RMSE')"
   ]
  },
  {
   "cell_type": "markdown",
   "id": "dbce365f",
   "metadata": {},
   "source": [
    "Then, we continue with **RF_10_3**."
   ]
  },
  {
   "cell_type": "code",
   "execution_count": 6,
   "id": "e91bc20f",
   "metadata": {},
   "outputs": [],
   "source": [
    "test =  pd.read_parquet('../../../data/model_input/test_sets/house_prices.parquet')"
   ]
  },
  {
   "cell_type": "code",
   "execution_count": 7,
   "id": "ad8aa8a9",
   "metadata": {},
   "outputs": [],
   "source": [
    "y_test = test.SalePrice\n",
    "X_test = test.drop(columns=['SalePrice'])"
   ]
  },
  {
   "cell_type": "code",
   "execution_count": 8,
   "id": "84ee386e",
   "metadata": {},
   "outputs": [],
   "source": [
    "retrain = pd.concat([train, validation])"
   ]
  },
  {
   "cell_type": "code",
   "execution_count": 9,
   "id": "b94cb79d",
   "metadata": {},
   "outputs": [],
   "source": [
    "y_retrain = retrain.SalePrice\n",
    "X_retrain = retrain.drop(columns=['SalePrice'])"
   ]
  },
  {
   "cell_type": "code",
   "execution_count": 10,
   "id": "5da76338",
   "metadata": {},
   "outputs": [],
   "source": [
    "y_retrain_scaled = y_retrain/1000\n",
    "y_test_scaled = y_test/1000"
   ]
  },
  {
   "cell_type": "code",
   "execution_count": 35,
   "id": "61aa98b5",
   "metadata": {},
   "outputs": [],
   "source": [
    "model = RandomForestRegressor(n_estimators=10, max_depth=3).fit(X_retrain, y_retrain_scaled)"
   ]
  },
  {
   "cell_type": "code",
   "execution_count": 36,
   "id": "6466eead",
   "metadata": {},
   "outputs": [
    {
     "name": "stdout",
     "output_type": "stream",
     "text": [
      "Test RMSE: 37.9263\n"
     ]
    }
   ],
   "source": [
    "test_pred = model.predict(X_test)\n",
    "rmse = root_mean_squared_error(y_test_scaled, test_pred)\n",
    "print('Test RMSE:', round(rmse, 4))"
   ]
  },
  {
   "cell_type": "markdown",
   "id": "42467766",
   "metadata": {},
   "source": [
    "It performs as expected"
   ]
  },
  {
   "cell_type": "code",
   "execution_count": 37,
   "id": "82c33b01",
   "metadata": {},
   "outputs": [
    {
     "data": {
      "text/plain": [
       "['best_random_forest.joblib']"
      ]
     },
     "execution_count": 37,
     "metadata": {},
     "output_type": "execute_result"
    }
   ],
   "source": [
    "dump(model, '../../../data/model_output/models/house_prices/best_random_forest.joblib')"
   ]
  },
  {
   "cell_type": "code",
   "execution_count": 38,
   "id": "7024daa1",
   "metadata": {},
   "outputs": [],
   "source": [
    "with open('../../../data/model_output/metrics/house_prices/final_RMSE.txt', 'a') as f:\n",
    "    f.write('\\nRF, '+ str(rmse))"
   ]
  },
  {
   "cell_type": "code",
   "execution_count": 39,
   "id": "7ed1aea2",
   "metadata": {},
   "outputs": [
    {
     "name": "stderr",
     "output_type": "stream",
     "text": [
      "C:\\Users\\MANUEL~2\\AppData\\Local\\Temp/ipykernel_6516/3867665254.py:7: UserWarning: color is redundantly defined by the 'color' keyword argument and the fmt string \"k--\" (-> color='k'). The keyword argument will take precedence.\n",
      "  plt.plot([y_retrain_scaled.min(), y_retrain_scaled.max()], [y_retrain_scaled.min(), y_retrain_scaled.max()],\n"
     ]
    },
    {
     "data": {
      "image/png": "[encoded data removed]",
      "text/plain": [
       "<Figure size 576x432 with 1 Axes>"
      ]
     },
     "metadata": {
      "needs_background": "light"
     },
     "output_type": "display_data"
    }
   ],
   "source": [
    "prediction_retrain = model.predict(X_retrain)\n",
    "error_retrain   = prediction_retrain - y_retrain_scaled\n",
    "\n",
    "plt.figure(figsize=(8, 6))\n",
    "\n",
    "plt.scatter(y_retrain_scaled, prediction_retrain, edgecolors=(0, 0, 0), alpha = 0.4)\n",
    "plt.plot([y_retrain_scaled.min(), y_retrain_scaled.max()], [y_retrain_scaled.min(), y_retrain_scaled.max()],\n",
    "                'k--', color = 'black', lw=2)\n",
    "plt.title('Predicted value vs real (scaled) value', fontsize = 10, fontweight = \"bold\")\n",
    "plt.xlabel('Real (scaled)')\n",
    "plt.ylabel('Prediction')\n",
    "plt.tick_params(labelsize = 7)"
   ]
  },
  {
   "cell_type": "code",
   "execution_count": 11,
   "id": "b98db2b8",
   "metadata": {},
   "outputs": [],
   "source": [
    "from joblib import load\n",
    "load_mod = load('../../../data/model_output/models/house_prices/best_random_forest.joblib')\n",
    "\n",
    "train_pred = load_mod.predict(X_retrain)\n",
    "rmse_train = root_mean_squared_error(y_retrain_scaled, train_pred)\n",
    "test_pred = load_mod.predict(X_test)\n",
    "rmse_test = root_mean_squared_error(y_test_scaled, test_pred)"
   ]
  },
  {
   "cell_type": "code",
   "execution_count": 12,
   "id": "6d25660e",
   "metadata": {},
   "outputs": [],
   "source": [
    "import time \n",
    "time1 = time.time()\n",
    "RandomForestRegressor(n_estimators=10, max_depth=3).fit(X_retrain, y_retrain_scaled)\n",
    "time2 = time.time() - time1 \n",
    "\n",
    "with open('../../../data/model_output/metrics/house_prices/final_metrics.txt', 'a') as f:\n",
    "     f.write(f'\\nRF; {time2}; {rmse_train}; {rmse_test}')"
   ]
  },
  {
   "cell_type": "code",
   "execution_count": null,
   "id": "9466b680",
   "metadata": {},
   "outputs": [],
   "source": []
  }
 ],
 "metadata": {
  "kernelspec": {
   "display_name": "Python 3 (ipykernel)",
   "language": "python",
   "name": "python3"
  },
  "language_info": {
   "codemirror_mode": {
    "name": "ipython",
    "version": 3
   },
   "file_extension": ".py",
   "mimetype": "text/x-python",
   "name": "python",
   "nbconvert_exporter": "python",
   "pygments_lexer": "ipython3",
   "version": "3.9.7"
  }
 },
 "nbformat": 4,
 "nbformat_minor": 5
}
