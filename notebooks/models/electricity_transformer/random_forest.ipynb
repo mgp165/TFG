{
 "cells": [
  {
   "cell_type": "markdown",
   "id": "2407b21c",
   "metadata": {},
   "source": [
    "# Random Forest"
   ]
  },
  {
   "cell_type": "code",
   "execution_count": 1,
   "id": "47a906b2",
   "metadata": {},
   "outputs": [],
   "source": [
    "from sklearn.ensemble import RandomForestRegressor\n",
    "from sklearn.metrics import root_mean_squared_error\n",
    "import pandas as pd\n",
    "from joblib import dump\n",
    "import matplotlib.pyplot as plt\n",
    "import numpy as np"
   ]
  },
  {
   "cell_type": "code",
   "execution_count": 2,
   "id": "c583836f",
   "metadata": {},
   "outputs": [],
   "source": [
    "import sys\n",
    "sys.path.append('F:\\\\Users\\\\Manuel García Plaza\\\\Desktop\\\\TFG\\\\')"
   ]
  },
  {
   "cell_type": "code",
   "execution_count": 3,
   "id": "46f023e6",
   "metadata": {},
   "outputs": [],
   "source": [
    "from notebooks.utils.regression_metrics import regression"
   ]
  },
  {
   "cell_type": "code",
   "execution_count": 2,
   "id": "7fd574df",
   "metadata": {},
   "outputs": [],
   "source": [
    "train =  pd.read_parquet('../../../data/model_input/train_sets/electricity_transformer.parquet')\n",
    "validation =  pd.read_parquet('../../../data/model_input/validation_sets/electricity_transformer.parquet')"
   ]
  },
  {
   "cell_type": "code",
   "execution_count": 3,
   "id": "98bdb25e",
   "metadata": {},
   "outputs": [],
   "source": [
    "y_train = train.OT_next\n",
    "X_train = train.drop(columns=['date', 'OT_next'])"
   ]
  },
  {
   "cell_type": "code",
   "execution_count": 4,
   "id": "f27f1cbe",
   "metadata": {},
   "outputs": [],
   "source": [
    "y_validation = validation.OT_next\n",
    "X_validation = validation.drop(columns=['date', 'OT_next'])"
   ]
  },
  {
   "cell_type": "code",
   "execution_count": 7,
   "id": "ad246934",
   "metadata": {},
   "outputs": [],
   "source": [
    "exploratory_depths = [1, 10, 20, 30, 40, 50]\n",
    "exploratory_estimators = [5, 10, 20, 30, 50, 60, 100]"
   ]
  },
  {
   "cell_type": "code",
   "execution_count": 8,
   "id": "7acb1c35",
   "metadata": {},
   "outputs": [
    {
     "data": {
      "image/png": "[encoded data removed]",
      "text/plain": [
       "<Figure size 576x432 with 1 Axes>"
      ]
     },
     "metadata": {
      "needs_background": "light"
     },
     "output_type": "display_data"
    }
   ],
   "source": [
    "plt.figure(figsize=(8, 6))\n",
    "\n",
    "for n in exploratory_estimators:\n",
    "    plt.plot(exploratory_depths, [RandomForestRegressor(n_estimators=n, max_depth=i).fit(X_train, y_train).score(X_train, y_train) for i in exploratory_depths], \n",
    "             marker= 'o', label='RF_'+str(n))\n",
    "    \n",
    "plt.xlabel('Maximum Depths')\n",
    "plt.ylabel('Score')\n",
    "plt.legend()\n",
    "plt.show()"
   ]
  },
  {
   "cell_type": "markdown",
   "id": "b90bbd30",
   "metadata": {},
   "source": [
    "Literally null improvals on number of trees and depth from 10 and above"
   ]
  },
  {
   "cell_type": "code",
   "execution_count": 9,
   "id": "0d71ad2b",
   "metadata": {},
   "outputs": [],
   "source": [
    "max_depth = [1, 3, 5, 7, 10, 12, 15]\n",
    "n_estimators = [1, 5, 10, 15, 20]"
   ]
  },
  {
   "cell_type": "code",
   "execution_count": 10,
   "id": "08f0c555",
   "metadata": {},
   "outputs": [],
   "source": [
    "models_list = []\n",
    "names_list = []\n",
    "for n in n_estimators:\n",
    "    for i in max_depth:\n",
    "        models_list.append(RandomForestRegressor(n_estimators=n, max_depth=i))\n",
    "        names_list.append('RF_'+str(n)+'_'+str(i))"
   ]
  },
  {
   "cell_type": "code",
   "execution_count": 11,
   "id": "c380c293",
   "metadata": {},
   "outputs": [
    {
     "data": {
      "text/html": [
       "<div>\n",
       "<style scoped>\n",
       "    .dataframe tbody tr th:only-of-type {\n",
       "        vertical-align: middle;\n",
       "    }\n",
       "\n",
       "    .dataframe tbody tr th {\n",
       "        vertical-align: top;\n",
       "    }\n",
       "\n",
       "    .dataframe thead th {\n",
       "        text-align: right;\n",
       "    }\n",
       "</style>\n",
       "<table border=\"1\" class=\"dataframe\">\n",
       "  <thead>\n",
       "    <tr style=\"text-align: right;\">\n",
       "      <th></th>\n",
       "      <th>Run_Time</th>\n",
       "      <th>Train_RMSE</th>\n",
       "      <th>Validation_RMSE</th>\n",
       "      <th>delta%</th>\n",
       "    </tr>\n",
       "  </thead>\n",
       "  <tbody>\n",
       "    <tr>\n",
       "      <th>RF_1_1</th>\n",
       "      <td>0.273299</td>\n",
       "      <td>5.022048</td>\n",
       "      <td>8.106026</td>\n",
       "      <td>61.408770</td>\n",
       "    </tr>\n",
       "    <tr>\n",
       "      <th>RF_1_3</th>\n",
       "      <td>0.569477</td>\n",
       "      <td>1.469362</td>\n",
       "      <td>2.895712</td>\n",
       "      <td>97.072794</td>\n",
       "    </tr>\n",
       "    <tr>\n",
       "      <th>RF_1_5</th>\n",
       "      <td>0.916517</td>\n",
       "      <td>0.619592</td>\n",
       "      <td>0.896463</td>\n",
       "      <td>44.686081</td>\n",
       "    </tr>\n",
       "    <tr>\n",
       "      <th>RF_1_7</th>\n",
       "      <td>1.298553</td>\n",
       "      <td>0.500300</td>\n",
       "      <td>0.374653</td>\n",
       "      <td>-25.114319</td>\n",
       "    </tr>\n",
       "    <tr>\n",
       "      <th>RF_1_10</th>\n",
       "      <td>2.063474</td>\n",
       "      <td>0.476727</td>\n",
       "      <td>0.397973</td>\n",
       "      <td>-16.519658</td>\n",
       "    </tr>\n",
       "    <tr>\n",
       "      <th>RF_1_12</th>\n",
       "      <td>2.521235</td>\n",
       "      <td>0.452638</td>\n",
       "      <td>0.467035</td>\n",
       "      <td>3.180763</td>\n",
       "    </tr>\n",
       "    <tr>\n",
       "      <th>RF_1_15</th>\n",
       "      <td>3.203430</td>\n",
       "      <td>0.441761</td>\n",
       "      <td>0.557831</td>\n",
       "      <td>26.274237</td>\n",
       "    </tr>\n",
       "    <tr>\n",
       "      <th>RF_5_1</th>\n",
       "      <td>0.929514</td>\n",
       "      <td>4.997810</td>\n",
       "      <td>8.066569</td>\n",
       "      <td>61.402088</td>\n",
       "    </tr>\n",
       "    <tr>\n",
       "      <th>RF_5_3</th>\n",
       "      <td>2.575111</td>\n",
       "      <td>1.385823</td>\n",
       "      <td>2.733442</td>\n",
       "      <td>97.243199</td>\n",
       "    </tr>\n",
       "    <tr>\n",
       "      <th>RF_5_5</th>\n",
       "      <td>4.246667</td>\n",
       "      <td>0.566642</td>\n",
       "      <td>0.824573</td>\n",
       "      <td>45.519110</td>\n",
       "    </tr>\n",
       "    <tr>\n",
       "      <th>RF_5_7</th>\n",
       "      <td>6.310092</td>\n",
       "      <td>0.476932</td>\n",
       "      <td>0.327145</td>\n",
       "      <td>-31.406409</td>\n",
       "    </tr>\n",
       "    <tr>\n",
       "      <th>RF_5_10</th>\n",
       "      <td>9.717039</td>\n",
       "      <td>0.422836</td>\n",
       "      <td>0.355019</td>\n",
       "      <td>-16.038626</td>\n",
       "    </tr>\n",
       "    <tr>\n",
       "      <th>RF_5_12</th>\n",
       "      <td>12.190357</td>\n",
       "      <td>0.382957</td>\n",
       "      <td>0.427866</td>\n",
       "      <td>11.726911</td>\n",
       "    </tr>\n",
       "    <tr>\n",
       "      <th>RF_5_15</th>\n",
       "      <td>15.967286</td>\n",
       "      <td>0.330237</td>\n",
       "      <td>0.425565</td>\n",
       "      <td>28.866460</td>\n",
       "    </tr>\n",
       "    <tr>\n",
       "      <th>RF_10_1</th>\n",
       "      <td>1.775251</td>\n",
       "      <td>4.978210</td>\n",
       "      <td>8.103242</td>\n",
       "      <td>62.774209</td>\n",
       "    </tr>\n",
       "    <tr>\n",
       "      <th>RF_10_3</th>\n",
       "      <td>5.110360</td>\n",
       "      <td>1.377392</td>\n",
       "      <td>2.760706</td>\n",
       "      <td>100.429915</td>\n",
       "    </tr>\n",
       "    <tr>\n",
       "      <th>RF_10_5</th>\n",
       "      <td>8.419447</td>\n",
       "      <td>0.557859</td>\n",
       "      <td>0.712507</td>\n",
       "      <td>27.721567</td>\n",
       "    </tr>\n",
       "    <tr>\n",
       "      <th>RF_10_7</th>\n",
       "      <td>12.378885</td>\n",
       "      <td>0.473434</td>\n",
       "      <td>0.323869</td>\n",
       "      <td>-31.591529</td>\n",
       "    </tr>\n",
       "    <tr>\n",
       "      <th>RF_10_10</th>\n",
       "      <td>19.441990</td>\n",
       "      <td>0.414424</td>\n",
       "      <td>0.386409</td>\n",
       "      <td>-6.760004</td>\n",
       "    </tr>\n",
       "    <tr>\n",
       "      <th>RF_10_12</th>\n",
       "      <td>24.317975</td>\n",
       "      <td>0.373221</td>\n",
       "      <td>0.349948</td>\n",
       "      <td>-6.235781</td>\n",
       "    </tr>\n",
       "    <tr>\n",
       "      <th>RF_10_15</th>\n",
       "      <td>31.785973</td>\n",
       "      <td>0.313078</td>\n",
       "      <td>0.395422</td>\n",
       "      <td>26.301385</td>\n",
       "    </tr>\n",
       "    <tr>\n",
       "      <th>RF_15_1</th>\n",
       "      <td>2.644893</td>\n",
       "      <td>4.991082</td>\n",
       "      <td>8.094218</td>\n",
       "      <td>62.173622</td>\n",
       "    </tr>\n",
       "    <tr>\n",
       "      <th>RF_15_3</th>\n",
       "      <td>7.528859</td>\n",
       "      <td>1.400847</td>\n",
       "      <td>2.747798</td>\n",
       "      <td>96.152649</td>\n",
       "    </tr>\n",
       "    <tr>\n",
       "      <th>RF_15_5</th>\n",
       "      <td>12.621238</td>\n",
       "      <td>0.559599</td>\n",
       "      <td>0.723764</td>\n",
       "      <td>29.336214</td>\n",
       "    </tr>\n",
       "    <tr>\n",
       "      <th>RF_15_7</th>\n",
       "      <td>18.722589</td>\n",
       "      <td>0.473006</td>\n",
       "      <td>0.320391</td>\n",
       "      <td>-32.265045</td>\n",
       "    </tr>\n",
       "    <tr>\n",
       "      <th>RF_15_10</th>\n",
       "      <td>29.434240</td>\n",
       "      <td>0.412655</td>\n",
       "      <td>0.371163</td>\n",
       "      <td>-10.054871</td>\n",
       "    </tr>\n",
       "    <tr>\n",
       "      <th>RF_15_12</th>\n",
       "      <td>37.241390</td>\n",
       "      <td>0.369348</td>\n",
       "      <td>0.339188</td>\n",
       "      <td>-8.165782</td>\n",
       "    </tr>\n",
       "    <tr>\n",
       "      <th>RF_15_15</th>\n",
       "      <td>47.479986</td>\n",
       "      <td>0.309910</td>\n",
       "      <td>0.357272</td>\n",
       "      <td>15.282606</td>\n",
       "    </tr>\n",
       "    <tr>\n",
       "      <th>RF_20_1</th>\n",
       "      <td>3.498635</td>\n",
       "      <td>4.988233</td>\n",
       "      <td>8.108739</td>\n",
       "      <td>62.557333</td>\n",
       "    </tr>\n",
       "    <tr>\n",
       "      <th>RF_20_3</th>\n",
       "      <td>10.027187</td>\n",
       "      <td>1.387314</td>\n",
       "      <td>2.761857</td>\n",
       "      <td>99.079512</td>\n",
       "    </tr>\n",
       "    <tr>\n",
       "      <th>RF_20_5</th>\n",
       "      <td>16.836958</td>\n",
       "      <td>0.557390</td>\n",
       "      <td>0.723731</td>\n",
       "      <td>29.842788</td>\n",
       "    </tr>\n",
       "    <tr>\n",
       "      <th>RF_20_7</th>\n",
       "      <td>24.806727</td>\n",
       "      <td>0.472270</td>\n",
       "      <td>0.329288</td>\n",
       "      <td>-30.275597</td>\n",
       "    </tr>\n",
       "    <tr>\n",
       "      <th>RF_20_10</th>\n",
       "      <td>38.960115</td>\n",
       "      <td>0.412080</td>\n",
       "      <td>0.361011</td>\n",
       "      <td>-12.392963</td>\n",
       "    </tr>\n",
       "    <tr>\n",
       "      <th>RF_20_12</th>\n",
       "      <td>48.886337</td>\n",
       "      <td>0.366449</td>\n",
       "      <td>0.376523</td>\n",
       "      <td>2.749251</td>\n",
       "    </tr>\n",
       "    <tr>\n",
       "      <th>RF_20_15</th>\n",
       "      <td>63.250104</td>\n",
       "      <td>0.306740</td>\n",
       "      <td>0.353018</td>\n",
       "      <td>15.087146</td>\n",
       "    </tr>\n",
       "  </tbody>\n",
       "</table>\n",
       "</div>"
      ],
      "text/plain": [
       "           Run_Time  Train_RMSE  Validation_RMSE      delta%\n",
       "RF_1_1     0.273299    5.022048         8.106026   61.408770\n",
       "RF_1_3     0.569477    1.469362         2.895712   97.072794\n",
       "RF_1_5     0.916517    0.619592         0.896463   44.686081\n",
       "RF_1_7     1.298553    0.500300         0.374653  -25.114319\n",
       "RF_1_10    2.063474    0.476727         0.397973  -16.519658\n",
       "RF_1_12    2.521235    0.452638         0.467035    3.180763\n",
       "RF_1_15    3.203430    0.441761         0.557831   26.274237\n",
       "RF_5_1     0.929514    4.997810         8.066569   61.402088\n",
       "RF_5_3     2.575111    1.385823         2.733442   97.243199\n",
       "RF_5_5     4.246667    0.566642         0.824573   45.519110\n",
       "RF_5_7     6.310092    0.476932         0.327145  -31.406409\n",
       "RF_5_10    9.717039    0.422836         0.355019  -16.038626\n",
       "RF_5_12   12.190357    0.382957         0.427866   11.726911\n",
       "RF_5_15   15.967286    0.330237         0.425565   28.866460\n",
       "RF_10_1    1.775251    4.978210         8.103242   62.774209\n",
       "RF_10_3    5.110360    1.377392         2.760706  100.429915\n",
       "RF_10_5    8.419447    0.557859         0.712507   27.721567\n",
       "RF_10_7   12.378885    0.473434         0.323869  -31.591529\n",
       "RF_10_10  19.441990    0.414424         0.386409   -6.760004\n",
       "RF_10_12  24.317975    0.373221         0.349948   -6.235781\n",
       "RF_10_15  31.785973    0.313078         0.395422   26.301385\n",
       "RF_15_1    2.644893    4.991082         8.094218   62.173622\n",
       "RF_15_3    7.528859    1.400847         2.747798   96.152649\n",
       "RF_15_5   12.621238    0.559599         0.723764   29.336214\n",
       "RF_15_7   18.722589    0.473006         0.320391  -32.265045\n",
       "RF_15_10  29.434240    0.412655         0.371163  -10.054871\n",
       "RF_15_12  37.241390    0.369348         0.339188   -8.165782\n",
       "RF_15_15  47.479986    0.309910         0.357272   15.282606\n",
       "RF_20_1    3.498635    4.988233         8.108739   62.557333\n",
       "RF_20_3   10.027187    1.387314         2.761857   99.079512\n",
       "RF_20_5   16.836958    0.557390         0.723731   29.842788\n",
       "RF_20_7   24.806727    0.472270         0.329288  -30.275597\n",
       "RF_20_10  38.960115    0.412080         0.361011  -12.392963\n",
       "RF_20_12  48.886337    0.366449         0.376523    2.749251\n",
       "RF_20_15  63.250104    0.306740         0.353018   15.087146"
      ]
     },
     "execution_count": 11,
     "metadata": {},
     "output_type": "execute_result"
    }
   ],
   "source": [
    "metrics = regression(models_list, names_list, '../../../data/model_output/metrics/electricity_transformer/random_forest.csv', X_train, y_train, X_validation, y_validation, metrics={})\n",
    "metrics"
   ]
  },
  {
   "cell_type": "code",
   "execution_count": 12,
   "id": "69706c0f",
   "metadata": {},
   "outputs": [
    {
     "data": {
      "text/html": [
       "<div>\n",
       "<style scoped>\n",
       "    .dataframe tbody tr th:only-of-type {\n",
       "        vertical-align: middle;\n",
       "    }\n",
       "\n",
       "    .dataframe tbody tr th {\n",
       "        vertical-align: top;\n",
       "    }\n",
       "\n",
       "    .dataframe thead th {\n",
       "        text-align: right;\n",
       "    }\n",
       "</style>\n",
       "<table border=\"1\" class=\"dataframe\">\n",
       "  <thead>\n",
       "    <tr style=\"text-align: right;\">\n",
       "      <th></th>\n",
       "      <th>Run_Time</th>\n",
       "      <th>Train_RMSE</th>\n",
       "      <th>Validation_RMSE</th>\n",
       "      <th>delta%</th>\n",
       "    </tr>\n",
       "  </thead>\n",
       "  <tbody>\n",
       "    <tr>\n",
       "      <th>RF_15_7</th>\n",
       "      <td>18.722589</td>\n",
       "      <td>0.473006</td>\n",
       "      <td>0.320391</td>\n",
       "      <td>-32.265045</td>\n",
       "    </tr>\n",
       "    <tr>\n",
       "      <th>RF_10_7</th>\n",
       "      <td>12.378885</td>\n",
       "      <td>0.473434</td>\n",
       "      <td>0.323869</td>\n",
       "      <td>-31.591529</td>\n",
       "    </tr>\n",
       "    <tr>\n",
       "      <th>RF_5_7</th>\n",
       "      <td>6.310092</td>\n",
       "      <td>0.476932</td>\n",
       "      <td>0.327145</td>\n",
       "      <td>-31.406409</td>\n",
       "    </tr>\n",
       "    <tr>\n",
       "      <th>RF_20_7</th>\n",
       "      <td>24.806727</td>\n",
       "      <td>0.472270</td>\n",
       "      <td>0.329288</td>\n",
       "      <td>-30.275597</td>\n",
       "    </tr>\n",
       "    <tr>\n",
       "      <th>RF_15_12</th>\n",
       "      <td>37.241390</td>\n",
       "      <td>0.369348</td>\n",
       "      <td>0.339188</td>\n",
       "      <td>-8.165782</td>\n",
       "    </tr>\n",
       "    <tr>\n",
       "      <th>RF_10_12</th>\n",
       "      <td>24.317975</td>\n",
       "      <td>0.373221</td>\n",
       "      <td>0.349948</td>\n",
       "      <td>-6.235781</td>\n",
       "    </tr>\n",
       "    <tr>\n",
       "      <th>RF_20_15</th>\n",
       "      <td>63.250104</td>\n",
       "      <td>0.306740</td>\n",
       "      <td>0.353018</td>\n",
       "      <td>15.087146</td>\n",
       "    </tr>\n",
       "    <tr>\n",
       "      <th>RF_5_10</th>\n",
       "      <td>9.717039</td>\n",
       "      <td>0.422836</td>\n",
       "      <td>0.355019</td>\n",
       "      <td>-16.038626</td>\n",
       "    </tr>\n",
       "    <tr>\n",
       "      <th>RF_15_15</th>\n",
       "      <td>47.479986</td>\n",
       "      <td>0.309910</td>\n",
       "      <td>0.357272</td>\n",
       "      <td>15.282606</td>\n",
       "    </tr>\n",
       "    <tr>\n",
       "      <th>RF_20_10</th>\n",
       "      <td>38.960115</td>\n",
       "      <td>0.412080</td>\n",
       "      <td>0.361011</td>\n",
       "      <td>-12.392963</td>\n",
       "    </tr>\n",
       "    <tr>\n",
       "      <th>RF_15_10</th>\n",
       "      <td>29.434240</td>\n",
       "      <td>0.412655</td>\n",
       "      <td>0.371163</td>\n",
       "      <td>-10.054871</td>\n",
       "    </tr>\n",
       "    <tr>\n",
       "      <th>RF_1_7</th>\n",
       "      <td>1.298553</td>\n",
       "      <td>0.500300</td>\n",
       "      <td>0.374653</td>\n",
       "      <td>-25.114319</td>\n",
       "    </tr>\n",
       "    <tr>\n",
       "      <th>RF_20_12</th>\n",
       "      <td>48.886337</td>\n",
       "      <td>0.366449</td>\n",
       "      <td>0.376523</td>\n",
       "      <td>2.749251</td>\n",
       "    </tr>\n",
       "    <tr>\n",
       "      <th>RF_10_10</th>\n",
       "      <td>19.441990</td>\n",
       "      <td>0.414424</td>\n",
       "      <td>0.386409</td>\n",
       "      <td>-6.760004</td>\n",
       "    </tr>\n",
       "    <tr>\n",
       "      <th>RF_1_10</th>\n",
       "      <td>2.063474</td>\n",
       "      <td>0.476727</td>\n",
       "      <td>0.397973</td>\n",
       "      <td>-16.519658</td>\n",
       "    </tr>\n",
       "    <tr>\n",
       "      <th>RF_5_12</th>\n",
       "      <td>12.190357</td>\n",
       "      <td>0.382957</td>\n",
       "      <td>0.427866</td>\n",
       "      <td>11.726911</td>\n",
       "    </tr>\n",
       "    <tr>\n",
       "      <th>RF_1_12</th>\n",
       "      <td>2.521235</td>\n",
       "      <td>0.452638</td>\n",
       "      <td>0.467035</td>\n",
       "      <td>3.180763</td>\n",
       "    </tr>\n",
       "  </tbody>\n",
       "</table>\n",
       "</div>"
      ],
      "text/plain": [
       "           Run_Time  Train_RMSE  Validation_RMSE     delta%\n",
       "RF_15_7   18.722589    0.473006         0.320391 -32.265045\n",
       "RF_10_7   12.378885    0.473434         0.323869 -31.591529\n",
       "RF_5_7     6.310092    0.476932         0.327145 -31.406409\n",
       "RF_20_7   24.806727    0.472270         0.329288 -30.275597\n",
       "RF_15_12  37.241390    0.369348         0.339188  -8.165782\n",
       "RF_10_12  24.317975    0.373221         0.349948  -6.235781\n",
       "RF_20_15  63.250104    0.306740         0.353018  15.087146\n",
       "RF_5_10    9.717039    0.422836         0.355019 -16.038626\n",
       "RF_15_15  47.479986    0.309910         0.357272  15.282606\n",
       "RF_20_10  38.960115    0.412080         0.361011 -12.392963\n",
       "RF_15_10  29.434240    0.412655         0.371163 -10.054871\n",
       "RF_1_7     1.298553    0.500300         0.374653 -25.114319\n",
       "RF_20_12  48.886337    0.366449         0.376523   2.749251\n",
       "RF_10_10  19.441990    0.414424         0.386409  -6.760004\n",
       "RF_1_10    2.063474    0.476727         0.397973 -16.519658\n",
       "RF_5_12   12.190357    0.382957         0.427866  11.726911\n",
       "RF_1_12    2.521235    0.452638         0.467035   3.180763"
      ]
     },
     "execution_count": 12,
     "metadata": {},
     "output_type": "execute_result"
    }
   ],
   "source": [
    "metrics[metrics['delta%']<20].sort_values(by='Validation_RMSE')"
   ]
  },
  {
   "cell_type": "markdown",
   "id": "335bb0bc",
   "metadata": {},
   "source": [
    "We are left with **RF_15_7**."
   ]
  },
  {
   "cell_type": "code",
   "execution_count": 5,
   "id": "38c8a183",
   "metadata": {},
   "outputs": [],
   "source": [
    "test =  pd.read_parquet('../../../data/model_input/test_sets/electricity_transformer.parquet')"
   ]
  },
  {
   "cell_type": "code",
   "execution_count": 6,
   "id": "ac624ed3",
   "metadata": {},
   "outputs": [],
   "source": [
    "y_test = test.OT_next\n",
    "X_test = test.drop(columns=['date', 'OT_next'])"
   ]
  },
  {
   "cell_type": "code",
   "execution_count": 7,
   "id": "559654d7",
   "metadata": {},
   "outputs": [],
   "source": [
    "retrain = pd.concat([train, validation])"
   ]
  },
  {
   "cell_type": "code",
   "execution_count": 8,
   "id": "966dafec",
   "metadata": {},
   "outputs": [],
   "source": [
    "y_retrain = retrain.OT_next\n",
    "X_retrain = retrain.drop(columns=['date', 'OT_next'])"
   ]
  },
  {
   "cell_type": "code",
   "execution_count": 17,
   "id": "546e702d",
   "metadata": {},
   "outputs": [],
   "source": [
    "model = RandomForestRegressor(n_estimators=15, max_depth=7).fit(X_retrain, y_retrain)"
   ]
  },
  {
   "cell_type": "code",
   "execution_count": 18,
   "id": "c603bf5b",
   "metadata": {},
   "outputs": [
    {
     "name": "stdout",
     "output_type": "stream",
     "text": [
      "Test RMSE: 0.3357\n"
     ]
    }
   ],
   "source": [
    "test_pred = model.predict(X_test)\n",
    "rmse = root_mean_squared_error(y_test, test_pred)\n",
    "print('Test RMSE:', round(rmse, 4))"
   ]
  },
  {
   "cell_type": "markdown",
   "id": "fdb25f23",
   "metadata": {},
   "source": [
    "That's it, it works as expected"
   ]
  },
  {
   "cell_type": "code",
   "execution_count": 19,
   "id": "ee089655",
   "metadata": {},
   "outputs": [
    {
     "data": {
      "text/plain": [
       "['best_random_forest.joblib']"
      ]
     },
     "execution_count": 19,
     "metadata": {},
     "output_type": "execute_result"
    }
   ],
   "source": [
    "dump(model, '../../../data/model_output/models/electricity_transformer/best_random_forest.joblib')"
   ]
  },
  {
   "cell_type": "code",
   "execution_count": 20,
   "id": "3fc09d61",
   "metadata": {},
   "outputs": [],
   "source": [
    "with open('../../../data/model_output/metrics/electricity_transformer/final_RMSE.txt', 'a') as f:\n",
    "    f.write('\\nRF, '+ str(rmse))"
   ]
  },
  {
   "cell_type": "code",
   "execution_count": 21,
   "id": "76b0f6f4",
   "metadata": {},
   "outputs": [
    {
     "name": "stderr",
     "output_type": "stream",
     "text": [
      "C:\\Users\\MANUEL~2\\AppData\\Local\\Temp/ipykernel_12744/3731660872.py:7: UserWarning: color is redundantly defined by the 'color' keyword argument and the fmt string \"k--\" (-> color='k'). The keyword argument will take precedence.\n",
      "  plt.plot([y_retrain.min(), y_retrain.max()], [y_retrain.min(), y_retrain.max()],\n"
     ]
    },
    {
     "data": {
      "image/png": "[encoded data removed]",
      "text/plain": [
       "<Figure size 576x432 with 1 Axes>"
      ]
     },
     "metadata": {
      "needs_background": "light"
     },
     "output_type": "display_data"
    }
   ],
   "source": [
    "prediction_retrain = model.predict(X_retrain)\n",
    "error_retrain   = prediction_retrain - y_retrain\n",
    "\n",
    "plt.figure(figsize=(8, 6))\n",
    "\n",
    "plt.scatter(y_retrain, prediction_retrain, edgecolors=(0, 0, 0), alpha = 0.4)\n",
    "plt.plot([y_retrain.min(), y_retrain.max()], [y_retrain.min(), y_retrain.max()],\n",
    "                'k--', color = 'black', lw=2)\n",
    "plt.title('Predicted value vs real value', fontsize = 10, fontweight = \"bold\")\n",
    "plt.xlabel('Real')\n",
    "plt.ylabel('Prediction')\n",
    "plt.tick_params(labelsize = 7)"
   ]
  },
  {
   "cell_type": "code",
   "execution_count": 9,
   "id": "8d2ef62f",
   "metadata": {},
   "outputs": [],
   "source": [
    "from joblib import load\n",
    "load_mod = load('../../../data/model_output/models/electricity_transformer/best_random_forest.joblib')"
   ]
  },
  {
   "cell_type": "code",
   "execution_count": 10,
   "id": "bc3f8496",
   "metadata": {},
   "outputs": [],
   "source": [
    "train_pred = load_mod.predict(X_retrain)\n",
    "rmse_train = root_mean_squared_error(y_retrain, train_pred)\n",
    "test_pred = load_mod.predict(X_test)\n",
    "rmse_test = root_mean_squared_error(y_test, test_pred)"
   ]
  },
  {
   "cell_type": "code",
   "execution_count": 11,
   "id": "3fbff569",
   "metadata": {},
   "outputs": [],
   "source": [
    "import time \n",
    "time1 = time.time()\n",
    "RandomForestRegressor(n_estimators=15, max_depth=7).fit(X_retrain, y_retrain)\n",
    "time2 = time.time() - time1 "
   ]
  },
  {
   "cell_type": "code",
   "execution_count": 12,
   "id": "906b9f83",
   "metadata": {},
   "outputs": [],
   "source": [
    "with open('../../../data/model_output/metrics/electricity_transformer/final_metrics.txt', 'a') as f:\n",
    "     f.write(f'\\nRF; {time2}; {rmse_train}; {rmse_test}')"
   ]
  },
  {
   "cell_type": "code",
   "execution_count": null,
   "id": "71f92944",
   "metadata": {},
   "outputs": [],
   "source": []
  }
 ],
 "metadata": {
  "kernelspec": {
   "display_name": "Python 3 (ipykernel)",
   "language": "python",
   "name": "python3"
  },
  "language_info": {
   "codemirror_mode": {
    "name": "ipython",
    "version": 3
   },
   "file_extension": ".py",
   "mimetype": "text/x-python",
   "name": "python",
   "nbconvert_exporter": "python",
   "pygments_lexer": "ipython3",
   "version": "3.9.7"
  }
 },
 "nbformat": 4,
 "nbformat_minor": 5
}
