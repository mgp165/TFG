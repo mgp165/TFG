{
 "cells": [
  {
   "cell_type": "markdown",
   "id": "e2211c83",
   "metadata": {},
   "source": [
    "# Linear Random Forest"
   ]
  },
  {
   "cell_type": "code",
   "execution_count": 1,
   "id": "d86ada5e",
   "metadata": {},
   "outputs": [],
   "source": [
    "from sklearn.linear_model import LinearRegression, Ridge\n",
    "from lineartree import LinearTreeRegressor\n",
    "from sklearn.metrics import root_mean_squared_error, mean_absolute_percentage_error, mean_absolute_error\n",
    "import pandas as pd\n",
    "from joblib import dump\n",
    "import matplotlib.pyplot as plt\n",
    "import numpy as np\n",
    "from sklearn.preprocessing import StandardScaler\n",
    "import time"
   ]
  },
  {
   "cell_type": "code",
   "execution_count": 2,
   "id": "c86c9908",
   "metadata": {},
   "outputs": [],
   "source": [
    "import sys\n",
    "sys.path.append('F:\\\\Users\\\\Manuel García Plaza\\\\Desktop\\\\TFG\\\\')"
   ]
  },
  {
   "cell_type": "code",
   "execution_count": 3,
   "id": "a111e1ba",
   "metadata": {},
   "outputs": [],
   "source": [
    "from notebooks.utils.regression_metrics import regression\n",
    "from notebooks.utils.lrf import LinearRandomForestRegressor"
   ]
  },
  {
   "cell_type": "code",
   "execution_count": 4,
   "id": "6c39d975",
   "metadata": {},
   "outputs": [],
   "source": [
    "train =  pd.read_parquet('../../../data/model_input/train_sets/electricity_transformer.parquet')\n",
    "validation =  pd.read_parquet('../../../data/model_input/validation_sets/electricity_transformer.parquet')"
   ]
  },
  {
   "cell_type": "code",
   "execution_count": 5,
   "id": "dda9a73b",
   "metadata": {},
   "outputs": [],
   "source": [
    "y_train = train.OT_next\n",
    "X_train = train.drop(columns=['date', 'OT_next'])"
   ]
  },
  {
   "cell_type": "code",
   "execution_count": 6,
   "id": "68e828c3",
   "metadata": {},
   "outputs": [],
   "source": [
    "y_validation = validation.OT_next\n",
    "X_validation = validation.drop(columns=['date', 'OT_next'])"
   ]
  },
  {
   "cell_type": "code",
   "execution_count": 7,
   "id": "3ce36e7a",
   "metadata": {},
   "outputs": [],
   "source": [
    "scaler = StandardScaler().fit(X_train)"
   ]
  },
  {
   "cell_type": "code",
   "execution_count": 8,
   "id": "fb942c07",
   "metadata": {},
   "outputs": [],
   "source": [
    "X_train_scaled = scaler.transform(X_train)\n",
    "X_validation_scaled = scaler.transform(X_validation)"
   ]
  },
  {
   "cell_type": "code",
   "execution_count": 9,
   "id": "8d588870",
   "metadata": {},
   "outputs": [],
   "source": [
    "n_estimators = [5, 10, 15, 20, 30, 50]"
   ]
  },
  {
   "cell_type": "code",
   "execution_count": 10,
   "id": "32f62add",
   "metadata": {},
   "outputs": [],
   "source": [
    "max_depth = [1, 2, 3]\n",
    "base_mod = [LinearRegression(), Ridge()]"
   ]
  },
  {
   "cell_type": "code",
   "execution_count": 11,
   "id": "1e71e021",
   "metadata": {},
   "outputs": [],
   "source": [
    "base_est = []\n",
    "for i in max_depth:\n",
    "    for mod in base_mod:\n",
    "        base_est.append(LinearTreeRegressor(base_estimator=mod, max_depth=i))"
   ]
  },
  {
   "cell_type": "code",
   "execution_count": 12,
   "id": "bf58bba0",
   "metadata": {},
   "outputs": [],
   "source": [
    "n_var = [X_train.shape[1]**2, X_train.shape[1]**2/4, X_train.shape[1]**2/9]"
   ]
  },
  {
   "cell_type": "markdown",
   "id": "69c7221f",
   "metadata": {},
   "source": [
    "We are going to test with different number of features in this case"
   ]
  },
  {
   "cell_type": "code",
   "execution_count": 13,
   "id": "4947a6b3",
   "metadata": {},
   "outputs": [],
   "source": [
    "models_list = []\n",
    "names_list = []\n",
    "for m in n_var:\n",
    "    for n in n_estimators:\n",
    "        for estim in base_est:\n",
    "            models_list.append(LinearRandomForestRegressor(n_features=m, est=estim, n_est=n, n_j=-1))\n",
    "            if isinstance(estim.base_estimator, LinearRegression):\n",
    "                names_list.append(f'LRF_{n}_{estim.max_depth}_{n_var.index(m)}')\n",
    "            else:\n",
    "                names_list.append(f'LRF_{n}_{estim.max_depth}_l2_{n_var.index(m)}')"
   ]
  },
  {
   "cell_type": "code",
   "execution_count": 79,
   "id": "eb0957d7",
   "metadata": {},
   "outputs": [
    {
     "data": {
      "text/html": [
       "<div>\n",
       "<style scoped>\n",
       "    .dataframe tbody tr th:only-of-type {\n",
       "        vertical-align: middle;\n",
       "    }\n",
       "\n",
       "    .dataframe tbody tr th {\n",
       "        vertical-align: top;\n",
       "    }\n",
       "\n",
       "    .dataframe thead th {\n",
       "        text-align: right;\n",
       "    }\n",
       "</style>\n",
       "<table border=\"1\" class=\"dataframe\">\n",
       "  <thead>\n",
       "    <tr style=\"text-align: right;\">\n",
       "      <th></th>\n",
       "      <th>Run_Time</th>\n",
       "      <th>Train_RMSE</th>\n",
       "      <th>Validation_RMSE</th>\n",
       "      <th>delta%</th>\n",
       "    </tr>\n",
       "  </thead>\n",
       "  <tbody>\n",
       "    <tr>\n",
       "      <th>LRF_5_1_0</th>\n",
       "      <td>5554.610952</td>\n",
       "      <td>0.477573</td>\n",
       "      <td>0.297833</td>\n",
       "      <td>-37.636028</td>\n",
       "    </tr>\n",
       "    <tr>\n",
       "      <th>LRF_5_1_l2_0</th>\n",
       "      <td>1215.074954</td>\n",
       "      <td>0.477773</td>\n",
       "      <td>0.297099</td>\n",
       "      <td>-37.815985</td>\n",
       "    </tr>\n",
       "    <tr>\n",
       "      <th>LRF_5_2_l2_0</th>\n",
       "      <td>1630.364790</td>\n",
       "      <td>0.475652</td>\n",
       "      <td>0.299891</td>\n",
       "      <td>-36.951525</td>\n",
       "    </tr>\n",
       "    <tr>\n",
       "      <th>LRF_5_1_l2_1</th>\n",
       "      <td>274.564109</td>\n",
       "      <td>0.506308</td>\n",
       "      <td>0.324975</td>\n",
       "      <td>-35.814663</td>\n",
       "    </tr>\n",
       "    <tr>\n",
       "      <th>LRF_5_2_l2_1</th>\n",
       "      <td>352.815537</td>\n",
       "      <td>0.543718</td>\n",
       "      <td>0.373272</td>\n",
       "      <td>-31.348207</td>\n",
       "    </tr>\n",
       "    <tr>\n",
       "      <th>LRF_5_3_l2_1</th>\n",
       "      <td>310.096895</td>\n",
       "      <td>0.483464</td>\n",
       "      <td>0.355492</td>\n",
       "      <td>-26.469797</td>\n",
       "    </tr>\n",
       "    <tr>\n",
       "      <th>LRF_10_1_l2_1</th>\n",
       "      <td>505.521915</td>\n",
       "      <td>0.496863</td>\n",
       "      <td>0.338049</td>\n",
       "      <td>-31.963381</td>\n",
       "    </tr>\n",
       "    <tr>\n",
       "      <th>LRF_10_2_l2_1</th>\n",
       "      <td>584.576962</td>\n",
       "      <td>0.500986</td>\n",
       "      <td>0.362169</td>\n",
       "      <td>-27.708823</td>\n",
       "    </tr>\n",
       "    <tr>\n",
       "      <th>LRF_15_1_l2_1</th>\n",
       "      <td>709.658618</td>\n",
       "      <td>0.500178</td>\n",
       "      <td>0.352788</td>\n",
       "      <td>-29.467395</td>\n",
       "    </tr>\n",
       "    <tr>\n",
       "      <th>LRF_15_2_l2_1</th>\n",
       "      <td>859.345774</td>\n",
       "      <td>0.498986</td>\n",
       "      <td>0.351209</td>\n",
       "      <td>-29.615555</td>\n",
       "    </tr>\n",
       "    <tr>\n",
       "      <th>LRF_20_1_l2_1</th>\n",
       "      <td>898.498956</td>\n",
       "      <td>0.510038</td>\n",
       "      <td>0.396609</td>\n",
       "      <td>-22.239337</td>\n",
       "    </tr>\n",
       "    <tr>\n",
       "      <th>LRF_20_2_l2_1</th>\n",
       "      <td>1114.806681</td>\n",
       "      <td>0.490687</td>\n",
       "      <td>0.328419</td>\n",
       "      <td>-33.069462</td>\n",
       "    </tr>\n",
       "    <tr>\n",
       "      <th>LRF_30_1_l2_1</th>\n",
       "      <td>1401.025815</td>\n",
       "      <td>0.499470</td>\n",
       "      <td>0.350524</td>\n",
       "      <td>-29.820862</td>\n",
       "    </tr>\n",
       "    <tr>\n",
       "      <th>LRF_5_1_2</th>\n",
       "      <td>222.246316</td>\n",
       "      <td>0.564506</td>\n",
       "      <td>0.453710</td>\n",
       "      <td>-19.627049</td>\n",
       "    </tr>\n",
       "    <tr>\n",
       "      <th>LRF_5_1_l2_2</th>\n",
       "      <td>135.210847</td>\n",
       "      <td>0.633268</td>\n",
       "      <td>0.411744</td>\n",
       "      <td>-34.981116</td>\n",
       "    </tr>\n",
       "    <tr>\n",
       "      <th>LRF_5_2_l2_2</th>\n",
       "      <td>145.215990</td>\n",
       "      <td>0.648248</td>\n",
       "      <td>0.473182</td>\n",
       "      <td>-27.006060</td>\n",
       "    </tr>\n",
       "    <tr>\n",
       "      <th>LRF_5_3_l2_2</th>\n",
       "      <td>163.382935</td>\n",
       "      <td>0.521377</td>\n",
       "      <td>0.439578</td>\n",
       "      <td>-15.688954</td>\n",
       "    </tr>\n",
       "    <tr>\n",
       "      <th>LRF_10_1_l2_2</th>\n",
       "      <td>226.655516</td>\n",
       "      <td>0.531951</td>\n",
       "      <td>0.360816</td>\n",
       "      <td>-32.171189</td>\n",
       "    </tr>\n",
       "    <tr>\n",
       "      <th>LRF_10_2_l2_2</th>\n",
       "      <td>284.733445</td>\n",
       "      <td>0.503104</td>\n",
       "      <td>0.344538</td>\n",
       "      <td>-31.517434</td>\n",
       "    </tr>\n",
       "    <tr>\n",
       "      <th>LRF_10_3_l2_2</th>\n",
       "      <td>279.242553</td>\n",
       "      <td>0.564460</td>\n",
       "      <td>0.375344</td>\n",
       "      <td>-33.503893</td>\n",
       "    </tr>\n",
       "    <tr>\n",
       "      <th>LRF_15_1_l2_2</th>\n",
       "      <td>338.655532</td>\n",
       "      <td>0.610291</td>\n",
       "      <td>0.461548</td>\n",
       "      <td>-24.372532</td>\n",
       "    </tr>\n",
       "    <tr>\n",
       "      <th>LRF_15_2_l2_2</th>\n",
       "      <td>371.041248</td>\n",
       "      <td>0.581459</td>\n",
       "      <td>0.487260</td>\n",
       "      <td>-16.200463</td>\n",
       "    </tr>\n",
       "    <tr>\n",
       "      <th>LRF_15_3_l2_2</th>\n",
       "      <td>420.930246</td>\n",
       "      <td>0.537854</td>\n",
       "      <td>0.390767</td>\n",
       "      <td>-27.347063</td>\n",
       "    </tr>\n",
       "    <tr>\n",
       "      <th>LRF_20_1_l2_2</th>\n",
       "      <td>407.222348</td>\n",
       "      <td>0.561880</td>\n",
       "      <td>0.401721</td>\n",
       "      <td>-28.504053</td>\n",
       "    </tr>\n",
       "    <tr>\n",
       "      <th>LRF_20_2_l2_2</th>\n",
       "      <td>496.476782</td>\n",
       "      <td>0.574844</td>\n",
       "      <td>0.393694</td>\n",
       "      <td>-31.512894</td>\n",
       "    </tr>\n",
       "    <tr>\n",
       "      <th>LRF_20_3_l2_2</th>\n",
       "      <td>539.873731</td>\n",
       "      <td>0.521134</td>\n",
       "      <td>0.408393</td>\n",
       "      <td>-21.633699</td>\n",
       "    </tr>\n",
       "    <tr>\n",
       "      <th>LRF_30_1_l2_2</th>\n",
       "      <td>640.166186</td>\n",
       "      <td>0.569492</td>\n",
       "      <td>0.381132</td>\n",
       "      <td>-33.075048</td>\n",
       "    </tr>\n",
       "    <tr>\n",
       "      <th>LRF_30_2_l2_2</th>\n",
       "      <td>756.050354</td>\n",
       "      <td>0.538939</td>\n",
       "      <td>0.388727</td>\n",
       "      <td>-27.871849</td>\n",
       "    </tr>\n",
       "    <tr>\n",
       "      <th>LRF_50_1_l2_2</th>\n",
       "      <td>1072.895883</td>\n",
       "      <td>0.554532</td>\n",
       "      <td>0.390737</td>\n",
       "      <td>-29.537490</td>\n",
       "    </tr>\n",
       "    <tr>\n",
       "      <th>LRF_50_2_l2_2</th>\n",
       "      <td>1317.138414</td>\n",
       "      <td>0.552104</td>\n",
       "      <td>0.398329</td>\n",
       "      <td>-27.852599</td>\n",
       "    </tr>\n",
       "  </tbody>\n",
       "</table>\n",
       "</div>"
      ],
      "text/plain": [
       "                  Run_Time  Train_RMSE  Validation_RMSE     delta%\n",
       "LRF_5_1_0      5554.610952    0.477573         0.297833 -37.636028\n",
       "LRF_5_1_l2_0   1215.074954    0.477773         0.297099 -37.815985\n",
       "LRF_5_2_l2_0   1630.364790    0.475652         0.299891 -36.951525\n",
       "LRF_5_1_l2_1    274.564109    0.506308         0.324975 -35.814663\n",
       "LRF_5_2_l2_1    352.815537    0.543718         0.373272 -31.348207\n",
       "LRF_5_3_l2_1    310.096895    0.483464         0.355492 -26.469797\n",
       "LRF_10_1_l2_1   505.521915    0.496863         0.338049 -31.963381\n",
       "LRF_10_2_l2_1   584.576962    0.500986         0.362169 -27.708823\n",
       "LRF_15_1_l2_1   709.658618    0.500178         0.352788 -29.467395\n",
       "LRF_15_2_l2_1   859.345774    0.498986         0.351209 -29.615555\n",
       "LRF_20_1_l2_1   898.498956    0.510038         0.396609 -22.239337\n",
       "LRF_20_2_l2_1  1114.806681    0.490687         0.328419 -33.069462\n",
       "LRF_30_1_l2_1  1401.025815    0.499470         0.350524 -29.820862\n",
       "LRF_5_1_2       222.246316    0.564506         0.453710 -19.627049\n",
       "LRF_5_1_l2_2    135.210847    0.633268         0.411744 -34.981116\n",
       "LRF_5_2_l2_2    145.215990    0.648248         0.473182 -27.006060\n",
       "LRF_5_3_l2_2    163.382935    0.521377         0.439578 -15.688954\n",
       "LRF_10_1_l2_2   226.655516    0.531951         0.360816 -32.171189\n",
       "LRF_10_2_l2_2   284.733445    0.503104         0.344538 -31.517434\n",
       "LRF_10_3_l2_2   279.242553    0.564460         0.375344 -33.503893\n",
       "LRF_15_1_l2_2   338.655532    0.610291         0.461548 -24.372532\n",
       "LRF_15_2_l2_2   371.041248    0.581459         0.487260 -16.200463\n",
       "LRF_15_3_l2_2   420.930246    0.537854         0.390767 -27.347063\n",
       "LRF_20_1_l2_2   407.222348    0.561880         0.401721 -28.504053\n",
       "LRF_20_2_l2_2   496.476782    0.574844         0.393694 -31.512894\n",
       "LRF_20_3_l2_2   539.873731    0.521134         0.408393 -21.633699\n",
       "LRF_30_1_l2_2   640.166186    0.569492         0.381132 -33.075048\n",
       "LRF_30_2_l2_2   756.050354    0.538939         0.388727 -27.871849\n",
       "LRF_50_1_l2_2  1072.895883    0.554532         0.390737 -29.537490\n",
       "LRF_50_2_l2_2  1317.138414    0.552104         0.398329 -27.852599"
      ]
     },
     "execution_count": 79,
     "metadata": {},
     "output_type": "execute_result"
    }
   ],
   "source": [
    "metrics = regression(models_list, names_list, '../../../data/model_output/metrics/electricity_transformer/lrf.csv', X_train_scaled, y_train, X_validation_scaled, y_validation)\n",
    "metrics"
   ]
  },
  {
   "cell_type": "code",
   "execution_count": 80,
   "id": "d15c8b2d",
   "metadata": {},
   "outputs": [
    {
     "data": {
      "text/html": [
       "<div>\n",
       "<style scoped>\n",
       "    .dataframe tbody tr th:only-of-type {\n",
       "        vertical-align: middle;\n",
       "    }\n",
       "\n",
       "    .dataframe tbody tr th {\n",
       "        vertical-align: top;\n",
       "    }\n",
       "\n",
       "    .dataframe thead th {\n",
       "        text-align: right;\n",
       "    }\n",
       "</style>\n",
       "<table border=\"1\" class=\"dataframe\">\n",
       "  <thead>\n",
       "    <tr style=\"text-align: right;\">\n",
       "      <th></th>\n",
       "      <th>Run_Time</th>\n",
       "      <th>Train_RMSE</th>\n",
       "      <th>Validation_RMSE</th>\n",
       "      <th>delta%</th>\n",
       "    </tr>\n",
       "  </thead>\n",
       "  <tbody>\n",
       "    <tr>\n",
       "      <th>LRF_5_1_l2_0</th>\n",
       "      <td>1215.074954</td>\n",
       "      <td>0.477773</td>\n",
       "      <td>0.297099</td>\n",
       "      <td>-37.815985</td>\n",
       "    </tr>\n",
       "    <tr>\n",
       "      <th>LRF_5_1_0</th>\n",
       "      <td>5554.610952</td>\n",
       "      <td>0.477573</td>\n",
       "      <td>0.297833</td>\n",
       "      <td>-37.636028</td>\n",
       "    </tr>\n",
       "    <tr>\n",
       "      <th>LRF_5_2_l2_0</th>\n",
       "      <td>1630.364790</td>\n",
       "      <td>0.475652</td>\n",
       "      <td>0.299891</td>\n",
       "      <td>-36.951525</td>\n",
       "    </tr>\n",
       "    <tr>\n",
       "      <th>LRF_5_1_l2_1</th>\n",
       "      <td>274.564109</td>\n",
       "      <td>0.506308</td>\n",
       "      <td>0.324975</td>\n",
       "      <td>-35.814663</td>\n",
       "    </tr>\n",
       "    <tr>\n",
       "      <th>LRF_20_2_l2_1</th>\n",
       "      <td>1114.806681</td>\n",
       "      <td>0.490687</td>\n",
       "      <td>0.328419</td>\n",
       "      <td>-33.069462</td>\n",
       "    </tr>\n",
       "    <tr>\n",
       "      <th>LRF_10_1_l2_1</th>\n",
       "      <td>505.521915</td>\n",
       "      <td>0.496863</td>\n",
       "      <td>0.338049</td>\n",
       "      <td>-31.963381</td>\n",
       "    </tr>\n",
       "    <tr>\n",
       "      <th>LRF_10_2_l2_2</th>\n",
       "      <td>284.733445</td>\n",
       "      <td>0.503104</td>\n",
       "      <td>0.344538</td>\n",
       "      <td>-31.517434</td>\n",
       "    </tr>\n",
       "    <tr>\n",
       "      <th>LRF_30_1_l2_1</th>\n",
       "      <td>1401.025815</td>\n",
       "      <td>0.499470</td>\n",
       "      <td>0.350524</td>\n",
       "      <td>-29.820862</td>\n",
       "    </tr>\n",
       "    <tr>\n",
       "      <th>LRF_15_2_l2_1</th>\n",
       "      <td>859.345774</td>\n",
       "      <td>0.498986</td>\n",
       "      <td>0.351209</td>\n",
       "      <td>-29.615555</td>\n",
       "    </tr>\n",
       "    <tr>\n",
       "      <th>LRF_15_1_l2_1</th>\n",
       "      <td>709.658618</td>\n",
       "      <td>0.500178</td>\n",
       "      <td>0.352788</td>\n",
       "      <td>-29.467395</td>\n",
       "    </tr>\n",
       "    <tr>\n",
       "      <th>LRF_5_3_l2_1</th>\n",
       "      <td>310.096895</td>\n",
       "      <td>0.483464</td>\n",
       "      <td>0.355492</td>\n",
       "      <td>-26.469797</td>\n",
       "    </tr>\n",
       "    <tr>\n",
       "      <th>LRF_10_1_l2_2</th>\n",
       "      <td>226.655516</td>\n",
       "      <td>0.531951</td>\n",
       "      <td>0.360816</td>\n",
       "      <td>-32.171189</td>\n",
       "    </tr>\n",
       "    <tr>\n",
       "      <th>LRF_10_2_l2_1</th>\n",
       "      <td>584.576962</td>\n",
       "      <td>0.500986</td>\n",
       "      <td>0.362169</td>\n",
       "      <td>-27.708823</td>\n",
       "    </tr>\n",
       "    <tr>\n",
       "      <th>LRF_5_2_l2_1</th>\n",
       "      <td>352.815537</td>\n",
       "      <td>0.543718</td>\n",
       "      <td>0.373272</td>\n",
       "      <td>-31.348207</td>\n",
       "    </tr>\n",
       "    <tr>\n",
       "      <th>LRF_10_3_l2_2</th>\n",
       "      <td>279.242553</td>\n",
       "      <td>0.564460</td>\n",
       "      <td>0.375344</td>\n",
       "      <td>-33.503893</td>\n",
       "    </tr>\n",
       "    <tr>\n",
       "      <th>LRF_30_1_l2_2</th>\n",
       "      <td>640.166186</td>\n",
       "      <td>0.569492</td>\n",
       "      <td>0.381132</td>\n",
       "      <td>-33.075048</td>\n",
       "    </tr>\n",
       "    <tr>\n",
       "      <th>LRF_30_2_l2_2</th>\n",
       "      <td>756.050354</td>\n",
       "      <td>0.538939</td>\n",
       "      <td>0.388727</td>\n",
       "      <td>-27.871849</td>\n",
       "    </tr>\n",
       "    <tr>\n",
       "      <th>LRF_50_1_l2_2</th>\n",
       "      <td>1072.895883</td>\n",
       "      <td>0.554532</td>\n",
       "      <td>0.390737</td>\n",
       "      <td>-29.537490</td>\n",
       "    </tr>\n",
       "    <tr>\n",
       "      <th>LRF_15_3_l2_2</th>\n",
       "      <td>420.930246</td>\n",
       "      <td>0.537854</td>\n",
       "      <td>0.390767</td>\n",
       "      <td>-27.347063</td>\n",
       "    </tr>\n",
       "    <tr>\n",
       "      <th>LRF_20_2_l2_2</th>\n",
       "      <td>496.476782</td>\n",
       "      <td>0.574844</td>\n",
       "      <td>0.393694</td>\n",
       "      <td>-31.512894</td>\n",
       "    </tr>\n",
       "    <tr>\n",
       "      <th>LRF_20_1_l2_1</th>\n",
       "      <td>898.498956</td>\n",
       "      <td>0.510038</td>\n",
       "      <td>0.396609</td>\n",
       "      <td>-22.239337</td>\n",
       "    </tr>\n",
       "    <tr>\n",
       "      <th>LRF_50_2_l2_2</th>\n",
       "      <td>1317.138414</td>\n",
       "      <td>0.552104</td>\n",
       "      <td>0.398329</td>\n",
       "      <td>-27.852599</td>\n",
       "    </tr>\n",
       "    <tr>\n",
       "      <th>LRF_20_1_l2_2</th>\n",
       "      <td>407.222348</td>\n",
       "      <td>0.561880</td>\n",
       "      <td>0.401721</td>\n",
       "      <td>-28.504053</td>\n",
       "    </tr>\n",
       "    <tr>\n",
       "      <th>LRF_20_3_l2_2</th>\n",
       "      <td>539.873731</td>\n",
       "      <td>0.521134</td>\n",
       "      <td>0.408393</td>\n",
       "      <td>-21.633699</td>\n",
       "    </tr>\n",
       "    <tr>\n",
       "      <th>LRF_5_1_l2_2</th>\n",
       "      <td>135.210847</td>\n",
       "      <td>0.633268</td>\n",
       "      <td>0.411744</td>\n",
       "      <td>-34.981116</td>\n",
       "    </tr>\n",
       "    <tr>\n",
       "      <th>LRF_5_3_l2_2</th>\n",
       "      <td>163.382935</td>\n",
       "      <td>0.521377</td>\n",
       "      <td>0.439578</td>\n",
       "      <td>-15.688954</td>\n",
       "    </tr>\n",
       "    <tr>\n",
       "      <th>LRF_5_1_2</th>\n",
       "      <td>222.246316</td>\n",
       "      <td>0.564506</td>\n",
       "      <td>0.453710</td>\n",
       "      <td>-19.627049</td>\n",
       "    </tr>\n",
       "    <tr>\n",
       "      <th>LRF_15_1_l2_2</th>\n",
       "      <td>338.655532</td>\n",
       "      <td>0.610291</td>\n",
       "      <td>0.461548</td>\n",
       "      <td>-24.372532</td>\n",
       "    </tr>\n",
       "    <tr>\n",
       "      <th>LRF_5_2_l2_2</th>\n",
       "      <td>145.215990</td>\n",
       "      <td>0.648248</td>\n",
       "      <td>0.473182</td>\n",
       "      <td>-27.006060</td>\n",
       "    </tr>\n",
       "    <tr>\n",
       "      <th>LRF_15_2_l2_2</th>\n",
       "      <td>371.041248</td>\n",
       "      <td>0.581459</td>\n",
       "      <td>0.487260</td>\n",
       "      <td>-16.200463</td>\n",
       "    </tr>\n",
       "  </tbody>\n",
       "</table>\n",
       "</div>"
      ],
      "text/plain": [
       "                  Run_Time  Train_RMSE  Validation_RMSE     delta%\n",
       "LRF_5_1_l2_0   1215.074954    0.477773         0.297099 -37.815985\n",
       "LRF_5_1_0      5554.610952    0.477573         0.297833 -37.636028\n",
       "LRF_5_2_l2_0   1630.364790    0.475652         0.299891 -36.951525\n",
       "LRF_5_1_l2_1    274.564109    0.506308         0.324975 -35.814663\n",
       "LRF_20_2_l2_1  1114.806681    0.490687         0.328419 -33.069462\n",
       "LRF_10_1_l2_1   505.521915    0.496863         0.338049 -31.963381\n",
       "LRF_10_2_l2_2   284.733445    0.503104         0.344538 -31.517434\n",
       "LRF_30_1_l2_1  1401.025815    0.499470         0.350524 -29.820862\n",
       "LRF_15_2_l2_1   859.345774    0.498986         0.351209 -29.615555\n",
       "LRF_15_1_l2_1   709.658618    0.500178         0.352788 -29.467395\n",
       "LRF_5_3_l2_1    310.096895    0.483464         0.355492 -26.469797\n",
       "LRF_10_1_l2_2   226.655516    0.531951         0.360816 -32.171189\n",
       "LRF_10_2_l2_1   584.576962    0.500986         0.362169 -27.708823\n",
       "LRF_5_2_l2_1    352.815537    0.543718         0.373272 -31.348207\n",
       "LRF_10_3_l2_2   279.242553    0.564460         0.375344 -33.503893\n",
       "LRF_30_1_l2_2   640.166186    0.569492         0.381132 -33.075048\n",
       "LRF_30_2_l2_2   756.050354    0.538939         0.388727 -27.871849\n",
       "LRF_50_1_l2_2  1072.895883    0.554532         0.390737 -29.537490\n",
       "LRF_15_3_l2_2   420.930246    0.537854         0.390767 -27.347063\n",
       "LRF_20_2_l2_2   496.476782    0.574844         0.393694 -31.512894\n",
       "LRF_20_1_l2_1   898.498956    0.510038         0.396609 -22.239337\n",
       "LRF_50_2_l2_2  1317.138414    0.552104         0.398329 -27.852599\n",
       "LRF_20_1_l2_2   407.222348    0.561880         0.401721 -28.504053\n",
       "LRF_20_3_l2_2   539.873731    0.521134         0.408393 -21.633699\n",
       "LRF_5_1_l2_2    135.210847    0.633268         0.411744 -34.981116\n",
       "LRF_5_3_l2_2    163.382935    0.521377         0.439578 -15.688954\n",
       "LRF_5_1_2       222.246316    0.564506         0.453710 -19.627049\n",
       "LRF_15_1_l2_2   338.655532    0.610291         0.461548 -24.372532\n",
       "LRF_5_2_l2_2    145.215990    0.648248         0.473182 -27.006060\n",
       "LRF_15_2_l2_2   371.041248    0.581459         0.487260 -16.200463"
      ]
     },
     "execution_count": 80,
     "metadata": {},
     "output_type": "execute_result"
    }
   ],
   "source": [
    "metrics.sort_values(by='Validation_RMSE')"
   ]
  },
  {
   "cell_type": "markdown",
   "id": "f569cce4",
   "metadata": {},
   "source": [
    "Let's retrain **LRF_5_1_l2_1** that is the bagging estimator with linear trees of depth 1 using ridge regressions as base estimators and with half of the features."
   ]
  },
  {
   "cell_type": "code",
   "execution_count": 81,
   "id": "cf80b7af",
   "metadata": {},
   "outputs": [],
   "source": [
    "test =  pd.read_parquet('../../../data/model_input/test_sets/electricity_transformer.parquet')"
   ]
  },
  {
   "cell_type": "code",
   "execution_count": 82,
   "id": "98ae9395",
   "metadata": {},
   "outputs": [],
   "source": [
    "y_test = test.OT_next\n",
    "X_test = test.drop(columns=['date', 'OT_next'])"
   ]
  },
  {
   "cell_type": "code",
   "execution_count": 83,
   "id": "04504307",
   "metadata": {},
   "outputs": [],
   "source": [
    "retrain = pd.concat([train, validation])"
   ]
  },
  {
   "cell_type": "code",
   "execution_count": 84,
   "id": "6d2e2aa9",
   "metadata": {},
   "outputs": [],
   "source": [
    "y_retrain = retrain.OT_next\n",
    "X_retrain = retrain.drop(columns=['date', 'OT_next'])"
   ]
  },
  {
   "cell_type": "code",
   "execution_count": 85,
   "id": "27398133",
   "metadata": {},
   "outputs": [],
   "source": [
    "scaler_retrain = StandardScaler().fit(X_retrain)"
   ]
  },
  {
   "cell_type": "code",
   "execution_count": 86,
   "id": "8b98a286",
   "metadata": {},
   "outputs": [],
   "source": [
    "X_retrain_scaled = scaler_retrain.transform(X_retrain)\n",
    "X_test_scaled = scaler_retrain.transform(X_test)"
   ]
  },
  {
   "cell_type": "code",
   "execution_count": 93,
   "id": "5286fd1e",
   "metadata": {},
   "outputs": [],
   "source": [
    "time1 = time.time()\n",
    "model = LinearRandomForestRegressor(n_features=X_train.shape[1]**2/4, est=LinearTreeRegressor(base_estimator=Ridge(), max_depth=1), n_est=5, n_j=-1).fit(X_retrain_scaled, y_retrain)\n",
    "time2 = time.time() - time1"
   ]
  },
  {
   "cell_type": "code",
   "execution_count": 94,
   "id": "3149de4f",
   "metadata": {},
   "outputs": [
    {
     "name": "stdout",
     "output_type": "stream",
     "text": [
      "Test RMSE: 0.3273\n"
     ]
    }
   ],
   "source": [
    "test_pred = model.predict(X_test_scaled)\n",
    "rmse = root_mean_squared_error(y_test, test_pred)\n",
    "print('Test RMSE:', round(rmse, 4))"
   ]
  },
  {
   "cell_type": "code",
   "execution_count": 95,
   "id": "72b5267c",
   "metadata": {},
   "outputs": [],
   "source": [
    "train_pred = model.predict(X_retrain_scaled)\n",
    "rmse_train = root_mean_squared_error(y_retrain, train_pred)"
   ]
  },
  {
   "cell_type": "code",
   "execution_count": 96,
   "id": "ec8999ca",
   "metadata": {},
   "outputs": [
    {
     "data": {
      "text/plain": [
       "0.4550167093911571"
      ]
     },
     "execution_count": 96,
     "metadata": {},
     "output_type": "execute_result"
    }
   ],
   "source": [
    "rmse_train"
   ]
  },
  {
   "cell_type": "code",
   "execution_count": 97,
   "id": "e21ad12f",
   "metadata": {},
   "outputs": [],
   "source": [
    "with open('../../../data/model_output/metrics/electricity_transformer/final_metrics.txt', 'a') as f:\n",
    "     f.write(f'\\nLRF; {time2}; {rmse_train}; {rmse}')"
   ]
  },
  {
   "cell_type": "code",
   "execution_count": 98,
   "id": "ce7bcf02",
   "metadata": {},
   "outputs": [
    {
     "data": {
      "text/plain": [
       "['../../../data/model_output/models/electricity_transformer/best_lrf.joblib']"
      ]
     },
     "execution_count": 98,
     "metadata": {},
     "output_type": "execute_result"
    }
   ],
   "source": [
    "dump(model, '../../../data/model_output/models/electricity_transformer/best_lrf.joblib')"
   ]
  },
  {
   "cell_type": "code",
   "execution_count": 99,
   "id": "b56e1a8c",
   "metadata": {},
   "outputs": [
    {
     "name": "stderr",
     "output_type": "stream",
     "text": [
      "C:\\Users\\MANUEL~2\\AppData\\Local\\Temp/ipykernel_17220/2081232494.py:7: UserWarning: color is redundantly defined by the 'color' keyword argument and the fmt string \"k--\" (-> color='k'). The keyword argument will take precedence.\n",
      "  plt.plot([y_retrain.min(), y_retrain.max()], [y_retrain.min(), y_retrain.max()],\n"
     ]
    },
    {
     "data": {
      "image/png": "[encoded data removed]",
      "text/plain": [
       "<Figure size 576x432 with 1 Axes>"
      ]
     },
     "metadata": {
      "needs_background": "light"
     },
     "output_type": "display_data"
    }
   ],
   "source": [
    "prediction_retrain = model.predict(X_retrain_scaled)\n",
    "error_retrain   = prediction_retrain - y_retrain\n",
    "\n",
    "plt.figure(figsize=(8, 6))\n",
    "\n",
    "plt.scatter(y_retrain, prediction_retrain, edgecolors=(0, 0, 0), alpha = 0.4)\n",
    "plt.plot([y_retrain.min(), y_retrain.max()], [y_retrain.min(), y_retrain.max()],\n",
    "                'k--', color = 'black', lw=2)\n",
    "plt.title('Predicted value vs real (scaled) value', fontsize = 10, fontweight = \"bold\")\n",
    "plt.xlabel('Real (scaled)')\n",
    "plt.ylabel('Prediction')\n",
    "plt.tick_params(labelsize = 7)"
   ]
  },
  {
   "cell_type": "code",
   "execution_count": 12,
   "id": "8b6aa491",
   "metadata": {},
   "outputs": [],
   "source": [
    "from joblib import load\n",
    "load_mod = load('../../../data/model_output/models/electricity_transformer/best_lrf.joblib')"
   ]
  },
  {
   "cell_type": "code",
   "execution_count": 13,
   "id": "52bca483",
   "metadata": {},
   "outputs": [],
   "source": [
    "train_pred = load_mod.predict(X_retrain_scaled)\n",
    "test_pred = load_mod.predict(X_test_scaled)"
   ]
  },
  {
   "cell_type": "code",
   "execution_count": 15,
   "id": "f50eff75",
   "metadata": {},
   "outputs": [],
   "source": [
    "mape_train = mean_absolute_percentage_error(y_retrain, train_pred)*100\n",
    "mape_test = mean_absolute_percentage_error(y_retrain, train_pred)*100\n",
    "\n",
    "with open('../../../data/model_output/metrics/electricity_transformer/final_MAPE.txt', 'a') as f:\n",
    "    f.write(f'\\nLRF;{mape_train};{mape_test}')"
   ]
  },
  {
   "cell_type": "code",
   "execution_count": 16,
   "id": "0267227d",
   "metadata": {},
   "outputs": [
    {
     "data": {
      "text/plain": [
       "(1504643065369545.2, 1504643065369545.2)"
      ]
     },
     "execution_count": 16,
     "metadata": {},
     "output_type": "execute_result"
    }
   ],
   "source": [
    "mape_train, mape_test"
   ]
  },
  {
   "cell_type": "code",
   "execution_count": 14,
   "id": "53ff9580",
   "metadata": {},
   "outputs": [],
   "source": [
    "mae_train = mean_absolute_error(y_retrain, train_pred)\n",
    "mae_test = mean_absolute_error(y_test, test_pred)"
   ]
  },
  {
   "cell_type": "code",
   "execution_count": 15,
   "id": "82c5ebe7",
   "metadata": {},
   "outputs": [
    {
     "data": {
      "text/plain": [
       "(0.5119592860717469, 0.3697713655009326)"
      ]
     },
     "execution_count": 15,
     "metadata": {},
     "output_type": "execute_result"
    }
   ],
   "source": [
    "mae_train, mae_test"
   ]
  }
 ],
 "metadata": {
  "kernelspec": {
   "display_name": "Python 3 (ipykernel)",
   "language": "python",
   "name": "python3"
  },
  "language_info": {
   "codemirror_mode": {
    "name": "ipython",
    "version": 3
   },
   "file_extension": ".py",
   "mimetype": "text/x-python",
   "name": "python",
   "nbconvert_exporter": "python",
   "pygments_lexer": "ipython3",
   "version": "3.9.7"
  }
 },
 "nbformat": 4,
 "nbformat_minor": 5
}
