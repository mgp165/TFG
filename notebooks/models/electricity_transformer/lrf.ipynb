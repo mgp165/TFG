{
 "cells": [
  {
   "cell_type": "markdown",
   "id": "e2211c83",
   "metadata": {},
   "source": [
    "# Linear Random Forest"
   ]
  },
  {
   "cell_type": "code",
   "execution_count": 2,
   "id": "d86ada5e",
   "metadata": {},
   "outputs": [],
   "source": [
    "from sklearn.linear_model import LinearRegression, Ridge\n",
    "from lineartree import LinearTreeRegressor\n",
    "from sklearn.metrics import root_mean_squared_error, mean_absolute_percentage_error\n",
    "import pandas as pd\n",
    "from joblib import dump\n",
    "import matplotlib.pyplot as plt\n",
    "import numpy as np\n",
    "from sklearn.preprocessing import StandardScaler\n",
    "import time"
   ]
  },
  {
   "cell_type": "code",
   "execution_count": 2,
   "id": "c86c9908",
   "metadata": {},
   "outputs": [],
   "source": [
    "import sys\n",
    "sys.path.append('F:\\\\Users\\\\Manuel García Plaza\\\\Desktop\\\\TFG\\\\')"
   ]
  },
  {
   "cell_type": "code",
   "execution_count": 3,
   "id": "a111e1ba",
   "metadata": {},
   "outputs": [],
   "source": [
    "from notebooks.utils.regression_metrics import regression\n",
    "from notebooks.utils.lrf import LinearRandomForestRegressor"
   ]
  },
  {
   "cell_type": "code",
   "execution_count": 5,
   "id": "6c39d975",
   "metadata": {},
   "outputs": [],
   "source": [
    "train =  pd.read_parquet('../../../data/model_input/train_sets/electricity_transformer.parquet')\n",
    "validation =  pd.read_parquet('../../../data/model_input/validation_sets/electricity_transformer.parquet')"
   ]
  },
  {
   "cell_type": "code",
   "execution_count": 6,
   "id": "dda9a73b",
   "metadata": {},
   "outputs": [],
   "source": [
    "y_train = train.OT_next\n",
    "X_train = train.drop(columns=['date', 'OT_next'])"
   ]
  },
  {
   "cell_type": "code",
   "execution_count": 7,
   "id": "68e828c3",
   "metadata": {},
   "outputs": [],
   "source": [
    "y_validation = validation.OT_next\n",
    "X_validation = validation.drop(columns=['date', 'OT_next'])"
   ]
  },
  {
   "cell_type": "code",
   "execution_count": 7,
   "id": "3ce36e7a",
   "metadata": {},
   "outputs": [],
   "source": [
    "scaler = StandardScaler().fit(X_train)"
   ]
  },
  {
   "cell_type": "code",
   "execution_count": 8,
   "id": "fb942c07",
   "metadata": {},
   "outputs": [],
   "source": [
    "X_train_scaled = scaler.transform(X_train)\n",
    "X_validation_scaled = scaler.transform(X_validation)"
   ]
  },
  {
   "cell_type": "code",
   "execution_count": 22,
   "id": "8d588870",
   "metadata": {},
   "outputs": [],
   "source": [
    "n_estimators = [2, 3, 5, 7, 10, 15, 20, 25, 30, 35, 40]"
   ]
  },
  {
   "cell_type": "code",
   "execution_count": 23,
   "id": "32f62add",
   "metadata": {},
   "outputs": [],
   "source": [
    "max_depth = [1, 2, 3]\n",
    "base_mod = [LinearRegression(), Ridge()]"
   ]
  },
  {
   "cell_type": "code",
   "execution_count": 24,
   "id": "1e71e021",
   "metadata": {},
   "outputs": [],
   "source": [
    "base_est = []\n",
    "for i in max_depth:\n",
    "    for mod in base_mod:\n",
    "        base_est.append(LinearTreeRegressor(base_estimator=mod, max_depth=i))"
   ]
  },
  {
   "cell_type": "code",
   "execution_count": 25,
   "id": "4947a6b3",
   "metadata": {},
   "outputs": [],
   "source": [
    "models_list = []\n",
    "names_list = []\n",
    "for n in n_estimators:\n",
    "    for estim in base_est:\n",
    "        models_list.append(LinearRandomForestRegressor(n_features=X_train.shape[1], est=estim, n_est=n))\n",
    "        if isinstance(estim.base_estimator, LinearRegression):\n",
    "            names_list.append(f'LRF_{n}_{estim.max_depth}')\n",
    "        else:\n",
    "            names_list.append(f'LRF_{n}_{estim.max_depth}_l2')"
   ]
  },
  {
   "cell_type": "code",
   "execution_count": 50,
   "id": "95158c44",
   "metadata": {},
   "outputs": [
    {
     "data": {
      "text/html": [
       "<div>\n",
       "<style scoped>\n",
       "    .dataframe tbody tr th:only-of-type {\n",
       "        vertical-align: middle;\n",
       "    }\n",
       "\n",
       "    .dataframe tbody tr th {\n",
       "        vertical-align: top;\n",
       "    }\n",
       "\n",
       "    .dataframe thead th {\n",
       "        text-align: right;\n",
       "    }\n",
       "</style>\n",
       "<table border=\"1\" class=\"dataframe\">\n",
       "  <thead>\n",
       "    <tr style=\"text-align: right;\">\n",
       "      <th></th>\n",
       "      <th>Run_Time</th>\n",
       "      <th>Train_RMSE</th>\n",
       "      <th>Validation_RMSE</th>\n",
       "      <th>delta%</th>\n",
       "    </tr>\n",
       "  </thead>\n",
       "  <tbody>\n",
       "    <tr>\n",
       "      <th>LRF_2_1</th>\n",
       "      <td>12.472734</td>\n",
       "      <td>0.748703</td>\n",
       "      <td>0.439765</td>\n",
       "      <td>-41.263092</td>\n",
       "    </tr>\n",
       "    <tr>\n",
       "      <th>LRF_2_1_l2</th>\n",
       "      <td>11.230134</td>\n",
       "      <td>1.222980</td>\n",
       "      <td>0.740911</td>\n",
       "      <td>-39.417578</td>\n",
       "    </tr>\n",
       "    <tr>\n",
       "      <th>LRF_2_2</th>\n",
       "      <td>14.384900</td>\n",
       "      <td>1.426324</td>\n",
       "      <td>1.206206</td>\n",
       "      <td>-15.432572</td>\n",
       "    </tr>\n",
       "    <tr>\n",
       "      <th>LRF_2_2_l2</th>\n",
       "      <td>14.531684</td>\n",
       "      <td>1.001547</td>\n",
       "      <td>0.760705</td>\n",
       "      <td>-24.046991</td>\n",
       "    </tr>\n",
       "    <tr>\n",
       "      <th>LRF_2_3</th>\n",
       "      <td>14.822251</td>\n",
       "      <td>1.030666</td>\n",
       "      <td>0.623783</td>\n",
       "      <td>-39.477678</td>\n",
       "    </tr>\n",
       "    <tr>\n",
       "      <th>...</th>\n",
       "      <td>...</td>\n",
       "      <td>...</td>\n",
       "      <td>...</td>\n",
       "      <td>...</td>\n",
       "    </tr>\n",
       "    <tr>\n",
       "      <th>LRF_40_1_l2</th>\n",
       "      <td>235.993530</td>\n",
       "      <td>1.217167</td>\n",
       "      <td>0.774050</td>\n",
       "      <td>-36.405629</td>\n",
       "    </tr>\n",
       "    <tr>\n",
       "      <th>LRF_40_2</th>\n",
       "      <td>323.640270</td>\n",
       "      <td>0.932497</td>\n",
       "      <td>0.619073</td>\n",
       "      <td>-33.611284</td>\n",
       "    </tr>\n",
       "    <tr>\n",
       "      <th>LRF_40_2_l2</th>\n",
       "      <td>283.766204</td>\n",
       "      <td>0.954100</td>\n",
       "      <td>0.620327</td>\n",
       "      <td>-34.983048</td>\n",
       "    </tr>\n",
       "    <tr>\n",
       "      <th>LRF_40_3</th>\n",
       "      <td>346.463305</td>\n",
       "      <td>0.917050</td>\n",
       "      <td>0.596874</td>\n",
       "      <td>-34.913725</td>\n",
       "    </tr>\n",
       "    <tr>\n",
       "      <th>LRF_40_3_l2</th>\n",
       "      <td>290.584691</td>\n",
       "      <td>0.874320</td>\n",
       "      <td>0.653027</td>\n",
       "      <td>-25.310289</td>\n",
       "    </tr>\n",
       "  </tbody>\n",
       "</table>\n",
       "<p>66 rows × 4 columns</p>\n",
       "</div>"
      ],
      "text/plain": [
       "               Run_Time  Train_RMSE  Validation_RMSE     delta%\n",
       "LRF_2_1       12.472734    0.748703         0.439765 -41.263092\n",
       "LRF_2_1_l2    11.230134    1.222980         0.740911 -39.417578\n",
       "LRF_2_2       14.384900    1.426324         1.206206 -15.432572\n",
       "LRF_2_2_l2    14.531684    1.001547         0.760705 -24.046991\n",
       "LRF_2_3       14.822251    1.030666         0.623783 -39.477678\n",
       "...                 ...         ...              ...        ...\n",
       "LRF_40_1_l2  235.993530    1.217167         0.774050 -36.405629\n",
       "LRF_40_2     323.640270    0.932497         0.619073 -33.611284\n",
       "LRF_40_2_l2  283.766204    0.954100         0.620327 -34.983048\n",
       "LRF_40_3     346.463305    0.917050         0.596874 -34.913725\n",
       "LRF_40_3_l2  290.584691    0.874320         0.653027 -25.310289\n",
       "\n",
       "[66 rows x 4 columns]"
      ]
     },
     "execution_count": 50,
     "metadata": {},
     "output_type": "execute_result"
    }
   ],
   "source": [
    "metrics = regression(models_list, names_list, '../../../data/model_output/metrics/electricity_transformer/lrf.csv', X_train_scaled, y_train, X_validation_scaled, y_validation)\n",
    "metrics"
   ]
  },
  {
   "cell_type": "code",
   "execution_count": 51,
   "id": "6bf71de3",
   "metadata": {},
   "outputs": [
    {
     "data": {
      "text/html": [
       "<div>\n",
       "<style scoped>\n",
       "    .dataframe tbody tr th:only-of-type {\n",
       "        vertical-align: middle;\n",
       "    }\n",
       "\n",
       "    .dataframe tbody tr th {\n",
       "        vertical-align: top;\n",
       "    }\n",
       "\n",
       "    .dataframe thead th {\n",
       "        text-align: right;\n",
       "    }\n",
       "</style>\n",
       "<table border=\"1\" class=\"dataframe\">\n",
       "  <thead>\n",
       "    <tr style=\"text-align: right;\">\n",
       "      <th></th>\n",
       "      <th>Run_Time</th>\n",
       "      <th>Train_RMSE</th>\n",
       "      <th>Validation_RMSE</th>\n",
       "      <th>delta%</th>\n",
       "    </tr>\n",
       "  </thead>\n",
       "  <tbody>\n",
       "    <tr>\n",
       "      <th>LRF_3_2</th>\n",
       "      <td>18.548520</td>\n",
       "      <td>0.553281</td>\n",
       "      <td>0.356933</td>\n",
       "      <td>-35.488015</td>\n",
       "    </tr>\n",
       "    <tr>\n",
       "      <th>LRF_2_1</th>\n",
       "      <td>12.472734</td>\n",
       "      <td>0.748703</td>\n",
       "      <td>0.439765</td>\n",
       "      <td>-41.263092</td>\n",
       "    </tr>\n",
       "    <tr>\n",
       "      <th>LRF_10_1</th>\n",
       "      <td>56.597592</td>\n",
       "      <td>0.872963</td>\n",
       "      <td>0.543497</td>\n",
       "      <td>-37.741065</td>\n",
       "    </tr>\n",
       "    <tr>\n",
       "      <th>LRF_5_1</th>\n",
       "      <td>27.470497</td>\n",
       "      <td>0.934415</td>\n",
       "      <td>0.545703</td>\n",
       "      <td>-41.599529</td>\n",
       "    </tr>\n",
       "    <tr>\n",
       "      <th>LRF_7_3_l2</th>\n",
       "      <td>45.175753</td>\n",
       "      <td>0.895269</td>\n",
       "      <td>0.553001</td>\n",
       "      <td>-38.230671</td>\n",
       "    </tr>\n",
       "    <tr>\n",
       "      <th>...</th>\n",
       "      <td>...</td>\n",
       "      <td>...</td>\n",
       "      <td>...</td>\n",
       "      <td>...</td>\n",
       "    </tr>\n",
       "    <tr>\n",
       "      <th>LRF_2_3_l2</th>\n",
       "      <td>11.455535</td>\n",
       "      <td>1.382172</td>\n",
       "      <td>0.831282</td>\n",
       "      <td>-39.856834</td>\n",
       "    </tr>\n",
       "    <tr>\n",
       "      <th>LRF_5_1_l2</th>\n",
       "      <td>25.472235</td>\n",
       "      <td>1.117064</td>\n",
       "      <td>0.837078</td>\n",
       "      <td>-25.064487</td>\n",
       "    </tr>\n",
       "    <tr>\n",
       "      <th>LRF_7_2</th>\n",
       "      <td>45.357913</td>\n",
       "      <td>1.337263</td>\n",
       "      <td>0.904633</td>\n",
       "      <td>-32.351884</td>\n",
       "    </tr>\n",
       "    <tr>\n",
       "      <th>LRF_20_2</th>\n",
       "      <td>156.295635</td>\n",
       "      <td>1.233599</td>\n",
       "      <td>0.920619</td>\n",
       "      <td>-25.371333</td>\n",
       "    </tr>\n",
       "    <tr>\n",
       "      <th>LRF_2_2</th>\n",
       "      <td>14.384900</td>\n",
       "      <td>1.426324</td>\n",
       "      <td>1.206206</td>\n",
       "      <td>-15.432572</td>\n",
       "    </tr>\n",
       "  </tbody>\n",
       "</table>\n",
       "<p>66 rows × 4 columns</p>\n",
       "</div>"
      ],
      "text/plain": [
       "              Run_Time  Train_RMSE  Validation_RMSE     delta%\n",
       "LRF_3_2      18.548520    0.553281         0.356933 -35.488015\n",
       "LRF_2_1      12.472734    0.748703         0.439765 -41.263092\n",
       "LRF_10_1     56.597592    0.872963         0.543497 -37.741065\n",
       "LRF_5_1      27.470497    0.934415         0.545703 -41.599529\n",
       "LRF_7_3_l2   45.175753    0.895269         0.553001 -38.230671\n",
       "...                ...         ...              ...        ...\n",
       "LRF_2_3_l2   11.455535    1.382172         0.831282 -39.856834\n",
       "LRF_5_1_l2   25.472235    1.117064         0.837078 -25.064487\n",
       "LRF_7_2      45.357913    1.337263         0.904633 -32.351884\n",
       "LRF_20_2    156.295635    1.233599         0.920619 -25.371333\n",
       "LRF_2_2      14.384900    1.426324         1.206206 -15.432572\n",
       "\n",
       "[66 rows x 4 columns]"
      ]
     },
     "execution_count": 51,
     "metadata": {},
     "output_type": "execute_result"
    }
   ],
   "source": [
    "metrics.sort_values(by='Validation_RMSE')"
   ]
  },
  {
   "cell_type": "markdown",
   "id": "f569cce4",
   "metadata": {},
   "source": [
    "Let's retrain **LRF_3_2**"
   ]
  },
  {
   "cell_type": "code",
   "execution_count": 8,
   "id": "cf80b7af",
   "metadata": {},
   "outputs": [],
   "source": [
    "test =  pd.read_parquet('../../../data/model_input/test_sets/electricity_transformer.parquet')"
   ]
  },
  {
   "cell_type": "code",
   "execution_count": 9,
   "id": "98ae9395",
   "metadata": {},
   "outputs": [],
   "source": [
    "y_test = test.OT_next\n",
    "X_test = test.drop(columns=['date', 'OT_next'])"
   ]
  },
  {
   "cell_type": "code",
   "execution_count": 10,
   "id": "04504307",
   "metadata": {},
   "outputs": [],
   "source": [
    "retrain = pd.concat([train, validation])"
   ]
  },
  {
   "cell_type": "code",
   "execution_count": 11,
   "id": "6d2e2aa9",
   "metadata": {},
   "outputs": [],
   "source": [
    "y_retrain = retrain.OT_next\n",
    "X_retrain = retrain.drop(columns=['date', 'OT_next'])"
   ]
  },
  {
   "cell_type": "code",
   "execution_count": 12,
   "id": "27398133",
   "metadata": {},
   "outputs": [],
   "source": [
    "scaler_retrain = StandardScaler().fit(X_retrain)"
   ]
  },
  {
   "cell_type": "code",
   "execution_count": 13,
   "id": "8b98a286",
   "metadata": {},
   "outputs": [],
   "source": [
    "X_retrain_scaled = scaler_retrain.transform(X_retrain)\n",
    "X_test_scaled = scaler_retrain.transform(X_test)"
   ]
  },
  {
   "cell_type": "code",
   "execution_count": null,
   "id": "abc9d19f",
   "metadata": {},
   "outputs": [],
   "source": [
    "time1 = time.time()\n",
    "model = LinearRandomForestRegressor(n_features=X_retrain.shape[1], est=LinearTreeRegressor(base_estimator=LinearRegression(), max_depth=2), n_est=3).fit(X_retrain_scaled, y_retrain)\n",
    "time2 = time.time() - time1"
   ]
  },
  {
   "cell_type": "code",
   "execution_count": 105,
   "id": "69174cd0",
   "metadata": {},
   "outputs": [
    {
     "name": "stdout",
     "output_type": "stream",
     "text": [
      "Test RMSE: 0.5238\n"
     ]
    }
   ],
   "source": [
    "test_pred = model.predict(X_test_scaled)\n",
    "rmse = root_mean_squared_error(y_test, test_pred)\n",
    "print('Test RMSE:', round(rmse, 4))"
   ]
  },
  {
   "cell_type": "code",
   "execution_count": 114,
   "id": "72b5267c",
   "metadata": {},
   "outputs": [],
   "source": [
    "train_pred = model.predict(X_retrain_scaled)\n",
    "rmse_train = root_mean_squared_error(y_retrain, train_pred)"
   ]
  },
  {
   "cell_type": "code",
   "execution_count": 116,
   "id": "e21ad12f",
   "metadata": {},
   "outputs": [],
   "source": [
    "with open('../../../data/model_output/metrics/electricity_transformer/final_metrics.txt', 'a') as f:\n",
    "     f.write(f'\\nLRF; {time2}; {rmse_train}; {rmse}')"
   ]
  },
  {
   "cell_type": "code",
   "execution_count": 117,
   "id": "ce7bcf02",
   "metadata": {},
   "outputs": [
    {
     "data": {
      "text/plain": [
       "['../../../data/model_output/models/electricity_transformer/best_lrf.joblib']"
      ]
     },
     "execution_count": 117,
     "metadata": {},
     "output_type": "execute_result"
    }
   ],
   "source": [
    "dump(model, '../../../data/model_output/models/electricity_transformer/best_lrf.joblib')"
   ]
  },
  {
   "cell_type": "code",
   "execution_count": 118,
   "id": "b56e1a8c",
   "metadata": {},
   "outputs": [
    {
     "name": "stderr",
     "output_type": "stream",
     "text": [
      "C:\\Users\\MANUEL~2\\AppData\\Local\\Temp/ipykernel_1488/591326651.py:7: UserWarning: color is redundantly defined by the 'color' keyword argument and the fmt string \"k--\" (-> color='k'). The keyword argument will take precedence.\n",
      "  plt.plot([y_retrain.min(), y_retrain.max()], [y_retrain.min(), y_retrain.max()],\n"
     ]
    },
    {
     "data": {
      "image/png": "[encoded data removed]",
      "text/plain": [
       "<Figure size 576x432 with 1 Axes>"
      ]
     },
     "metadata": {
      "needs_background": "light"
     },
     "output_type": "display_data"
    }
   ],
   "source": [
    "prediction_retrain = model.predict(X_retrain_scaled)\n",
    "error_retrain   = prediction_retrain - y_retrain\n",
    "\n",
    "plt.figure(figsize=(8, 6))\n",
    "\n",
    "plt.scatter(y_retrain, prediction_retrain, edgecolors=(0, 0, 0), alpha = 0.4)\n",
    "plt.plot([y_retrain.min(), y_retrain.max()], [y_retrain.min(), y_retrain.max()],\n",
    "                'k--', color = 'black', lw=2)\n",
    "plt.title('Predicted value vs real (scaled) value', fontsize = 10, fontweight = \"bold\")\n",
    "plt.xlabel('Real (scaled)')\n",
    "plt.ylabel('Prediction')\n",
    "plt.tick_params(labelsize = 7)"
   ]
  },
  {
   "cell_type": "code",
   "execution_count": 3,
   "id": "8b6aa491",
   "metadata": {},
   "outputs": [],
   "source": [
    "from joblib import load\n",
    "load_mod = load('../../../data/model_output/models/electricity_transformer/best_lrf.joblib')"
   ]
  },
  {
   "cell_type": "code",
   "execution_count": 14,
   "id": "52bca483",
   "metadata": {},
   "outputs": [],
   "source": [
    "train_pred = load_mod.predict(X_retrain_scaled)\n",
    "test_pred = load_mod.predict(X_test_scaled)"
   ]
  },
  {
   "cell_type": "code",
   "execution_count": 15,
   "id": "f50eff75",
   "metadata": {},
   "outputs": [],
   "source": [
    "mape_train = mean_absolute_percentage_error(y_retrain, train_pred)*100\n",
    "mape_test = mean_absolute_percentage_error(y_retrain, train_pred)*100\n",
    "\n",
    "with open('../../../data/model_output/metrics/electricity_transformer/final_MAPE.txt', 'a') as f:\n",
    "    f.write(f'\\nLRF;{mape_train};{mape_test}')"
   ]
  },
  {
   "cell_type": "code",
   "execution_count": 16,
   "id": "0267227d",
   "metadata": {},
   "outputs": [
    {
     "data": {
      "text/plain": [
       "(1504643065369545.2, 1504643065369545.2)"
      ]
     },
     "execution_count": 16,
     "metadata": {},
     "output_type": "execute_result"
    }
   ],
   "source": [
    "mape_train, mape_test"
   ]
  }
 ],
 "metadata": {
  "kernelspec": {
   "display_name": "Python 3 (ipykernel)",
   "language": "python",
   "name": "python3"
  },
  "language_info": {
   "codemirror_mode": {
    "name": "ipython",
    "version": 3
   },
   "file_extension": ".py",
   "mimetype": "text/x-python",
   "name": "python",
   "nbconvert_exporter": "python",
   "pygments_lexer": "ipython3",
   "version": "3.9.7"
  }
 },
 "nbformat": 4,
 "nbformat_minor": 5
}
