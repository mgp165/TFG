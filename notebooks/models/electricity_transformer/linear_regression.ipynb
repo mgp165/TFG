{
 "cells": [
  {
   "cell_type": "markdown",
   "id": "7c58ba9d",
   "metadata": {},
   "source": [
    "# Linear Regression"
   ]
  },
  {
   "cell_type": "code",
   "execution_count": 1,
   "id": "33dabb11",
   "metadata": {},
   "outputs": [],
   "source": [
    "from sklearn.linear_model import LinearRegression, Ridge, Lasso, ElasticNet\n",
    "import pandas as pd\n",
    "from joblib import dump"
   ]
  },
  {
   "cell_type": "code",
   "execution_count": 2,
   "id": "9c6a2aa8",
   "metadata": {},
   "outputs": [],
   "source": [
    "import sys\n",
    "sys.path.append('F:\\\\Users\\\\Manuel García Plaza\\\\Desktop\\\\TFG\\\\')"
   ]
  },
  {
   "cell_type": "code",
   "execution_count": 3,
   "id": "553db646",
   "metadata": {},
   "outputs": [],
   "source": [
    "from notebooks.utils.regression_metrics import regression"
   ]
  },
  {
   "cell_type": "markdown",
   "id": "8940aa08",
   "metadata": {},
   "source": [
    "We load the data first. Then, we compute the models as we did in the House Prices notebook:"
   ]
  },
  {
   "cell_type": "code",
   "execution_count": 4,
   "id": "c51ad9cd",
   "metadata": {},
   "outputs": [],
   "source": [
    "train =  pd.read_parquet('../../../data/model_input/train_sets/electricity_transformer.parquet')\n",
    "test =  pd.read_parquet('../../../data/model_input/validation_sets/electricity_transformer.parquet')"
   ]
  },
  {
   "cell_type": "code",
   "execution_count": 5,
   "id": "7ddf7ae2",
   "metadata": {},
   "outputs": [],
   "source": [
    "y_train = train.OT_next\n",
    "X_train = train.drop(columns=['date', 'OT_next'])"
   ]
  },
  {
   "cell_type": "code",
   "execution_count": 6,
   "id": "5a9c18a8",
   "metadata": {},
   "outputs": [],
   "source": [
    "y_test = test.OT_next\n",
    "X_test = test.drop(columns=['date', 'OT_next'])"
   ]
  },
  {
   "cell_type": "code",
   "execution_count": 8,
   "id": "5c9203bd",
   "metadata": {},
   "outputs": [],
   "source": [
    "lr = LinearRegression()"
   ]
  },
  {
   "cell_type": "code",
   "execution_count": 10,
   "id": "b4cdb09a",
   "metadata": {},
   "outputs": [],
   "source": [
    "lr_l2 = Ridge()"
   ]
  },
  {
   "cell_type": "code",
   "execution_count": 12,
   "id": "95b17b87",
   "metadata": {},
   "outputs": [],
   "source": [
    "lr_l1 = Lasso()"
   ]
  },
  {
   "cell_type": "code",
   "execution_count": 17,
   "id": "9243c4f6",
   "metadata": {},
   "outputs": [],
   "source": [
    "lr_en1 = ElasticNet(l1_ratio=0.25)\n",
    "lr_en2 = ElasticNet()\n",
    "lr_en3 = ElasticNet(l1_ratio=0.75)"
   ]
  },
  {
   "cell_type": "code",
   "execution_count": 18,
   "id": "1ff13bfc",
   "metadata": {},
   "outputs": [],
   "source": [
    "models_list = [lr, lr_l2, lr_l1, lr_en1, lr_en2 , lr_en3]\n",
    "names_list = ['LR', 'LR_l2', 'LR_l1', 'LR_en_0.25', 'LR_en_0.5', 'LR_en_0.75']"
   ]
  },
  {
   "cell_type": "code",
   "execution_count": 19,
   "id": "b823df76",
   "metadata": {},
   "outputs": [
    {
     "data": {
      "text/html": [
       "<div>\n",
       "<style scoped>\n",
       "    .dataframe tbody tr th:only-of-type {\n",
       "        vertical-align: middle;\n",
       "    }\n",
       "\n",
       "    .dataframe tbody tr th {\n",
       "        vertical-align: top;\n",
       "    }\n",
       "\n",
       "    .dataframe thead th {\n",
       "        text-align: right;\n",
       "    }\n",
       "</style>\n",
       "<table border=\"1\" class=\"dataframe\">\n",
       "  <thead>\n",
       "    <tr style=\"text-align: right;\">\n",
       "      <th></th>\n",
       "      <th>Run_Time</th>\n",
       "      <th>Train_MSE</th>\n",
       "      <th>Test_MSE</th>\n",
       "      <th>delta%</th>\n",
       "    </tr>\n",
       "  </thead>\n",
       "  <tbody>\n",
       "    <tr>\n",
       "      <th>LR</th>\n",
       "      <td>0.842754</td>\n",
       "      <td>0.231675</td>\n",
       "      <td>0.086239</td>\n",
       "      <td>-62.775743</td>\n",
       "    </tr>\n",
       "    <tr>\n",
       "      <th>LR_l2</th>\n",
       "      <td>0.145125</td>\n",
       "      <td>0.231675</td>\n",
       "      <td>0.086239</td>\n",
       "      <td>-62.775781</td>\n",
       "    </tr>\n",
       "    <tr>\n",
       "      <th>LR_l1</th>\n",
       "      <td>0.396524</td>\n",
       "      <td>0.252688</td>\n",
       "      <td>0.123930</td>\n",
       "      <td>-50.955465</td>\n",
       "    </tr>\n",
       "    <tr>\n",
       "      <th>LR_en_0.25</th>\n",
       "      <td>5.472939</td>\n",
       "      <td>0.369332</td>\n",
       "      <td>0.125425</td>\n",
       "      <td>-66.040084</td>\n",
       "    </tr>\n",
       "    <tr>\n",
       "      <th>LR_en_0.5</th>\n",
       "      <td>5.298944</td>\n",
       "      <td>0.337266</td>\n",
       "      <td>0.125358</td>\n",
       "      <td>-62.830964</td>\n",
       "    </tr>\n",
       "    <tr>\n",
       "      <th>LR_en_0.75</th>\n",
       "      <td>4.790209</td>\n",
       "      <td>0.298435</td>\n",
       "      <td>0.123471</td>\n",
       "      <td>-58.627200</td>\n",
       "    </tr>\n",
       "  </tbody>\n",
       "</table>\n",
       "</div>"
      ],
      "text/plain": [
       "            Run_Time  Train_MSE  Test_MSE     delta%\n",
       "LR          0.842754   0.231675  0.086239 -62.775743\n",
       "LR_l2       0.145125   0.231675  0.086239 -62.775781\n",
       "LR_l1       0.396524   0.252688  0.123930 -50.955465\n",
       "LR_en_0.25  5.472939   0.369332  0.125425 -66.040084\n",
       "LR_en_0.5   5.298944   0.337266  0.125358 -62.830964\n",
       "LR_en_0.75  4.790209   0.298435  0.123471 -58.627200"
      ]
     },
     "execution_count": 19,
     "metadata": {},
     "output_type": "execute_result"
    }
   ],
   "source": [
    "metrics = regression(models_list, names_list, '../../../data/metrics/electricity_transformer/linear_regression.parquet', X_train, y_train, X_test, y_test)\n",
    "metrics"
   ]
  },
  {
   "cell_type": "markdown",
   "id": "87ad0f3d",
   "metadata": {},
   "source": [
    "Every model works way better in the test than in the train. We are gonig to choose **LR_l1** as the best model because despite having worse performance than others, it has the \"better\" delta. It will be also an advantage in terms of time having much null coefficients in a model with as many variables as this "
   ]
  },
  {
   "cell_type": "code",
   "execution_count": 28,
   "id": "430c7e86",
   "metadata": {},
   "outputs": [
    {
     "data": {
      "text/plain": [
       "['linear_regression_best.joblib']"
      ]
     },
     "execution_count": 28,
     "metadata": {},
     "output_type": "execute_result"
    }
   ],
   "source": [
    "dump(lr_l1, 'linear_regression_best.joblib')"
   ]
  },
  {
   "cell_type": "code",
   "execution_count": null,
   "id": "c3c94a92",
   "metadata": {},
   "outputs": [],
   "source": []
  }
 ],
 "metadata": {
  "kernelspec": {
   "display_name": "Python 3 (ipykernel)",
   "language": "python",
   "name": "python3"
  },
  "language_info": {
   "codemirror_mode": {
    "name": "ipython",
    "version": 3
   },
   "file_extension": ".py",
   "mimetype": "text/x-python",
   "name": "python",
   "nbconvert_exporter": "python",
   "pygments_lexer": "ipython3",
   "version": "3.9.7"
  }
 },
 "nbformat": 4,
 "nbformat_minor": 5
}
