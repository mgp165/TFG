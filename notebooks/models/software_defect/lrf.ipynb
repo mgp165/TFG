{
 "cells": [
  {
   "cell_type": "markdown",
   "id": "344a5ad4",
   "metadata": {},
   "source": [
    "# Linear Random Forest"
   ]
  },
  {
   "cell_type": "code",
   "execution_count": 1,
   "id": "8afdb325",
   "metadata": {},
   "outputs": [],
   "source": [
    "from sklearn.linear_model import LogisticRegression\n",
    "from lineartree import LinearTreeClassifier\n",
    "from sklearn.metrics import roc_auc_score\n",
    "import pandas as pd\n",
    "from joblib import dump\n",
    "import matplotlib.pyplot as plt\n",
    "import numpy as np\n",
    "from sklearn.preprocessing import StandardScaler\n",
    "import time"
   ]
  },
  {
   "cell_type": "code",
   "execution_count": 2,
   "id": "69060bec",
   "metadata": {},
   "outputs": [],
   "source": [
    "import sys\n",
    "sys.path.append('F:\\\\Users\\\\Manuel García Plaza\\\\Desktop\\\\TFG\\\\')"
   ]
  },
  {
   "cell_type": "code",
   "execution_count": 3,
   "id": "5ae30875",
   "metadata": {},
   "outputs": [],
   "source": [
    "from notebooks.utils.classification_metrics import classification\n",
    "from notebooks.utils.lrf import LinearRandomForestClassifier"
   ]
  },
  {
   "cell_type": "code",
   "execution_count": 4,
   "id": "6988b045",
   "metadata": {},
   "outputs": [],
   "source": [
    "train =  pd.read_parquet('../../../data/model_input/train_sets/software_defect.parquet')\n",
    "validation =  pd.read_parquet('../../../data/model_input/validation_sets/software_defect.parquet')"
   ]
  },
  {
   "cell_type": "code",
   "execution_count": 5,
   "id": "7efa977b",
   "metadata": {},
   "outputs": [],
   "source": [
    "y_train = train.defects\n",
    "X_train = train.drop(columns=['defects'])"
   ]
  },
  {
   "cell_type": "code",
   "execution_count": 6,
   "id": "a9bafddd",
   "metadata": {},
   "outputs": [],
   "source": [
    "y_validation = validation.defects\n",
    "X_validation = validation.drop(columns=['defects'])"
   ]
  },
  {
   "cell_type": "code",
   "execution_count": 7,
   "id": "c70407fc",
   "metadata": {},
   "outputs": [],
   "source": [
    "scaler = StandardScaler().fit(X_train)"
   ]
  },
  {
   "cell_type": "code",
   "execution_count": 8,
   "id": "a27ed431",
   "metadata": {},
   "outputs": [],
   "source": [
    "X_train_scaled = scaler.transform(X_train)\n",
    "X_validation_scaled = scaler.transform(X_validation)"
   ]
  },
  {
   "cell_type": "code",
   "execution_count": 14,
   "id": "5346d43a",
   "metadata": {},
   "outputs": [],
   "source": [
    "n_estimators = [5, 10, 15, 20, 25, 30, 35, 40]"
   ]
  },
  {
   "cell_type": "code",
   "execution_count": 11,
   "id": "7c390613",
   "metadata": {},
   "outputs": [],
   "source": [
    "max_depth = [1, 2, 3, 4, 5, 7]\n",
    "base_mod = [LogisticRegression(penalty=None), LogisticRegression()]"
   ]
  },
  {
   "cell_type": "code",
   "execution_count": 12,
   "id": "4003468d",
   "metadata": {},
   "outputs": [],
   "source": [
    "base_est = []\n",
    "for i in max_depth:\n",
    "    for mod in base_mod:\n",
    "        base_est.append(LinearTreeClassifier(base_estimator=mod, max_depth=i))"
   ]
  },
  {
   "cell_type": "code",
   "execution_count": 15,
   "id": "462ee39a",
   "metadata": {},
   "outputs": [],
   "source": [
    "models_list = []\n",
    "names_list = []\n",
    "for n in n_estimators:\n",
    "    for estim in base_est:\n",
    "        models_list.append(LinearRandomForestClassifier(n_features=X_train.shape[1], est=estim, n_est=n))\n",
    "        if estim.base_estimator.penalty == None:\n",
    "            names_list.append(f'LRF_{n}_{estim.max_depth}')\n",
    "        else:\n",
    "            names_list.append(f'LRF_{n}_{estim.max_depth}_{estim.base_estimator.penalty}')"
   ]
  },
  {
   "cell_type": "code",
   "execution_count": 43,
   "id": "e0f14a54",
   "metadata": {},
   "outputs": [
    {
     "data": {
      "text/html": [
       "<div>\n",
       "<style scoped>\n",
       "    .dataframe tbody tr th:only-of-type {\n",
       "        vertical-align: middle;\n",
       "    }\n",
       "\n",
       "    .dataframe tbody tr th {\n",
       "        vertical-align: top;\n",
       "    }\n",
       "\n",
       "    .dataframe thead th {\n",
       "        text-align: right;\n",
       "    }\n",
       "</style>\n",
       "<table border=\"1\" class=\"dataframe\">\n",
       "  <thead>\n",
       "    <tr style=\"text-align: right;\">\n",
       "      <th></th>\n",
       "      <th>Run_Time</th>\n",
       "      <th>Train_AUC</th>\n",
       "      <th>Validation_AUC</th>\n",
       "      <th>delta%</th>\n",
       "    </tr>\n",
       "  </thead>\n",
       "  <tbody>\n",
       "    <tr>\n",
       "      <th>LRF_5_1</th>\n",
       "      <td>54.184970</td>\n",
       "      <td>0.774885</td>\n",
       "      <td>0.774659</td>\n",
       "      <td>-0.029150</td>\n",
       "    </tr>\n",
       "    <tr>\n",
       "      <th>LRF_5_1_l2</th>\n",
       "      <td>34.630958</td>\n",
       "      <td>0.771246</td>\n",
       "      <td>0.772685</td>\n",
       "      <td>0.186667</td>\n",
       "    </tr>\n",
       "    <tr>\n",
       "      <th>LRF_5_2</th>\n",
       "      <td>50.014409</td>\n",
       "      <td>0.773966</td>\n",
       "      <td>0.774691</td>\n",
       "      <td>0.093603</td>\n",
       "    </tr>\n",
       "    <tr>\n",
       "      <th>LRF_5_2_l2</th>\n",
       "      <td>61.297451</td>\n",
       "      <td>0.775498</td>\n",
       "      <td>0.776636</td>\n",
       "      <td>0.146786</td>\n",
       "    </tr>\n",
       "    <tr>\n",
       "      <th>LRF_5_3</th>\n",
       "      <td>59.057609</td>\n",
       "      <td>0.780172</td>\n",
       "      <td>0.779813</td>\n",
       "      <td>-0.045944</td>\n",
       "    </tr>\n",
       "    <tr>\n",
       "      <th>...</th>\n",
       "      <td>...</td>\n",
       "      <td>...</td>\n",
       "      <td>...</td>\n",
       "      <td>...</td>\n",
       "    </tr>\n",
       "    <tr>\n",
       "      <th>LRF_35_5_l2</th>\n",
       "      <td>448.311662</td>\n",
       "      <td>0.779140</td>\n",
       "      <td>0.779530</td>\n",
       "      <td>0.050066</td>\n",
       "    </tr>\n",
       "    <tr>\n",
       "      <th>LRF_40_1</th>\n",
       "      <td>375.545070</td>\n",
       "      <td>0.776980</td>\n",
       "      <td>0.778183</td>\n",
       "      <td>0.154855</td>\n",
       "    </tr>\n",
       "    <tr>\n",
       "      <th>LRF_40_1_l2</th>\n",
       "      <td>350.585012</td>\n",
       "      <td>0.773790</td>\n",
       "      <td>0.775047</td>\n",
       "      <td>0.162505</td>\n",
       "    </tr>\n",
       "    <tr>\n",
       "      <th>LRF_40_2</th>\n",
       "      <td>480.940110</td>\n",
       "      <td>0.781472</td>\n",
       "      <td>0.782836</td>\n",
       "      <td>0.174536</td>\n",
       "    </tr>\n",
       "    <tr>\n",
       "      <th>LRF_40_2_l2</th>\n",
       "      <td>432.244787</td>\n",
       "      <td>0.779613</td>\n",
       "      <td>0.780117</td>\n",
       "      <td>0.064630</td>\n",
       "    </tr>\n",
       "  </tbody>\n",
       "</table>\n",
       "<p>84 rows × 4 columns</p>\n",
       "</div>"
      ],
      "text/plain": [
       "               Run_Time  Train_AUC  Validation_AUC    delta%\n",
       "LRF_5_1       54.184970   0.774885        0.774659 -0.029150\n",
       "LRF_5_1_l2    34.630958   0.771246        0.772685  0.186667\n",
       "LRF_5_2       50.014409   0.773966        0.774691  0.093603\n",
       "LRF_5_2_l2    61.297451   0.775498        0.776636  0.146786\n",
       "LRF_5_3       59.057609   0.780172        0.779813 -0.045944\n",
       "...                 ...        ...             ...       ...\n",
       "LRF_35_5_l2  448.311662   0.779140        0.779530  0.050066\n",
       "LRF_40_1     375.545070   0.776980        0.778183  0.154855\n",
       "LRF_40_1_l2  350.585012   0.773790        0.775047  0.162505\n",
       "LRF_40_2     480.940110   0.781472        0.782836  0.174536\n",
       "LRF_40_2_l2  432.244787   0.779613        0.780117  0.064630\n",
       "\n",
       "[84 rows x 4 columns]"
      ]
     },
     "execution_count": 43,
     "metadata": {},
     "output_type": "execute_result"
    }
   ],
   "source": [
    "metrics = classification(models_list, names_list, '../../../data/model_output/metrics/software_defect/lrf.csv', X_train_scaled, y_train, X_validation_scaled, y_validation, metrics={})\n",
    "metrics"
   ]
  },
  {
   "cell_type": "code",
   "execution_count": 44,
   "id": "fcd1188a",
   "metadata": {},
   "outputs": [
    {
     "data": {
      "text/html": [
       "<div>\n",
       "<style scoped>\n",
       "    .dataframe tbody tr th:only-of-type {\n",
       "        vertical-align: middle;\n",
       "    }\n",
       "\n",
       "    .dataframe tbody tr th {\n",
       "        vertical-align: top;\n",
       "    }\n",
       "\n",
       "    .dataframe thead th {\n",
       "        text-align: right;\n",
       "    }\n",
       "</style>\n",
       "<table border=\"1\" class=\"dataframe\">\n",
       "  <thead>\n",
       "    <tr style=\"text-align: right;\">\n",
       "      <th></th>\n",
       "      <th>Run_Time</th>\n",
       "      <th>Train_AUC</th>\n",
       "      <th>Validation_AUC</th>\n",
       "      <th>delta%</th>\n",
       "    </tr>\n",
       "  </thead>\n",
       "  <tbody>\n",
       "    <tr>\n",
       "      <th>LRF_5_7_l2</th>\n",
       "      <td>55.992711</td>\n",
       "      <td>0.784260</td>\n",
       "      <td>0.785755</td>\n",
       "      <td>0.190739</td>\n",
       "    </tr>\n",
       "    <tr>\n",
       "      <th>LRF_20_7</th>\n",
       "      <td>213.095556</td>\n",
       "      <td>0.783640</td>\n",
       "      <td>0.785262</td>\n",
       "      <td>0.206900</td>\n",
       "    </tr>\n",
       "    <tr>\n",
       "      <th>LRF_25_4</th>\n",
       "      <td>334.916088</td>\n",
       "      <td>0.783268</td>\n",
       "      <td>0.784014</td>\n",
       "      <td>0.095149</td>\n",
       "    </tr>\n",
       "    <tr>\n",
       "      <th>LRF_5_4_l2</th>\n",
       "      <td>64.244707</td>\n",
       "      <td>0.782860</td>\n",
       "      <td>0.783965</td>\n",
       "      <td>0.141137</td>\n",
       "    </tr>\n",
       "    <tr>\n",
       "      <th>LRF_5_5</th>\n",
       "      <td>52.449600</td>\n",
       "      <td>0.781384</td>\n",
       "      <td>0.783503</td>\n",
       "      <td>0.271196</td>\n",
       "    </tr>\n",
       "    <tr>\n",
       "      <th>...</th>\n",
       "      <td>...</td>\n",
       "      <td>...</td>\n",
       "      <td>...</td>\n",
       "      <td>...</td>\n",
       "    </tr>\n",
       "    <tr>\n",
       "      <th>LRF_5_7</th>\n",
       "      <td>67.600647</td>\n",
       "      <td>0.773402</td>\n",
       "      <td>0.773613</td>\n",
       "      <td>0.027230</td>\n",
       "    </tr>\n",
       "    <tr>\n",
       "      <th>LRF_25_1_l2</th>\n",
       "      <td>200.178724</td>\n",
       "      <td>0.771414</td>\n",
       "      <td>0.773412</td>\n",
       "      <td>0.258953</td>\n",
       "    </tr>\n",
       "    <tr>\n",
       "      <th>LRF_5_1_l2</th>\n",
       "      <td>34.630958</td>\n",
       "      <td>0.771246</td>\n",
       "      <td>0.772685</td>\n",
       "      <td>0.186667</td>\n",
       "    </tr>\n",
       "    <tr>\n",
       "      <th>LRF_15_1_l2</th>\n",
       "      <td>119.413055</td>\n",
       "      <td>0.768028</td>\n",
       "      <td>0.769622</td>\n",
       "      <td>0.207548</td>\n",
       "    </tr>\n",
       "    <tr>\n",
       "      <th>LRF_10_1</th>\n",
       "      <td>96.340833</td>\n",
       "      <td>0.766653</td>\n",
       "      <td>0.768592</td>\n",
       "      <td>0.252849</td>\n",
       "    </tr>\n",
       "  </tbody>\n",
       "</table>\n",
       "<p>84 rows × 4 columns</p>\n",
       "</div>"
      ],
      "text/plain": [
       "               Run_Time  Train_AUC  Validation_AUC    delta%\n",
       "LRF_5_7_l2    55.992711   0.784260        0.785755  0.190739\n",
       "LRF_20_7     213.095556   0.783640        0.785262  0.206900\n",
       "LRF_25_4     334.916088   0.783268        0.784014  0.095149\n",
       "LRF_5_4_l2    64.244707   0.782860        0.783965  0.141137\n",
       "LRF_5_5       52.449600   0.781384        0.783503  0.271196\n",
       "...                 ...        ...             ...       ...\n",
       "LRF_5_7       67.600647   0.773402        0.773613  0.027230\n",
       "LRF_25_1_l2  200.178724   0.771414        0.773412  0.258953\n",
       "LRF_5_1_l2    34.630958   0.771246        0.772685  0.186667\n",
       "LRF_15_1_l2  119.413055   0.768028        0.769622  0.207548\n",
       "LRF_10_1      96.340833   0.766653        0.768592  0.252849\n",
       "\n",
       "[84 rows x 4 columns]"
      ]
     },
     "execution_count": 44,
     "metadata": {},
     "output_type": "execute_result"
    }
   ],
   "source": [
    "metrics.sort_values(by='Validation_AUC', ascending=False)"
   ]
  },
  {
   "cell_type": "markdown",
   "id": "e07bc5e0",
   "metadata": {},
   "source": [
    "We choose **LRF_5_7_l2**\t"
   ]
  },
  {
   "cell_type": "code",
   "execution_count": 45,
   "id": "1aa078df",
   "metadata": {},
   "outputs": [],
   "source": [
    "test = pd.read_parquet('../../../data/model_input/test_sets/software_defect.parquet')"
   ]
  },
  {
   "cell_type": "code",
   "execution_count": 46,
   "id": "32a07fed",
   "metadata": {},
   "outputs": [],
   "source": [
    "y_test = test.defects\n",
    "X_test = test.drop(columns=['defects'])"
   ]
  },
  {
   "cell_type": "code",
   "execution_count": 47,
   "id": "b1f127a9",
   "metadata": {},
   "outputs": [],
   "source": [
    "retrain = pd.concat([train, validation])"
   ]
  },
  {
   "cell_type": "code",
   "execution_count": 48,
   "id": "e95c1511",
   "metadata": {},
   "outputs": [],
   "source": [
    "y_retrain = retrain.defects\n",
    "X_retrain = retrain.drop(columns=['defects'])"
   ]
  },
  {
   "cell_type": "code",
   "execution_count": 49,
   "id": "93bbb123",
   "metadata": {},
   "outputs": [],
   "source": [
    "scaler_retrain = StandardScaler().fit(X_retrain)"
   ]
  },
  {
   "cell_type": "code",
   "execution_count": 50,
   "id": "a943c2c2",
   "metadata": {},
   "outputs": [],
   "source": [
    "X_retrain_scaled = scaler_retrain.transform(X_retrain)\n",
    "X_test_scaled = scaler_retrain.transform(X_test)"
   ]
  },
  {
   "cell_type": "code",
   "execution_count": 51,
   "id": "6fab3d92",
   "metadata": {},
   "outputs": [],
   "source": [
    "time1 = time.time()\n",
    "model = LinearRandomForestClassifier(n_features=X_retrain.shape[1], est=LinearTreeClassifier(base_estimator=LogisticRegression(), max_depth=7), n_est=5).fit(X_retrain_scaled, y_retrain)\n",
    "time2 = time.time() - time1"
   ]
  },
  {
   "cell_type": "code",
   "execution_count": 52,
   "id": "f5c1e93a",
   "metadata": {},
   "outputs": [
    {
     "name": "stdout",
     "output_type": "stream",
     "text": [
      "Test AUC: 0.786\n"
     ]
    }
   ],
   "source": [
    "test_pred = model.predict_proba(X_test_scaled)[:, 1]\n",
    "auc = roc_auc_score(y_test, test_pred)\n",
    "print('Test AUC:', round(auc, 4))"
   ]
  },
  {
   "cell_type": "code",
   "execution_count": 53,
   "id": "9a241fbe",
   "metadata": {},
   "outputs": [],
   "source": [
    "train_pred = model.predict_proba(X_retrain_scaled)[:, 1]\n",
    "auc_train = roc_auc_score(y_retrain, train_pred)"
   ]
  },
  {
   "cell_type": "code",
   "execution_count": 54,
   "id": "a6a6206c",
   "metadata": {},
   "outputs": [],
   "source": [
    "with open('../../../data/model_output/metrics/software_defect/final_metrics.txt', 'a') as f:\n",
    "     f.write(f'\\nLRF; {time2}; {auc_train}; {auc}')"
   ]
  },
  {
   "cell_type": "code",
   "execution_count": 55,
   "id": "e96f484e",
   "metadata": {},
   "outputs": [
    {
     "data": {
      "text/plain": [
       "['../../../data/model_output/models/software_defect/best_lrf.joblib']"
      ]
     },
     "execution_count": 55,
     "metadata": {},
     "output_type": "execute_result"
    }
   ],
   "source": [
    "dump(model, '../../../data/model_output/models/software_defect/best_lrf.joblib')"
   ]
  },
  {
   "cell_type": "code",
   "execution_count": null,
   "id": "0bbc1ce3",
   "metadata": {},
   "outputs": [],
   "source": []
  }
 ],
 "metadata": {
  "kernelspec": {
   "display_name": "Python 3 (ipykernel)",
   "language": "python",
   "name": "python3"
  },
  "language_info": {
   "codemirror_mode": {
    "name": "ipython",
    "version": 3
   },
   "file_extension": ".py",
   "mimetype": "text/x-python",
   "name": "python",
   "nbconvert_exporter": "python",
   "pygments_lexer": "ipython3",
   "version": "3.9.7"
  }
 },
 "nbformat": 4,
 "nbformat_minor": 5
}
