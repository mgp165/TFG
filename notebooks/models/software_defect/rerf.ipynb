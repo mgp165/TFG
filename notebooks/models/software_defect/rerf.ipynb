{
 "cells": [
  {
   "cell_type": "markdown",
   "id": "a21c3d17",
   "metadata": {},
   "source": [
    "# RERF"
   ]
  },
  {
   "cell_type": "code",
   "execution_count": 1,
   "id": "3b32daa6",
   "metadata": {},
   "outputs": [],
   "source": [
    "import matplotlib.pyplot as plt\n",
    "import pandas as pd\n",
    "from sklearn.linear_model import LogisticRegression\n",
    "from sklearn.ensemble import RandomForestRegressor\n",
    "from sklearn.metrics import roc_auc_score\n",
    "from sklearn.preprocessing import StandardScaler\n",
    "from joblib import dump\n",
    "import numpy as np\n",
    "import time"
   ]
  },
  {
   "cell_type": "code",
   "execution_count": 2,
   "id": "f2867b2d",
   "metadata": {},
   "outputs": [],
   "source": [
    "train =  pd.read_parquet('../../../data/model_input/train_sets/software_defect.parquet')\n",
    "validation =  pd.read_parquet('../../../data/model_input/validation_sets/software_defect.parquet')"
   ]
  },
  {
   "cell_type": "code",
   "execution_count": 3,
   "id": "f594ae88",
   "metadata": {},
   "outputs": [],
   "source": [
    "y_train = train.defects\n",
    "X_train = train.drop(columns=['defects'])"
   ]
  },
  {
   "cell_type": "code",
   "execution_count": 4,
   "id": "9140a51f",
   "metadata": {},
   "outputs": [],
   "source": [
    "y_validation = validation.defects\n",
    "X_validation = validation.drop(columns=['defects'])"
   ]
  },
  {
   "cell_type": "code",
   "execution_count": 5,
   "id": "1bc5cdcd",
   "metadata": {},
   "outputs": [],
   "source": [
    "scaler = StandardScaler().fit(X_train)"
   ]
  },
  {
   "cell_type": "code",
   "execution_count": 6,
   "id": "3b7855d6",
   "metadata": {},
   "outputs": [],
   "source": [
    "X_train_scaled = scaler.transform(X_train)\n",
    "X_validation_scaled = scaler.transform(X_validation)"
   ]
  },
  {
   "cell_type": "code",
   "execution_count": 22,
   "id": "058a8eec",
   "metadata": {},
   "outputs": [],
   "source": [
    "max_depth = [1, 2, 3, 4, 5, 7, 10, 15, 20, 30, 40]\n",
    "n_est = [5, 10, 15, 20, 30, 40, 50, 75, 100, 150, 200]\n",
    "lr = [LogisticRegression(penalty=None), LogisticRegression(), LogisticRegression(penalty='l1', solver='liblinear'),\n",
    "     LogisticRegression(penalty='elasticnet', solver='saga', l1_ratio=0.25, max_iter=500),\n",
    "     LogisticRegression(penalty='elasticnet', solver='saga', l1_ratio=0.5, max_iter=500),\n",
    "     LogisticRegression(penalty='elasticnet', solver='saga', l1_ratio=0.75, max_iter=500)]"
   ]
  },
  {
   "cell_type": "code",
   "execution_count": 23,
   "id": "053a5461",
   "metadata": {},
   "outputs": [],
   "source": [
    "names_list = []\n",
    "\n",
    "for n in n_est:\n",
    "    for depth in max_depth:\n",
    "        for est in lr:\n",
    "            if est.penalty == None:\n",
    "                name = f'RERF_{depth}_{n}'\n",
    "            elif est.penalty == 'elasticnet':\n",
    "                name = f'RERF_{depth}_{n}_en_{est.l1_ratio}'\n",
    "            else:\n",
    "                name = f'RERF_{depth}_{n}_{est.penalty}'\n",
    "            \n",
    "            names_list.append(name)"
   ]
  },
  {
   "cell_type": "code",
   "execution_count": 24,
   "id": "5e6d0e64",
   "metadata": {},
   "outputs": [],
   "source": [
    "metrics = {}"
   ]
  },
  {
   "cell_type": "code",
   "execution_count": 239,
   "id": "812a31b6",
   "metadata": {},
   "outputs": [],
   "source": [
    "it = 0\n",
    "\n",
    "for n in n_est:\n",
    "    for i in max_depth:\n",
    "        for reg in lr:\n",
    "            name = names_list[it]\n",
    "            start_time = time.time()\n",
    "            \n",
    "            reg.fit(X_train_scaled, y_train)\n",
    "            reg_pred_train = reg.predict_proba(X_train_scaled)[:, 1]\n",
    "            reg_pred_val = reg.predict_proba(X_validation_scaled)[:, 1]\n",
    "            res_train = y_train - reg_pred_train\n",
    "            res_valid = y_validation - reg_pred_val\n",
    "            \n",
    "            rf = RandomForestRegressor(n_estimators=n, max_depth=i)\n",
    "            rf.fit(X_train_scaled, res_train)\n",
    "            rf_pred_train = rf.predict(X_train_scaled)\n",
    "            rf_pred_val = rf.predict(X_validation_scaled)\n",
    "            \n",
    "            train_pred = reg_pred_train + rf_pred_train\n",
    "            val_pred = reg_pred_val + rf_pred_val\n",
    "\n",
    "            metrics[name] = {\n",
    "                'Train_AUC': roc_auc_score(y_train, train_pred),\n",
    "                'Validation_AUC': roc_auc_score(y_validation, val_pred),\n",
    "                'Run_Time': time.time() - start_time\n",
    "            }\n",
    "            \n",
    "            it += 1"
   ]
  },
  {
   "cell_type": "code",
   "execution_count": 236,
   "id": "c4af3439",
   "metadata": {},
   "outputs": [],
   "source": [
    "metrics = pd.DataFrame.from_dict(metrics, orient='index',columns=['Run_Time', 'Train_AUC', 'Validation_AUC'])\n",
    "metrics['delta%'] = 100*(metrics.Validation_AUC - metrics.Train_AUC) / metrics.Train_AUC"
   ]
  },
  {
   "cell_type": "code",
   "execution_count": 237,
   "id": "7fa62354",
   "metadata": {},
   "outputs": [],
   "source": [
    "metrics.to_csv('../../../data/metrics/software_defect/rerf.csv')"
   ]
  },
  {
   "cell_type": "code",
   "execution_count": 238,
   "id": "879c108e",
   "metadata": {},
   "outputs": [
    {
     "data": {
      "text/html": [
       "<div>\n",
       "<style scoped>\n",
       "    .dataframe tbody tr th:only-of-type {\n",
       "        vertical-align: middle;\n",
       "    }\n",
       "\n",
       "    .dataframe tbody tr th {\n",
       "        vertical-align: top;\n",
       "    }\n",
       "\n",
       "    .dataframe thead th {\n",
       "        text-align: right;\n",
       "    }\n",
       "</style>\n",
       "<table border=\"1\" class=\"dataframe\">\n",
       "  <thead>\n",
       "    <tr style=\"text-align: right;\">\n",
       "      <th></th>\n",
       "      <th>Run_Time</th>\n",
       "      <th>Train_AUC</th>\n",
       "      <th>Validation_AUC</th>\n",
       "      <th>delta%</th>\n",
       "    </tr>\n",
       "  </thead>\n",
       "  <tbody>\n",
       "    <tr>\n",
       "      <th>RERF_1_5</th>\n",
       "      <td>0.496654</td>\n",
       "      <td>0.779931</td>\n",
       "      <td>0.780364</td>\n",
       "      <td>0.055503</td>\n",
       "    </tr>\n",
       "    <tr>\n",
       "      <th>RERF_1_5_l2</th>\n",
       "      <td>0.498404</td>\n",
       "      <td>0.779931</td>\n",
       "      <td>0.780355</td>\n",
       "      <td>0.054300</td>\n",
       "    </tr>\n",
       "    <tr>\n",
       "      <th>RERF_1_5_l1</th>\n",
       "      <td>1.506976</td>\n",
       "      <td>0.779954</td>\n",
       "      <td>0.780430</td>\n",
       "      <td>0.060941</td>\n",
       "    </tr>\n",
       "    <tr>\n",
       "      <th>RERF_1_5_en_0.25</th>\n",
       "      <td>9.246708</td>\n",
       "      <td>0.779947</td>\n",
       "      <td>0.780390</td>\n",
       "      <td>0.056853</td>\n",
       "    </tr>\n",
       "    <tr>\n",
       "      <th>RERF_1_5_en_0.5</th>\n",
       "      <td>9.214333</td>\n",
       "      <td>0.779937</td>\n",
       "      <td>0.780495</td>\n",
       "      <td>0.071570</td>\n",
       "    </tr>\n",
       "    <tr>\n",
       "      <th>...</th>\n",
       "      <td>...</td>\n",
       "      <td>...</td>\n",
       "      <td>...</td>\n",
       "      <td>...</td>\n",
       "    </tr>\n",
       "    <tr>\n",
       "      <th>RERF_5_200_l2</th>\n",
       "      <td>44.967897</td>\n",
       "      <td>0.792263</td>\n",
       "      <td>0.790455</td>\n",
       "      <td>-0.228167</td>\n",
       "    </tr>\n",
       "    <tr>\n",
       "      <th>RERF_10_200</th>\n",
       "      <td>92.600796</td>\n",
       "      <td>0.822082</td>\n",
       "      <td>0.792084</td>\n",
       "      <td>-3.649061</td>\n",
       "    </tr>\n",
       "    <tr>\n",
       "      <th>RERF_10_200_l2</th>\n",
       "      <td>92.640307</td>\n",
       "      <td>0.822395</td>\n",
       "      <td>0.792234</td>\n",
       "      <td>-3.667456</td>\n",
       "    </tr>\n",
       "    <tr>\n",
       "      <th>RERF_15_200</th>\n",
       "      <td>140.326600</td>\n",
       "      <td>0.891342</td>\n",
       "      <td>0.790259</td>\n",
       "      <td>-11.340528</td>\n",
       "    </tr>\n",
       "    <tr>\n",
       "      <th>RERF_15_200_l2</th>\n",
       "      <td>138.205028</td>\n",
       "      <td>0.889227</td>\n",
       "      <td>0.790256</td>\n",
       "      <td>-11.129943</td>\n",
       "    </tr>\n",
       "  </tbody>\n",
       "</table>\n",
       "<p>506 rows × 4 columns</p>\n",
       "</div>"
      ],
      "text/plain": [
       "                    Run_Time  Train_AUC  Validation_AUC     delta%\n",
       "RERF_1_5            0.496654   0.779931        0.780364   0.055503\n",
       "RERF_1_5_l2         0.498404   0.779931        0.780355   0.054300\n",
       "RERF_1_5_l1         1.506976   0.779954        0.780430   0.060941\n",
       "RERF_1_5_en_0.25    9.246708   0.779947        0.780390   0.056853\n",
       "RERF_1_5_en_0.5     9.214333   0.779937        0.780495   0.071570\n",
       "...                      ...        ...             ...        ...\n",
       "RERF_5_200_l2      44.967897   0.792263        0.790455  -0.228167\n",
       "RERF_10_200        92.600796   0.822082        0.792084  -3.649061\n",
       "RERF_10_200_l2     92.640307   0.822395        0.792234  -3.667456\n",
       "RERF_15_200       140.326600   0.891342        0.790259 -11.340528\n",
       "RERF_15_200_l2    138.205028   0.889227        0.790256 -11.129943\n",
       "\n",
       "[506 rows x 4 columns]"
      ]
     },
     "execution_count": 238,
     "metadata": {},
     "output_type": "execute_result"
    }
   ],
   "source": [
    "metrics"
   ]
  },
  {
   "cell_type": "code",
   "execution_count": 241,
   "id": "62ee0799",
   "metadata": {},
   "outputs": [
    {
     "data": {
      "text/html": [
       "<div>\n",
       "<style scoped>\n",
       "    .dataframe tbody tr th:only-of-type {\n",
       "        vertical-align: middle;\n",
       "    }\n",
       "\n",
       "    .dataframe tbody tr th {\n",
       "        vertical-align: top;\n",
       "    }\n",
       "\n",
       "    .dataframe thead th {\n",
       "        text-align: right;\n",
       "    }\n",
       "</style>\n",
       "<table border=\"1\" class=\"dataframe\">\n",
       "  <thead>\n",
       "    <tr style=\"text-align: right;\">\n",
       "      <th></th>\n",
       "      <th>Run_Time</th>\n",
       "      <th>Train_AUC</th>\n",
       "      <th>Validation_AUC</th>\n",
       "      <th>delta%</th>\n",
       "    </tr>\n",
       "  </thead>\n",
       "  <tbody>\n",
       "    <tr>\n",
       "      <th>RERF_10_100</th>\n",
       "      <td>43.191579</td>\n",
       "      <td>0.821796</td>\n",
       "      <td>0.792358</td>\n",
       "      <td>-3.582195</td>\n",
       "    </tr>\n",
       "    <tr>\n",
       "      <th>RERF_10_150_l2</th>\n",
       "      <td>77.517040</td>\n",
       "      <td>0.822255</td>\n",
       "      <td>0.792336</td>\n",
       "      <td>-3.638654</td>\n",
       "    </tr>\n",
       "    <tr>\n",
       "      <th>RERF_10_40_en_0.25</th>\n",
       "      <td>33.055901</td>\n",
       "      <td>0.821273</td>\n",
       "      <td>0.792284</td>\n",
       "      <td>-3.529758</td>\n",
       "    </tr>\n",
       "    <tr>\n",
       "      <th>RERF_10_200_l2</th>\n",
       "      <td>92.640307</td>\n",
       "      <td>0.822395</td>\n",
       "      <td>0.792234</td>\n",
       "      <td>-3.667456</td>\n",
       "    </tr>\n",
       "    <tr>\n",
       "      <th>RERF_10_30</th>\n",
       "      <td>15.860525</td>\n",
       "      <td>0.820569</td>\n",
       "      <td>0.792161</td>\n",
       "      <td>-3.461960</td>\n",
       "    </tr>\n",
       "    <tr>\n",
       "      <th>...</th>\n",
       "      <td>...</td>\n",
       "      <td>...</td>\n",
       "      <td>...</td>\n",
       "      <td>...</td>\n",
       "    </tr>\n",
       "    <tr>\n",
       "      <th>RERF_40_5_en_0.75</th>\n",
       "      <td>13.933838</td>\n",
       "      <td>0.991430</td>\n",
       "      <td>0.713894</td>\n",
       "      <td>-27.993556</td>\n",
       "    </tr>\n",
       "    <tr>\n",
       "      <th>RERF_40_5</th>\n",
       "      <td>5.917124</td>\n",
       "      <td>0.991409</td>\n",
       "      <td>0.710926</td>\n",
       "      <td>-28.291358</td>\n",
       "    </tr>\n",
       "    <tr>\n",
       "      <th>RERF_40_5_l2</th>\n",
       "      <td>5.822602</td>\n",
       "      <td>0.991893</td>\n",
       "      <td>0.710332</td>\n",
       "      <td>-28.386252</td>\n",
       "    </tr>\n",
       "    <tr>\n",
       "      <th>RERF_40_5_en_0.25</th>\n",
       "      <td>14.352953</td>\n",
       "      <td>0.986857</td>\n",
       "      <td>0.709712</td>\n",
       "      <td>-28.083589</td>\n",
       "    </tr>\n",
       "    <tr>\n",
       "      <th>RERF_40_5_l1</th>\n",
       "      <td>6.590435</td>\n",
       "      <td>0.990760</td>\n",
       "      <td>0.707352</td>\n",
       "      <td>-28.605062</td>\n",
       "    </tr>\n",
       "  </tbody>\n",
       "</table>\n",
       "<p>506 rows × 4 columns</p>\n",
       "</div>"
      ],
      "text/plain": [
       "                     Run_Time  Train_AUC  Validation_AUC     delta%\n",
       "RERF_10_100         43.191579   0.821796        0.792358  -3.582195\n",
       "RERF_10_150_l2      77.517040   0.822255        0.792336  -3.638654\n",
       "RERF_10_40_en_0.25  33.055901   0.821273        0.792284  -3.529758\n",
       "RERF_10_200_l2      92.640307   0.822395        0.792234  -3.667456\n",
       "RERF_10_30          15.860525   0.820569        0.792161  -3.461960\n",
       "...                       ...        ...             ...        ...\n",
       "RERF_40_5_en_0.75   13.933838   0.991430        0.713894 -27.993556\n",
       "RERF_40_5            5.917124   0.991409        0.710926 -28.291358\n",
       "RERF_40_5_l2         5.822602   0.991893        0.710332 -28.386252\n",
       "RERF_40_5_en_0.25   14.352953   0.986857        0.709712 -28.083589\n",
       "RERF_40_5_l1         6.590435   0.990760        0.707352 -28.605062\n",
       "\n",
       "[506 rows x 4 columns]"
      ]
     },
     "execution_count": 241,
     "metadata": {},
     "output_type": "execute_result"
    }
   ],
   "source": [
    "metrics.sort_values(by='Validation_AUC', ascending=False)"
   ]
  },
  {
   "cell_type": "markdown",
   "id": "e4aa4ac3",
   "metadata": {},
   "source": [
    "We are left with **RERF_10_100**"
   ]
  },
  {
   "cell_type": "code",
   "execution_count": 242,
   "id": "0f772f7b",
   "metadata": {},
   "outputs": [],
   "source": [
    "test =  pd.read_parquet('../../../data/model_input/test_sets/software_defect.parquet')"
   ]
  },
  {
   "cell_type": "code",
   "execution_count": 243,
   "id": "32778e6a",
   "metadata": {},
   "outputs": [],
   "source": [
    "y_test = test.defects\n",
    "X_test = test.drop(columns=['defects'])"
   ]
  },
  {
   "cell_type": "code",
   "execution_count": 244,
   "id": "02c8713e",
   "metadata": {},
   "outputs": [],
   "source": [
    "retrain = pd.concat([train, validation])"
   ]
  },
  {
   "cell_type": "code",
   "execution_count": 245,
   "id": "26b64d23",
   "metadata": {},
   "outputs": [],
   "source": [
    "y_retrain = retrain.defects\n",
    "X_retrain = retrain.drop(columns=['defects'])"
   ]
  },
  {
   "cell_type": "code",
   "execution_count": 246,
   "id": "32fd854a",
   "metadata": {},
   "outputs": [],
   "source": [
    "scaler_retrain = StandardScaler().fit(X_retrain)"
   ]
  },
  {
   "cell_type": "code",
   "execution_count": 247,
   "id": "b3b673ef",
   "metadata": {},
   "outputs": [],
   "source": [
    "X_retrain_scaled = scaler_retrain.transform(X_retrain)\n",
    "X_test_scaled = scaler_retrain.transform(X_test)"
   ]
  },
  {
   "cell_type": "code",
   "execution_count": 248,
   "id": "fed7a1ec",
   "metadata": {},
   "outputs": [],
   "source": [
    "# cell for the final best model\n",
    "\n",
    "lr = LogisticRegression(penalty=None).fit(X_retrain_scaled, y_retrain)\n",
    "reg_pred_retrain = lr.predict_proba(X_retrain_scaled)[:, 1]\n",
    "res_retrain = y_retrain - reg_pred_retrain\n",
    "            \n",
    "rf = RandomForestRegressor(n_estimators=100, max_depth=10).fit(X_retrain_scaled, res_retrain)\n",
    "\n",
    "reg_pred_test = lr.predict_proba(X_test_scaled)[:, 1]\n",
    "res_test = y_test - reg_pred_test\n",
    "rf_pred_test = rf.predict(X_test_scaled)\n",
    "            \n",
    "test_pred = reg_pred_test + rf_pred_test"
   ]
  },
  {
   "cell_type": "code",
   "execution_count": 249,
   "id": "666183d6",
   "metadata": {},
   "outputs": [
    {
     "name": "stdout",
     "output_type": "stream",
     "text": [
      "Test AUC: 0.7913\n"
     ]
    }
   ],
   "source": [
    "auc = roc_auc_score(y_test, test_pred)\n",
    "print('Test AUC:', round(auc, 4))"
   ]
  },
  {
   "cell_type": "code",
   "execution_count": 250,
   "id": "f23d6ecd",
   "metadata": {},
   "outputs": [
    {
     "data": {
      "text/plain": [
       "['best_rerf_rf.joblib']"
      ]
     },
     "execution_count": 250,
     "metadata": {},
     "output_type": "execute_result"
    }
   ],
   "source": [
    "dump(lr, 'best_rerf_lr.joblib')\n",
    "dump(rf, 'best_rerf_rf.joblib')"
   ]
  },
  {
   "cell_type": "code",
   "execution_count": 251,
   "id": "33c85f90",
   "metadata": {},
   "outputs": [],
   "source": [
    "with open('../../../data/metrics/software_defect/final_AUC.txt', 'a') as f:\n",
    "    f.write('\\nRERF, '+ str(auc))"
   ]
  },
  {
   "cell_type": "code",
   "execution_count": null,
   "id": "c48904bc",
   "metadata": {},
   "outputs": [],
   "source": []
  }
 ],
 "metadata": {
  "kernelspec": {
   "display_name": "Python 3 (ipykernel)",
   "language": "python",
   "name": "python3"
  },
  "language_info": {
   "codemirror_mode": {
    "name": "ipython",
    "version": 3
   },
   "file_extension": ".py",
   "mimetype": "text/x-python",
   "name": "python",
   "nbconvert_exporter": "python",
   "pygments_lexer": "ipython3",
   "version": "3.9.7"
  }
 },
 "nbformat": 4,
 "nbformat_minor": 5
}
