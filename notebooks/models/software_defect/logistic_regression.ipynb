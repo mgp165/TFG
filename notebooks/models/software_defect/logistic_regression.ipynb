{
 "cells": [
  {
   "cell_type": "markdown",
   "id": "cbd9c461",
   "metadata": {},
   "source": [
    "# Logistic Regression"
   ]
  },
  {
   "cell_type": "code",
   "execution_count": 1,
   "id": "a55e0295",
   "metadata": {},
   "outputs": [],
   "source": [
    "from sklearn.linear_model import LogisticRegression\n",
    "from sklearn.metrics import roc_auc_score\n",
    "from sklearn.preprocessing import StandardScaler\n",
    "import pandas as pd\n",
    "import matplotlib.pyplot as plt\n",
    "import numpy as np\n",
    "from joblib import dump\n",
    "import seaborn as sns\n",
    "import statsmodels.api as sm"
   ]
  },
  {
   "cell_type": "code",
   "execution_count": 2,
   "id": "f96b7c85",
   "metadata": {},
   "outputs": [],
   "source": [
    "import sys\n",
    "sys.path.append('F:\\\\Users\\\\Manuel García Plaza\\\\Desktop\\\\TFG\\\\')"
   ]
  },
  {
   "cell_type": "code",
   "execution_count": 3,
   "id": "fe60d749",
   "metadata": {},
   "outputs": [],
   "source": [
    "from notebooks.utils.classification_metrics import classification"
   ]
  },
  {
   "cell_type": "markdown",
   "id": "eea83a2d",
   "metadata": {},
   "source": [
    "We are going to do the same as in the breast cancer notebook"
   ]
  },
  {
   "cell_type": "code",
   "execution_count": 4,
   "id": "fd4aa94d",
   "metadata": {},
   "outputs": [],
   "source": [
    "train =  pd.read_parquet('../../../data/model_input/train_sets/software_defect.parquet')\n",
    "validation =  pd.read_parquet('../../../data/model_input/validation_sets/software_defect.parquet')"
   ]
  },
  {
   "cell_type": "code",
   "execution_count": 5,
   "id": "21d5ab73",
   "metadata": {},
   "outputs": [],
   "source": [
    "y_train = train.defects\n",
    "X_train = train.drop(columns=['defects'])"
   ]
  },
  {
   "cell_type": "code",
   "execution_count": 6,
   "id": "843aefd2",
   "metadata": {},
   "outputs": [],
   "source": [
    "y_validation = validation.defects\n",
    "X_validation = validation.drop(columns=['defects'])"
   ]
  },
  {
   "cell_type": "code",
   "execution_count": 7,
   "id": "1d181064",
   "metadata": {},
   "outputs": [],
   "source": [
    "scaler = StandardScaler().fit(X_train, y_train)"
   ]
  },
  {
   "cell_type": "code",
   "execution_count": 8,
   "id": "9ff146f9",
   "metadata": {},
   "outputs": [],
   "source": [
    "X_train_scaled = scaler.transform(X_train)\n",
    "X_validation_scaled = scaler.transform(X_validation)"
   ]
  },
  {
   "cell_type": "code",
   "execution_count": 9,
   "id": "b26ce186",
   "metadata": {},
   "outputs": [],
   "source": [
    "lr = LogisticRegression(penalty=None)\n",
    "lr_l2 = LogisticRegression()\n",
    "lr_l1 = LogisticRegression(penalty='l1', solver='liblinear')\n",
    "lr_en1 = LogisticRegression(penalty='elasticnet', solver='saga', l1_ratio=0.25, max_iter=500)\n",
    "lr_en2 = LogisticRegression(penalty='elasticnet', solver='saga', l1_ratio=0.5, max_iter=500)\n",
    "lr_en3 = LogisticRegression(penalty='elasticnet', solver='saga', l1_ratio=0.75, max_iter=500)"
   ]
  },
  {
   "cell_type": "code",
   "execution_count": 10,
   "id": "2ae5d20e",
   "metadata": {},
   "outputs": [],
   "source": [
    "models_list = [lr, lr_l2, lr_l1, lr_en1, lr_en2 , lr_en3]\n",
    "names_list = ['LR', 'LR_l2', 'LR_l1', 'LR_en_0.25', 'LR_en_0.5', 'LR_en_0.75']"
   ]
  },
  {
   "cell_type": "code",
   "execution_count": 11,
   "id": "a07d08ea",
   "metadata": {},
   "outputs": [
    {
     "data": {
      "text/html": [
       "<div>\n",
       "<style scoped>\n",
       "    .dataframe tbody tr th:only-of-type {\n",
       "        vertical-align: middle;\n",
       "    }\n",
       "\n",
       "    .dataframe tbody tr th {\n",
       "        vertical-align: top;\n",
       "    }\n",
       "\n",
       "    .dataframe thead th {\n",
       "        text-align: right;\n",
       "    }\n",
       "</style>\n",
       "<table border=\"1\" class=\"dataframe\">\n",
       "  <thead>\n",
       "    <tr style=\"text-align: right;\">\n",
       "      <th></th>\n",
       "      <th>Run_Time</th>\n",
       "      <th>Train_AUC</th>\n",
       "      <th>Validation_AUC</th>\n",
       "      <th>delta%</th>\n",
       "    </tr>\n",
       "  </thead>\n",
       "  <tbody>\n",
       "    <tr>\n",
       "      <th>LR</th>\n",
       "      <td>0.325209</td>\n",
       "      <td>0.779566</td>\n",
       "      <td>0.780034</td>\n",
       "      <td>0.059992</td>\n",
       "    </tr>\n",
       "    <tr>\n",
       "      <th>LR_l2</th>\n",
       "      <td>0.306167</td>\n",
       "      <td>0.779563</td>\n",
       "      <td>0.780032</td>\n",
       "      <td>0.060120</td>\n",
       "    </tr>\n",
       "    <tr>\n",
       "      <th>LR_l1</th>\n",
       "      <td>1.331464</td>\n",
       "      <td>0.779573</td>\n",
       "      <td>0.780040</td>\n",
       "      <td>0.059856</td>\n",
       "    </tr>\n",
       "    <tr>\n",
       "      <th>LR_en_0.25</th>\n",
       "      <td>11.431395</td>\n",
       "      <td>0.779566</td>\n",
       "      <td>0.780035</td>\n",
       "      <td>0.060178</td>\n",
       "    </tr>\n",
       "    <tr>\n",
       "      <th>LR_en_0.5</th>\n",
       "      <td>13.824787</td>\n",
       "      <td>0.779564</td>\n",
       "      <td>0.780033</td>\n",
       "      <td>0.060166</td>\n",
       "    </tr>\n",
       "    <tr>\n",
       "      <th>LR_en_0.75</th>\n",
       "      <td>14.015808</td>\n",
       "      <td>0.779563</td>\n",
       "      <td>0.780033</td>\n",
       "      <td>0.060371</td>\n",
       "    </tr>\n",
       "  </tbody>\n",
       "</table>\n",
       "</div>"
      ],
      "text/plain": [
       "             Run_Time  Train_AUC  Validation_AUC    delta%\n",
       "LR           0.325209   0.779566        0.780034  0.059992\n",
       "LR_l2        0.306167   0.779563        0.780032  0.060120\n",
       "LR_l1        1.331464   0.779573        0.780040  0.059856\n",
       "LR_en_0.25  11.431395   0.779566        0.780035  0.060178\n",
       "LR_en_0.5   13.824787   0.779564        0.780033  0.060166\n",
       "LR_en_0.75  14.015808   0.779563        0.780033  0.060371"
      ]
     },
     "execution_count": 11,
     "metadata": {},
     "output_type": "execute_result"
    }
   ],
   "source": [
    "metrics = classification(models_list, names_list, '../../../data/metrics/software_defect/logistic_regression.csv', X_train_scaled, y_train, X_validation_scaled, y_validation)\n",
    "metrics"
   ]
  },
  {
   "cell_type": "code",
   "execution_count": 19,
   "id": "51fc7850",
   "metadata": {},
   "outputs": [
    {
     "name": "stdout",
     "output_type": "stream",
     "text": [
      "Sparsity without penalty term: 0.0 %\n",
      "Sparsity with L2 penalty: 0.0 %\n",
      "Sparsity with L1 penalty: 0.0 %\n",
      "Sparsity with ElasticNet penalty and l1 ratio=0.25: 4.42 %\n",
      "Sparsity with ElasticNet penalty and l1 ratio=0.5: 4.42 %\n",
      "Sparsity with ElasticNet penalty and l1 ratio=0.75: 4.42 %\n"
     ]
    }
   ],
   "source": [
    "sparsity_lr = np.mean(lr.coef_.ravel() == 0) * 100\n",
    "sparsity_lr_l2 = np.mean(lr_l2.coef_.ravel() == 0) * 100\n",
    "sparsity_lr_l1 = np.mean(lr_l1.coef_.ravel() == 0) * 100\n",
    "sparsity_lr_en1 = np.mean(lr_en1.coef_.ravel()) * 100\n",
    "sparsity_lr_en2 = np.mean(lr_en2.coef_.ravel()) * 100\n",
    "sparsity_lr_en3 = np.mean(lr_en3.coef_.ravel()) * 100\n",
    "\n",
    "print(\"Sparsity without penalty term:\", round(sparsity_lr, 2), '%')\n",
    "print(\"Sparsity with L2 penalty:\", round(sparsity_lr_l2, 2), '%')\n",
    "print(\"Sparsity with L1 penalty:\", round(sparsity_lr_l1, 2), '%')\n",
    "print(\"Sparsity with ElasticNet penalty and l1 ratio=0.25:\", round(sparsity_lr_en1, 2), '%')\n",
    "print(\"Sparsity with ElasticNet penalty and l1 ratio=0.5:\", round(sparsity_lr_en2, 2), '%')\n",
    "print(\"Sparsity with ElasticNet penalty and l1 ratio=0.75:\", round(sparsity_lr_en3, 2), '%')"
   ]
  },
  {
   "cell_type": "markdown",
   "id": "4c70e5a2",
   "metadata": {},
   "source": [
    "We are choosing **LR** as the best model because we get same results and neither l1 nor l2 discard any feature."
   ]
  },
  {
   "cell_type": "code",
   "execution_count": 12,
   "id": "1c276500",
   "metadata": {},
   "outputs": [],
   "source": [
    "test =  pd.read_parquet('../../../data/model_input/test_sets/software_defect.parquet')"
   ]
  },
  {
   "cell_type": "code",
   "execution_count": 13,
   "id": "0a571c8f",
   "metadata": {},
   "outputs": [],
   "source": [
    "y_test = test.defects\n",
    "X_test = test.drop(columns=['defects'])"
   ]
  },
  {
   "cell_type": "code",
   "execution_count": 14,
   "id": "eff16e33",
   "metadata": {},
   "outputs": [],
   "source": [
    "retrain = pd.concat([train, validation])"
   ]
  },
  {
   "cell_type": "code",
   "execution_count": 15,
   "id": "cf142ce6",
   "metadata": {},
   "outputs": [],
   "source": [
    "y_retrain = retrain.defects\n",
    "X_retrain = retrain.drop(columns=['defects'])"
   ]
  },
  {
   "cell_type": "code",
   "execution_count": 16,
   "id": "45664729",
   "metadata": {},
   "outputs": [],
   "source": [
    "scaler_retrain = StandardScaler().fit(X_retrain, y_retrain)"
   ]
  },
  {
   "cell_type": "code",
   "execution_count": 17,
   "id": "e4b604e9",
   "metadata": {},
   "outputs": [],
   "source": [
    "X_retrain_scaled = scaler_retrain.transform(X_retrain)\n",
    "X_test_scaled = scaler_retrain.transform(X_test)"
   ]
  },
  {
   "cell_type": "code",
   "execution_count": 25,
   "id": "b97e59d8",
   "metadata": {},
   "outputs": [],
   "source": [
    "model = LogisticRegression(penalty=None).fit(X_retrain_scaled, y_retrain)"
   ]
  },
  {
   "cell_type": "code",
   "execution_count": 26,
   "id": "01c3cece",
   "metadata": {},
   "outputs": [
    {
     "data": {
      "image/png": "[encoded data removed]",
      "text/plain": [
       "<Figure size 1008x432 with 1 Axes>"
      ]
     },
     "metadata": {
      "needs_background": "light"
     },
     "output_type": "display_data"
    }
   ],
   "source": [
    "fig, ax = plt.subplots(figsize=(14, 6))\n",
    "ax.stem(X_retrain.columns, model.coef_.ravel(), markerfmt=' ', basefmt='k-')\n",
    "plt.xticks(rotation=60, ha='right')\n",
    "ax.set_xlabel('Features')\n",
    "ax.set_ylabel('Coefficients magnitude')\n",
    "ax.set_title('Final model scaled coefficients');"
   ]
  },
  {
   "cell_type": "code",
   "execution_count": 27,
   "id": "44fcb840",
   "metadata": {},
   "outputs": [
    {
     "name": "stdout",
     "output_type": "stream",
     "text": [
      "Test AUC: 0.7843\n"
     ]
    }
   ],
   "source": [
    "test_pred = model.predict_proba(X_test_scaled)[:, 1]\n",
    "auc = roc_auc_score(y_test, test_pred)\n",
    "print('Test AUC:', round(auc, 4))"
   ]
  },
  {
   "cell_type": "markdown",
   "id": "c3814d1b",
   "metadata": {},
   "source": [
    "Let's see if we can get better AUC by changing something"
   ]
  },
  {
   "cell_type": "code",
   "execution_count": 23,
   "id": "e6a39a23",
   "metadata": {},
   "outputs": [],
   "source": [
    "new_train = pd.DataFrame(X_retrain_scaled, columns=X_retrain.columns)"
   ]
  },
  {
   "cell_type": "code",
   "execution_count": 36,
   "id": "f23dd92e",
   "metadata": {},
   "outputs": [],
   "source": [
    "new_test = pd.DataFrame(X_test_scaled, columns=X_test.columns)"
   ]
  },
  {
   "cell_type": "code",
   "execution_count": 31,
   "id": "b2095831",
   "metadata": {},
   "outputs": [],
   "source": [
    "cols_to_fit = ['loc', 'lOCode', 'uniq_Op']"
   ]
  },
  {
   "cell_type": "code",
   "execution_count": 32,
   "id": "7ce8a2b2",
   "metadata": {},
   "outputs": [],
   "source": [
    "new_model = LogisticRegression(penalty=None).fit(new_train[cols_to_fit], y_retrain)"
   ]
  },
  {
   "cell_type": "code",
   "execution_count": 37,
   "id": "7d2b6591",
   "metadata": {},
   "outputs": [
    {
     "name": "stdout",
     "output_type": "stream",
     "text": [
      "AUC: 0.7801\n"
     ]
    }
   ],
   "source": [
    "print('AUC:', round(roc_auc_score(y_test, new_model.predict_proba(new_test[cols_to_fit])[:, 1]), 4))"
   ]
  },
  {
   "cell_type": "code",
   "execution_count": 39,
   "id": "9a02ca4f",
   "metadata": {},
   "outputs": [],
   "source": [
    "cols_to_fit2 = ['loc', 'lOCode', 'uniq_Op', 'b', 'total_Opnd']"
   ]
  },
  {
   "cell_type": "code",
   "execution_count": 40,
   "id": "ac6e7166",
   "metadata": {},
   "outputs": [],
   "source": [
    "new_model2 = LogisticRegression(penalty=None).fit(new_train[cols_to_fit2], y_retrain)"
   ]
  },
  {
   "cell_type": "code",
   "execution_count": 41,
   "id": "3d2642c6",
   "metadata": {},
   "outputs": [
    {
     "name": "stdout",
     "output_type": "stream",
     "text": [
      "AUC: 0.7806\n"
     ]
    }
   ],
   "source": [
    "print('AUC:', round(roc_auc_score(y_test, new_model2.predict_proba(new_test[cols_to_fit2])[:, 1]), 4))"
   ]
  },
  {
   "cell_type": "markdown",
   "id": "fbd35946",
   "metadata": {},
   "source": [
    "We still choosing the final model with every feature as the best one"
   ]
  },
  {
   "cell_type": "code",
   "execution_count": 42,
   "id": "62ba4093",
   "metadata": {},
   "outputs": [
    {
     "data": {
      "text/plain": [
       "['best_logistic_regression.joblib']"
      ]
     },
     "execution_count": 42,
     "metadata": {},
     "output_type": "execute_result"
    }
   ],
   "source": [
    "dump(model, 'best_logistic_regression.joblib')"
   ]
  },
  {
   "cell_type": "code",
   "execution_count": 43,
   "id": "fb8d364d",
   "metadata": {},
   "outputs": [],
   "source": [
    "with open('../../../data/metrics/software_defect/final_AUC.txt', 'a') as f:\n",
    "    f.write('\\nLR, '+ str(auc))"
   ]
  },
  {
   "cell_type": "code",
   "execution_count": null,
   "id": "3846a193",
   "metadata": {},
   "outputs": [],
   "source": []
  }
 ],
 "metadata": {
  "kernelspec": {
   "display_name": "Python 3 (ipykernel)",
   "language": "python",
   "name": "python3"
  },
  "language_info": {
   "codemirror_mode": {
    "name": "ipython",
    "version": 3
   },
   "file_extension": ".py",
   "mimetype": "text/x-python",
   "name": "python",
   "nbconvert_exporter": "python",
   "pygments_lexer": "ipython3",
   "version": "3.9.7"
  }
 },
 "nbformat": 4,
 "nbformat_minor": 5
}
