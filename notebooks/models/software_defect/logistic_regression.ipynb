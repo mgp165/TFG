{
 "cells": [
  {
   "cell_type": "markdown",
   "id": "7d7b7211",
   "metadata": {},
   "source": [
    "# Logistic Regression"
   ]
  },
  {
   "cell_type": "code",
   "execution_count": 1,
   "id": "9e465a25",
   "metadata": {},
   "outputs": [],
   "source": [
    "from sklearn.linear_model import LogisticRegression\n",
    "import pandas as pd\n",
    "from joblib import dump"
   ]
  },
  {
   "cell_type": "code",
   "execution_count": 2,
   "id": "04aa2115",
   "metadata": {},
   "outputs": [],
   "source": [
    "import sys\n",
    "sys.path.append('F:\\\\Users\\\\Manuel García Plaza\\\\Desktop\\\\TFG\\\\')"
   ]
  },
  {
   "cell_type": "code",
   "execution_count": 3,
   "id": "e636b129",
   "metadata": {},
   "outputs": [],
   "source": [
    "from notebooks.utils.classification_metrics import classification"
   ]
  },
  {
   "cell_type": "markdown",
   "id": "727fc3c3",
   "metadata": {},
   "source": [
    "We are going to do the same as in the breast cancer notebook"
   ]
  },
  {
   "cell_type": "code",
   "execution_count": 4,
   "id": "f6e371d6",
   "metadata": {},
   "outputs": [],
   "source": [
    "train =  pd.read_parquet('../../../data/model_input/train_sets/software_defect.parquet')\n",
    "test =  pd.read_parquet('../../../data/model_input/validation_sets/software_defect.parquet')"
   ]
  },
  {
   "cell_type": "code",
   "execution_count": 6,
   "id": "c6ba5aa8",
   "metadata": {},
   "outputs": [],
   "source": [
    "y_train = train.defects\n",
    "X_train = train.drop(columns=['defects'])"
   ]
  },
  {
   "cell_type": "code",
   "execution_count": 7,
   "id": "741df4a6",
   "metadata": {},
   "outputs": [],
   "source": [
    "y_test = test.defects\n",
    "X_test = test.drop(columns=['defects'])"
   ]
  },
  {
   "cell_type": "markdown",
   "id": "802ee0e9",
   "metadata": {},
   "source": [
    "We are using sag or saga solvers because this dataset is large"
   ]
  },
  {
   "cell_type": "code",
   "execution_count": 29,
   "id": "1691e673",
   "metadata": {},
   "outputs": [],
   "source": [
    "lr = LogisticRegression(penalty=None, solver='sag', max_iter=10000, tol=0.001)\n",
    "lr_l2 = LogisticRegression(solver='sag', max_iter=10000, tol=0.001)\n",
    "lr_l1 = LogisticRegression(penalty='l1', solver='saga', max_iter=1000, tol=0.001)\n",
    "lr_en1 = LogisticRegression(penalty='elasticnet', solver='saga', l1_ratio=0.25, max_iter=1000, tol=0.001)\n",
    "lr_en2 = LogisticRegression(penalty='elasticnet', solver='saga', l1_ratio=0.5, max_iter=1000, tol=0.001)\n",
    "lr_en3 = LogisticRegression(penalty='elasticnet', solver='saga', l1_ratio=0.75, max_iter=1000, tol=0.001)"
   ]
  },
  {
   "cell_type": "code",
   "execution_count": 30,
   "id": "b0574486",
   "metadata": {},
   "outputs": [],
   "source": [
    "models_list = [lr, lr_l2, lr_l1, lr_en1, lr_en2 , lr_en3]\n",
    "names_list = ['LR', 'LR_l2', 'LR_l1', 'LR_en_0.25', 'LR_en_0.5', 'LR_en_0.75']"
   ]
  },
  {
   "cell_type": "code",
   "execution_count": 31,
   "id": "263d5e97",
   "metadata": {},
   "outputs": [
    {
     "data": {
      "text/html": [
       "<div>\n",
       "<style scoped>\n",
       "    .dataframe tbody tr th:only-of-type {\n",
       "        vertical-align: middle;\n",
       "    }\n",
       "\n",
       "    .dataframe tbody tr th {\n",
       "        vertical-align: top;\n",
       "    }\n",
       "\n",
       "    .dataframe thead th {\n",
       "        text-align: right;\n",
       "    }\n",
       "</style>\n",
       "<table border=\"1\" class=\"dataframe\">\n",
       "  <thead>\n",
       "    <tr style=\"text-align: right;\">\n",
       "      <th></th>\n",
       "      <th>Run_Time</th>\n",
       "      <th>Train_AUC</th>\n",
       "      <th>Test_AUC</th>\n",
       "      <th>delta%</th>\n",
       "    </tr>\n",
       "  </thead>\n",
       "  <tbody>\n",
       "    <tr>\n",
       "      <th>LR</th>\n",
       "      <td>32.649925</td>\n",
       "      <td>0.459964</td>\n",
       "      <td>0.468238</td>\n",
       "      <td>1.798899</td>\n",
       "    </tr>\n",
       "    <tr>\n",
       "      <th>LR_l2</th>\n",
       "      <td>31.034986</td>\n",
       "      <td>0.459971</td>\n",
       "      <td>0.468245</td>\n",
       "      <td>1.798859</td>\n",
       "    </tr>\n",
       "    <tr>\n",
       "      <th>LR_l1</th>\n",
       "      <td>43.468278</td>\n",
       "      <td>0.567207</td>\n",
       "      <td>0.578666</td>\n",
       "      <td>2.020302</td>\n",
       "    </tr>\n",
       "    <tr>\n",
       "      <th>LR_en_0.25</th>\n",
       "      <td>43.092880</td>\n",
       "      <td>0.567169</td>\n",
       "      <td>0.578627</td>\n",
       "      <td>2.020191</td>\n",
       "    </tr>\n",
       "    <tr>\n",
       "      <th>LR_en_0.5</th>\n",
       "      <td>41.569116</td>\n",
       "      <td>0.567133</td>\n",
       "      <td>0.578590</td>\n",
       "      <td>2.020216</td>\n",
       "    </tr>\n",
       "    <tr>\n",
       "      <th>LR_en_0.75</th>\n",
       "      <td>43.679971</td>\n",
       "      <td>0.567188</td>\n",
       "      <td>0.578649</td>\n",
       "      <td>2.020560</td>\n",
       "    </tr>\n",
       "  </tbody>\n",
       "</table>\n",
       "</div>"
      ],
      "text/plain": [
       "             Run_Time  Train_AUC  Test_AUC    delta%\n",
       "LR          32.649925   0.459964  0.468238  1.798899\n",
       "LR_l2       31.034986   0.459971  0.468245  1.798859\n",
       "LR_l1       43.468278   0.567207  0.578666  2.020302\n",
       "LR_en_0.25  43.092880   0.567169  0.578627  2.020191\n",
       "LR_en_0.5   41.569116   0.567133  0.578590  2.020216\n",
       "LR_en_0.75  43.679971   0.567188  0.578649  2.020560"
      ]
     },
     "execution_count": 31,
     "metadata": {},
     "output_type": "execute_result"
    }
   ],
   "source": [
    "metrics = classification(models_list, names_list, '../../../data/metrics/software_defect/logistic_regression.parquet', X_train, y_train, X_test, y_test)\n",
    "metrics"
   ]
  },
  {
   "cell_type": "markdown",
   "id": "84992a7a",
   "metadata": {},
   "source": [
    "Every model is super bad, but we are choosing **LR_l1** as the best and we will try to improve its predictions."
   ]
  },
  {
   "cell_type": "code",
   "execution_count": 32,
   "id": "7ffc78ef",
   "metadata": {},
   "outputs": [
    {
     "data": {
      "text/plain": [
       "['logistic_regression_best.joblib']"
      ]
     },
     "execution_count": 32,
     "metadata": {},
     "output_type": "execute_result"
    }
   ],
   "source": [
    "dump(lr_l1, 'logistic_regression_best.joblib')"
   ]
  },
  {
   "cell_type": "code",
   "execution_count": null,
   "id": "8fa35aad",
   "metadata": {},
   "outputs": [],
   "source": []
  }
 ],
 "metadata": {
  "kernelspec": {
   "display_name": "Python 3 (ipykernel)",
   "language": "python",
   "name": "python3"
  },
  "language_info": {
   "codemirror_mode": {
    "name": "ipython",
    "version": 3
   },
   "file_extension": ".py",
   "mimetype": "text/x-python",
   "name": "python",
   "nbconvert_exporter": "python",
   "pygments_lexer": "ipython3",
   "version": "3.9.7"
  }
 },
 "nbformat": 4,
 "nbformat_minor": 5
}
