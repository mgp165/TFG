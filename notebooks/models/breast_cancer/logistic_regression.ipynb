{
 "cells": [
  {
   "cell_type": "markdown",
   "id": "2eb57af6",
   "metadata": {},
   "source": [
    "# Logistic Regression"
   ]
  },
  {
   "cell_type": "code",
   "execution_count": 1,
   "id": "18acd7e3",
   "metadata": {},
   "outputs": [],
   "source": [
    "from sklearn.linear_model import LogisticRegression\n",
    "import pandas as pd"
   ]
  },
  {
   "cell_type": "code",
   "execution_count": 2,
   "id": "0f11aa21",
   "metadata": {},
   "outputs": [],
   "source": [
    "import sys\n",
    "sys.path.append('F:\\\\Users\\\\Manuel García Plaza\\\\Desktop\\\\TFG\\\\')"
   ]
  },
  {
   "cell_type": "code",
   "execution_count": 3,
   "id": "5ee870f0",
   "metadata": {},
   "outputs": [],
   "source": [
    "from notebooks.utils.classification_metrics import classification"
   ]
  },
  {
   "cell_type": "markdown",
   "id": "5c55f234",
   "metadata": {},
   "source": [
    "First of all, we load the data"
   ]
  },
  {
   "cell_type": "code",
   "execution_count": 4,
   "id": "450ea7a2",
   "metadata": {},
   "outputs": [],
   "source": [
    "train =  pd.read_parquet('../../../data/model_input/train_sets/breast_cancer.parquet')\n",
    "test =  pd.read_parquet('../../../data/model_input/validation_sets/breast_cancer.parquet')"
   ]
  },
  {
   "cell_type": "code",
   "execution_count": 5,
   "id": "17826188",
   "metadata": {},
   "outputs": [],
   "source": [
    "y_train = train.diagnosis\n",
    "X_train = train.drop(columns=['diagnosis'])"
   ]
  },
  {
   "cell_type": "code",
   "execution_count": 6,
   "id": "d3f345c0",
   "metadata": {},
   "outputs": [],
   "source": [
    "y_test = test.diagnosis\n",
    "X_test = test.drop(columns=['diagnosis'])"
   ]
  },
  {
   "cell_type": "markdown",
   "id": "2235410b",
   "metadata": {},
   "source": [
    "We are going to compute different models varying the penalty terms, if the solver is modified it's due to incompatibility with the penalties that are supported by each one."
   ]
  },
  {
   "cell_type": "markdown",
   "id": "24440c5e",
   "metadata": {},
   "source": [
    "Without penalty term:"
   ]
  },
  {
   "cell_type": "code",
   "execution_count": 7,
   "id": "ec560c76",
   "metadata": {},
   "outputs": [],
   "source": [
    "lr = LogisticRegression(penalty=None, max_iter=10000)"
   ]
  },
  {
   "cell_type": "markdown",
   "id": "06ef59c5",
   "metadata": {},
   "source": [
    "Adding the $l_2$ term to the cost function: $$ \\frac{1}{2}||\\beta||_2^2 = \\frac{1}{2}\\beta^T\\beta \\ , $$ where $\\beta$ is the vector of coefficients."
   ]
  },
  {
   "cell_type": "code",
   "execution_count": 8,
   "id": "c93de813",
   "metadata": {},
   "outputs": [],
   "source": [
    "lr_l2 = LogisticRegression(max_iter=10000)"
   ]
  },
  {
   "cell_type": "markdown",
   "id": "404c66ca",
   "metadata": {},
   "source": [
    "Instead of the $l_2$ penalty, the $l_1$ penalty: $$||\\beta||_1=\\sum_{i=1}^n|\\beta_i| \\,$$ where $n$ is the length of $\\beta$, that is, the number of features."
   ]
  },
  {
   "cell_type": "code",
   "execution_count": 9,
   "id": "7079f8fe",
   "metadata": {},
   "outputs": [],
   "source": [
    "lr_l1 = LogisticRegression(penalty='l1', solver='liblinear', max_iter=10000)"
   ]
  },
  {
   "cell_type": "markdown",
   "id": "24d2237c",
   "metadata": {},
   "source": [
    "Lastly, the ElasticNet penalty: $$\\frac{1-\\rho}{2}||\\beta||_2^2 + \\rho||\\beta||_1 \\ ,$$ where $\\rho$ is a parameter between 0 and 1 that controls the strength of the $l_1$ and $l_2$ regularizations. Note that if $\\rho=1$, ElasticNet is equivalent to $l_1$ and if $\\rho=0$, is the same as $l_2$."
   ]
  },
  {
   "cell_type": "code",
   "execution_count": 10,
   "id": "65873833",
   "metadata": {},
   "outputs": [],
   "source": [
    "lr_en1 = LogisticRegression(penalty='elasticnet', solver='saga',l1_ratio=0.25, max_iter=10000)\n",
    "lr_en2 = LogisticRegression(penalty='elasticnet', solver='saga',l1_ratio=0.5, max_iter=10000)\n",
    "lr_en3 = LogisticRegression(penalty='elasticnet', solver='saga',l1_ratio=0.75, max_iter=10000)"
   ]
  },
  {
   "cell_type": "code",
   "execution_count": 11,
   "id": "14fb60dd",
   "metadata": {},
   "outputs": [],
   "source": [
    "models_list = [lr, lr_l2, lr_l1, lr_en1, lr_en2 , lr_en3]\n",
    "names_list = ['LR', 'LR_l2', 'LR_l1', 'LR_en_0.25', 'LR_en_0.5', 'LR_en_0.75']"
   ]
  },
  {
   "cell_type": "code",
   "execution_count": 12,
   "id": "647c8dae",
   "metadata": {},
   "outputs": [
    {
     "data": {
      "text/html": [
       "<div>\n",
       "<style scoped>\n",
       "    .dataframe tbody tr th:only-of-type {\n",
       "        vertical-align: middle;\n",
       "    }\n",
       "\n",
       "    .dataframe tbody tr th {\n",
       "        vertical-align: top;\n",
       "    }\n",
       "\n",
       "    .dataframe thead th {\n",
       "        text-align: right;\n",
       "    }\n",
       "</style>\n",
       "<table border=\"1\" class=\"dataframe\">\n",
       "  <thead>\n",
       "    <tr style=\"text-align: right;\">\n",
       "      <th></th>\n",
       "      <th>Run_Time</th>\n",
       "      <th>Train_AUC</th>\n",
       "      <th>Test_AUC</th>\n",
       "      <th>delta%</th>\n",
       "    </tr>\n",
       "  </thead>\n",
       "  <tbody>\n",
       "    <tr>\n",
       "      <th>LR</th>\n",
       "      <td>2.090900</td>\n",
       "      <td>1.000000</td>\n",
       "      <td>0.946742</td>\n",
       "      <td>-5.325815</td>\n",
       "    </tr>\n",
       "    <tr>\n",
       "      <th>LR_l2</th>\n",
       "      <td>0.858113</td>\n",
       "      <td>0.996764</td>\n",
       "      <td>0.976817</td>\n",
       "      <td>-2.001173</td>\n",
       "    </tr>\n",
       "    <tr>\n",
       "      <th>LR_l1</th>\n",
       "      <td>0.279603</td>\n",
       "      <td>0.997005</td>\n",
       "      <td>0.966792</td>\n",
       "      <td>-3.030349</td>\n",
       "    </tr>\n",
       "    <tr>\n",
       "      <th>LR_en_0.25</th>\n",
       "      <td>0.803109</td>\n",
       "      <td>0.968951</td>\n",
       "      <td>0.964912</td>\n",
       "      <td>-0.416770</td>\n",
       "    </tr>\n",
       "    <tr>\n",
       "      <th>LR_en_0.5</th>\n",
       "      <td>0.799593</td>\n",
       "      <td>0.968897</td>\n",
       "      <td>0.964912</td>\n",
       "      <td>-0.411273</td>\n",
       "    </tr>\n",
       "    <tr>\n",
       "      <th>LR_en_0.75</th>\n",
       "      <td>0.705775</td>\n",
       "      <td>0.968897</td>\n",
       "      <td>0.964912</td>\n",
       "      <td>-0.411273</td>\n",
       "    </tr>\n",
       "  </tbody>\n",
       "</table>\n",
       "</div>"
      ],
      "text/plain": [
       "            Run_Time  Train_AUC  Test_AUC    delta%\n",
       "LR          2.090900   1.000000  0.946742 -5.325815\n",
       "LR_l2       0.858113   0.996764  0.976817 -2.001173\n",
       "LR_l1       0.279603   0.997005  0.966792 -3.030349\n",
       "LR_en_0.25  0.803109   0.968951  0.964912 -0.416770\n",
       "LR_en_0.5   0.799593   0.968897  0.964912 -0.411273\n",
       "LR_en_0.75  0.705775   0.968897  0.964912 -0.411273"
      ]
     },
     "execution_count": 12,
     "metadata": {},
     "output_type": "execute_result"
    }
   ],
   "source": [
    "metrics = classification(models_list, names_list, '../../../data/metrics/breast_cancer/logistic_regression.parquet', X_train, y_train, X_test, y_test)\n",
    "metrics"
   ]
  },
  {
   "cell_type": "markdown",
   "id": "eb742c03",
   "metadata": {},
   "source": [
    "Observe that the worst model is the most basic one in terms of overfitting as we could expect. The ElasticNet models that combine both penalties give truthful models in exchange for less accuracy than the $l_2$ and $l_1$ models (by the way, they are pretty good models). We choose **LR_l2** as the best model because has the best AUC in the test and an acceptable delta."
   ]
  },
  {
   "cell_type": "code",
   "execution_count": null,
   "id": "71eb128f",
   "metadata": {},
   "outputs": [],
   "source": []
  }
 ],
 "metadata": {
  "kernelspec": {
   "display_name": "Python 3 (ipykernel)",
   "language": "python",
   "name": "python3"
  },
  "language_info": {
   "codemirror_mode": {
    "name": "ipython",
    "version": 3
   },
   "file_extension": ".py",
   "mimetype": "text/x-python",
   "name": "python",
   "nbconvert_exporter": "python",
   "pygments_lexer": "ipython3",
   "version": "3.9.7"
  }
 },
 "nbformat": 4,
 "nbformat_minor": 5
}
