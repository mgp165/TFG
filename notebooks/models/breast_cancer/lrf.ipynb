{
 "cells": [
  {
   "cell_type": "markdown",
   "id": "16d6bd22",
   "metadata": {},
   "source": [
    "# Linear Random Forest"
   ]
  },
  {
   "cell_type": "code",
   "execution_count": 33,
   "id": "53aad165",
   "metadata": {},
   "outputs": [],
   "source": [
    "from sklearn.linear_model import LogisticRegression\n",
    "from lineartree import LinearTreeClassifier\n",
    "from sklearn.metrics import roc_auc_score\n",
    "import pandas as pd\n",
    "from joblib import dump\n",
    "import matplotlib.pyplot as plt\n",
    "import numpy as np\n",
    "from sklearn.preprocessing import StandardScaler\n",
    "import time"
   ]
  },
  {
   "cell_type": "code",
   "execution_count": 2,
   "id": "a349e84e",
   "metadata": {},
   "outputs": [],
   "source": [
    "import sys\n",
    "sys.path.append('F:\\\\Users\\\\Manuel García Plaza\\\\Desktop\\\\TFG\\\\')"
   ]
  },
  {
   "cell_type": "code",
   "execution_count": 3,
   "id": "e69cfe40",
   "metadata": {},
   "outputs": [],
   "source": [
    "from notebooks.utils.classification_metrics import classification\n",
    "from notebooks.utils.lrf import LinearRandomForestClassifier"
   ]
  },
  {
   "cell_type": "code",
   "execution_count": 4,
   "id": "b37b3d11",
   "metadata": {},
   "outputs": [],
   "source": [
    "train =  pd.read_parquet('../../../data/model_input/train_sets/breast_cancer.parquet')\n",
    "validation =  pd.read_parquet('../../../data/model_input/validation_sets/breast_cancer.parquet')"
   ]
  },
  {
   "cell_type": "code",
   "execution_count": 5,
   "id": "699fb4f8",
   "metadata": {},
   "outputs": [],
   "source": [
    "y_train = train.diagnosis\n",
    "X_train = train.drop(columns=['diagnosis'])"
   ]
  },
  {
   "cell_type": "code",
   "execution_count": 6,
   "id": "6e9dfdda",
   "metadata": {},
   "outputs": [],
   "source": [
    "y_validation = validation.diagnosis\n",
    "X_validation = validation.drop(columns=['diagnosis'])"
   ]
  },
  {
   "cell_type": "code",
   "execution_count": 41,
   "id": "dd1fc17f",
   "metadata": {},
   "outputs": [],
   "source": [
    "n_estimators = [2, 5, 7, 10, 15, 20, 40, 50]"
   ]
  },
  {
   "cell_type": "code",
   "execution_count": 42,
   "id": "31c0fd0a",
   "metadata": {},
   "outputs": [],
   "source": [
    "max_depth = [i for i in range(1, 11)]\n",
    "base_mod = [LogisticRegression(penalty=None), LogisticRegression(), LogisticRegression(penalty='l1', solver='liblinear')]"
   ]
  },
  {
   "cell_type": "code",
   "execution_count": 43,
   "id": "4b5a54e6",
   "metadata": {},
   "outputs": [],
   "source": [
    "base_est = []\n",
    "for i in max_depth:\n",
    "    for mod in base_mod:\n",
    "        base_est.append(LinearTreeClassifier(base_estimator=mod, max_depth=i))"
   ]
  },
  {
   "cell_type": "code",
   "execution_count": 44,
   "id": "60ee53c5",
   "metadata": {},
   "outputs": [],
   "source": [
    "models_list = []\n",
    "names_list = []\n",
    "for n in n_estimators:\n",
    "    for estim in base_est:\n",
    "        models_list.append(LinearRandomForestClassifier(n_features=X_train.shape[1], est=estim, n_est=n))\n",
    "        if estim.base_estimator.penalty == None:\n",
    "            names_list.append(f'LRF_{n}_{estim.max_depth}')\n",
    "        else:\n",
    "            names_list.append(f'LRF_{n}_{estim.max_depth}_{estim.base_estimator.penalty}')"
   ]
  },
  {
   "cell_type": "code",
   "execution_count": 30,
   "id": "ce32941d",
   "metadata": {},
   "outputs": [],
   "source": [
    "scaler = StandardScaler().fit(X_train)"
   ]
  },
  {
   "cell_type": "code",
   "execution_count": 31,
   "id": "73ed8404",
   "metadata": {},
   "outputs": [],
   "source": [
    "X_train_scaled = scaler.transform(X_train)\n",
    "X_validation_scaled = scaler.transform(X_validation)"
   ]
  },
  {
   "cell_type": "code",
   "execution_count": 96,
   "id": "edfcced6",
   "metadata": {},
   "outputs": [
    {
     "data": {
      "text/html": [
       "<div>\n",
       "<style scoped>\n",
       "    .dataframe tbody tr th:only-of-type {\n",
       "        vertical-align: middle;\n",
       "    }\n",
       "\n",
       "    .dataframe tbody tr th {\n",
       "        vertical-align: top;\n",
       "    }\n",
       "\n",
       "    .dataframe thead th {\n",
       "        text-align: right;\n",
       "    }\n",
       "</style>\n",
       "<table border=\"1\" class=\"dataframe\">\n",
       "  <thead>\n",
       "    <tr style=\"text-align: right;\">\n",
       "      <th></th>\n",
       "      <th>Run_Time</th>\n",
       "      <th>Train_AUC</th>\n",
       "      <th>Validation_AUC</th>\n",
       "      <th>delta%</th>\n",
       "    </tr>\n",
       "  </thead>\n",
       "  <tbody>\n",
       "    <tr>\n",
       "      <th>LRF_2_1</th>\n",
       "      <td>2.510258</td>\n",
       "      <td>0.987618</td>\n",
       "      <td>0.994987</td>\n",
       "      <td>0.746220</td>\n",
       "    </tr>\n",
       "    <tr>\n",
       "      <th>LRF_2_1_l2</th>\n",
       "      <td>2.191172</td>\n",
       "      <td>0.992244</td>\n",
       "      <td>0.991855</td>\n",
       "      <td>-0.039274</td>\n",
       "    </tr>\n",
       "    <tr>\n",
       "      <th>LRF_2_1_l1</th>\n",
       "      <td>0.935438</td>\n",
       "      <td>0.997433</td>\n",
       "      <td>0.983083</td>\n",
       "      <td>-1.438684</td>\n",
       "    </tr>\n",
       "    <tr>\n",
       "      <th>LRF_2_2</th>\n",
       "      <td>3.328074</td>\n",
       "      <td>0.997192</td>\n",
       "      <td>0.978697</td>\n",
       "      <td>-1.854725</td>\n",
       "    </tr>\n",
       "    <tr>\n",
       "      <th>LRF_2_2_l2</th>\n",
       "      <td>2.714741</td>\n",
       "      <td>0.990025</td>\n",
       "      <td>0.967419</td>\n",
       "      <td>-2.283383</td>\n",
       "    </tr>\n",
       "    <tr>\n",
       "      <th>...</th>\n",
       "      <td>...</td>\n",
       "      <td>...</td>\n",
       "      <td>...</td>\n",
       "      <td>...</td>\n",
       "    </tr>\n",
       "    <tr>\n",
       "      <th>LRF_50_9_l2</th>\n",
       "      <td>98.573160</td>\n",
       "      <td>0.998155</td>\n",
       "      <td>0.995614</td>\n",
       "      <td>-0.254535</td>\n",
       "    </tr>\n",
       "    <tr>\n",
       "      <th>LRF_50_9_l1</th>\n",
       "      <td>46.319586</td>\n",
       "      <td>0.998288</td>\n",
       "      <td>0.994361</td>\n",
       "      <td>-0.393424</td>\n",
       "    </tr>\n",
       "    <tr>\n",
       "      <th>LRF_50_10</th>\n",
       "      <td>118.985844</td>\n",
       "      <td>1.000000</td>\n",
       "      <td>0.996241</td>\n",
       "      <td>-0.375940</td>\n",
       "    </tr>\n",
       "    <tr>\n",
       "      <th>LRF_50_10_l2</th>\n",
       "      <td>96.707689</td>\n",
       "      <td>0.997887</td>\n",
       "      <td>0.996867</td>\n",
       "      <td>-0.102224</td>\n",
       "    </tr>\n",
       "    <tr>\n",
       "      <th>LRF_50_10_l1</th>\n",
       "      <td>46.008603</td>\n",
       "      <td>0.998422</td>\n",
       "      <td>0.993734</td>\n",
       "      <td>-0.469519</td>\n",
       "    </tr>\n",
       "  </tbody>\n",
       "</table>\n",
       "<p>240 rows × 4 columns</p>\n",
       "</div>"
      ],
      "text/plain": [
       "                Run_Time  Train_AUC  Validation_AUC    delta%\n",
       "LRF_2_1         2.510258   0.987618        0.994987  0.746220\n",
       "LRF_2_1_l2      2.191172   0.992244        0.991855 -0.039274\n",
       "LRF_2_1_l1      0.935438   0.997433        0.983083 -1.438684\n",
       "LRF_2_2         3.328074   0.997192        0.978697 -1.854725\n",
       "LRF_2_2_l2      2.714741   0.990025        0.967419 -2.283383\n",
       "...                  ...        ...             ...       ...\n",
       "LRF_50_9_l2    98.573160   0.998155        0.995614 -0.254535\n",
       "LRF_50_9_l1    46.319586   0.998288        0.994361 -0.393424\n",
       "LRF_50_10     118.985844   1.000000        0.996241 -0.375940\n",
       "LRF_50_10_l2   96.707689   0.997887        0.996867 -0.102224\n",
       "LRF_50_10_l1   46.008603   0.998422        0.993734 -0.469519\n",
       "\n",
       "[240 rows x 4 columns]"
      ]
     },
     "execution_count": 96,
     "metadata": {},
     "output_type": "execute_result"
    }
   ],
   "source": [
    "metrics = classification(models_list, names_list, '../../../data/model_output/metrics/breast_cancer/lrf.csv', X_train_scaled, y_train, X_validation_scaled, y_validation)\n",
    "metrics"
   ]
  },
  {
   "cell_type": "code",
   "execution_count": 99,
   "id": "5d9644eb",
   "metadata": {},
   "outputs": [
    {
     "data": {
      "text/html": [
       "<div>\n",
       "<style scoped>\n",
       "    .dataframe tbody tr th:only-of-type {\n",
       "        vertical-align: middle;\n",
       "    }\n",
       "\n",
       "    .dataframe tbody tr th {\n",
       "        vertical-align: top;\n",
       "    }\n",
       "\n",
       "    .dataframe thead th {\n",
       "        text-align: right;\n",
       "    }\n",
       "</style>\n",
       "<table border=\"1\" class=\"dataframe\">\n",
       "  <thead>\n",
       "    <tr style=\"text-align: right;\">\n",
       "      <th></th>\n",
       "      <th>Run_Time</th>\n",
       "      <th>Train_AUC</th>\n",
       "      <th>Validation_AUC</th>\n",
       "      <th>delta%</th>\n",
       "    </tr>\n",
       "  </thead>\n",
       "  <tbody>\n",
       "    <tr>\n",
       "      <th>LRF_40_7</th>\n",
       "      <td>89.274482</td>\n",
       "      <td>1.000000</td>\n",
       "      <td>1.000000</td>\n",
       "      <td>0.000000</td>\n",
       "    </tr>\n",
       "    <tr>\n",
       "      <th>LRF_7_10_l2</th>\n",
       "      <td>11.153919</td>\n",
       "      <td>0.998663</td>\n",
       "      <td>1.000000</td>\n",
       "      <td>0.133897</td>\n",
       "    </tr>\n",
       "    <tr>\n",
       "      <th>LRF_5_5_l2</th>\n",
       "      <td>8.602019</td>\n",
       "      <td>0.997914</td>\n",
       "      <td>0.999373</td>\n",
       "      <td>0.146249</td>\n",
       "    </tr>\n",
       "    <tr>\n",
       "      <th>LRF_5_10_l1</th>\n",
       "      <td>4.168139</td>\n",
       "      <td>0.997941</td>\n",
       "      <td>0.999373</td>\n",
       "      <td>0.143565</td>\n",
       "    </tr>\n",
       "    <tr>\n",
       "      <th>LRF_20_10</th>\n",
       "      <td>37.350478</td>\n",
       "      <td>1.000000</td>\n",
       "      <td>0.999373</td>\n",
       "      <td>-0.062657</td>\n",
       "    </tr>\n",
       "    <tr>\n",
       "      <th>...</th>\n",
       "      <td>...</td>\n",
       "      <td>...</td>\n",
       "      <td>...</td>\n",
       "      <td>...</td>\n",
       "    </tr>\n",
       "    <tr>\n",
       "      <th>LRF_2_4_l2</th>\n",
       "      <td>3.041868</td>\n",
       "      <td>0.988233</td>\n",
       "      <td>0.959273</td>\n",
       "      <td>-2.930443</td>\n",
       "    </tr>\n",
       "    <tr>\n",
       "      <th>LRF_2_6</th>\n",
       "      <td>3.958415</td>\n",
       "      <td>0.993795</td>\n",
       "      <td>0.957393</td>\n",
       "      <td>-3.662925</td>\n",
       "    </tr>\n",
       "    <tr>\n",
       "      <th>LRF_2_8</th>\n",
       "      <td>3.936505</td>\n",
       "      <td>0.987925</td>\n",
       "      <td>0.948622</td>\n",
       "      <td>-3.978405</td>\n",
       "    </tr>\n",
       "    <tr>\n",
       "      <th>LRF_2_5_l1</th>\n",
       "      <td>1.558847</td>\n",
       "      <td>0.967801</td>\n",
       "      <td>0.934211</td>\n",
       "      <td>-3.470764</td>\n",
       "    </tr>\n",
       "    <tr>\n",
       "      <th>LRF_2_10</th>\n",
       "      <td>3.348078</td>\n",
       "      <td>0.992859</td>\n",
       "      <td>0.905388</td>\n",
       "      <td>-8.810005</td>\n",
       "    </tr>\n",
       "  </tbody>\n",
       "</table>\n",
       "<p>240 rows × 4 columns</p>\n",
       "</div>"
      ],
      "text/plain": [
       "              Run_Time  Train_AUC  Validation_AUC    delta%\n",
       "LRF_40_7     89.274482   1.000000        1.000000  0.000000\n",
       "LRF_7_10_l2  11.153919   0.998663        1.000000  0.133897\n",
       "LRF_5_5_l2    8.602019   0.997914        0.999373  0.146249\n",
       "LRF_5_10_l1   4.168139   0.997941        0.999373  0.143565\n",
       "LRF_20_10    37.350478   1.000000        0.999373 -0.062657\n",
       "...                ...        ...             ...       ...\n",
       "LRF_2_4_l2    3.041868   0.988233        0.959273 -2.930443\n",
       "LRF_2_6       3.958415   0.993795        0.957393 -3.662925\n",
       "LRF_2_8       3.936505   0.987925        0.948622 -3.978405\n",
       "LRF_2_5_l1    1.558847   0.967801        0.934211 -3.470764\n",
       "LRF_2_10      3.348078   0.992859        0.905388 -8.810005\n",
       "\n",
       "[240 rows x 4 columns]"
      ]
     },
     "execution_count": 99,
     "metadata": {},
     "output_type": "execute_result"
    }
   ],
   "source": [
    "metrics.sort_values(by='Validation_AUC', ascending=False)"
   ]
  },
  {
   "cell_type": "markdown",
   "id": "a6d82f74",
   "metadata": {},
   "source": [
    "We choose **LRF_5_5_l2** as the best model because it reaches a very good AUC in validation with not very deep trees."
   ]
  },
  {
   "cell_type": "code",
   "execution_count": 100,
   "id": "0651f6af",
   "metadata": {},
   "outputs": [],
   "source": [
    "test = pd.read_parquet('../../../data/model_input/test_sets/breast_cancer.parquet')"
   ]
  },
  {
   "cell_type": "code",
   "execution_count": 101,
   "id": "7f15d1ed",
   "metadata": {},
   "outputs": [],
   "source": [
    "y_test = test.diagnosis\n",
    "X_test = test.drop(columns=['diagnosis'])"
   ]
  },
  {
   "cell_type": "code",
   "execution_count": 102,
   "id": "e5ff9d53",
   "metadata": {},
   "outputs": [],
   "source": [
    "retrain = pd.concat([train, validation])"
   ]
  },
  {
   "cell_type": "code",
   "execution_count": 103,
   "id": "ff9baac9",
   "metadata": {},
   "outputs": [],
   "source": [
    "y_retrain = retrain.diagnosis\n",
    "X_retrain = retrain.drop(columns=['diagnosis'])"
   ]
  },
  {
   "cell_type": "code",
   "execution_count": 104,
   "id": "838c5142",
   "metadata": {},
   "outputs": [],
   "source": [
    "scaler_retrain = StandardScaler().fit(X_retrain)"
   ]
  },
  {
   "cell_type": "code",
   "execution_count": 105,
   "id": "e755221a",
   "metadata": {},
   "outputs": [],
   "source": [
    "X_retrain_scaled = scaler_retrain.transform(X_retrain)\n",
    "X_test_scaled = scaler_retrain.transform(X_test)"
   ]
  },
  {
   "cell_type": "code",
   "execution_count": 108,
   "id": "df28a29a",
   "metadata": {},
   "outputs": [],
   "source": [
    "time1 = time.time()\n",
    "model = LinearRandomForestClassifier(n_features=X_retrain.shape[1], est=LinearTreeClassifier(base_estimator=LogisticRegression(), max_depth=5), n_est=5).fit(X_retrain_scaled, y_retrain)\n",
    "time2 = time.time() - time1"
   ]
  },
  {
   "cell_type": "code",
   "execution_count": 109,
   "id": "8ffe87b2",
   "metadata": {},
   "outputs": [
    {
     "name": "stdout",
     "output_type": "stream",
     "text": [
      "Test AUC: 0.9896\n"
     ]
    }
   ],
   "source": [
    "test_pred = model.predict_proba(X_test_scaled)[:, 1]\n",
    "auc = roc_auc_score(y_test, test_pred)\n",
    "print('Test AUC:', round(auc, 4))"
   ]
  },
  {
   "cell_type": "code",
   "execution_count": 115,
   "id": "4087241d",
   "metadata": {},
   "outputs": [],
   "source": [
    "train_pred = model.predict_proba(X_retrain_scaled)[:, 1]\n",
    "auc_train = roc_auc_score(y_retrain, train_pred)"
   ]
  },
  {
   "cell_type": "code",
   "execution_count": 119,
   "id": "3bc49129",
   "metadata": {},
   "outputs": [],
   "source": [
    "with open('../../../data/model_output/metrics/breast_cancer/final_metrics.txt', 'a') as f:\n",
    "     f.write(f'\\nLRF; {time2}; {auc_train}; {auc}')"
   ]
  },
  {
   "cell_type": "code",
   "execution_count": 120,
   "id": "ccc00e89",
   "metadata": {},
   "outputs": [
    {
     "data": {
      "text/plain": [
       "['../../../data/model_output/models/breast_cancer/best_lrf.joblib']"
      ]
     },
     "execution_count": 120,
     "metadata": {},
     "output_type": "execute_result"
    }
   ],
   "source": [
    "dump(model, '../../../data/model_output/models/breast_cancer/best_lrf.joblib')"
   ]
  },
  {
   "cell_type": "code",
   "execution_count": null,
   "id": "5026a0e9",
   "metadata": {},
   "outputs": [],
   "source": []
  }
 ],
 "metadata": {
  "kernelspec": {
   "display_name": "Python 3 (ipykernel)",
   "language": "python",
   "name": "python3"
  },
  "language_info": {
   "codemirror_mode": {
    "name": "ipython",
    "version": 3
   },
   "file_extension": ".py",
   "mimetype": "text/x-python",
   "name": "python",
   "nbconvert_exporter": "python",
   "pygments_lexer": "ipython3",
   "version": "3.9.7"
  }
 },
 "nbformat": 4,
 "nbformat_minor": 5
}
