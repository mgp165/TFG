{
 "cells": [
  {
   "cell_type": "markdown",
   "id": "c19ecc54",
   "metadata": {},
   "source": [
    "# RERF"
   ]
  },
  {
   "cell_type": "code",
   "execution_count": 19,
   "id": "ce7d7cce",
   "metadata": {},
   "outputs": [],
   "source": [
    "import matplotlib.pyplot as plt\n",
    "import pandas as pd\n",
    "from sklearn.linear_model import LogisticRegression\n",
    "from sklearn.ensemble import RandomForestRegressor\n",
    "from sklearn.metrics import roc_auc_score\n",
    "from sklearn.preprocessing import StandardScaler\n",
    "from joblib import dump\n",
    "import numpy as np\n",
    "import time"
   ]
  },
  {
   "cell_type": "code",
   "execution_count": 2,
   "id": "5cd25264",
   "metadata": {},
   "outputs": [],
   "source": [
    "import sys\n",
    "sys.path.append('F:\\\\Users\\\\Manuel García Plaza\\\\Desktop\\\\TFG\\\\')"
   ]
  },
  {
   "cell_type": "code",
   "execution_count": 3,
   "id": "4f76369e",
   "metadata": {},
   "outputs": [],
   "source": [
    "from notebooks.utils.classification_metrics import classification"
   ]
  },
  {
   "cell_type": "code",
   "execution_count": 4,
   "id": "30f608eb",
   "metadata": {},
   "outputs": [],
   "source": [
    "train =  pd.read_parquet('../../../data/model_input/train_sets/breast_cancer.parquet')\n",
    "validation =  pd.read_parquet('../../../data/model_input/validation_sets/breast_cancer.parquet')"
   ]
  },
  {
   "cell_type": "code",
   "execution_count": 5,
   "id": "30b9544c",
   "metadata": {},
   "outputs": [],
   "source": [
    "y_train = train.diagnosis\n",
    "X_train = train.drop(columns=['diagnosis'])"
   ]
  },
  {
   "cell_type": "code",
   "execution_count": 6,
   "id": "20ec5628",
   "metadata": {},
   "outputs": [],
   "source": [
    "y_validation = validation.diagnosis\n",
    "X_validation = validation.drop(columns=['diagnosis'])"
   ]
  },
  {
   "cell_type": "code",
   "execution_count": 7,
   "id": "2a92303d",
   "metadata": {},
   "outputs": [],
   "source": [
    "scaler = StandardScaler().fit(X_train)"
   ]
  },
  {
   "cell_type": "code",
   "execution_count": 8,
   "id": "dc708f53",
   "metadata": {},
   "outputs": [],
   "source": [
    "X_train_scaled = scaler.transform(X_train)\n",
    "X_validation_scaled = scaler.transform(X_validation)"
   ]
  },
  {
   "cell_type": "code",
   "execution_count": 48,
   "id": "2ef72277",
   "metadata": {},
   "outputs": [],
   "source": [
    "max_depth = [1, 2, 3, 4, 5, 7, 10, 15, 20]\n",
    "n_est = [i for i in range(5, 55, 5)]"
   ]
  },
  {
   "cell_type": "code",
   "execution_count": 50,
   "id": "49ef5353",
   "metadata": {},
   "outputs": [],
   "source": [
    "lr = [LogisticRegression(penalty=None), LogisticRegression(), LogisticRegression(penalty='l1', solver='liblinear'),\n",
    "     LogisticRegression(penalty='elasticnet', solver='saga', l1_ratio=0.25, max_iter=700),\n",
    "     LogisticRegression(penalty='elasticnet', solver='saga', l1_ratio=0.5, max_iter=700),\n",
    "     LogisticRegression(penalty='elasticnet', solver='saga', l1_ratio=0.75, max_iter=1400)]"
   ]
  },
  {
   "cell_type": "code",
   "execution_count": 53,
   "id": "ba9d98b8",
   "metadata": {},
   "outputs": [],
   "source": [
    "names_list = []\n",
    "\n",
    "for n in n_est:\n",
    "    for depth in max_depth:\n",
    "        for est in lr:\n",
    "            if est.penalty == None:\n",
    "                name = f'RERF_{depth}_{n}'\n",
    "            elif est.penalty == 'elasticnet':\n",
    "                name = f'RERF_{depth}_{n}_en_{est.l1_ratio}'\n",
    "            else:\n",
    "                name = f'RERF_{depth}_{n}_{est.penalty}'\n",
    "            \n",
    "            names_list.append(name)"
   ]
  },
  {
   "cell_type": "code",
   "execution_count": 20,
   "id": "5bf580b6",
   "metadata": {},
   "outputs": [],
   "source": [
    "metrics = {}"
   ]
  },
  {
   "cell_type": "code",
   "execution_count": 57,
   "id": "804aa4bf",
   "metadata": {},
   "outputs": [],
   "source": [
    "it = 0\n",
    "\n",
    "for n in n_est:\n",
    "    for i in max_depth:\n",
    "        for reg in lr:\n",
    "            name = names_list[it]\n",
    "            start_time = time.time()\n",
    "            \n",
    "            reg.fit(X_train_scaled, y_train)\n",
    "            reg_pred_train = reg.predict_proba(X_train_scaled)[:, 1]\n",
    "            reg_pred_val = reg.predict_proba(X_validation_scaled)[:, 1]\n",
    "            res_train = y_train - reg_pred_train\n",
    "            res_valid = y_validation - reg_pred_val\n",
    "            \n",
    "            rf = RandomForestRegressor(n_estimators=n, max_depth=i)\n",
    "            rf.fit(X_train_scaled, res_train)\n",
    "            rf_pred_train = rf.predict(X_train_scaled)\n",
    "            rf_pred_val = rf.predict(X_validation_scaled)\n",
    "            \n",
    "            train_pred = reg_pred_train + rf_pred_train\n",
    "            val_pred = reg_pred_val + rf_pred_val\n",
    "\n",
    "            metrics[name] = {\n",
    "                'Train_AUC': roc_auc_score(y_train, train_pred),\n",
    "                'Validation_AUC': roc_auc_score(y_validation, val_pred),\n",
    "                'Run_Time': time.time() - start_time\n",
    "            }\n",
    "            \n",
    "            it += 1"
   ]
  },
  {
   "cell_type": "code",
   "execution_count": 59,
   "id": "4ba392ce",
   "metadata": {},
   "outputs": [],
   "source": [
    "metrics = pd.DataFrame.from_dict(metrics, orient='index',columns=['Run_Time', 'Train_AUC', 'Validation_AUC'])\n",
    "metrics['delta%'] = 100*(metrics.Validation_AUC - metrics.Train_AUC) / metrics.Train_AUC"
   ]
  },
  {
   "cell_type": "code",
   "execution_count": 61,
   "id": "c5f1cfeb",
   "metadata": {},
   "outputs": [
    {
     "data": {
      "text/html": [
       "<div>\n",
       "<style scoped>\n",
       "    .dataframe tbody tr th:only-of-type {\n",
       "        vertical-align: middle;\n",
       "    }\n",
       "\n",
       "    .dataframe tbody tr th {\n",
       "        vertical-align: top;\n",
       "    }\n",
       "\n",
       "    .dataframe thead th {\n",
       "        text-align: right;\n",
       "    }\n",
       "</style>\n",
       "<table border=\"1\" class=\"dataframe\">\n",
       "  <thead>\n",
       "    <tr style=\"text-align: right;\">\n",
       "      <th></th>\n",
       "      <th>Run_Time</th>\n",
       "      <th>Train_AUC</th>\n",
       "      <th>Validation_AUC</th>\n",
       "      <th>delta%</th>\n",
       "    </tr>\n",
       "  </thead>\n",
       "  <tbody>\n",
       "    <tr>\n",
       "      <th>RERF_1_5</th>\n",
       "      <td>0.036982</td>\n",
       "      <td>1.000000</td>\n",
       "      <td>0.977130</td>\n",
       "      <td>-2.286967</td>\n",
       "    </tr>\n",
       "    <tr>\n",
       "      <th>RERF_1_5_l2</th>\n",
       "      <td>0.024905</td>\n",
       "      <td>0.999171</td>\n",
       "      <td>0.997494</td>\n",
       "      <td>-0.167860</td>\n",
       "    </tr>\n",
       "    <tr>\n",
       "      <th>RERF_1_5_l1</th>\n",
       "      <td>0.017277</td>\n",
       "      <td>0.999198</td>\n",
       "      <td>0.964912</td>\n",
       "      <td>-3.431294</td>\n",
       "    </tr>\n",
       "    <tr>\n",
       "      <th>RERF_1_5_en_0.25</th>\n",
       "      <td>0.136633</td>\n",
       "      <td>0.999091</td>\n",
       "      <td>0.994361</td>\n",
       "      <td>-0.473412</td>\n",
       "    </tr>\n",
       "    <tr>\n",
       "      <th>RERF_1_5_en_0.5</th>\n",
       "      <td>0.141595</td>\n",
       "      <td>0.999251</td>\n",
       "      <td>0.996241</td>\n",
       "      <td>-0.301283</td>\n",
       "    </tr>\n",
       "    <tr>\n",
       "      <th>...</th>\n",
       "      <td>...</td>\n",
       "      <td>...</td>\n",
       "      <td>...</td>\n",
       "      <td>...</td>\n",
       "    </tr>\n",
       "    <tr>\n",
       "      <th>RERF_20_50_l2</th>\n",
       "      <td>0.676348</td>\n",
       "      <td>1.000000</td>\n",
       "      <td>0.994361</td>\n",
       "      <td>-0.563910</td>\n",
       "    </tr>\n",
       "    <tr>\n",
       "      <th>RERF_20_50_l1</th>\n",
       "      <td>0.670611</td>\n",
       "      <td>1.000000</td>\n",
       "      <td>0.995614</td>\n",
       "      <td>-0.438596</td>\n",
       "    </tr>\n",
       "    <tr>\n",
       "      <th>RERF_20_50_en_0.25</th>\n",
       "      <td>0.777831</td>\n",
       "      <td>1.000000</td>\n",
       "      <td>0.995614</td>\n",
       "      <td>-0.438596</td>\n",
       "    </tr>\n",
       "    <tr>\n",
       "      <th>RERF_20_50_en_0.5</th>\n",
       "      <td>0.783906</td>\n",
       "      <td>1.000000</td>\n",
       "      <td>0.993734</td>\n",
       "      <td>-0.626566</td>\n",
       "    </tr>\n",
       "    <tr>\n",
       "      <th>RERF_20_50_en_0.75</th>\n",
       "      <td>0.964419</td>\n",
       "      <td>1.000000</td>\n",
       "      <td>0.994361</td>\n",
       "      <td>-0.563910</td>\n",
       "    </tr>\n",
       "  </tbody>\n",
       "</table>\n",
       "<p>540 rows × 4 columns</p>\n",
       "</div>"
      ],
      "text/plain": [
       "                    Run_Time  Train_AUC  Validation_AUC    delta%\n",
       "RERF_1_5            0.036982   1.000000        0.977130 -2.286967\n",
       "RERF_1_5_l2         0.024905   0.999171        0.997494 -0.167860\n",
       "RERF_1_5_l1         0.017277   0.999198        0.964912 -3.431294\n",
       "RERF_1_5_en_0.25    0.136633   0.999091        0.994361 -0.473412\n",
       "RERF_1_5_en_0.5     0.141595   0.999251        0.996241 -0.301283\n",
       "...                      ...        ...             ...       ...\n",
       "RERF_20_50_l2       0.676348   1.000000        0.994361 -0.563910\n",
       "RERF_20_50_l1       0.670611   1.000000        0.995614 -0.438596\n",
       "RERF_20_50_en_0.25  0.777831   1.000000        0.995614 -0.438596\n",
       "RERF_20_50_en_0.5   0.783906   1.000000        0.993734 -0.626566\n",
       "RERF_20_50_en_0.75  0.964419   1.000000        0.994361 -0.563910\n",
       "\n",
       "[540 rows x 4 columns]"
      ]
     },
     "execution_count": 61,
     "metadata": {},
     "output_type": "execute_result"
    }
   ],
   "source": [
    "metrics"
   ]
  },
  {
   "cell_type": "code",
   "execution_count": 62,
   "id": "2e42a7a7",
   "metadata": {},
   "outputs": [],
   "source": [
    "metrics.to_csv('../../../data/metrics/breast_cancer/rerf.csv')"
   ]
  },
  {
   "cell_type": "code",
   "execution_count": 67,
   "id": "72437bb5",
   "metadata": {},
   "outputs": [
    {
     "data": {
      "text/html": [
       "<div>\n",
       "<style scoped>\n",
       "    .dataframe tbody tr th:only-of-type {\n",
       "        vertical-align: middle;\n",
       "    }\n",
       "\n",
       "    .dataframe tbody tr th {\n",
       "        vertical-align: top;\n",
       "    }\n",
       "\n",
       "    .dataframe thead th {\n",
       "        text-align: right;\n",
       "    }\n",
       "</style>\n",
       "<table border=\"1\" class=\"dataframe\">\n",
       "  <thead>\n",
       "    <tr style=\"text-align: right;\">\n",
       "      <th></th>\n",
       "      <th>Run_Time</th>\n",
       "      <th>Train_AUC</th>\n",
       "      <th>Validation_AUC</th>\n",
       "      <th>delta%</th>\n",
       "    </tr>\n",
       "  </thead>\n",
       "  <tbody>\n",
       "    <tr>\n",
       "      <th>RERF_2_30_en_0.75</th>\n",
       "      <td>0.343082</td>\n",
       "      <td>0.999545</td>\n",
       "      <td>0.998747</td>\n",
       "      <td>-0.079885</td>\n",
       "    </tr>\n",
       "    <tr>\n",
       "      <th>RERF_4_15_en_0.25</th>\n",
       "      <td>0.193454</td>\n",
       "      <td>0.999947</td>\n",
       "      <td>0.998747</td>\n",
       "      <td>-0.119971</td>\n",
       "    </tr>\n",
       "    <tr>\n",
       "      <th>RERF_2_5_en_0.75</th>\n",
       "      <td>0.283216</td>\n",
       "      <td>0.999438</td>\n",
       "      <td>0.998747</td>\n",
       "      <td>-0.069190</td>\n",
       "    </tr>\n",
       "    <tr>\n",
       "      <th>RERF_3_10_en_0.5</th>\n",
       "      <td>0.168550</td>\n",
       "      <td>0.999626</td>\n",
       "      <td>0.998747</td>\n",
       "      <td>-0.087905</td>\n",
       "    </tr>\n",
       "    <tr>\n",
       "      <th>RERF_1_15_en_0.75</th>\n",
       "      <td>0.295835</td>\n",
       "      <td>0.999224</td>\n",
       "      <td>0.998747</td>\n",
       "      <td>-0.047794</td>\n",
       "    </tr>\n",
       "    <tr>\n",
       "      <th>RERF_2_50_en_0.75</th>\n",
       "      <td>0.403347</td>\n",
       "      <td>0.999492</td>\n",
       "      <td>0.998747</td>\n",
       "      <td>-0.074538</td>\n",
       "    </tr>\n",
       "    <tr>\n",
       "      <th>RERF_1_10_en_0.25</th>\n",
       "      <td>0.144641</td>\n",
       "      <td>0.999144</td>\n",
       "      <td>0.998120</td>\n",
       "      <td>-0.102478</td>\n",
       "    </tr>\n",
       "    <tr>\n",
       "      <th>RERF_4_30_en_0.5</th>\n",
       "      <td>0.270085</td>\n",
       "      <td>0.999920</td>\n",
       "      <td>0.998120</td>\n",
       "      <td>-0.179961</td>\n",
       "    </tr>\n",
       "    <tr>\n",
       "      <th>RERF_15_5_en_0.5</th>\n",
       "      <td>0.192459</td>\n",
       "      <td>1.000000</td>\n",
       "      <td>0.998120</td>\n",
       "      <td>-0.187970</td>\n",
       "    </tr>\n",
       "    <tr>\n",
       "      <th>RERF_3_20_en_0.5</th>\n",
       "      <td>0.205423</td>\n",
       "      <td>0.999893</td>\n",
       "      <td>0.998120</td>\n",
       "      <td>-0.177291</td>\n",
       "    </tr>\n",
       "  </tbody>\n",
       "</table>\n",
       "</div>"
      ],
      "text/plain": [
       "                   Run_Time  Train_AUC  Validation_AUC    delta%\n",
       "RERF_2_30_en_0.75  0.343082   0.999545        0.998747 -0.079885\n",
       "RERF_4_15_en_0.25  0.193454   0.999947        0.998747 -0.119971\n",
       "RERF_2_5_en_0.75   0.283216   0.999438        0.998747 -0.069190\n",
       "RERF_3_10_en_0.5   0.168550   0.999626        0.998747 -0.087905\n",
       "RERF_1_15_en_0.75  0.295835   0.999224        0.998747 -0.047794\n",
       "RERF_2_50_en_0.75  0.403347   0.999492        0.998747 -0.074538\n",
       "RERF_1_10_en_0.25  0.144641   0.999144        0.998120 -0.102478\n",
       "RERF_4_30_en_0.5   0.270085   0.999920        0.998120 -0.179961\n",
       "RERF_15_5_en_0.5   0.192459   1.000000        0.998120 -0.187970\n",
       "RERF_3_20_en_0.5   0.205423   0.999893        0.998120 -0.177291"
      ]
     },
     "execution_count": 67,
     "metadata": {},
     "output_type": "execute_result"
    }
   ],
   "source": [
    "metrics.sort_values(by='Validation_AUC', ascending=False).head(10)"
   ]
  },
  {
   "cell_type": "markdown",
   "id": "3be0680a",
   "metadata": {},
   "source": []
  },
  {
   "cell_type": "code",
   "execution_count": 68,
   "id": "e073c80b",
   "metadata": {},
   "outputs": [],
   "source": [
    "test = pd.read_parquet('../../../data/model_input/test_sets/breast_cancer.parquet')"
   ]
  },
  {
   "cell_type": "code",
   "execution_count": 69,
   "id": "3672ddd0",
   "metadata": {},
   "outputs": [],
   "source": [
    "y_test = test.diagnosis\n",
    "X_test = test.drop(columns=['diagnosis'])"
   ]
  },
  {
   "cell_type": "code",
   "execution_count": 70,
   "id": "14e7ed9f",
   "metadata": {},
   "outputs": [],
   "source": [
    "retrain = pd.concat([train, validation])"
   ]
  },
  {
   "cell_type": "code",
   "execution_count": 71,
   "id": "0b72bb6e",
   "metadata": {},
   "outputs": [],
   "source": [
    "y_retrain = retrain.diagnosis\n",
    "X_retrain = retrain.drop(columns=['diagnosis'])"
   ]
  },
  {
   "cell_type": "code",
   "execution_count": 72,
   "id": "7cd6bf2f",
   "metadata": {},
   "outputs": [],
   "source": [
    "scaler_retrain = StandardScaler().fit(X_retrain)"
   ]
  },
  {
   "cell_type": "code",
   "execution_count": 73,
   "id": "e37f6e2a",
   "metadata": {},
   "outputs": [],
   "source": [
    "X_retrain_scaled = scaler_retrain.transform(X_retrain)\n",
    "X_test_scaled = scaler_retrain.transform(X_test)"
   ]
  },
  {
   "cell_type": "code",
   "execution_count": 85,
   "id": "b65004b1",
   "metadata": {},
   "outputs": [],
   "source": [
    "# cell for the final best model\n",
    "\n",
    "lr = LogisticRegression(penalty='elasticnet', solver='saga', max_iter=1400, l1_ratio=0.75).fit(X_retrain_scaled, y_retrain)\n",
    "reg_pred_retrain = lr.predict_proba(X_retrain_scaled)[:, 1]\n",
    "res_retrain = y_retrain - reg_pred_retrain\n",
    "            \n",
    "rf = RandomForestRegressor(n_estimators=30, max_depth=2).fit(X_retrain_scaled, res_retrain)\n",
    "\n",
    "reg_pred_test = lr.predict_proba(X_test_scaled)[:, 1]\n",
    "res_test = y_test - reg_pred_test\n",
    "rf_pred_test = rf.predict(X_test_scaled)\n",
    "            \n",
    "test_pred = reg_pred_test + rf_pred_test"
   ]
  },
  {
   "cell_type": "code",
   "execution_count": 86,
   "id": "0a8319f4",
   "metadata": {},
   "outputs": [
    {
     "name": "stdout",
     "output_type": "stream",
     "text": [
      "Test AUC: 0.9832\n"
     ]
    }
   ],
   "source": [
    "auc = roc_auc_score(y_test, test_pred)\n",
    "print('Test AUC:', round(auc, 4))"
   ]
  },
  {
   "cell_type": "code",
   "execution_count": 87,
   "id": "4be1df9d",
   "metadata": {},
   "outputs": [
    {
     "data": {
      "text/plain": [
       "['best_rerf_rf.joblib']"
      ]
     },
     "execution_count": 87,
     "metadata": {},
     "output_type": "execute_result"
    }
   ],
   "source": [
    "dump(lr, 'best_rerf_lr.joblib')\n",
    "dump(rf, 'best_rerf_rf.joblib')"
   ]
  },
  {
   "cell_type": "code",
   "execution_count": 88,
   "id": "008312fe",
   "metadata": {},
   "outputs": [],
   "source": [
    "with open('../../../data/metrics/breast_cancer/final_AUC.txt', 'a') as f:\n",
    "    f.write('\\nRERF, '+ str(auc))"
   ]
  },
  {
   "cell_type": "code",
   "execution_count": null,
   "id": "9b593c00",
   "metadata": {},
   "outputs": [],
   "source": []
  }
 ],
 "metadata": {
  "kernelspec": {
   "display_name": "Python 3 (ipykernel)",
   "language": "python",
   "name": "python3"
  },
  "language_info": {
   "codemirror_mode": {
    "name": "ipython",
    "version": 3
   },
   "file_extension": ".py",
   "mimetype": "text/x-python",
   "name": "python",
   "nbconvert_exporter": "python",
   "pygments_lexer": "ipython3",
   "version": "3.9.7"
  }
 },
 "nbformat": 4,
 "nbformat_minor": 5
}
