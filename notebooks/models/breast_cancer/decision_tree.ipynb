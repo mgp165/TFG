{
 "cells": [
  {
   "cell_type": "markdown",
   "id": "e9688964",
   "metadata": {},
   "source": [
    "# Decision Tree Classifier\n",
    "\n"
   ]
  },
  {
   "cell_type": "code",
   "execution_count": 1,
   "id": "7eacfd21",
   "metadata": {},
   "outputs": [],
   "source": [
    "from sklearn.tree import DecisionTreeClassifier\n",
    "from sklearn.metrics import roc_auc_score\n",
    "import numpy as np\n",
    "import pandas as pd\n",
    "import time"
   ]
  },
  {
   "cell_type": "code",
   "execution_count": 2,
   "id": "2b83bb8f",
   "metadata": {},
   "outputs": [],
   "source": [
    "train =  pd.read_parquet('../../../data/model_input/train_sets/breast_cancer.parquet')\n",
    "test =  pd.read_parquet('../../../data/model_input/validation_sets/breast_cancer.parquet')"
   ]
  },
  {
   "cell_type": "code",
   "execution_count": 3,
   "id": "5f950de4",
   "metadata": {},
   "outputs": [],
   "source": [
    "y_train = train.diagnosis\n",
    "X_train = train.drop(columns=['diagnosis'])"
   ]
  },
  {
   "cell_type": "code",
   "execution_count": 4,
   "id": "9ac4bb64",
   "metadata": {},
   "outputs": [],
   "source": [
    "y_test = test.diagnosis\n",
    "X_test = test.drop(columns=['diagnosis'])"
   ]
  },
  {
   "cell_type": "markdown",
   "id": "59a6addc",
   "metadata": {},
   "source": [
    "We are fitting our trees varying only their maximum depth."
   ]
  },
  {
   "cell_type": "code",
   "execution_count": 5,
   "id": "568a2379",
   "metadata": {},
   "outputs": [],
   "source": [
    "metrics = {}"
   ]
  },
  {
   "cell_type": "code",
   "execution_count": 6,
   "id": "54435f7b",
   "metadata": {},
   "outputs": [
    {
     "data": {
      "text/html": [
       "<div>\n",
       "<style scoped>\n",
       "    .dataframe tbody tr th:only-of-type {\n",
       "        vertical-align: middle;\n",
       "    }\n",
       "\n",
       "    .dataframe tbody tr th {\n",
       "        vertical-align: top;\n",
       "    }\n",
       "\n",
       "    .dataframe thead th {\n",
       "        text-align: right;\n",
       "    }\n",
       "</style>\n",
       "<table border=\"1\" class=\"dataframe\">\n",
       "  <thead>\n",
       "    <tr style=\"text-align: right;\">\n",
       "      <th></th>\n",
       "      <th>Run_Time</th>\n",
       "      <th>Train_Gini</th>\n",
       "      <th>Test_Gini</th>\n",
       "      <th>delta%</th>\n",
       "    </tr>\n",
       "  </thead>\n",
       "  <tbody>\n",
       "    <tr>\n",
       "      <th>DT_1</th>\n",
       "      <td>0.022154</td>\n",
       "      <td>0.853872</td>\n",
       "      <td>0.875313</td>\n",
       "      <td>2.511007</td>\n",
       "    </tr>\n",
       "    <tr>\n",
       "      <th>DT_2</th>\n",
       "      <td>0.009974</td>\n",
       "      <td>0.952209</td>\n",
       "      <td>0.874060</td>\n",
       "      <td>-8.207114</td>\n",
       "    </tr>\n",
       "    <tr>\n",
       "      <th>DT_3</th>\n",
       "      <td>0.010971</td>\n",
       "      <td>0.980691</td>\n",
       "      <td>0.866541</td>\n",
       "      <td>-11.639721</td>\n",
       "    </tr>\n",
       "    <tr>\n",
       "      <th>DT_4</th>\n",
       "      <td>0.011967</td>\n",
       "      <td>0.999144</td>\n",
       "      <td>0.786341</td>\n",
       "      <td>-21.298562</td>\n",
       "    </tr>\n",
       "    <tr>\n",
       "      <th>DT_5</th>\n",
       "      <td>0.010971</td>\n",
       "      <td>1.000000</td>\n",
       "      <td>0.786341</td>\n",
       "      <td>-21.365915</td>\n",
       "    </tr>\n",
       "    <tr>\n",
       "      <th>DT_6</th>\n",
       "      <td>0.012965</td>\n",
       "      <td>1.000000</td>\n",
       "      <td>0.786341</td>\n",
       "      <td>-21.365915</td>\n",
       "    </tr>\n",
       "    <tr>\n",
       "      <th>DT_7</th>\n",
       "      <td>0.019947</td>\n",
       "      <td>1.000000</td>\n",
       "      <td>0.786341</td>\n",
       "      <td>-21.365915</td>\n",
       "    </tr>\n",
       "    <tr>\n",
       "      <th>DT_8</th>\n",
       "      <td>0.018950</td>\n",
       "      <td>1.000000</td>\n",
       "      <td>0.786341</td>\n",
       "      <td>-21.365915</td>\n",
       "    </tr>\n",
       "    <tr>\n",
       "      <th>DT_9</th>\n",
       "      <td>0.019946</td>\n",
       "      <td>1.000000</td>\n",
       "      <td>0.786341</td>\n",
       "      <td>-21.365915</td>\n",
       "    </tr>\n",
       "    <tr>\n",
       "      <th>DT_10</th>\n",
       "      <td>0.015958</td>\n",
       "      <td>1.000000</td>\n",
       "      <td>0.786341</td>\n",
       "      <td>-21.365915</td>\n",
       "    </tr>\n",
       "  </tbody>\n",
       "</table>\n",
       "</div>"
      ],
      "text/plain": [
       "       Run_Time  Train_Gini  Test_Gini     delta%\n",
       "DT_1   0.022154    0.853872   0.875313   2.511007\n",
       "DT_2   0.009974    0.952209   0.874060  -8.207114\n",
       "DT_3   0.010971    0.980691   0.866541 -11.639721\n",
       "DT_4   0.011967    0.999144   0.786341 -21.298562\n",
       "DT_5   0.010971    1.000000   0.786341 -21.365915\n",
       "DT_6   0.012965    1.000000   0.786341 -21.365915\n",
       "DT_7   0.019947    1.000000   0.786341 -21.365915\n",
       "DT_8   0.018950    1.000000   0.786341 -21.365915\n",
       "DT_9   0.019946    1.000000   0.786341 -21.365915\n",
       "DT_10  0.015958    1.000000   0.786341 -21.365915"
      ]
     },
     "execution_count": 6,
     "metadata": {},
     "output_type": "execute_result"
    }
   ],
   "source": [
    "for max_depth in [1, 2, 3, 4, 5, 6, 7, 8, 9, 10]:\n",
    "    start_time = time.time()\n",
    "    dt = DecisionTreeClassifier(max_depth = max_depth)\n",
    "    dt.fit(X_train, y_train);\n",
    "    \n",
    "    train_pred = dt.predict_proba(X_train)[:, 1]\n",
    "    test_pred = dt.predict_proba(X_test)[:, 1]\n",
    "\n",
    "    metrics['DT_'+ str(max_depth)] = {\n",
    "        'Train_Gini': 2*roc_auc_score(y_train, train_pred)-1,\n",
    "        'Test_Gini': 2*roc_auc_score(y_test, test_pred)-1,\n",
    "        'Run_Time': time.time() - start_time,\n",
    "    }\n",
    "\n",
    "metrics_dt = pd.DataFrame.from_dict(metrics, orient='index',columns=['Run_Time', 'Train_Gini', 'Test_Gini'])\n",
    "metrics_dt['delta%'] = 100*(metrics_dt.Test_Gini - metrics_dt.Train_Gini) / metrics_dt.Train_Gini\n",
    "metrics_dt"
   ]
  },
  {
   "cell_type": "code",
   "execution_count": 7,
   "id": "f091ced3",
   "metadata": {},
   "outputs": [],
   "source": [
    "metrics_dt.to_parquet('../../../data/metrics/breast_cancer/decision_tree.parquet')"
   ]
  },
  {
   "cell_type": "markdown",
   "id": "0fac1219",
   "metadata": {},
   "source": [
    "These models tend to be overfitted, the best ones are the first 2 trees (maximum depths 1 and 2) because in terms of accuracy are not bad at all and their delta is lower than 10%, in fact, the tree of depth 1 had performed better in the test than in the train."
   ]
  },
  {
   "cell_type": "code",
   "execution_count": null,
   "id": "803b0505",
   "metadata": {},
   "outputs": [],
   "source": []
  }
 ],
 "metadata": {
  "kernelspec": {
   "display_name": "Python 3 (ipykernel)",
   "language": "python",
   "name": "python3"
  },
  "language_info": {
   "codemirror_mode": {
    "name": "ipython",
    "version": 3
   },
   "file_extension": ".py",
   "mimetype": "text/x-python",
   "name": "python",
   "nbconvert_exporter": "python",
   "pygments_lexer": "ipython3",
   "version": "3.9.7"
  }
 },
 "nbformat": 4,
 "nbformat_minor": 5
}
