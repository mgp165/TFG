{
 "cells": [
  {
   "cell_type": "markdown",
   "id": "e9688964",
   "metadata": {},
   "source": [
    "# Decision Tree Classifier\n",
    "\n"
   ]
  },
  {
   "cell_type": "code",
   "execution_count": 1,
   "id": "7eacfd21",
   "metadata": {},
   "outputs": [],
   "source": [
    "from sklearn.tree import DecisionTreeClassifier\n",
    "import pandas as pd"
   ]
  },
  {
   "cell_type": "code",
   "execution_count": 2,
   "id": "e6f98b66",
   "metadata": {},
   "outputs": [],
   "source": [
    "import sys\n",
    "sys.path.append('F:\\\\Users\\\\Manuel García Plaza\\\\Desktop\\\\TFG\\\\')"
   ]
  },
  {
   "cell_type": "code",
   "execution_count": 3,
   "id": "66907474",
   "metadata": {},
   "outputs": [],
   "source": [
    "from notebooks.utils.classification_metrics import classification"
   ]
  },
  {
   "cell_type": "code",
   "execution_count": 4,
   "id": "2b83bb8f",
   "metadata": {},
   "outputs": [],
   "source": [
    "train =  pd.read_parquet('../../../data/model_input/train_sets/breast_cancer.parquet')\n",
    "test =  pd.read_parquet('../../../data/model_input/validation_sets/breast_cancer.parquet')"
   ]
  },
  {
   "cell_type": "code",
   "execution_count": 5,
   "id": "5f950de4",
   "metadata": {},
   "outputs": [],
   "source": [
    "y_train = train.diagnosis\n",
    "X_train = train.drop(columns=['diagnosis'])"
   ]
  },
  {
   "cell_type": "code",
   "execution_count": 6,
   "id": "9ac4bb64",
   "metadata": {},
   "outputs": [],
   "source": [
    "y_test = test.diagnosis\n",
    "X_test = test.drop(columns=['diagnosis'])"
   ]
  },
  {
   "cell_type": "markdown",
   "id": "59a6addc",
   "metadata": {},
   "source": [
    "We are fitting our trees varying only their maximum depth."
   ]
  },
  {
   "cell_type": "code",
   "execution_count": 9,
   "id": "9992181a",
   "metadata": {},
   "outputs": [],
   "source": [
    "models_list = [DecisionTreeClassifier(max_depth = i) for i in range(1, 11)]\n",
    "names_list = ['DT_'+str(i) for i in range(1, 11)]"
   ]
  },
  {
   "cell_type": "code",
   "execution_count": 13,
   "id": "3023966f",
   "metadata": {},
   "outputs": [
    {
     "data": {
      "text/html": [
       "<div>\n",
       "<style scoped>\n",
       "    .dataframe tbody tr th:only-of-type {\n",
       "        vertical-align: middle;\n",
       "    }\n",
       "\n",
       "    .dataframe tbody tr th {\n",
       "        vertical-align: top;\n",
       "    }\n",
       "\n",
       "    .dataframe thead th {\n",
       "        text-align: right;\n",
       "    }\n",
       "</style>\n",
       "<table border=\"1\" class=\"dataframe\">\n",
       "  <thead>\n",
       "    <tr style=\"text-align: right;\">\n",
       "      <th></th>\n",
       "      <th>Run_Time</th>\n",
       "      <th>Train_AUC</th>\n",
       "      <th>Test_AUC</th>\n",
       "      <th>delta%</th>\n",
       "    </tr>\n",
       "  </thead>\n",
       "  <tbody>\n",
       "    <tr>\n",
       "      <th>DT_1</th>\n",
       "      <td>0.021942</td>\n",
       "      <td>0.926936</td>\n",
       "      <td>0.937657</td>\n",
       "      <td>1.156541</td>\n",
       "    </tr>\n",
       "    <tr>\n",
       "      <th>DT_2</th>\n",
       "      <td>0.011997</td>\n",
       "      <td>0.976105</td>\n",
       "      <td>0.937030</td>\n",
       "      <td>-4.003100</td>\n",
       "    </tr>\n",
       "    <tr>\n",
       "      <th>DT_3</th>\n",
       "      <td>0.012971</td>\n",
       "      <td>0.990346</td>\n",
       "      <td>0.933271</td>\n",
       "      <td>-5.763125</td>\n",
       "    </tr>\n",
       "    <tr>\n",
       "      <th>DT_4</th>\n",
       "      <td>0.013928</td>\n",
       "      <td>0.999572</td>\n",
       "      <td>0.893170</td>\n",
       "      <td>-10.644722</td>\n",
       "    </tr>\n",
       "    <tr>\n",
       "      <th>DT_5</th>\n",
       "      <td>0.012994</td>\n",
       "      <td>1.000000</td>\n",
       "      <td>0.893170</td>\n",
       "      <td>-10.682957</td>\n",
       "    </tr>\n",
       "    <tr>\n",
       "      <th>DT_6</th>\n",
       "      <td>0.014959</td>\n",
       "      <td>1.000000</td>\n",
       "      <td>0.893170</td>\n",
       "      <td>-10.682957</td>\n",
       "    </tr>\n",
       "    <tr>\n",
       "      <th>DT_7</th>\n",
       "      <td>0.014960</td>\n",
       "      <td>1.000000</td>\n",
       "      <td>0.893170</td>\n",
       "      <td>-10.682957</td>\n",
       "    </tr>\n",
       "    <tr>\n",
       "      <th>DT_8</th>\n",
       "      <td>0.015931</td>\n",
       "      <td>1.000000</td>\n",
       "      <td>0.893170</td>\n",
       "      <td>-10.682957</td>\n",
       "    </tr>\n",
       "    <tr>\n",
       "      <th>DT_9</th>\n",
       "      <td>0.014963</td>\n",
       "      <td>1.000000</td>\n",
       "      <td>0.893170</td>\n",
       "      <td>-10.682957</td>\n",
       "    </tr>\n",
       "    <tr>\n",
       "      <th>DT_10</th>\n",
       "      <td>0.014956</td>\n",
       "      <td>1.000000</td>\n",
       "      <td>0.893170</td>\n",
       "      <td>-10.682957</td>\n",
       "    </tr>\n",
       "  </tbody>\n",
       "</table>\n",
       "</div>"
      ],
      "text/plain": [
       "       Run_Time  Train_AUC  Test_AUC     delta%\n",
       "DT_1   0.021942   0.926936  0.937657   1.156541\n",
       "DT_2   0.011997   0.976105  0.937030  -4.003100\n",
       "DT_3   0.012971   0.990346  0.933271  -5.763125\n",
       "DT_4   0.013928   0.999572  0.893170 -10.644722\n",
       "DT_5   0.012994   1.000000  0.893170 -10.682957\n",
       "DT_6   0.014959   1.000000  0.893170 -10.682957\n",
       "DT_7   0.014960   1.000000  0.893170 -10.682957\n",
       "DT_8   0.015931   1.000000  0.893170 -10.682957\n",
       "DT_9   0.014963   1.000000  0.893170 -10.682957\n",
       "DT_10  0.014956   1.000000  0.893170 -10.682957"
      ]
     },
     "execution_count": 13,
     "metadata": {},
     "output_type": "execute_result"
    }
   ],
   "source": [
    "metrics = classification(models_list, names_list, '../../../data/metrics/breast_cancer/decision_tree.parquet', X_train, y_train, X_test, y_test)\n",
    "metrics"
   ]
  },
  {
   "cell_type": "markdown",
   "id": "0fac1219",
   "metadata": {},
   "source": [
    "These models tend to be overfitted, the best ones are the first 2 trees (maximum depths 1 and 2) because in terms of accuracy are not bad at all and their delta is lower than 10%, in fact, the tree of depth 1 had performed better in the test than in the train."
   ]
  },
  {
   "cell_type": "markdown",
   "id": "291b92fa",
   "metadata": {},
   "source": [
    "Trees of maximum depth 4 and above are way overfitted. Also the one with maximum depth 3 is a bit overfitted if we fix a bound of delta at 5%. The first tree is suspicious because we got better AUC in the test than in the train. By the way, the **best model** in terms of overfitting and accuracy is the model **DT_2**."
   ]
  }
 ],
 "metadata": {
  "kernelspec": {
   "display_name": "Python 3 (ipykernel)",
   "language": "python",
   "name": "python3"
  },
  "language_info": {
   "codemirror_mode": {
    "name": "ipython",
    "version": 3
   },
   "file_extension": ".py",
   "mimetype": "text/x-python",
   "name": "python",
   "nbconvert_exporter": "python",
   "pygments_lexer": "ipython3",
   "version": "3.9.7"
  }
 },
 "nbformat": 4,
 "nbformat_minor": 5
}
