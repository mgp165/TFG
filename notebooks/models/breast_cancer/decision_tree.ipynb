{
 "cells": [
  {
   "cell_type": "markdown",
   "id": "e9688964",
   "metadata": {},
   "source": [
    "# Decision Tree Classifier\n",
    "\n"
   ]
  },
  {
   "cell_type": "code",
   "execution_count": 1,
   "id": "7eacfd21",
   "metadata": {},
   "outputs": [],
   "source": [
    "from sklearn.tree import DecisionTreeClassifier\n",
    "from sklearn.metrics import roc_auc_score\n",
    "import numpy as np\n",
    "import pandas as pd\n",
    "import time"
   ]
  },
  {
   "cell_type": "code",
   "execution_count": 2,
   "id": "2b83bb8f",
   "metadata": {},
   "outputs": [],
   "source": [
    "train =  pd.read_parquet('../../../data/model_input/train_sets/breast_cancer.parquet')\n",
    "test =  pd.read_parquet('../../../data/model_input/validation_sets/breast_cancer.parquet')"
   ]
  },
  {
   "cell_type": "code",
   "execution_count": 3,
   "id": "5f950de4",
   "metadata": {},
   "outputs": [],
   "source": [
    "y_train = train.diagnosis\n",
    "X_train = train.drop(columns=['diagnosis'])"
   ]
  },
  {
   "cell_type": "code",
   "execution_count": 4,
   "id": "9ac4bb64",
   "metadata": {},
   "outputs": [],
   "source": [
    "y_test = test.diagnosis\n",
    "X_test = test.drop(columns=['diagnosis'])"
   ]
  },
  {
   "cell_type": "markdown",
   "id": "59a6addc",
   "metadata": {},
   "source": [
    "We are fitting our trees varying only their maximum depth."
   ]
  },
  {
   "cell_type": "code",
   "execution_count": 5,
   "id": "568a2379",
   "metadata": {},
   "outputs": [],
   "source": [
    "metrics = {}"
   ]
  },
  {
   "cell_type": "code",
   "execution_count": 6,
   "id": "54435f7b",
   "metadata": {},
   "outputs": [
    {
     "data": {
      "text/html": [
       "<div>\n",
       "<style scoped>\n",
       "    .dataframe tbody tr th:only-of-type {\n",
       "        vertical-align: middle;\n",
       "    }\n",
       "\n",
       "    .dataframe tbody tr th {\n",
       "        vertical-align: top;\n",
       "    }\n",
       "\n",
       "    .dataframe thead th {\n",
       "        text-align: right;\n",
       "    }\n",
       "</style>\n",
       "<table border=\"1\" class=\"dataframe\">\n",
       "  <thead>\n",
       "    <tr style=\"text-align: right;\">\n",
       "      <th></th>\n",
       "      <th>Run_Time</th>\n",
       "      <th>Train_AUC</th>\n",
       "      <th>Test_AUC</th>\n",
       "      <th>delta%</th>\n",
       "    </tr>\n",
       "  </thead>\n",
       "  <tbody>\n",
       "    <tr>\n",
       "      <th>DT_1</th>\n",
       "      <td>0.015929</td>\n",
       "      <td>0.926936</td>\n",
       "      <td>0.937657</td>\n",
       "      <td>1.156541</td>\n",
       "    </tr>\n",
       "    <tr>\n",
       "      <th>DT_2</th>\n",
       "      <td>0.009973</td>\n",
       "      <td>0.976105</td>\n",
       "      <td>0.937030</td>\n",
       "      <td>-4.003100</td>\n",
       "    </tr>\n",
       "    <tr>\n",
       "      <th>DT_3</th>\n",
       "      <td>0.010003</td>\n",
       "      <td>0.990346</td>\n",
       "      <td>0.933271</td>\n",
       "      <td>-5.763125</td>\n",
       "    </tr>\n",
       "    <tr>\n",
       "      <th>DT_4</th>\n",
       "      <td>0.010973</td>\n",
       "      <td>0.999572</td>\n",
       "      <td>0.893170</td>\n",
       "      <td>-10.644722</td>\n",
       "    </tr>\n",
       "    <tr>\n",
       "      <th>DT_5</th>\n",
       "      <td>0.009940</td>\n",
       "      <td>1.000000</td>\n",
       "      <td>0.893170</td>\n",
       "      <td>-10.682957</td>\n",
       "    </tr>\n",
       "    <tr>\n",
       "      <th>DT_6</th>\n",
       "      <td>0.010999</td>\n",
       "      <td>1.000000</td>\n",
       "      <td>0.893170</td>\n",
       "      <td>-10.682957</td>\n",
       "    </tr>\n",
       "    <tr>\n",
       "      <th>DT_7</th>\n",
       "      <td>0.009975</td>\n",
       "      <td>1.000000</td>\n",
       "      <td>0.893170</td>\n",
       "      <td>-10.682957</td>\n",
       "    </tr>\n",
       "    <tr>\n",
       "      <th>DT_8</th>\n",
       "      <td>0.010971</td>\n",
       "      <td>1.000000</td>\n",
       "      <td>0.893170</td>\n",
       "      <td>-10.682957</td>\n",
       "    </tr>\n",
       "    <tr>\n",
       "      <th>DT_9</th>\n",
       "      <td>0.010939</td>\n",
       "      <td>1.000000</td>\n",
       "      <td>0.893170</td>\n",
       "      <td>-10.682957</td>\n",
       "    </tr>\n",
       "    <tr>\n",
       "      <th>DT_10</th>\n",
       "      <td>0.009973</td>\n",
       "      <td>1.000000</td>\n",
       "      <td>0.893170</td>\n",
       "      <td>-10.682957</td>\n",
       "    </tr>\n",
       "  </tbody>\n",
       "</table>\n",
       "</div>"
      ],
      "text/plain": [
       "       Run_Time  Train_AUC  Test_AUC     delta%\n",
       "DT_1   0.015929   0.926936  0.937657   1.156541\n",
       "DT_2   0.009973   0.976105  0.937030  -4.003100\n",
       "DT_3   0.010003   0.990346  0.933271  -5.763125\n",
       "DT_4   0.010973   0.999572  0.893170 -10.644722\n",
       "DT_5   0.009940   1.000000  0.893170 -10.682957\n",
       "DT_6   0.010999   1.000000  0.893170 -10.682957\n",
       "DT_7   0.009975   1.000000  0.893170 -10.682957\n",
       "DT_8   0.010971   1.000000  0.893170 -10.682957\n",
       "DT_9   0.010939   1.000000  0.893170 -10.682957\n",
       "DT_10  0.009973   1.000000  0.893170 -10.682957"
      ]
     },
     "execution_count": 6,
     "metadata": {},
     "output_type": "execute_result"
    }
   ],
   "source": [
    "for max_depth in [1, 2, 3, 4, 5, 6, 7, 8, 9, 10]:\n",
    "    start_time = time.time()\n",
    "    dt = DecisionTreeClassifier(max_depth = max_depth)\n",
    "    dt.fit(X_train, y_train);\n",
    "    \n",
    "    train_pred = dt.predict_proba(X_train)[:, 1]\n",
    "    test_pred = dt.predict_proba(X_test)[:, 1]\n",
    "\n",
    "    metrics['DT_'+ str(max_depth)] = {\n",
    "        'Train_AUC': roc_auc_score(y_train, train_pred),\n",
    "        'Test_AUC': roc_auc_score(y_test, test_pred),\n",
    "        'Run_Time': time.time() - start_time,\n",
    "    }\n",
    "\n",
    "metrics_dt = pd.DataFrame.from_dict(metrics, orient='index',columns=['Run_Time', 'Train_AUC', 'Test_AUC'])\n",
    "metrics_dt['delta%'] = 100*(metrics_dt.Test_AUC - metrics_dt.Train_AUC) / metrics_dt.Train_AUC\n",
    "metrics_dt"
   ]
  },
  {
   "cell_type": "code",
   "execution_count": 7,
   "id": "f091ced3",
   "metadata": {},
   "outputs": [],
   "source": [
    "metrics_dt.to_parquet('../../../data/metrics/breast_cancer/decision_tree.parquet')"
   ]
  },
  {
   "cell_type": "markdown",
   "id": "0fac1219",
   "metadata": {},
   "source": [
    "These models tend to be overfitted, the best ones are the first 2 trees (maximum depths 1 and 2) because in terms of accuracy are not bad at all and their delta is lower than 10%, in fact, the tree of depth 1 had performed better in the test than in the train."
   ]
  },
  {
   "cell_type": "markdown",
   "id": "291b92fa",
   "metadata": {},
   "source": [
    "Trees of maximum depth 4 and above are way overfitted. Also the one with maximum depth 3 is a bit overfitted if we fix a bound of delta at 5%. The first tree is suspicious because we got better AUC in the test than in the train. By the way, the **best model** in terms of overfitting and accuracy is the model **DT_2**."
   ]
  }
 ],
 "metadata": {
  "kernelspec": {
   "display_name": "Python 3 (ipykernel)",
   "language": "python",
   "name": "python3"
  },
  "language_info": {
   "codemirror_mode": {
    "name": "ipython",
    "version": 3
   },
   "file_extension": ".py",
   "mimetype": "text/x-python",
   "name": "python",
   "nbconvert_exporter": "python",
   "pygments_lexer": "ipython3",
   "version": "3.9.7"
  }
 },
 "nbformat": 4,
 "nbformat_minor": 5
}
