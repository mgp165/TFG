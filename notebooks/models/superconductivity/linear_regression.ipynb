{
 "cells": [
  {
   "cell_type": "markdown",
   "id": "685ac7fe",
   "metadata": {},
   "source": [
    "# Linear Regression"
   ]
  },
  {
   "cell_type": "code",
   "execution_count": 1,
   "id": "1cd625e0",
   "metadata": {},
   "outputs": [],
   "source": [
    "from sklearn.linear_model import LinearRegression, Ridge, Lasso, ElasticNet\n",
    "import pandas as pd\n",
    "from joblib import dump"
   ]
  },
  {
   "cell_type": "code",
   "execution_count": 2,
   "id": "d9f3b551",
   "metadata": {},
   "outputs": [],
   "source": [
    "import sys\n",
    "sys.path.append('F:\\\\Users\\\\Manuel García Plaza\\\\Desktop\\\\TFG\\\\')"
   ]
  },
  {
   "cell_type": "code",
   "execution_count": 3,
   "id": "a043a2f0",
   "metadata": {},
   "outputs": [],
   "source": [
    "from notebooks.utils.regression_metrics import regression"
   ]
  },
  {
   "cell_type": "markdown",
   "id": "7a654b24",
   "metadata": {},
   "source": [
    "Data loading:"
   ]
  },
  {
   "cell_type": "code",
   "execution_count": 4,
   "id": "62a57d03",
   "metadata": {},
   "outputs": [],
   "source": [
    "train =  pd.read_parquet('../../../data/model_input/train_sets/superconductivity.parquet')\n",
    "test =  pd.read_parquet('../../../data/model_input/validation_sets/superconductivity.parquet')"
   ]
  },
  {
   "cell_type": "code",
   "execution_count": 5,
   "id": "41baa6ee",
   "metadata": {},
   "outputs": [],
   "source": [
    "y_train = train.critical_temp\n",
    "X_train = train.drop(columns=['critical_temp'])"
   ]
  },
  {
   "cell_type": "code",
   "execution_count": 6,
   "id": "0b40a9c8",
   "metadata": {},
   "outputs": [],
   "source": [
    "y_test = test.critical_temp\n",
    "X_test = test.drop(columns=['critical_temp'])"
   ]
  },
  {
   "cell_type": "markdown",
   "id": "fd963713",
   "metadata": {},
   "source": [
    "We are going to compute three type of models: Ordinary Least Squares Linear Regression, Ridge ($l_2$ penalty term), Lasso ($l_1$ penalty term) and ElasticNet (convex combination of Ridge and Lasso).\n",
    "\n",
    "Every parameter modification is only to avoid warnings."
   ]
  },
  {
   "cell_type": "code",
   "execution_count": 7,
   "id": "018033b4",
   "metadata": {},
   "outputs": [],
   "source": [
    "lr = LinearRegression()"
   ]
  },
  {
   "cell_type": "code",
   "execution_count": 8,
   "id": "900eec68",
   "metadata": {},
   "outputs": [],
   "source": [
    "lr_l2 = Ridge()"
   ]
  },
  {
   "cell_type": "code",
   "execution_count": 9,
   "id": "77ff615d",
   "metadata": {},
   "outputs": [],
   "source": [
    "lr_l1 = Lasso(tol=0.001, max_iter=10000)"
   ]
  },
  {
   "cell_type": "code",
   "execution_count": 15,
   "id": "85a6b838",
   "metadata": {},
   "outputs": [],
   "source": [
    "lr_en1 = ElasticNet(l1_ratio=0.25, max_iter=10000, tol=0.01, selection='random')\n",
    "lr_en2 = ElasticNet(l1_ratio=0.5, max_iter=10000, tol=0.01, selection='random')\n",
    "lr_en3 = ElasticNet(l1_ratio=0.75, max_iter=10000, tol=0.01, selection='random')"
   ]
  },
  {
   "cell_type": "code",
   "execution_count": 11,
   "id": "efe58ab5",
   "metadata": {},
   "outputs": [],
   "source": [
    "models_list = [lr, lr_l2, lr_l1, lr_en1, lr_en2 , lr_en3]\n",
    "names_list = ['LR', 'LR_l2', 'LR_l1', 'LR_en_0.25', 'LR_en_0.5', 'LR_en_0.75']"
   ]
  },
  {
   "cell_type": "code",
   "execution_count": 16,
   "id": "f146c6ed",
   "metadata": {},
   "outputs": [
    {
     "data": {
      "text/html": [
       "<div>\n",
       "<style scoped>\n",
       "    .dataframe tbody tr th:only-of-type {\n",
       "        vertical-align: middle;\n",
       "    }\n",
       "\n",
       "    .dataframe tbody tr th {\n",
       "        vertical-align: top;\n",
       "    }\n",
       "\n",
       "    .dataframe thead th {\n",
       "        text-align: right;\n",
       "    }\n",
       "</style>\n",
       "<table border=\"1\" class=\"dataframe\">\n",
       "  <thead>\n",
       "    <tr style=\"text-align: right;\">\n",
       "      <th></th>\n",
       "      <th>Run_Time</th>\n",
       "      <th>Train_MSE</th>\n",
       "      <th>Test_MSE</th>\n",
       "      <th>delta%</th>\n",
       "    </tr>\n",
       "  </thead>\n",
       "  <tbody>\n",
       "    <tr>\n",
       "      <th>LR</th>\n",
       "      <td>0.386060</td>\n",
       "      <td>266.514128</td>\n",
       "      <td>2776.514944</td>\n",
       "      <td>941.789028</td>\n",
       "    </tr>\n",
       "    <tr>\n",
       "      <th>LR_l2</th>\n",
       "      <td>0.081782</td>\n",
       "      <td>266.681377</td>\n",
       "      <td>2753.768157</td>\n",
       "      <td>932.606098</td>\n",
       "    </tr>\n",
       "    <tr>\n",
       "      <th>LR_l1</th>\n",
       "      <td>73.983241</td>\n",
       "      <td>313.331631</td>\n",
       "      <td>319.645960</td>\n",
       "      <td>2.015222</td>\n",
       "    </tr>\n",
       "    <tr>\n",
       "      <th>LR_en_0.25</th>\n",
       "      <td>98.001067</td>\n",
       "      <td>315.351354</td>\n",
       "      <td>321.826126</td>\n",
       "      <td>2.053193</td>\n",
       "    </tr>\n",
       "    <tr>\n",
       "      <th>LR_en_0.5</th>\n",
       "      <td>67.558669</td>\n",
       "      <td>316.634874</td>\n",
       "      <td>323.268556</td>\n",
       "      <td>2.095057</td>\n",
       "    </tr>\n",
       "    <tr>\n",
       "      <th>LR_en_0.75</th>\n",
       "      <td>48.429512</td>\n",
       "      <td>316.144793</td>\n",
       "      <td>322.662436</td>\n",
       "      <td>2.061601</td>\n",
       "    </tr>\n",
       "  </tbody>\n",
       "</table>\n",
       "</div>"
      ],
      "text/plain": [
       "             Run_Time   Train_MSE     Test_MSE      delta%\n",
       "LR           0.386060  266.514128  2776.514944  941.789028\n",
       "LR_l2        0.081782  266.681377  2753.768157  932.606098\n",
       "LR_l1       73.983241  313.331631   319.645960    2.015222\n",
       "LR_en_0.25  98.001067  315.351354   321.826126    2.053193\n",
       "LR_en_0.5   67.558669  316.634874   323.268556    2.095057\n",
       "LR_en_0.75  48.429512  316.144793   322.662436    2.061601"
      ]
     },
     "execution_count": 16,
     "metadata": {},
     "output_type": "execute_result"
    }
   ],
   "source": [
    "metrics = regression(models_list, names_list, '../../../data/metrics/superconductivity/linear_regression.parquet', X_train, y_train, X_test, y_test)\n",
    "metrics"
   ]
  },
  {
   "cell_type": "markdown",
   "id": "e09e9254",
   "metadata": {},
   "source": [
    "The ordinary and the Ridge models are way overfitted. From the other four models we are going to choose **LR_l1** (Lasso) as the best one because it has the lowest MSE in test. "
   ]
  },
  {
   "cell_type": "code",
   "execution_count": 17,
   "id": "2253cda0",
   "metadata": {},
   "outputs": [
    {
     "data": {
      "text/plain": [
       "['linear_regression_best.joblib']"
      ]
     },
     "execution_count": 17,
     "metadata": {},
     "output_type": "execute_result"
    }
   ],
   "source": [
    "dump(lr_l1, 'linear_regression_best.joblib')"
   ]
  },
  {
   "cell_type": "code",
   "execution_count": null,
   "id": "163a34b3",
   "metadata": {},
   "outputs": [],
   "source": []
  }
 ],
 "metadata": {
  "kernelspec": {
   "display_name": "Python 3 (ipykernel)",
   "language": "python",
   "name": "python3"
  },
  "language_info": {
   "codemirror_mode": {
    "name": "ipython",
    "version": 3
   },
   "file_extension": ".py",
   "mimetype": "text/x-python",
   "name": "python",
   "nbconvert_exporter": "python",
   "pygments_lexer": "ipython3",
   "version": "3.9.7"
  }
 },
 "nbformat": 4,
 "nbformat_minor": 5
}
