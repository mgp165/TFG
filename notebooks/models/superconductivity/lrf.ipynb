{
 "cells": [
  {
   "cell_type": "markdown",
   "id": "6669d9d9",
   "metadata": {},
   "source": [
    "# Linear Random Forest"
   ]
  },
  {
   "cell_type": "code",
   "execution_count": 1,
   "id": "3122c8b7",
   "metadata": {},
   "outputs": [],
   "source": [
    "from sklearn.linear_model import LinearRegression, Ridge\n",
    "from lineartree import LinearTreeRegressor\n",
    "from sklearn.metrics import root_mean_squared_error\n",
    "import pandas as pd\n",
    "from joblib import dump\n",
    "import matplotlib.pyplot as plt\n",
    "import numpy as np\n",
    "from sklearn.preprocessing import StandardScaler\n",
    "import time"
   ]
  },
  {
   "cell_type": "code",
   "execution_count": 2,
   "id": "c1cff3a4",
   "metadata": {},
   "outputs": [],
   "source": [
    "import sys\n",
    "sys.path.append('F:\\\\Users\\\\Manuel García Plaza\\\\Desktop\\\\TFG\\\\')"
   ]
  },
  {
   "cell_type": "code",
   "execution_count": 3,
   "id": "18e71cea",
   "metadata": {},
   "outputs": [],
   "source": [
    "from notebooks.utils.regression_metrics import regression\n",
    "from notebooks.utils.lrf import LinearRandomForestRegressor"
   ]
  },
  {
   "cell_type": "code",
   "execution_count": 4,
   "id": "2db4cbd5",
   "metadata": {},
   "outputs": [],
   "source": [
    "train =  pd.read_parquet('../../../data/model_input/train_sets/superconductivity.parquet')\n",
    "validation =  pd.read_parquet('../../../data/model_input/validation_sets/superconductivity.parquet')"
   ]
  },
  {
   "cell_type": "code",
   "execution_count": 5,
   "id": "d197dcca",
   "metadata": {},
   "outputs": [],
   "source": [
    "y_train = train.critical_temp\n",
    "X_train = train.drop(columns=['critical_temp'])"
   ]
  },
  {
   "cell_type": "code",
   "execution_count": 6,
   "id": "e7fd7ad5",
   "metadata": {},
   "outputs": [],
   "source": [
    "y_validation = validation.critical_temp\n",
    "X_validation = validation.drop(columns=['critical_temp'])"
   ]
  },
  {
   "cell_type": "code",
   "execution_count": 7,
   "id": "d5d9276b",
   "metadata": {},
   "outputs": [],
   "source": [
    "scaler = StandardScaler().fit(X_train)"
   ]
  },
  {
   "cell_type": "code",
   "execution_count": 8,
   "id": "1df9d479",
   "metadata": {},
   "outputs": [],
   "source": [
    "X_train_scaled = scaler.transform(X_train)\n",
    "X_validation_scaled = scaler.transform(X_validation)"
   ]
  },
  {
   "cell_type": "code",
   "execution_count": 9,
   "id": "9be28db2",
   "metadata": {},
   "outputs": [],
   "source": [
    "scaler = StandardScaler().fit(X_train)"
   ]
  },
  {
   "cell_type": "code",
   "execution_count": 10,
   "id": "018cce14",
   "metadata": {},
   "outputs": [],
   "source": [
    "X_train_scaled = scaler.transform(X_train)\n",
    "X_validation_scaled = scaler.transform(X_validation)"
   ]
  },
  {
   "cell_type": "code",
   "execution_count": 11,
   "id": "8983e247",
   "metadata": {},
   "outputs": [],
   "source": [
    "n_estimators = [2, 5, 7, 10, 15, 17, 20, 25, 30, 35, 40]"
   ]
  },
  {
   "cell_type": "code",
   "execution_count": 12,
   "id": "5a9def76",
   "metadata": {},
   "outputs": [],
   "source": [
    "max_depth = [1, 2]\n",
    "base_mod = [LinearRegression(), Ridge()]"
   ]
  },
  {
   "cell_type": "code",
   "execution_count": 13,
   "id": "489a3f19",
   "metadata": {},
   "outputs": [],
   "source": [
    "base_est = []\n",
    "for i in max_depth:\n",
    "    for mod in base_mod:\n",
    "        base_est.append(LinearTreeRegressor(base_estimator=mod, max_depth=i))"
   ]
  },
  {
   "cell_type": "code",
   "execution_count": 14,
   "id": "9ea790b3",
   "metadata": {},
   "outputs": [],
   "source": [
    "models_list = []\n",
    "names_list = []\n",
    "for n in n_estimators:\n",
    "    for estim in base_est:\n",
    "        models_list.append(LinearRandomForestRegressor(n_features=X_train.shape[1], est=estim, n_est=n))\n",
    "        if isinstance(estim.base_estimator, LinearRegression):\n",
    "            names_list.append(f'LRF_{n}_{estim.max_depth}')\n",
    "        else:\n",
    "            names_list.append(f'LRF_{n}_{estim.max_depth}_l2')"
   ]
  },
  {
   "cell_type": "code",
   "execution_count": 44,
   "id": "ac6c6dbc",
   "metadata": {},
   "outputs": [
    {
     "data": {
      "text/html": [
       "<div>\n",
       "<style scoped>\n",
       "    .dataframe tbody tr th:only-of-type {\n",
       "        vertical-align: middle;\n",
       "    }\n",
       "\n",
       "    .dataframe tbody tr th {\n",
       "        vertical-align: top;\n",
       "    }\n",
       "\n",
       "    .dataframe thead th {\n",
       "        text-align: right;\n",
       "    }\n",
       "</style>\n",
       "<table border=\"1\" class=\"dataframe\">\n",
       "  <thead>\n",
       "    <tr style=\"text-align: right;\">\n",
       "      <th></th>\n",
       "      <th>Run_Time</th>\n",
       "      <th>Train_RMSE</th>\n",
       "      <th>Validation_RMSE</th>\n",
       "      <th>delta%</th>\n",
       "    </tr>\n",
       "  </thead>\n",
       "  <tbody>\n",
       "    <tr>\n",
       "      <th>LRF_30_2_l2</th>\n",
       "      <td>65.778291</td>\n",
       "      <td>16.731539</td>\n",
       "      <td>17.198797</td>\n",
       "      <td>2.792677</td>\n",
       "    </tr>\n",
       "    <tr>\n",
       "      <th>LRF_7_2_l2</th>\n",
       "      <td>16.172772</td>\n",
       "      <td>16.898597</td>\n",
       "      <td>17.352013</td>\n",
       "      <td>2.683158</td>\n",
       "    </tr>\n",
       "    <tr>\n",
       "      <th>LRF_25_2_l2</th>\n",
       "      <td>47.142109</td>\n",
       "      <td>16.690442</td>\n",
       "      <td>17.358028</td>\n",
       "      <td>3.999810</td>\n",
       "    </tr>\n",
       "    <tr>\n",
       "      <th>LRF_35_2</th>\n",
       "      <td>84.753917</td>\n",
       "      <td>16.922856</td>\n",
       "      <td>17.451884</td>\n",
       "      <td>3.126116</td>\n",
       "    </tr>\n",
       "    <tr>\n",
       "      <th>LRF_15_2_l2</th>\n",
       "      <td>32.553860</td>\n",
       "      <td>17.077028</td>\n",
       "      <td>17.497182</td>\n",
       "      <td>2.460347</td>\n",
       "    </tr>\n",
       "    <tr>\n",
       "      <th>LRF_35_2_l2</th>\n",
       "      <td>69.600894</td>\n",
       "      <td>17.014208</td>\n",
       "      <td>17.512479</td>\n",
       "      <td>2.928555</td>\n",
       "    </tr>\n",
       "    <tr>\n",
       "      <th>LRF_5_2</th>\n",
       "      <td>11.992800</td>\n",
       "      <td>16.991539</td>\n",
       "      <td>17.616868</td>\n",
       "      <td>3.680235</td>\n",
       "    </tr>\n",
       "    <tr>\n",
       "      <th>LRF_17_2</th>\n",
       "      <td>48.563724</td>\n",
       "      <td>17.278116</td>\n",
       "      <td>17.701723</td>\n",
       "      <td>2.451697</td>\n",
       "    </tr>\n",
       "    <tr>\n",
       "      <th>LRF_10_2</th>\n",
       "      <td>24.190091</td>\n",
       "      <td>150.391028</td>\n",
       "      <td>17.766205</td>\n",
       "      <td>-88.186659</td>\n",
       "    </tr>\n",
       "    <tr>\n",
       "      <th>LRF_30_2</th>\n",
       "      <td>68.742891</td>\n",
       "      <td>17.319395</td>\n",
       "      <td>17.848356</td>\n",
       "      <td>3.054153</td>\n",
       "    </tr>\n",
       "    <tr>\n",
       "      <th>LRF_17_2_l2</th>\n",
       "      <td>34.760653</td>\n",
       "      <td>17.546091</td>\n",
       "      <td>17.996781</td>\n",
       "      <td>2.568610</td>\n",
       "    </tr>\n",
       "    <tr>\n",
       "      <th>LRF_40_2_l2</th>\n",
       "      <td>82.491409</td>\n",
       "      <td>17.324964</td>\n",
       "      <td>18.000899</td>\n",
       "      <td>3.901511</td>\n",
       "    </tr>\n",
       "    <tr>\n",
       "      <th>LRF_40_2</th>\n",
       "      <td>92.128292</td>\n",
       "      <td>17.409915</td>\n",
       "      <td>18.123840</td>\n",
       "      <td>4.100683</td>\n",
       "    </tr>\n",
       "    <tr>\n",
       "      <th>LRF_25_2</th>\n",
       "      <td>60.038707</td>\n",
       "      <td>17.837300</td>\n",
       "      <td>18.133845</td>\n",
       "      <td>1.662503</td>\n",
       "    </tr>\n",
       "    <tr>\n",
       "      <th>LRF_20_2_l2</th>\n",
       "      <td>38.266722</td>\n",
       "      <td>18.138319</td>\n",
       "      <td>18.504849</td>\n",
       "      <td>2.020751</td>\n",
       "    </tr>\n",
       "    <tr>\n",
       "      <th>LRF_10_1</th>\n",
       "      <td>20.572806</td>\n",
       "      <td>67.730448</td>\n",
       "      <td>18.554970</td>\n",
       "      <td>-72.604684</td>\n",
       "    </tr>\n",
       "    <tr>\n",
       "      <th>LRF_5_2_l2</th>\n",
       "      <td>10.300404</td>\n",
       "      <td>18.344443</td>\n",
       "      <td>18.718214</td>\n",
       "      <td>2.037519</td>\n",
       "    </tr>\n",
       "    <tr>\n",
       "      <th>LRF_15_2</th>\n",
       "      <td>34.901878</td>\n",
       "      <td>17.664932</td>\n",
       "      <td>18.763688</td>\n",
       "      <td>6.219985</td>\n",
       "    </tr>\n",
       "    <tr>\n",
       "      <th>LRF_10_1_l2</th>\n",
       "      <td>18.306389</td>\n",
       "      <td>18.628492</td>\n",
       "      <td>19.017459</td>\n",
       "      <td>2.088020</td>\n",
       "    </tr>\n",
       "    <tr>\n",
       "      <th>LRF_20_1</th>\n",
       "      <td>36.653675</td>\n",
       "      <td>18.697718</td>\n",
       "      <td>19.151852</td>\n",
       "      <td>2.428823</td>\n",
       "    </tr>\n",
       "    <tr>\n",
       "      <th>LRF_5_1_l2</th>\n",
       "      <td>8.001506</td>\n",
       "      <td>18.800987</td>\n",
       "      <td>19.173748</td>\n",
       "      <td>1.982663</td>\n",
       "    </tr>\n",
       "    <tr>\n",
       "      <th>LRF_40_1</th>\n",
       "      <td>73.241874</td>\n",
       "      <td>19.053841</td>\n",
       "      <td>19.499867</td>\n",
       "      <td>2.340871</td>\n",
       "    </tr>\n",
       "    <tr>\n",
       "      <th>LRF_20_1_l2</th>\n",
       "      <td>32.893936</td>\n",
       "      <td>19.208172</td>\n",
       "      <td>19.529199</td>\n",
       "      <td>1.671303</td>\n",
       "    </tr>\n",
       "    <tr>\n",
       "      <th>LRF_30_1</th>\n",
       "      <td>50.918610</td>\n",
       "      <td>19.131610</td>\n",
       "      <td>19.576678</td>\n",
       "      <td>2.326351</td>\n",
       "    </tr>\n",
       "    <tr>\n",
       "      <th>LRF_30_1_l2</th>\n",
       "      <td>49.924064</td>\n",
       "      <td>18.969703</td>\n",
       "      <td>19.625383</td>\n",
       "      <td>3.456456</td>\n",
       "    </tr>\n",
       "    <tr>\n",
       "      <th>LRF_35_1_l2</th>\n",
       "      <td>53.216301</td>\n",
       "      <td>19.082508</td>\n",
       "      <td>19.656120</td>\n",
       "      <td>3.005959</td>\n",
       "    </tr>\n",
       "    <tr>\n",
       "      <th>LRF_17_1</th>\n",
       "      <td>31.439594</td>\n",
       "      <td>19.399369</td>\n",
       "      <td>19.662682</td>\n",
       "      <td>1.357328</td>\n",
       "    </tr>\n",
       "    <tr>\n",
       "      <th>LRF_40_1_l2</th>\n",
       "      <td>66.186451</td>\n",
       "      <td>18.858981</td>\n",
       "      <td>19.692259</td>\n",
       "      <td>4.418467</td>\n",
       "    </tr>\n",
       "    <tr>\n",
       "      <th>LRF_35_1</th>\n",
       "      <td>62.270986</td>\n",
       "      <td>19.166959</td>\n",
       "      <td>19.719522</td>\n",
       "      <td>2.882890</td>\n",
       "    </tr>\n",
       "    <tr>\n",
       "      <th>LRF_2_2_l2</th>\n",
       "      <td>3.355263</td>\n",
       "      <td>19.598672</td>\n",
       "      <td>19.850015</td>\n",
       "      <td>1.282451</td>\n",
       "    </tr>\n",
       "    <tr>\n",
       "      <th>LRF_25_1</th>\n",
       "      <td>48.620512</td>\n",
       "      <td>18.700949</td>\n",
       "      <td>19.893175</td>\n",
       "      <td>6.375219</td>\n",
       "    </tr>\n",
       "    <tr>\n",
       "      <th>LRF_17_1_l2</th>\n",
       "      <td>28.554082</td>\n",
       "      <td>18.578423</td>\n",
       "      <td>20.671679</td>\n",
       "      <td>11.267135</td>\n",
       "    </tr>\n",
       "    <tr>\n",
       "      <th>LRF_5_1</th>\n",
       "      <td>9.282116</td>\n",
       "      <td>20.246981</td>\n",
       "      <td>20.849924</td>\n",
       "      <td>2.977937</td>\n",
       "    </tr>\n",
       "    <tr>\n",
       "      <th>LRF_7_1</th>\n",
       "      <td>11.564452</td>\n",
       "      <td>20.211023</td>\n",
       "      <td>21.029284</td>\n",
       "      <td>4.048589</td>\n",
       "    </tr>\n",
       "    <tr>\n",
       "      <th>LRF_2_1_l2</th>\n",
       "      <td>2.785466</td>\n",
       "      <td>21.116957</td>\n",
       "      <td>21.162966</td>\n",
       "      <td>0.217881</td>\n",
       "    </tr>\n",
       "    <tr>\n",
       "      <th>LRF_25_1_l2</th>\n",
       "      <td>39.171636</td>\n",
       "      <td>19.353627</td>\n",
       "      <td>21.494507</td>\n",
       "      <td>11.061906</td>\n",
       "    </tr>\n",
       "    <tr>\n",
       "      <th>LRF_15_1_l2</th>\n",
       "      <td>21.099940</td>\n",
       "      <td>19.464803</td>\n",
       "      <td>21.550645</td>\n",
       "      <td>10.715969</td>\n",
       "    </tr>\n",
       "    <tr>\n",
       "      <th>LRF_2_1</th>\n",
       "      <td>2.423532</td>\n",
       "      <td>21.281154</td>\n",
       "      <td>21.830603</td>\n",
       "      <td>2.581861</td>\n",
       "    </tr>\n",
       "    <tr>\n",
       "      <th>LRF_10_2_l2</th>\n",
       "      <td>19.570204</td>\n",
       "      <td>17.332017</td>\n",
       "      <td>22.236991</td>\n",
       "      <td>28.300078</td>\n",
       "    </tr>\n",
       "    <tr>\n",
       "      <th>LRF_7_1_l2</th>\n",
       "      <td>11.571432</td>\n",
       "      <td>19.137913</td>\n",
       "      <td>24.615669</td>\n",
       "      <td>28.622538</td>\n",
       "    </tr>\n",
       "    <tr>\n",
       "      <th>LRF_2_2</th>\n",
       "      <td>3.324653</td>\n",
       "      <td>17.751363</td>\n",
       "      <td>29.081569</td>\n",
       "      <td>63.827244</td>\n",
       "    </tr>\n",
       "    <tr>\n",
       "      <th>LRF_15_1</th>\n",
       "      <td>30.682191</td>\n",
       "      <td>18.528923</td>\n",
       "      <td>41.770692</td>\n",
       "      <td>125.435073</td>\n",
       "    </tr>\n",
       "    <tr>\n",
       "      <th>LRF_7_2</th>\n",
       "      <td>15.195156</td>\n",
       "      <td>17.291992</td>\n",
       "      <td>71.157549</td>\n",
       "      <td>311.505792</td>\n",
       "    </tr>\n",
       "    <tr>\n",
       "      <th>LRF_20_2</th>\n",
       "      <td>50.284995</td>\n",
       "      <td>19.788306</td>\n",
       "      <td>79.025885</td>\n",
       "      <td>299.356491</td>\n",
       "    </tr>\n",
       "  </tbody>\n",
       "</table>\n",
       "</div>"
      ],
      "text/plain": [
       "              Run_Time  Train_RMSE  Validation_RMSE      delta%\n",
       "LRF_30_2_l2  65.778291   16.731539        17.198797    2.792677\n",
       "LRF_7_2_l2   16.172772   16.898597        17.352013    2.683158\n",
       "LRF_25_2_l2  47.142109   16.690442        17.358028    3.999810\n",
       "LRF_35_2     84.753917   16.922856        17.451884    3.126116\n",
       "LRF_15_2_l2  32.553860   17.077028        17.497182    2.460347\n",
       "LRF_35_2_l2  69.600894   17.014208        17.512479    2.928555\n",
       "LRF_5_2      11.992800   16.991539        17.616868    3.680235\n",
       "LRF_17_2     48.563724   17.278116        17.701723    2.451697\n",
       "LRF_10_2     24.190091  150.391028        17.766205  -88.186659\n",
       "LRF_30_2     68.742891   17.319395        17.848356    3.054153\n",
       "LRF_17_2_l2  34.760653   17.546091        17.996781    2.568610\n",
       "LRF_40_2_l2  82.491409   17.324964        18.000899    3.901511\n",
       "LRF_40_2     92.128292   17.409915        18.123840    4.100683\n",
       "LRF_25_2     60.038707   17.837300        18.133845    1.662503\n",
       "LRF_20_2_l2  38.266722   18.138319        18.504849    2.020751\n",
       "LRF_10_1     20.572806   67.730448        18.554970  -72.604684\n",
       "LRF_5_2_l2   10.300404   18.344443        18.718214    2.037519\n",
       "LRF_15_2     34.901878   17.664932        18.763688    6.219985\n",
       "LRF_10_1_l2  18.306389   18.628492        19.017459    2.088020\n",
       "LRF_20_1     36.653675   18.697718        19.151852    2.428823\n",
       "LRF_5_1_l2    8.001506   18.800987        19.173748    1.982663\n",
       "LRF_40_1     73.241874   19.053841        19.499867    2.340871\n",
       "LRF_20_1_l2  32.893936   19.208172        19.529199    1.671303\n",
       "LRF_30_1     50.918610   19.131610        19.576678    2.326351\n",
       "LRF_30_1_l2  49.924064   18.969703        19.625383    3.456456\n",
       "LRF_35_1_l2  53.216301   19.082508        19.656120    3.005959\n",
       "LRF_17_1     31.439594   19.399369        19.662682    1.357328\n",
       "LRF_40_1_l2  66.186451   18.858981        19.692259    4.418467\n",
       "LRF_35_1     62.270986   19.166959        19.719522    2.882890\n",
       "LRF_2_2_l2    3.355263   19.598672        19.850015    1.282451\n",
       "LRF_25_1     48.620512   18.700949        19.893175    6.375219\n",
       "LRF_17_1_l2  28.554082   18.578423        20.671679   11.267135\n",
       "LRF_5_1       9.282116   20.246981        20.849924    2.977937\n",
       "LRF_7_1      11.564452   20.211023        21.029284    4.048589\n",
       "LRF_2_1_l2    2.785466   21.116957        21.162966    0.217881\n",
       "LRF_25_1_l2  39.171636   19.353627        21.494507   11.061906\n",
       "LRF_15_1_l2  21.099940   19.464803        21.550645   10.715969\n",
       "LRF_2_1       2.423532   21.281154        21.830603    2.581861\n",
       "LRF_10_2_l2  19.570204   17.332017        22.236991   28.300078\n",
       "LRF_7_1_l2   11.571432   19.137913        24.615669   28.622538\n",
       "LRF_2_2       3.324653   17.751363        29.081569   63.827244\n",
       "LRF_15_1     30.682191   18.528923        41.770692  125.435073\n",
       "LRF_7_2      15.195156   17.291992        71.157549  311.505792\n",
       "LRF_20_2     50.284995   19.788306        79.025885  299.356491"
      ]
     },
     "execution_count": 44,
     "metadata": {},
     "output_type": "execute_result"
    }
   ],
   "source": [
    "metrics = regression(models_list, names_list, '../../../data/model_output/metrics/superconductivity/lrf.csv', X_train_scaled, y_train, X_validation_scaled, y_validation)\n",
    "metrics.sort_values(by='Validation_RMSE')"
   ]
  },
  {
   "cell_type": "markdown",
   "id": "14b8987b",
   "metadata": {},
   "source": [
    "**LRF_30_2_l2** is the best."
   ]
  },
  {
   "cell_type": "code",
   "execution_count": 45,
   "id": "f00f411e",
   "metadata": {},
   "outputs": [],
   "source": [
    "test =  pd.read_parquet('../../../data/model_input/test_sets/superconductivity.parquet')"
   ]
  },
  {
   "cell_type": "code",
   "execution_count": 46,
   "id": "e47b3dab",
   "metadata": {},
   "outputs": [],
   "source": [
    "y_test = test.critical_temp\n",
    "X_test = test.drop(columns=['critical_temp'])"
   ]
  },
  {
   "cell_type": "code",
   "execution_count": 47,
   "id": "71f53dc0",
   "metadata": {},
   "outputs": [],
   "source": [
    "retrain = pd.concat([train, validation])"
   ]
  },
  {
   "cell_type": "code",
   "execution_count": 48,
   "id": "be3bf095",
   "metadata": {},
   "outputs": [],
   "source": [
    "y_retrain = retrain.critical_temp\n",
    "X_retrain = retrain.drop(columns=['critical_temp'])"
   ]
  },
  {
   "cell_type": "code",
   "execution_count": 49,
   "id": "0d2933b6",
   "metadata": {},
   "outputs": [],
   "source": [
    "scaler_retrain = StandardScaler().fit(X_retrain)"
   ]
  },
  {
   "cell_type": "code",
   "execution_count": 50,
   "id": "9f1336bd",
   "metadata": {},
   "outputs": [],
   "source": [
    "X_retrain_scaled = scaler_retrain.transform(X_retrain)\n",
    "X_test_scaled = scaler_retrain.transform(X_test)"
   ]
  },
  {
   "cell_type": "code",
   "execution_count": 51,
   "id": "4b179dce",
   "metadata": {},
   "outputs": [],
   "source": [
    "time1 = time.time()\n",
    "model = LinearRandomForestRegressor(n_features=X_retrain.shape[1], est=LinearTreeRegressor(base_estimator=Ridge(), max_depth=2), n_est=30).fit(X_retrain_scaled, y_retrain)\n",
    "time2 = time.time() - time1"
   ]
  },
  {
   "cell_type": "code",
   "execution_count": 52,
   "id": "3cff7d3f",
   "metadata": {},
   "outputs": [
    {
     "name": "stdout",
     "output_type": "stream",
     "text": [
      "Test RMSE: 18.363\n"
     ]
    }
   ],
   "source": [
    "test_pred = model.predict(X_test_scaled)\n",
    "rmse = root_mean_squared_error(y_test, test_pred)\n",
    "print('Test RMSE:', round(rmse, 4))"
   ]
  },
  {
   "cell_type": "code",
   "execution_count": 53,
   "id": "acccd233",
   "metadata": {},
   "outputs": [],
   "source": [
    "train_pred = model.predict(X_retrain_scaled)\n",
    "rmse_train = root_mean_squared_error(y_retrain, train_pred)"
   ]
  },
  {
   "cell_type": "code",
   "execution_count": 54,
   "id": "510bd7c4",
   "metadata": {},
   "outputs": [],
   "source": [
    "with open('../../../data/model_output/metrics/superconductivity/final_metrics.txt', 'a') as f:\n",
    "     f.write(f'\\nLRF; {time2}; {rmse_train}; {rmse}')"
   ]
  },
  {
   "cell_type": "code",
   "execution_count": 55,
   "id": "8dae2d22",
   "metadata": {},
   "outputs": [
    {
     "data": {
      "text/plain": [
       "['../../../data/model_output/models/superconductivity/best_lrf.joblib']"
      ]
     },
     "execution_count": 55,
     "metadata": {},
     "output_type": "execute_result"
    }
   ],
   "source": [
    "dump(model, '../../../data/model_output/models/superconductivity/best_lrf.joblib')"
   ]
  },
  {
   "cell_type": "code",
   "execution_count": 56,
   "id": "b5be0c13",
   "metadata": {},
   "outputs": [
    {
     "name": "stderr",
     "output_type": "stream",
     "text": [
      "C:\\Users\\MANUEL~2\\AppData\\Local\\Temp/ipykernel_3196/1387393881.py:7: UserWarning: color is redundantly defined by the 'color' keyword argument and the fmt string \"k--\" (-> color='k'). The keyword argument will take precedence.\n",
      "  plt.plot([y_retrain.min(), y_retrain.max()], [y_retrain.min(), y_retrain.max()],\n"
     ]
    },
    {
     "data": {
      "image/png": "[encoded data removed]",
      "text/plain": [
       "<Figure size 576x432 with 1 Axes>"
      ]
     },
     "metadata": {
      "needs_background": "light"
     },
     "output_type": "display_data"
    }
   ],
   "source": [
    "prediction_retrain = model.predict(X_retrain_scaled)\n",
    "error_retrain   = prediction_retrain - y_retrain\n",
    "\n",
    "plt.figure(figsize=(8, 6))\n",
    "\n",
    "plt.scatter(y_retrain, prediction_retrain, edgecolors=(0, 0, 0), alpha = 0.4)\n",
    "plt.plot([y_retrain.min(), y_retrain.max()], [y_retrain.min(), y_retrain.max()],\n",
    "                'k--', color = 'black', lw=2)\n",
    "plt.title('Predicted value vs real (scaled) value', fontsize = 10, fontweight = \"bold\")\n",
    "plt.xlabel('Real (scaled)')\n",
    "plt.ylabel('Prediction')\n",
    "plt.tick_params(labelsize = 7)"
   ]
  },
  {
   "cell_type": "code",
   "execution_count": null,
   "id": "984acec8",
   "metadata": {},
   "outputs": [],
   "source": []
  }
 ],
 "metadata": {
  "kernelspec": {
   "display_name": "Python 3 (ipykernel)",
   "language": "python",
   "name": "python3"
  },
  "language_info": {
   "codemirror_mode": {
    "name": "ipython",
    "version": 3
   },
   "file_extension": ".py",
   "mimetype": "text/x-python",
   "name": "python",
   "nbconvert_exporter": "python",
   "pygments_lexer": "ipython3",
   "version": "3.9.7"
  }
 },
 "nbformat": 4,
 "nbformat_minor": 5
}
